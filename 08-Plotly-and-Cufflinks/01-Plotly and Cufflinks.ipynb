{
 "cells": [
  {
   "cell_type": "markdown",
   "metadata": {},
   "source": [
    "___\n",
    "\n",
    "<a href='http://www.pieriandata.com'> <img src='../Pierian_Data_Logo.png' /></a>\n",
    "___\n",
    "# Plotly and Cufflinks"
   ]
  },
  {
   "cell_type": "markdown",
   "metadata": {},
   "source": [
    "Plotly is a library that allows you to create interactive plots that you can use in dashboards or websites (you can save them as html files or static images).\n",
    "\n",
    "## Installation\n",
    "\n",
    "In order for this all to work, you'll need to install plotly and cufflinks to call plots directly off of a pandas dataframe. These libraries are not currently available through **conda** but are available through **pip**. Install the libraries at your command line/terminal using:\n",
    "\n",
    "    pip install plotly\n",
    "    pip install cufflinks\n",
    "\n",
    "** NOTE: Make sure you only have one installation of Python on your computer when you do this, otherwise the installation may not work. **\n",
    "\n",
    "## Imports and Set-up"
   ]
  },
  {
   "cell_type": "code",
   "execution_count": 1,
   "metadata": {},
   "outputs": [],
   "source": [
    "import pandas as pd\n",
    "import numpy as np\n",
    "%matplotlib inline"
   ]
  },
  {
   "cell_type": "code",
   "execution_count": 2,
   "metadata": {},
   "outputs": [
    {
     "name": "stdout",
     "output_type": "stream",
     "text": [
      "5.9.0\n"
     ]
    }
   ],
   "source": [
    "from plotly import __version__\n",
    "from plotly.offline import download_plotlyjs, init_notebook_mode, plot, iplot\n",
    "\n",
    "print(__version__) # requires version >= 1.9.0"
   ]
  },
  {
   "cell_type": "code",
   "execution_count": 3,
   "metadata": {},
   "outputs": [],
   "source": [
    "import cufflinks as cf"
   ]
  },
  {
   "cell_type": "code",
   "execution_count": 4,
   "metadata": {},
   "outputs": [
    {
     "data": {
      "text/html": [
       "        <script type=\"text/javascript\">\n",
       "        window.PlotlyConfig = {MathJaxConfig: 'local'};\n",
       "        if (window.MathJax && window.MathJax.Hub && window.MathJax.Hub.Config) {window.MathJax.Hub.Config({SVG: {font: \"STIX-Web\"}});}\n",
       "        if (typeof require !== 'undefined') {\n",
       "        require.undef(\"plotly\");\n",
       "        requirejs.config({\n",
       "            paths: {\n",
       "                'plotly': ['https://cdn.plot.ly/plotly-2.12.1.min']\n",
       "            }\n",
       "        });\n",
       "        require(['plotly'], function(Plotly) {\n",
       "            window._Plotly = Plotly;\n",
       "        });\n",
       "        }\n",
       "        </script>\n",
       "        "
      ]
     },
     "metadata": {},
     "output_type": "display_data"
    }
   ],
   "source": [
    "# For Notebooks\n",
    "init_notebook_mode(connected=True)"
   ]
  },
  {
   "cell_type": "code",
   "execution_count": 5,
   "metadata": {},
   "outputs": [
    {
     "data": {
      "text/html": [
       "        <script type=\"text/javascript\">\n",
       "        window.PlotlyConfig = {MathJaxConfig: 'local'};\n",
       "        if (window.MathJax && window.MathJax.Hub && window.MathJax.Hub.Config) {window.MathJax.Hub.Config({SVG: {font: \"STIX-Web\"}});}\n",
       "        if (typeof require !== 'undefined') {\n",
       "        require.undef(\"plotly\");\n",
       "        requirejs.config({\n",
       "            paths: {\n",
       "                'plotly': ['https://cdn.plot.ly/plotly-2.12.1.min']\n",
       "            }\n",
       "        });\n",
       "        require(['plotly'], function(Plotly) {\n",
       "            window._Plotly = Plotly;\n",
       "        });\n",
       "        }\n",
       "        </script>\n",
       "        "
      ]
     },
     "metadata": {},
     "output_type": "display_data"
    }
   ],
   "source": [
    "# For offline use\n",
    "cf.go_offline()"
   ]
  },
  {
   "cell_type": "markdown",
   "metadata": {},
   "source": [
    "### Fake Data"
   ]
  },
  {
   "cell_type": "code",
   "execution_count": 6,
   "metadata": {},
   "outputs": [],
   "source": [
    "df = pd.DataFrame(np.random.randn(100,4),columns='A B C D'.split())"
   ]
  },
  {
   "cell_type": "code",
   "execution_count": 7,
   "metadata": {},
   "outputs": [
    {
     "data": {
      "text/html": [
       "<div>\n",
       "<style scoped>\n",
       "    .dataframe tbody tr th:only-of-type {\n",
       "        vertical-align: middle;\n",
       "    }\n",
       "\n",
       "    .dataframe tbody tr th {\n",
       "        vertical-align: top;\n",
       "    }\n",
       "\n",
       "    .dataframe thead th {\n",
       "        text-align: right;\n",
       "    }\n",
       "</style>\n",
       "<table border=\"1\" class=\"dataframe\">\n",
       "  <thead>\n",
       "    <tr style=\"text-align: right;\">\n",
       "      <th></th>\n",
       "      <th>A</th>\n",
       "      <th>B</th>\n",
       "      <th>C</th>\n",
       "      <th>D</th>\n",
       "    </tr>\n",
       "  </thead>\n",
       "  <tbody>\n",
       "    <tr>\n",
       "      <th>0</th>\n",
       "      <td>-0.729233</td>\n",
       "      <td>0.202890</td>\n",
       "      <td>-1.025470</td>\n",
       "      <td>0.870145</td>\n",
       "    </tr>\n",
       "    <tr>\n",
       "      <th>1</th>\n",
       "      <td>-0.974830</td>\n",
       "      <td>-0.536006</td>\n",
       "      <td>0.777561</td>\n",
       "      <td>-0.009465</td>\n",
       "    </tr>\n",
       "    <tr>\n",
       "      <th>2</th>\n",
       "      <td>-0.262099</td>\n",
       "      <td>1.917215</td>\n",
       "      <td>-0.204992</td>\n",
       "      <td>1.112138</td>\n",
       "    </tr>\n",
       "    <tr>\n",
       "      <th>3</th>\n",
       "      <td>0.462588</td>\n",
       "      <td>1.155500</td>\n",
       "      <td>1.601514</td>\n",
       "      <td>0.462979</td>\n",
       "    </tr>\n",
       "    <tr>\n",
       "      <th>4</th>\n",
       "      <td>0.622196</td>\n",
       "      <td>0.121811</td>\n",
       "      <td>2.097806</td>\n",
       "      <td>-0.643697</td>\n",
       "    </tr>\n",
       "  </tbody>\n",
       "</table>\n",
       "</div>"
      ],
      "text/plain": [
       "          A         B         C         D\n",
       "0 -0.729233  0.202890 -1.025470  0.870145\n",
       "1 -0.974830 -0.536006  0.777561 -0.009465\n",
       "2 -0.262099  1.917215 -0.204992  1.112138\n",
       "3  0.462588  1.155500  1.601514  0.462979\n",
       "4  0.622196  0.121811  2.097806 -0.643697"
      ]
     },
     "execution_count": 7,
     "metadata": {},
     "output_type": "execute_result"
    }
   ],
   "source": [
    "df.head()"
   ]
  },
  {
   "cell_type": "code",
   "execution_count": 8,
   "metadata": {},
   "outputs": [],
   "source": [
    "df2 = pd.DataFrame({'Category':['A','B','C'],'Values':[32,43,50]})"
   ]
  },
  {
   "cell_type": "code",
   "execution_count": 9,
   "metadata": {},
   "outputs": [
    {
     "data": {
      "text/html": [
       "<div>\n",
       "<style scoped>\n",
       "    .dataframe tbody tr th:only-of-type {\n",
       "        vertical-align: middle;\n",
       "    }\n",
       "\n",
       "    .dataframe tbody tr th {\n",
       "        vertical-align: top;\n",
       "    }\n",
       "\n",
       "    .dataframe thead th {\n",
       "        text-align: right;\n",
       "    }\n",
       "</style>\n",
       "<table border=\"1\" class=\"dataframe\">\n",
       "  <thead>\n",
       "    <tr style=\"text-align: right;\">\n",
       "      <th></th>\n",
       "      <th>Category</th>\n",
       "      <th>Values</th>\n",
       "    </tr>\n",
       "  </thead>\n",
       "  <tbody>\n",
       "    <tr>\n",
       "      <th>0</th>\n",
       "      <td>A</td>\n",
       "      <td>32</td>\n",
       "    </tr>\n",
       "    <tr>\n",
       "      <th>1</th>\n",
       "      <td>B</td>\n",
       "      <td>43</td>\n",
       "    </tr>\n",
       "    <tr>\n",
       "      <th>2</th>\n",
       "      <td>C</td>\n",
       "      <td>50</td>\n",
       "    </tr>\n",
       "  </tbody>\n",
       "</table>\n",
       "</div>"
      ],
      "text/plain": [
       "  Category  Values\n",
       "0        A      32\n",
       "1        B      43\n",
       "2        C      50"
      ]
     },
     "execution_count": 9,
     "metadata": {},
     "output_type": "execute_result"
    }
   ],
   "source": [
    "df2.head()"
   ]
  },
  {
   "cell_type": "markdown",
   "metadata": {},
   "source": [
    "## Using Cufflinks and iplot()\n",
    "\n",
    "* scatter\n",
    "* bar\n",
    "* box\n",
    "* spread\n",
    "* ratio\n",
    "* heatmap\n",
    "* surface\n",
    "* histogram\n",
    "* bubble"
   ]
  },
  {
   "cell_type": "markdown",
   "metadata": {},
   "source": [
    "## Scatter"
   ]
  },
  {
   "cell_type": "code",
   "execution_count": 11,
   "metadata": {},
   "outputs": [
    {
     "data": {
      "application/vnd.plotly.v1+json": {
       "config": {
        "linkText": "Export to plot.ly",
        "plotlyServerURL": "https://plot.ly",
        "showLink": true
       },
       "data": [
        {
         "line": {
          "color": "rgba(255, 153, 51, 1.0)",
          "dash": "solid",
          "shape": "linear",
          "width": 1.3
         },
         "marker": {
          "size": 10,
          "symbol": "circle"
         },
         "mode": "markers",
         "name": "B",
         "text": "",
         "type": "scatter",
         "x": [
          -0.7292327978431696,
          -0.974830182761352,
          -0.26209888558511735,
          0.4625878154503189,
          0.6221956315443264,
          -0.6283426059822679,
          -1.1869257562288007,
          0.026352457396184876,
          1.5257379620231581,
          1.5097889271689648,
          -0.6791608437928496,
          -1.0655500653071028,
          0.5783798900691562,
          -0.5355223924045895,
          -0.5736487743916989,
          0.27782568089634363,
          -1.121704067911955,
          1.7455931181530004,
          0.567903648758014,
          -1.3223512063319718,
          -1.0810870370994095,
          0.8233908497553671,
          -0.33778797251284703,
          0.043579450021013946,
          -1.199789413486293,
          0.6924241308206706,
          -0.05501515108109769,
          -0.42943737492493633,
          1.8376407752463495,
          1.5696814508069885,
          0.7577066619428412,
          -0.8892641619069086,
          0.35435919411789346,
          0.5874653985956466,
          1.5418431505640875,
          0.2409054448296417,
          -0.3144984785843778,
          -0.21473436338089816,
          -1.1175123679192964,
          -0.5814531590899158,
          0.5245128721506751,
          -0.31633769485893803,
          -0.6359988668909158,
          -0.23726996098449016,
          -0.3982124198205674,
          -0.43722295290105845,
          -0.8939564181904478,
          1.6442649705379218,
          -0.03847002183551993,
          -2.404032839063728,
          1.378628141649735,
          -0.8312434491896347,
          0.2091557152576446,
          -1.099623054801942,
          2.3740966992587578,
          1.6821413637381235,
          -0.15604278937050337,
          1.606674383529953,
          0.5062402310934592,
          -1.9525630963497957,
          1.3550364682699907,
          1.7905006512907407,
          0.6360203667698248,
          -0.8618964953795111,
          0.16380466263449095,
          1.2803113779287176,
          -0.08320937923702665,
          -1.2482532423300359,
          1.5514630422022548,
          -1.3742530385494103,
          -0.782115657330491,
          1.4139594942160179,
          -1.196156501437301,
          0.1556477823532999,
          1.2192212179884288,
          -0.1790850020822392,
          -0.27884292842249364,
          1.5872912174311693,
          -2.2252991158069855,
          -1.0157107731910955,
          -0.17319966364655262,
          -0.003305183104299413,
          0.39134630972054646,
          -0.6299971666679965,
          -0.5599556417703775,
          1.7052530534060306,
          -1.0286663990820606,
          -0.8343300341499792,
          0.26836643957742273,
          -1.6435992402350532,
          0.185083912167794,
          0.13867387300098313,
          0.20557733968652833,
          0.8091575611898224,
          0.34215282304169004,
          1.7590302670488172,
          -0.06473440148486866,
          0.8467053994637058,
          -0.4096522335741291,
          -0.7188798737998551
         ],
         "y": [
          0.2028904508929444,
          -0.5360060801057059,
          1.9172153542380332,
          1.1554998283753386,
          0.12181051885877126,
          -1.1319753703135211,
          1.3278769012435154,
          -1.373981442531079,
          -2.2633839963334057,
          0.6551232910308362,
          -1.504221412415844,
          -0.8474805378287004,
          -0.11093134329715523,
          1.241952295882244,
          -1.7442570727729392,
          0.06284888307838114,
          0.13129293250736535,
          2.202296949681284,
          -0.551127386875276,
          -1.207078337251924,
          0.5356896936168137,
          -2.3918065579996495,
          -0.8523246908502292,
          0.6248174892839728,
          -1.8244595775644652,
          1.165845385152743,
          -0.30163142477174654,
          1.660066544040394,
          -0.5068086946392768,
          -0.4556258833114967,
          -0.2983646508906948,
          0.01993433011999575,
          -0.7975056575397892,
          -1.6725777108246267,
          -0.29531640229284895,
          0.30971668360777754,
          0.716409560531819,
          0.7659397828648833,
          -0.11123212981795287,
          0.9117766490536945,
          0.25043579914409964,
          -1.344984375671524,
          -0.8801279362402369,
          0.5472592174474373,
          0.08204130503631124,
          0.17891799719213222,
          0.9489319327585631,
          0.5989101309274099,
          -0.8682489391966348,
          -2.172925528481716,
          0.8316005423159178,
          -0.06097820454389258,
          2.055498475504573,
          1.2521412919757304,
          0.04704227597800867,
          -0.4861375363540279,
          0.000582875403311226,
          -0.7320904438737423,
          0.686513285955763,
          -1.3117841313018825,
          -0.43690513505570056,
          -0.7945871974195586,
          -0.5879641229539143,
          0.24401073683741503,
          0.36009371304036686,
          -0.3019641107496942,
          -2.932775813982967,
          1.0328388977400622,
          -0.39009411657080284,
          -0.23215230892291142,
          -0.5672375951964085,
          -0.03015870112032784,
          0.3935515613535357,
          -0.34854915789772084,
          -0.24547773242621834,
          -0.9065078680653559,
          -0.9971414020458494,
          -0.08634145935478864,
          -0.3476514657989236,
          0.26556018860507086,
          -0.783460711466928,
          -1.075241131554598,
          -2.8287826318864626,
          2.136054210189507,
          0.38609878978660767,
          -1.6766148708269466,
          -0.43335314576840184,
          -0.6229073104172735,
          -0.5055562520910752,
          0.4588731405931876,
          -0.9709314596096776,
          -1.9218522420442605,
          -1.1194405577485236,
          -1.791423871895468,
          -0.4270051517947074,
          0.6222129827945807,
          -0.7878569695431034,
          -1.3978580491023649,
          1.6779823657239594,
          0.07792772247489195
         ]
        }
       ],
       "layout": {
        "legend": {
         "bgcolor": "#F5F6F9",
         "font": {
          "color": "#4D5663"
         }
        },
        "paper_bgcolor": "#F5F6F9",
        "plot_bgcolor": "#F5F6F9",
        "template": {
         "data": {
          "bar": [
           {
            "error_x": {
             "color": "#2a3f5f"
            },
            "error_y": {
             "color": "#2a3f5f"
            },
            "marker": {
             "line": {
              "color": "#E5ECF6",
              "width": 0.5
             },
             "pattern": {
              "fillmode": "overlay",
              "size": 10,
              "solidity": 0.2
             }
            },
            "type": "bar"
           }
          ],
          "barpolar": [
           {
            "marker": {
             "line": {
              "color": "#E5ECF6",
              "width": 0.5
             },
             "pattern": {
              "fillmode": "overlay",
              "size": 10,
              "solidity": 0.2
             }
            },
            "type": "barpolar"
           }
          ],
          "carpet": [
           {
            "aaxis": {
             "endlinecolor": "#2a3f5f",
             "gridcolor": "white",
             "linecolor": "white",
             "minorgridcolor": "white",
             "startlinecolor": "#2a3f5f"
            },
            "baxis": {
             "endlinecolor": "#2a3f5f",
             "gridcolor": "white",
             "linecolor": "white",
             "minorgridcolor": "white",
             "startlinecolor": "#2a3f5f"
            },
            "type": "carpet"
           }
          ],
          "choropleth": [
           {
            "colorbar": {
             "outlinewidth": 0,
             "ticks": ""
            },
            "type": "choropleth"
           }
          ],
          "contour": [
           {
            "colorbar": {
             "outlinewidth": 0,
             "ticks": ""
            },
            "colorscale": [
             [
              0,
              "#0d0887"
             ],
             [
              0.1111111111111111,
              "#46039f"
             ],
             [
              0.2222222222222222,
              "#7201a8"
             ],
             [
              0.3333333333333333,
              "#9c179e"
             ],
             [
              0.4444444444444444,
              "#bd3786"
             ],
             [
              0.5555555555555556,
              "#d8576b"
             ],
             [
              0.6666666666666666,
              "#ed7953"
             ],
             [
              0.7777777777777778,
              "#fb9f3a"
             ],
             [
              0.8888888888888888,
              "#fdca26"
             ],
             [
              1,
              "#f0f921"
             ]
            ],
            "type": "contour"
           }
          ],
          "contourcarpet": [
           {
            "colorbar": {
             "outlinewidth": 0,
             "ticks": ""
            },
            "type": "contourcarpet"
           }
          ],
          "heatmap": [
           {
            "colorbar": {
             "outlinewidth": 0,
             "ticks": ""
            },
            "colorscale": [
             [
              0,
              "#0d0887"
             ],
             [
              0.1111111111111111,
              "#46039f"
             ],
             [
              0.2222222222222222,
              "#7201a8"
             ],
             [
              0.3333333333333333,
              "#9c179e"
             ],
             [
              0.4444444444444444,
              "#bd3786"
             ],
             [
              0.5555555555555556,
              "#d8576b"
             ],
             [
              0.6666666666666666,
              "#ed7953"
             ],
             [
              0.7777777777777778,
              "#fb9f3a"
             ],
             [
              0.8888888888888888,
              "#fdca26"
             ],
             [
              1,
              "#f0f921"
             ]
            ],
            "type": "heatmap"
           }
          ],
          "heatmapgl": [
           {
            "colorbar": {
             "outlinewidth": 0,
             "ticks": ""
            },
            "colorscale": [
             [
              0,
              "#0d0887"
             ],
             [
              0.1111111111111111,
              "#46039f"
             ],
             [
              0.2222222222222222,
              "#7201a8"
             ],
             [
              0.3333333333333333,
              "#9c179e"
             ],
             [
              0.4444444444444444,
              "#bd3786"
             ],
             [
              0.5555555555555556,
              "#d8576b"
             ],
             [
              0.6666666666666666,
              "#ed7953"
             ],
             [
              0.7777777777777778,
              "#fb9f3a"
             ],
             [
              0.8888888888888888,
              "#fdca26"
             ],
             [
              1,
              "#f0f921"
             ]
            ],
            "type": "heatmapgl"
           }
          ],
          "histogram": [
           {
            "marker": {
             "pattern": {
              "fillmode": "overlay",
              "size": 10,
              "solidity": 0.2
             }
            },
            "type": "histogram"
           }
          ],
          "histogram2d": [
           {
            "colorbar": {
             "outlinewidth": 0,
             "ticks": ""
            },
            "colorscale": [
             [
              0,
              "#0d0887"
             ],
             [
              0.1111111111111111,
              "#46039f"
             ],
             [
              0.2222222222222222,
              "#7201a8"
             ],
             [
              0.3333333333333333,
              "#9c179e"
             ],
             [
              0.4444444444444444,
              "#bd3786"
             ],
             [
              0.5555555555555556,
              "#d8576b"
             ],
             [
              0.6666666666666666,
              "#ed7953"
             ],
             [
              0.7777777777777778,
              "#fb9f3a"
             ],
             [
              0.8888888888888888,
              "#fdca26"
             ],
             [
              1,
              "#f0f921"
             ]
            ],
            "type": "histogram2d"
           }
          ],
          "histogram2dcontour": [
           {
            "colorbar": {
             "outlinewidth": 0,
             "ticks": ""
            },
            "colorscale": [
             [
              0,
              "#0d0887"
             ],
             [
              0.1111111111111111,
              "#46039f"
             ],
             [
              0.2222222222222222,
              "#7201a8"
             ],
             [
              0.3333333333333333,
              "#9c179e"
             ],
             [
              0.4444444444444444,
              "#bd3786"
             ],
             [
              0.5555555555555556,
              "#d8576b"
             ],
             [
              0.6666666666666666,
              "#ed7953"
             ],
             [
              0.7777777777777778,
              "#fb9f3a"
             ],
             [
              0.8888888888888888,
              "#fdca26"
             ],
             [
              1,
              "#f0f921"
             ]
            ],
            "type": "histogram2dcontour"
           }
          ],
          "mesh3d": [
           {
            "colorbar": {
             "outlinewidth": 0,
             "ticks": ""
            },
            "type": "mesh3d"
           }
          ],
          "parcoords": [
           {
            "line": {
             "colorbar": {
              "outlinewidth": 0,
              "ticks": ""
             }
            },
            "type": "parcoords"
           }
          ],
          "pie": [
           {
            "automargin": true,
            "type": "pie"
           }
          ],
          "scatter": [
           {
            "fillpattern": {
             "fillmode": "overlay",
             "size": 10,
             "solidity": 0.2
            },
            "type": "scatter"
           }
          ],
          "scatter3d": [
           {
            "line": {
             "colorbar": {
              "outlinewidth": 0,
              "ticks": ""
             }
            },
            "marker": {
             "colorbar": {
              "outlinewidth": 0,
              "ticks": ""
             }
            },
            "type": "scatter3d"
           }
          ],
          "scattercarpet": [
           {
            "marker": {
             "colorbar": {
              "outlinewidth": 0,
              "ticks": ""
             }
            },
            "type": "scattercarpet"
           }
          ],
          "scattergeo": [
           {
            "marker": {
             "colorbar": {
              "outlinewidth": 0,
              "ticks": ""
             }
            },
            "type": "scattergeo"
           }
          ],
          "scattergl": [
           {
            "marker": {
             "colorbar": {
              "outlinewidth": 0,
              "ticks": ""
             }
            },
            "type": "scattergl"
           }
          ],
          "scattermapbox": [
           {
            "marker": {
             "colorbar": {
              "outlinewidth": 0,
              "ticks": ""
             }
            },
            "type": "scattermapbox"
           }
          ],
          "scatterpolar": [
           {
            "marker": {
             "colorbar": {
              "outlinewidth": 0,
              "ticks": ""
             }
            },
            "type": "scatterpolar"
           }
          ],
          "scatterpolargl": [
           {
            "marker": {
             "colorbar": {
              "outlinewidth": 0,
              "ticks": ""
             }
            },
            "type": "scatterpolargl"
           }
          ],
          "scatterternary": [
           {
            "marker": {
             "colorbar": {
              "outlinewidth": 0,
              "ticks": ""
             }
            },
            "type": "scatterternary"
           }
          ],
          "surface": [
           {
            "colorbar": {
             "outlinewidth": 0,
             "ticks": ""
            },
            "colorscale": [
             [
              0,
              "#0d0887"
             ],
             [
              0.1111111111111111,
              "#46039f"
             ],
             [
              0.2222222222222222,
              "#7201a8"
             ],
             [
              0.3333333333333333,
              "#9c179e"
             ],
             [
              0.4444444444444444,
              "#bd3786"
             ],
             [
              0.5555555555555556,
              "#d8576b"
             ],
             [
              0.6666666666666666,
              "#ed7953"
             ],
             [
              0.7777777777777778,
              "#fb9f3a"
             ],
             [
              0.8888888888888888,
              "#fdca26"
             ],
             [
              1,
              "#f0f921"
             ]
            ],
            "type": "surface"
           }
          ],
          "table": [
           {
            "cells": {
             "fill": {
              "color": "#EBF0F8"
             },
             "line": {
              "color": "white"
             }
            },
            "header": {
             "fill": {
              "color": "#C8D4E3"
             },
             "line": {
              "color": "white"
             }
            },
            "type": "table"
           }
          ]
         },
         "layout": {
          "annotationdefaults": {
           "arrowcolor": "#2a3f5f",
           "arrowhead": 0,
           "arrowwidth": 1
          },
          "autotypenumbers": "strict",
          "coloraxis": {
           "colorbar": {
            "outlinewidth": 0,
            "ticks": ""
           }
          },
          "colorscale": {
           "diverging": [
            [
             0,
             "#8e0152"
            ],
            [
             0.1,
             "#c51b7d"
            ],
            [
             0.2,
             "#de77ae"
            ],
            [
             0.3,
             "#f1b6da"
            ],
            [
             0.4,
             "#fde0ef"
            ],
            [
             0.5,
             "#f7f7f7"
            ],
            [
             0.6,
             "#e6f5d0"
            ],
            [
             0.7,
             "#b8e186"
            ],
            [
             0.8,
             "#7fbc41"
            ],
            [
             0.9,
             "#4d9221"
            ],
            [
             1,
             "#276419"
            ]
           ],
           "sequential": [
            [
             0,
             "#0d0887"
            ],
            [
             0.1111111111111111,
             "#46039f"
            ],
            [
             0.2222222222222222,
             "#7201a8"
            ],
            [
             0.3333333333333333,
             "#9c179e"
            ],
            [
             0.4444444444444444,
             "#bd3786"
            ],
            [
             0.5555555555555556,
             "#d8576b"
            ],
            [
             0.6666666666666666,
             "#ed7953"
            ],
            [
             0.7777777777777778,
             "#fb9f3a"
            ],
            [
             0.8888888888888888,
             "#fdca26"
            ],
            [
             1,
             "#f0f921"
            ]
           ],
           "sequentialminus": [
            [
             0,
             "#0d0887"
            ],
            [
             0.1111111111111111,
             "#46039f"
            ],
            [
             0.2222222222222222,
             "#7201a8"
            ],
            [
             0.3333333333333333,
             "#9c179e"
            ],
            [
             0.4444444444444444,
             "#bd3786"
            ],
            [
             0.5555555555555556,
             "#d8576b"
            ],
            [
             0.6666666666666666,
             "#ed7953"
            ],
            [
             0.7777777777777778,
             "#fb9f3a"
            ],
            [
             0.8888888888888888,
             "#fdca26"
            ],
            [
             1,
             "#f0f921"
            ]
           ]
          },
          "colorway": [
           "#636efa",
           "#EF553B",
           "#00cc96",
           "#ab63fa",
           "#FFA15A",
           "#19d3f3",
           "#FF6692",
           "#B6E880",
           "#FF97FF",
           "#FECB52"
          ],
          "font": {
           "color": "#2a3f5f"
          },
          "geo": {
           "bgcolor": "white",
           "lakecolor": "white",
           "landcolor": "#E5ECF6",
           "showlakes": true,
           "showland": true,
           "subunitcolor": "white"
          },
          "hoverlabel": {
           "align": "left"
          },
          "hovermode": "closest",
          "mapbox": {
           "style": "light"
          },
          "paper_bgcolor": "white",
          "plot_bgcolor": "#E5ECF6",
          "polar": {
           "angularaxis": {
            "gridcolor": "white",
            "linecolor": "white",
            "ticks": ""
           },
           "bgcolor": "#E5ECF6",
           "radialaxis": {
            "gridcolor": "white",
            "linecolor": "white",
            "ticks": ""
           }
          },
          "scene": {
           "xaxis": {
            "backgroundcolor": "#E5ECF6",
            "gridcolor": "white",
            "gridwidth": 2,
            "linecolor": "white",
            "showbackground": true,
            "ticks": "",
            "zerolinecolor": "white"
           },
           "yaxis": {
            "backgroundcolor": "#E5ECF6",
            "gridcolor": "white",
            "gridwidth": 2,
            "linecolor": "white",
            "showbackground": true,
            "ticks": "",
            "zerolinecolor": "white"
           },
           "zaxis": {
            "backgroundcolor": "#E5ECF6",
            "gridcolor": "white",
            "gridwidth": 2,
            "linecolor": "white",
            "showbackground": true,
            "ticks": "",
            "zerolinecolor": "white"
           }
          },
          "shapedefaults": {
           "line": {
            "color": "#2a3f5f"
           }
          },
          "ternary": {
           "aaxis": {
            "gridcolor": "white",
            "linecolor": "white",
            "ticks": ""
           },
           "baxis": {
            "gridcolor": "white",
            "linecolor": "white",
            "ticks": ""
           },
           "bgcolor": "#E5ECF6",
           "caxis": {
            "gridcolor": "white",
            "linecolor": "white",
            "ticks": ""
           }
          },
          "title": {
           "x": 0.05
          },
          "xaxis": {
           "automargin": true,
           "gridcolor": "white",
           "linecolor": "white",
           "ticks": "",
           "title": {
            "standoff": 15
           },
           "zerolinecolor": "white",
           "zerolinewidth": 2
          },
          "yaxis": {
           "automargin": true,
           "gridcolor": "white",
           "linecolor": "white",
           "ticks": "",
           "title": {
            "standoff": 15
           },
           "zerolinecolor": "white",
           "zerolinewidth": 2
          }
         }
        },
        "title": {
         "font": {
          "color": "#4D5663"
         }
        },
        "xaxis": {
         "gridcolor": "#E1E5ED",
         "showgrid": true,
         "tickfont": {
          "color": "#4D5663"
         },
         "title": {
          "font": {
           "color": "#4D5663"
          },
          "text": ""
         },
         "zerolinecolor": "#E1E5ED"
        },
        "yaxis": {
         "gridcolor": "#E1E5ED",
         "showgrid": true,
         "tickfont": {
          "color": "#4D5663"
         },
         "title": {
          "font": {
           "color": "#4D5663"
          },
          "text": ""
         },
         "zerolinecolor": "#E1E5ED"
        }
       }
      },
      "text/html": [
       "<div>                            <div id=\"7abdea6d-6231-4ac3-8c00-d04205467545\" class=\"plotly-graph-div\" style=\"height:525px; width:100%;\"></div>            <script type=\"text/javascript\">                require([\"plotly\"], function(Plotly) {                    window.PLOTLYENV=window.PLOTLYENV || {};\n",
       "                    window.PLOTLYENV.BASE_URL='https://plot.ly';                                    if (document.getElementById(\"7abdea6d-6231-4ac3-8c00-d04205467545\")) {                    Plotly.newPlot(                        \"7abdea6d-6231-4ac3-8c00-d04205467545\",                        [{\"line\":{\"color\":\"rgba(255, 153, 51, 1.0)\",\"dash\":\"solid\",\"shape\":\"linear\",\"width\":1.3},\"marker\":{\"size\":10,\"symbol\":\"circle\"},\"mode\":\"markers\",\"name\":\"B\",\"text\":\"\",\"x\":[-0.7292327978431696,-0.974830182761352,-0.26209888558511735,0.4625878154503189,0.6221956315443264,-0.6283426059822679,-1.1869257562288007,0.026352457396184876,1.5257379620231581,1.5097889271689648,-0.6791608437928496,-1.0655500653071028,0.5783798900691562,-0.5355223924045895,-0.5736487743916989,0.27782568089634363,-1.121704067911955,1.7455931181530004,0.567903648758014,-1.3223512063319718,-1.0810870370994095,0.8233908497553671,-0.33778797251284703,0.043579450021013946,-1.199789413486293,0.6924241308206706,-0.05501515108109769,-0.42943737492493633,1.8376407752463495,1.5696814508069885,0.7577066619428412,-0.8892641619069086,0.35435919411789346,0.5874653985956466,1.5418431505640875,0.2409054448296417,-0.3144984785843778,-0.21473436338089816,-1.1175123679192964,-0.5814531590899158,0.5245128721506751,-0.31633769485893803,-0.6359988668909158,-0.23726996098449016,-0.3982124198205674,-0.43722295290105845,-0.8939564181904478,1.6442649705379218,-0.03847002183551993,-2.404032839063728,1.378628141649735,-0.8312434491896347,0.2091557152576446,-1.099623054801942,2.3740966992587578,1.6821413637381235,-0.15604278937050337,1.606674383529953,0.5062402310934592,-1.9525630963497957,1.3550364682699907,1.7905006512907407,0.6360203667698248,-0.8618964953795111,0.16380466263449095,1.2803113779287176,-0.08320937923702665,-1.2482532423300359,1.5514630422022548,-1.3742530385494103,-0.782115657330491,1.4139594942160179,-1.196156501437301,0.1556477823532999,1.2192212179884288,-0.1790850020822392,-0.27884292842249364,1.5872912174311693,-2.2252991158069855,-1.0157107731910955,-0.17319966364655262,-0.003305183104299413,0.39134630972054646,-0.6299971666679965,-0.5599556417703775,1.7052530534060306,-1.0286663990820606,-0.8343300341499792,0.26836643957742273,-1.6435992402350532,0.185083912167794,0.13867387300098313,0.20557733968652833,0.8091575611898224,0.34215282304169004,1.7590302670488172,-0.06473440148486866,0.8467053994637058,-0.4096522335741291,-0.7188798737998551],\"y\":[0.2028904508929444,-0.5360060801057059,1.9172153542380332,1.1554998283753386,0.12181051885877126,-1.1319753703135211,1.3278769012435154,-1.373981442531079,-2.2633839963334057,0.6551232910308362,-1.504221412415844,-0.8474805378287004,-0.11093134329715523,1.241952295882244,-1.7442570727729392,0.06284888307838114,0.13129293250736535,2.202296949681284,-0.551127386875276,-1.207078337251924,0.5356896936168137,-2.3918065579996495,-0.8523246908502292,0.6248174892839728,-1.8244595775644652,1.165845385152743,-0.30163142477174654,1.660066544040394,-0.5068086946392768,-0.4556258833114967,-0.2983646508906948,0.01993433011999575,-0.7975056575397892,-1.6725777108246267,-0.29531640229284895,0.30971668360777754,0.716409560531819,0.7659397828648833,-0.11123212981795287,0.9117766490536945,0.25043579914409964,-1.344984375671524,-0.8801279362402369,0.5472592174474373,0.08204130503631124,0.17891799719213222,0.9489319327585631,0.5989101309274099,-0.8682489391966348,-2.172925528481716,0.8316005423159178,-0.06097820454389258,2.055498475504573,1.2521412919757304,0.04704227597800867,-0.4861375363540279,0.000582875403311226,-0.7320904438737423,0.686513285955763,-1.3117841313018825,-0.43690513505570056,-0.7945871974195586,-0.5879641229539143,0.24401073683741503,0.36009371304036686,-0.3019641107496942,-2.932775813982967,1.0328388977400622,-0.39009411657080284,-0.23215230892291142,-0.5672375951964085,-0.03015870112032784,0.3935515613535357,-0.34854915789772084,-0.24547773242621834,-0.9065078680653559,-0.9971414020458494,-0.08634145935478864,-0.3476514657989236,0.26556018860507086,-0.783460711466928,-1.075241131554598,-2.8287826318864626,2.136054210189507,0.38609878978660767,-1.6766148708269466,-0.43335314576840184,-0.6229073104172735,-0.5055562520910752,0.4588731405931876,-0.9709314596096776,-1.9218522420442605,-1.1194405577485236,-1.791423871895468,-0.4270051517947074,0.6222129827945807,-0.7878569695431034,-1.3978580491023649,1.6779823657239594,0.07792772247489195],\"type\":\"scatter\"}],                        {\"legend\":{\"bgcolor\":\"#F5F6F9\",\"font\":{\"color\":\"#4D5663\"}},\"paper_bgcolor\":\"#F5F6F9\",\"plot_bgcolor\":\"#F5F6F9\",\"template\":{\"data\":{\"barpolar\":[{\"marker\":{\"line\":{\"color\":\"#E5ECF6\",\"width\":0.5},\"pattern\":{\"fillmode\":\"overlay\",\"size\":10,\"solidity\":0.2}},\"type\":\"barpolar\"}],\"bar\":[{\"error_x\":{\"color\":\"#2a3f5f\"},\"error_y\":{\"color\":\"#2a3f5f\"},\"marker\":{\"line\":{\"color\":\"#E5ECF6\",\"width\":0.5},\"pattern\":{\"fillmode\":\"overlay\",\"size\":10,\"solidity\":0.2}},\"type\":\"bar\"}],\"carpet\":[{\"aaxis\":{\"endlinecolor\":\"#2a3f5f\",\"gridcolor\":\"white\",\"linecolor\":\"white\",\"minorgridcolor\":\"white\",\"startlinecolor\":\"#2a3f5f\"},\"baxis\":{\"endlinecolor\":\"#2a3f5f\",\"gridcolor\":\"white\",\"linecolor\":\"white\",\"minorgridcolor\":\"white\",\"startlinecolor\":\"#2a3f5f\"},\"type\":\"carpet\"}],\"choropleth\":[{\"colorbar\":{\"outlinewidth\":0,\"ticks\":\"\"},\"type\":\"choropleth\"}],\"contourcarpet\":[{\"colorbar\":{\"outlinewidth\":0,\"ticks\":\"\"},\"type\":\"contourcarpet\"}],\"contour\":[{\"colorbar\":{\"outlinewidth\":0,\"ticks\":\"\"},\"colorscale\":[[0.0,\"#0d0887\"],[0.1111111111111111,\"#46039f\"],[0.2222222222222222,\"#7201a8\"],[0.3333333333333333,\"#9c179e\"],[0.4444444444444444,\"#bd3786\"],[0.5555555555555556,\"#d8576b\"],[0.6666666666666666,\"#ed7953\"],[0.7777777777777778,\"#fb9f3a\"],[0.8888888888888888,\"#fdca26\"],[1.0,\"#f0f921\"]],\"type\":\"contour\"}],\"heatmapgl\":[{\"colorbar\":{\"outlinewidth\":0,\"ticks\":\"\"},\"colorscale\":[[0.0,\"#0d0887\"],[0.1111111111111111,\"#46039f\"],[0.2222222222222222,\"#7201a8\"],[0.3333333333333333,\"#9c179e\"],[0.4444444444444444,\"#bd3786\"],[0.5555555555555556,\"#d8576b\"],[0.6666666666666666,\"#ed7953\"],[0.7777777777777778,\"#fb9f3a\"],[0.8888888888888888,\"#fdca26\"],[1.0,\"#f0f921\"]],\"type\":\"heatmapgl\"}],\"heatmap\":[{\"colorbar\":{\"outlinewidth\":0,\"ticks\":\"\"},\"colorscale\":[[0.0,\"#0d0887\"],[0.1111111111111111,\"#46039f\"],[0.2222222222222222,\"#7201a8\"],[0.3333333333333333,\"#9c179e\"],[0.4444444444444444,\"#bd3786\"],[0.5555555555555556,\"#d8576b\"],[0.6666666666666666,\"#ed7953\"],[0.7777777777777778,\"#fb9f3a\"],[0.8888888888888888,\"#fdca26\"],[1.0,\"#f0f921\"]],\"type\":\"heatmap\"}],\"histogram2dcontour\":[{\"colorbar\":{\"outlinewidth\":0,\"ticks\":\"\"},\"colorscale\":[[0.0,\"#0d0887\"],[0.1111111111111111,\"#46039f\"],[0.2222222222222222,\"#7201a8\"],[0.3333333333333333,\"#9c179e\"],[0.4444444444444444,\"#bd3786\"],[0.5555555555555556,\"#d8576b\"],[0.6666666666666666,\"#ed7953\"],[0.7777777777777778,\"#fb9f3a\"],[0.8888888888888888,\"#fdca26\"],[1.0,\"#f0f921\"]],\"type\":\"histogram2dcontour\"}],\"histogram2d\":[{\"colorbar\":{\"outlinewidth\":0,\"ticks\":\"\"},\"colorscale\":[[0.0,\"#0d0887\"],[0.1111111111111111,\"#46039f\"],[0.2222222222222222,\"#7201a8\"],[0.3333333333333333,\"#9c179e\"],[0.4444444444444444,\"#bd3786\"],[0.5555555555555556,\"#d8576b\"],[0.6666666666666666,\"#ed7953\"],[0.7777777777777778,\"#fb9f3a\"],[0.8888888888888888,\"#fdca26\"],[1.0,\"#f0f921\"]],\"type\":\"histogram2d\"}],\"histogram\":[{\"marker\":{\"pattern\":{\"fillmode\":\"overlay\",\"size\":10,\"solidity\":0.2}},\"type\":\"histogram\"}],\"mesh3d\":[{\"colorbar\":{\"outlinewidth\":0,\"ticks\":\"\"},\"type\":\"mesh3d\"}],\"parcoords\":[{\"line\":{\"colorbar\":{\"outlinewidth\":0,\"ticks\":\"\"}},\"type\":\"parcoords\"}],\"pie\":[{\"automargin\":true,\"type\":\"pie\"}],\"scatter3d\":[{\"line\":{\"colorbar\":{\"outlinewidth\":0,\"ticks\":\"\"}},\"marker\":{\"colorbar\":{\"outlinewidth\":0,\"ticks\":\"\"}},\"type\":\"scatter3d\"}],\"scattercarpet\":[{\"marker\":{\"colorbar\":{\"outlinewidth\":0,\"ticks\":\"\"}},\"type\":\"scattercarpet\"}],\"scattergeo\":[{\"marker\":{\"colorbar\":{\"outlinewidth\":0,\"ticks\":\"\"}},\"type\":\"scattergeo\"}],\"scattergl\":[{\"marker\":{\"colorbar\":{\"outlinewidth\":0,\"ticks\":\"\"}},\"type\":\"scattergl\"}],\"scattermapbox\":[{\"marker\":{\"colorbar\":{\"outlinewidth\":0,\"ticks\":\"\"}},\"type\":\"scattermapbox\"}],\"scatterpolargl\":[{\"marker\":{\"colorbar\":{\"outlinewidth\":0,\"ticks\":\"\"}},\"type\":\"scatterpolargl\"}],\"scatterpolar\":[{\"marker\":{\"colorbar\":{\"outlinewidth\":0,\"ticks\":\"\"}},\"type\":\"scatterpolar\"}],\"scatter\":[{\"fillpattern\":{\"fillmode\":\"overlay\",\"size\":10,\"solidity\":0.2},\"type\":\"scatter\"}],\"scatterternary\":[{\"marker\":{\"colorbar\":{\"outlinewidth\":0,\"ticks\":\"\"}},\"type\":\"scatterternary\"}],\"surface\":[{\"colorbar\":{\"outlinewidth\":0,\"ticks\":\"\"},\"colorscale\":[[0.0,\"#0d0887\"],[0.1111111111111111,\"#46039f\"],[0.2222222222222222,\"#7201a8\"],[0.3333333333333333,\"#9c179e\"],[0.4444444444444444,\"#bd3786\"],[0.5555555555555556,\"#d8576b\"],[0.6666666666666666,\"#ed7953\"],[0.7777777777777778,\"#fb9f3a\"],[0.8888888888888888,\"#fdca26\"],[1.0,\"#f0f921\"]],\"type\":\"surface\"}],\"table\":[{\"cells\":{\"fill\":{\"color\":\"#EBF0F8\"},\"line\":{\"color\":\"white\"}},\"header\":{\"fill\":{\"color\":\"#C8D4E3\"},\"line\":{\"color\":\"white\"}},\"type\":\"table\"}]},\"layout\":{\"annotationdefaults\":{\"arrowcolor\":\"#2a3f5f\",\"arrowhead\":0,\"arrowwidth\":1},\"autotypenumbers\":\"strict\",\"coloraxis\":{\"colorbar\":{\"outlinewidth\":0,\"ticks\":\"\"}},\"colorscale\":{\"diverging\":[[0,\"#8e0152\"],[0.1,\"#c51b7d\"],[0.2,\"#de77ae\"],[0.3,\"#f1b6da\"],[0.4,\"#fde0ef\"],[0.5,\"#f7f7f7\"],[0.6,\"#e6f5d0\"],[0.7,\"#b8e186\"],[0.8,\"#7fbc41\"],[0.9,\"#4d9221\"],[1,\"#276419\"]],\"sequential\":[[0.0,\"#0d0887\"],[0.1111111111111111,\"#46039f\"],[0.2222222222222222,\"#7201a8\"],[0.3333333333333333,\"#9c179e\"],[0.4444444444444444,\"#bd3786\"],[0.5555555555555556,\"#d8576b\"],[0.6666666666666666,\"#ed7953\"],[0.7777777777777778,\"#fb9f3a\"],[0.8888888888888888,\"#fdca26\"],[1.0,\"#f0f921\"]],\"sequentialminus\":[[0.0,\"#0d0887\"],[0.1111111111111111,\"#46039f\"],[0.2222222222222222,\"#7201a8\"],[0.3333333333333333,\"#9c179e\"],[0.4444444444444444,\"#bd3786\"],[0.5555555555555556,\"#d8576b\"],[0.6666666666666666,\"#ed7953\"],[0.7777777777777778,\"#fb9f3a\"],[0.8888888888888888,\"#fdca26\"],[1.0,\"#f0f921\"]]},\"colorway\":[\"#636efa\",\"#EF553B\",\"#00cc96\",\"#ab63fa\",\"#FFA15A\",\"#19d3f3\",\"#FF6692\",\"#B6E880\",\"#FF97FF\",\"#FECB52\"],\"font\":{\"color\":\"#2a3f5f\"},\"geo\":{\"bgcolor\":\"white\",\"lakecolor\":\"white\",\"landcolor\":\"#E5ECF6\",\"showlakes\":true,\"showland\":true,\"subunitcolor\":\"white\"},\"hoverlabel\":{\"align\":\"left\"},\"hovermode\":\"closest\",\"mapbox\":{\"style\":\"light\"},\"paper_bgcolor\":\"white\",\"plot_bgcolor\":\"#E5ECF6\",\"polar\":{\"angularaxis\":{\"gridcolor\":\"white\",\"linecolor\":\"white\",\"ticks\":\"\"},\"bgcolor\":\"#E5ECF6\",\"radialaxis\":{\"gridcolor\":\"white\",\"linecolor\":\"white\",\"ticks\":\"\"}},\"scene\":{\"xaxis\":{\"backgroundcolor\":\"#E5ECF6\",\"gridcolor\":\"white\",\"gridwidth\":2,\"linecolor\":\"white\",\"showbackground\":true,\"ticks\":\"\",\"zerolinecolor\":\"white\"},\"yaxis\":{\"backgroundcolor\":\"#E5ECF6\",\"gridcolor\":\"white\",\"gridwidth\":2,\"linecolor\":\"white\",\"showbackground\":true,\"ticks\":\"\",\"zerolinecolor\":\"white\"},\"zaxis\":{\"backgroundcolor\":\"#E5ECF6\",\"gridcolor\":\"white\",\"gridwidth\":2,\"linecolor\":\"white\",\"showbackground\":true,\"ticks\":\"\",\"zerolinecolor\":\"white\"}},\"shapedefaults\":{\"line\":{\"color\":\"#2a3f5f\"}},\"ternary\":{\"aaxis\":{\"gridcolor\":\"white\",\"linecolor\":\"white\",\"ticks\":\"\"},\"baxis\":{\"gridcolor\":\"white\",\"linecolor\":\"white\",\"ticks\":\"\"},\"bgcolor\":\"#E5ECF6\",\"caxis\":{\"gridcolor\":\"white\",\"linecolor\":\"white\",\"ticks\":\"\"}},\"title\":{\"x\":0.05},\"xaxis\":{\"automargin\":true,\"gridcolor\":\"white\",\"linecolor\":\"white\",\"ticks\":\"\",\"title\":{\"standoff\":15},\"zerolinecolor\":\"white\",\"zerolinewidth\":2},\"yaxis\":{\"automargin\":true,\"gridcolor\":\"white\",\"linecolor\":\"white\",\"ticks\":\"\",\"title\":{\"standoff\":15},\"zerolinecolor\":\"white\",\"zerolinewidth\":2}}},\"title\":{\"font\":{\"color\":\"#4D5663\"}},\"xaxis\":{\"gridcolor\":\"#E1E5ED\",\"showgrid\":true,\"tickfont\":{\"color\":\"#4D5663\"},\"title\":{\"font\":{\"color\":\"#4D5663\"},\"text\":\"\"},\"zerolinecolor\":\"#E1E5ED\"},\"yaxis\":{\"gridcolor\":\"#E1E5ED\",\"showgrid\":true,\"tickfont\":{\"color\":\"#4D5663\"},\"title\":{\"font\":{\"color\":\"#4D5663\"},\"text\":\"\"},\"zerolinecolor\":\"#E1E5ED\"}},                        {\"showLink\": true, \"linkText\": \"Export to plot.ly\", \"plotlyServerURL\": \"https://plot.ly\", \"responsive\": true}                    ).then(function(){\n",
       "                            \n",
       "var gd = document.getElementById('7abdea6d-6231-4ac3-8c00-d04205467545');\n",
       "var x = new MutationObserver(function (mutations, observer) {{\n",
       "        var display = window.getComputedStyle(gd).display;\n",
       "        if (!display || display === 'none') {{\n",
       "            console.log([gd, 'removed!']);\n",
       "            Plotly.purge(gd);\n",
       "            observer.disconnect();\n",
       "        }}\n",
       "}});\n",
       "\n",
       "// Listen for the removal of the full notebook cells\n",
       "var notebookContainer = gd.closest('#notebook-container');\n",
       "if (notebookContainer) {{\n",
       "    x.observe(notebookContainer, {childList: true});\n",
       "}}\n",
       "\n",
       "// Listen for the clearing of the current output cell\n",
       "var outputEl = gd.closest('.output');\n",
       "if (outputEl) {{\n",
       "    x.observe(outputEl, {childList: true});\n",
       "}}\n",
       "\n",
       "                        })                };                });            </script>        </div>"
      ]
     },
     "metadata": {},
     "output_type": "display_data"
    }
   ],
   "source": [
    "df.iplot(kind='scatter',x='A',y='B',mode='markers',size=10)"
   ]
  },
  {
   "cell_type": "markdown",
   "metadata": {},
   "source": [
    "## Bar Plots"
   ]
  },
  {
   "cell_type": "code",
   "execution_count": 12,
   "metadata": {},
   "outputs": [
    {
     "data": {
      "application/vnd.plotly.v1+json": {
       "config": {
        "linkText": "Export to plot.ly",
        "plotlyServerURL": "https://plot.ly",
        "showLink": true
       },
       "data": [
        {
         "marker": {
          "color": "rgba(255, 153, 51, 0.6)",
          "line": {
           "color": "rgba(255, 153, 51, 1.0)",
           "width": 1
          }
         },
         "name": "Values",
         "orientation": "v",
         "text": "",
         "type": "bar",
         "x": [
          "A",
          "B",
          "C"
         ],
         "y": [
          32,
          43,
          50
         ]
        }
       ],
       "layout": {
        "legend": {
         "bgcolor": "#F5F6F9",
         "font": {
          "color": "#4D5663"
         }
        },
        "paper_bgcolor": "#F5F6F9",
        "plot_bgcolor": "#F5F6F9",
        "template": {
         "data": {
          "bar": [
           {
            "error_x": {
             "color": "#2a3f5f"
            },
            "error_y": {
             "color": "#2a3f5f"
            },
            "marker": {
             "line": {
              "color": "#E5ECF6",
              "width": 0.5
             },
             "pattern": {
              "fillmode": "overlay",
              "size": 10,
              "solidity": 0.2
             }
            },
            "type": "bar"
           }
          ],
          "barpolar": [
           {
            "marker": {
             "line": {
              "color": "#E5ECF6",
              "width": 0.5
             },
             "pattern": {
              "fillmode": "overlay",
              "size": 10,
              "solidity": 0.2
             }
            },
            "type": "barpolar"
           }
          ],
          "carpet": [
           {
            "aaxis": {
             "endlinecolor": "#2a3f5f",
             "gridcolor": "white",
             "linecolor": "white",
             "minorgridcolor": "white",
             "startlinecolor": "#2a3f5f"
            },
            "baxis": {
             "endlinecolor": "#2a3f5f",
             "gridcolor": "white",
             "linecolor": "white",
             "minorgridcolor": "white",
             "startlinecolor": "#2a3f5f"
            },
            "type": "carpet"
           }
          ],
          "choropleth": [
           {
            "colorbar": {
             "outlinewidth": 0,
             "ticks": ""
            },
            "type": "choropleth"
           }
          ],
          "contour": [
           {
            "colorbar": {
             "outlinewidth": 0,
             "ticks": ""
            },
            "colorscale": [
             [
              0,
              "#0d0887"
             ],
             [
              0.1111111111111111,
              "#46039f"
             ],
             [
              0.2222222222222222,
              "#7201a8"
             ],
             [
              0.3333333333333333,
              "#9c179e"
             ],
             [
              0.4444444444444444,
              "#bd3786"
             ],
             [
              0.5555555555555556,
              "#d8576b"
             ],
             [
              0.6666666666666666,
              "#ed7953"
             ],
             [
              0.7777777777777778,
              "#fb9f3a"
             ],
             [
              0.8888888888888888,
              "#fdca26"
             ],
             [
              1,
              "#f0f921"
             ]
            ],
            "type": "contour"
           }
          ],
          "contourcarpet": [
           {
            "colorbar": {
             "outlinewidth": 0,
             "ticks": ""
            },
            "type": "contourcarpet"
           }
          ],
          "heatmap": [
           {
            "colorbar": {
             "outlinewidth": 0,
             "ticks": ""
            },
            "colorscale": [
             [
              0,
              "#0d0887"
             ],
             [
              0.1111111111111111,
              "#46039f"
             ],
             [
              0.2222222222222222,
              "#7201a8"
             ],
             [
              0.3333333333333333,
              "#9c179e"
             ],
             [
              0.4444444444444444,
              "#bd3786"
             ],
             [
              0.5555555555555556,
              "#d8576b"
             ],
             [
              0.6666666666666666,
              "#ed7953"
             ],
             [
              0.7777777777777778,
              "#fb9f3a"
             ],
             [
              0.8888888888888888,
              "#fdca26"
             ],
             [
              1,
              "#f0f921"
             ]
            ],
            "type": "heatmap"
           }
          ],
          "heatmapgl": [
           {
            "colorbar": {
             "outlinewidth": 0,
             "ticks": ""
            },
            "colorscale": [
             [
              0,
              "#0d0887"
             ],
             [
              0.1111111111111111,
              "#46039f"
             ],
             [
              0.2222222222222222,
              "#7201a8"
             ],
             [
              0.3333333333333333,
              "#9c179e"
             ],
             [
              0.4444444444444444,
              "#bd3786"
             ],
             [
              0.5555555555555556,
              "#d8576b"
             ],
             [
              0.6666666666666666,
              "#ed7953"
             ],
             [
              0.7777777777777778,
              "#fb9f3a"
             ],
             [
              0.8888888888888888,
              "#fdca26"
             ],
             [
              1,
              "#f0f921"
             ]
            ],
            "type": "heatmapgl"
           }
          ],
          "histogram": [
           {
            "marker": {
             "pattern": {
              "fillmode": "overlay",
              "size": 10,
              "solidity": 0.2
             }
            },
            "type": "histogram"
           }
          ],
          "histogram2d": [
           {
            "colorbar": {
             "outlinewidth": 0,
             "ticks": ""
            },
            "colorscale": [
             [
              0,
              "#0d0887"
             ],
             [
              0.1111111111111111,
              "#46039f"
             ],
             [
              0.2222222222222222,
              "#7201a8"
             ],
             [
              0.3333333333333333,
              "#9c179e"
             ],
             [
              0.4444444444444444,
              "#bd3786"
             ],
             [
              0.5555555555555556,
              "#d8576b"
             ],
             [
              0.6666666666666666,
              "#ed7953"
             ],
             [
              0.7777777777777778,
              "#fb9f3a"
             ],
             [
              0.8888888888888888,
              "#fdca26"
             ],
             [
              1,
              "#f0f921"
             ]
            ],
            "type": "histogram2d"
           }
          ],
          "histogram2dcontour": [
           {
            "colorbar": {
             "outlinewidth": 0,
             "ticks": ""
            },
            "colorscale": [
             [
              0,
              "#0d0887"
             ],
             [
              0.1111111111111111,
              "#46039f"
             ],
             [
              0.2222222222222222,
              "#7201a8"
             ],
             [
              0.3333333333333333,
              "#9c179e"
             ],
             [
              0.4444444444444444,
              "#bd3786"
             ],
             [
              0.5555555555555556,
              "#d8576b"
             ],
             [
              0.6666666666666666,
              "#ed7953"
             ],
             [
              0.7777777777777778,
              "#fb9f3a"
             ],
             [
              0.8888888888888888,
              "#fdca26"
             ],
             [
              1,
              "#f0f921"
             ]
            ],
            "type": "histogram2dcontour"
           }
          ],
          "mesh3d": [
           {
            "colorbar": {
             "outlinewidth": 0,
             "ticks": ""
            },
            "type": "mesh3d"
           }
          ],
          "parcoords": [
           {
            "line": {
             "colorbar": {
              "outlinewidth": 0,
              "ticks": ""
             }
            },
            "type": "parcoords"
           }
          ],
          "pie": [
           {
            "automargin": true,
            "type": "pie"
           }
          ],
          "scatter": [
           {
            "fillpattern": {
             "fillmode": "overlay",
             "size": 10,
             "solidity": 0.2
            },
            "type": "scatter"
           }
          ],
          "scatter3d": [
           {
            "line": {
             "colorbar": {
              "outlinewidth": 0,
              "ticks": ""
             }
            },
            "marker": {
             "colorbar": {
              "outlinewidth": 0,
              "ticks": ""
             }
            },
            "type": "scatter3d"
           }
          ],
          "scattercarpet": [
           {
            "marker": {
             "colorbar": {
              "outlinewidth": 0,
              "ticks": ""
             }
            },
            "type": "scattercarpet"
           }
          ],
          "scattergeo": [
           {
            "marker": {
             "colorbar": {
              "outlinewidth": 0,
              "ticks": ""
             }
            },
            "type": "scattergeo"
           }
          ],
          "scattergl": [
           {
            "marker": {
             "colorbar": {
              "outlinewidth": 0,
              "ticks": ""
             }
            },
            "type": "scattergl"
           }
          ],
          "scattermapbox": [
           {
            "marker": {
             "colorbar": {
              "outlinewidth": 0,
              "ticks": ""
             }
            },
            "type": "scattermapbox"
           }
          ],
          "scatterpolar": [
           {
            "marker": {
             "colorbar": {
              "outlinewidth": 0,
              "ticks": ""
             }
            },
            "type": "scatterpolar"
           }
          ],
          "scatterpolargl": [
           {
            "marker": {
             "colorbar": {
              "outlinewidth": 0,
              "ticks": ""
             }
            },
            "type": "scatterpolargl"
           }
          ],
          "scatterternary": [
           {
            "marker": {
             "colorbar": {
              "outlinewidth": 0,
              "ticks": ""
             }
            },
            "type": "scatterternary"
           }
          ],
          "surface": [
           {
            "colorbar": {
             "outlinewidth": 0,
             "ticks": ""
            },
            "colorscale": [
             [
              0,
              "#0d0887"
             ],
             [
              0.1111111111111111,
              "#46039f"
             ],
             [
              0.2222222222222222,
              "#7201a8"
             ],
             [
              0.3333333333333333,
              "#9c179e"
             ],
             [
              0.4444444444444444,
              "#bd3786"
             ],
             [
              0.5555555555555556,
              "#d8576b"
             ],
             [
              0.6666666666666666,
              "#ed7953"
             ],
             [
              0.7777777777777778,
              "#fb9f3a"
             ],
             [
              0.8888888888888888,
              "#fdca26"
             ],
             [
              1,
              "#f0f921"
             ]
            ],
            "type": "surface"
           }
          ],
          "table": [
           {
            "cells": {
             "fill": {
              "color": "#EBF0F8"
             },
             "line": {
              "color": "white"
             }
            },
            "header": {
             "fill": {
              "color": "#C8D4E3"
             },
             "line": {
              "color": "white"
             }
            },
            "type": "table"
           }
          ]
         },
         "layout": {
          "annotationdefaults": {
           "arrowcolor": "#2a3f5f",
           "arrowhead": 0,
           "arrowwidth": 1
          },
          "autotypenumbers": "strict",
          "coloraxis": {
           "colorbar": {
            "outlinewidth": 0,
            "ticks": ""
           }
          },
          "colorscale": {
           "diverging": [
            [
             0,
             "#8e0152"
            ],
            [
             0.1,
             "#c51b7d"
            ],
            [
             0.2,
             "#de77ae"
            ],
            [
             0.3,
             "#f1b6da"
            ],
            [
             0.4,
             "#fde0ef"
            ],
            [
             0.5,
             "#f7f7f7"
            ],
            [
             0.6,
             "#e6f5d0"
            ],
            [
             0.7,
             "#b8e186"
            ],
            [
             0.8,
             "#7fbc41"
            ],
            [
             0.9,
             "#4d9221"
            ],
            [
             1,
             "#276419"
            ]
           ],
           "sequential": [
            [
             0,
             "#0d0887"
            ],
            [
             0.1111111111111111,
             "#46039f"
            ],
            [
             0.2222222222222222,
             "#7201a8"
            ],
            [
             0.3333333333333333,
             "#9c179e"
            ],
            [
             0.4444444444444444,
             "#bd3786"
            ],
            [
             0.5555555555555556,
             "#d8576b"
            ],
            [
             0.6666666666666666,
             "#ed7953"
            ],
            [
             0.7777777777777778,
             "#fb9f3a"
            ],
            [
             0.8888888888888888,
             "#fdca26"
            ],
            [
             1,
             "#f0f921"
            ]
           ],
           "sequentialminus": [
            [
             0,
             "#0d0887"
            ],
            [
             0.1111111111111111,
             "#46039f"
            ],
            [
             0.2222222222222222,
             "#7201a8"
            ],
            [
             0.3333333333333333,
             "#9c179e"
            ],
            [
             0.4444444444444444,
             "#bd3786"
            ],
            [
             0.5555555555555556,
             "#d8576b"
            ],
            [
             0.6666666666666666,
             "#ed7953"
            ],
            [
             0.7777777777777778,
             "#fb9f3a"
            ],
            [
             0.8888888888888888,
             "#fdca26"
            ],
            [
             1,
             "#f0f921"
            ]
           ]
          },
          "colorway": [
           "#636efa",
           "#EF553B",
           "#00cc96",
           "#ab63fa",
           "#FFA15A",
           "#19d3f3",
           "#FF6692",
           "#B6E880",
           "#FF97FF",
           "#FECB52"
          ],
          "font": {
           "color": "#2a3f5f"
          },
          "geo": {
           "bgcolor": "white",
           "lakecolor": "white",
           "landcolor": "#E5ECF6",
           "showlakes": true,
           "showland": true,
           "subunitcolor": "white"
          },
          "hoverlabel": {
           "align": "left"
          },
          "hovermode": "closest",
          "mapbox": {
           "style": "light"
          },
          "paper_bgcolor": "white",
          "plot_bgcolor": "#E5ECF6",
          "polar": {
           "angularaxis": {
            "gridcolor": "white",
            "linecolor": "white",
            "ticks": ""
           },
           "bgcolor": "#E5ECF6",
           "radialaxis": {
            "gridcolor": "white",
            "linecolor": "white",
            "ticks": ""
           }
          },
          "scene": {
           "xaxis": {
            "backgroundcolor": "#E5ECF6",
            "gridcolor": "white",
            "gridwidth": 2,
            "linecolor": "white",
            "showbackground": true,
            "ticks": "",
            "zerolinecolor": "white"
           },
           "yaxis": {
            "backgroundcolor": "#E5ECF6",
            "gridcolor": "white",
            "gridwidth": 2,
            "linecolor": "white",
            "showbackground": true,
            "ticks": "",
            "zerolinecolor": "white"
           },
           "zaxis": {
            "backgroundcolor": "#E5ECF6",
            "gridcolor": "white",
            "gridwidth": 2,
            "linecolor": "white",
            "showbackground": true,
            "ticks": "",
            "zerolinecolor": "white"
           }
          },
          "shapedefaults": {
           "line": {
            "color": "#2a3f5f"
           }
          },
          "ternary": {
           "aaxis": {
            "gridcolor": "white",
            "linecolor": "white",
            "ticks": ""
           },
           "baxis": {
            "gridcolor": "white",
            "linecolor": "white",
            "ticks": ""
           },
           "bgcolor": "#E5ECF6",
           "caxis": {
            "gridcolor": "white",
            "linecolor": "white",
            "ticks": ""
           }
          },
          "title": {
           "x": 0.05
          },
          "xaxis": {
           "automargin": true,
           "gridcolor": "white",
           "linecolor": "white",
           "ticks": "",
           "title": {
            "standoff": 15
           },
           "zerolinecolor": "white",
           "zerolinewidth": 2
          },
          "yaxis": {
           "automargin": true,
           "gridcolor": "white",
           "linecolor": "white",
           "ticks": "",
           "title": {
            "standoff": 15
           },
           "zerolinecolor": "white",
           "zerolinewidth": 2
          }
         }
        },
        "title": {
         "font": {
          "color": "#4D5663"
         }
        },
        "xaxis": {
         "gridcolor": "#E1E5ED",
         "showgrid": true,
         "tickfont": {
          "color": "#4D5663"
         },
         "title": {
          "font": {
           "color": "#4D5663"
          },
          "text": ""
         },
         "zerolinecolor": "#E1E5ED"
        },
        "yaxis": {
         "gridcolor": "#E1E5ED",
         "showgrid": true,
         "tickfont": {
          "color": "#4D5663"
         },
         "title": {
          "font": {
           "color": "#4D5663"
          },
          "text": ""
         },
         "zerolinecolor": "#E1E5ED"
        }
       }
      },
      "text/html": [
       "<div>                            <div id=\"de1cf86b-c4b9-4e28-b414-236219b2255a\" class=\"plotly-graph-div\" style=\"height:525px; width:100%;\"></div>            <script type=\"text/javascript\">                require([\"plotly\"], function(Plotly) {                    window.PLOTLYENV=window.PLOTLYENV || {};\n",
       "                    window.PLOTLYENV.BASE_URL='https://plot.ly';                                    if (document.getElementById(\"de1cf86b-c4b9-4e28-b414-236219b2255a\")) {                    Plotly.newPlot(                        \"de1cf86b-c4b9-4e28-b414-236219b2255a\",                        [{\"marker\":{\"color\":\"rgba(255, 153, 51, 0.6)\",\"line\":{\"color\":\"rgba(255, 153, 51, 1.0)\",\"width\":1}},\"name\":\"Values\",\"orientation\":\"v\",\"text\":\"\",\"x\":[\"A\",\"B\",\"C\"],\"y\":[32,43,50],\"type\":\"bar\"}],                        {\"legend\":{\"bgcolor\":\"#F5F6F9\",\"font\":{\"color\":\"#4D5663\"}},\"paper_bgcolor\":\"#F5F6F9\",\"plot_bgcolor\":\"#F5F6F9\",\"template\":{\"data\":{\"barpolar\":[{\"marker\":{\"line\":{\"color\":\"#E5ECF6\",\"width\":0.5},\"pattern\":{\"fillmode\":\"overlay\",\"size\":10,\"solidity\":0.2}},\"type\":\"barpolar\"}],\"bar\":[{\"error_x\":{\"color\":\"#2a3f5f\"},\"error_y\":{\"color\":\"#2a3f5f\"},\"marker\":{\"line\":{\"color\":\"#E5ECF6\",\"width\":0.5},\"pattern\":{\"fillmode\":\"overlay\",\"size\":10,\"solidity\":0.2}},\"type\":\"bar\"}],\"carpet\":[{\"aaxis\":{\"endlinecolor\":\"#2a3f5f\",\"gridcolor\":\"white\",\"linecolor\":\"white\",\"minorgridcolor\":\"white\",\"startlinecolor\":\"#2a3f5f\"},\"baxis\":{\"endlinecolor\":\"#2a3f5f\",\"gridcolor\":\"white\",\"linecolor\":\"white\",\"minorgridcolor\":\"white\",\"startlinecolor\":\"#2a3f5f\"},\"type\":\"carpet\"}],\"choropleth\":[{\"colorbar\":{\"outlinewidth\":0,\"ticks\":\"\"},\"type\":\"choropleth\"}],\"contourcarpet\":[{\"colorbar\":{\"outlinewidth\":0,\"ticks\":\"\"},\"type\":\"contourcarpet\"}],\"contour\":[{\"colorbar\":{\"outlinewidth\":0,\"ticks\":\"\"},\"colorscale\":[[0.0,\"#0d0887\"],[0.1111111111111111,\"#46039f\"],[0.2222222222222222,\"#7201a8\"],[0.3333333333333333,\"#9c179e\"],[0.4444444444444444,\"#bd3786\"],[0.5555555555555556,\"#d8576b\"],[0.6666666666666666,\"#ed7953\"],[0.7777777777777778,\"#fb9f3a\"],[0.8888888888888888,\"#fdca26\"],[1.0,\"#f0f921\"]],\"type\":\"contour\"}],\"heatmapgl\":[{\"colorbar\":{\"outlinewidth\":0,\"ticks\":\"\"},\"colorscale\":[[0.0,\"#0d0887\"],[0.1111111111111111,\"#46039f\"],[0.2222222222222222,\"#7201a8\"],[0.3333333333333333,\"#9c179e\"],[0.4444444444444444,\"#bd3786\"],[0.5555555555555556,\"#d8576b\"],[0.6666666666666666,\"#ed7953\"],[0.7777777777777778,\"#fb9f3a\"],[0.8888888888888888,\"#fdca26\"],[1.0,\"#f0f921\"]],\"type\":\"heatmapgl\"}],\"heatmap\":[{\"colorbar\":{\"outlinewidth\":0,\"ticks\":\"\"},\"colorscale\":[[0.0,\"#0d0887\"],[0.1111111111111111,\"#46039f\"],[0.2222222222222222,\"#7201a8\"],[0.3333333333333333,\"#9c179e\"],[0.4444444444444444,\"#bd3786\"],[0.5555555555555556,\"#d8576b\"],[0.6666666666666666,\"#ed7953\"],[0.7777777777777778,\"#fb9f3a\"],[0.8888888888888888,\"#fdca26\"],[1.0,\"#f0f921\"]],\"type\":\"heatmap\"}],\"histogram2dcontour\":[{\"colorbar\":{\"outlinewidth\":0,\"ticks\":\"\"},\"colorscale\":[[0.0,\"#0d0887\"],[0.1111111111111111,\"#46039f\"],[0.2222222222222222,\"#7201a8\"],[0.3333333333333333,\"#9c179e\"],[0.4444444444444444,\"#bd3786\"],[0.5555555555555556,\"#d8576b\"],[0.6666666666666666,\"#ed7953\"],[0.7777777777777778,\"#fb9f3a\"],[0.8888888888888888,\"#fdca26\"],[1.0,\"#f0f921\"]],\"type\":\"histogram2dcontour\"}],\"histogram2d\":[{\"colorbar\":{\"outlinewidth\":0,\"ticks\":\"\"},\"colorscale\":[[0.0,\"#0d0887\"],[0.1111111111111111,\"#46039f\"],[0.2222222222222222,\"#7201a8\"],[0.3333333333333333,\"#9c179e\"],[0.4444444444444444,\"#bd3786\"],[0.5555555555555556,\"#d8576b\"],[0.6666666666666666,\"#ed7953\"],[0.7777777777777778,\"#fb9f3a\"],[0.8888888888888888,\"#fdca26\"],[1.0,\"#f0f921\"]],\"type\":\"histogram2d\"}],\"histogram\":[{\"marker\":{\"pattern\":{\"fillmode\":\"overlay\",\"size\":10,\"solidity\":0.2}},\"type\":\"histogram\"}],\"mesh3d\":[{\"colorbar\":{\"outlinewidth\":0,\"ticks\":\"\"},\"type\":\"mesh3d\"}],\"parcoords\":[{\"line\":{\"colorbar\":{\"outlinewidth\":0,\"ticks\":\"\"}},\"type\":\"parcoords\"}],\"pie\":[{\"automargin\":true,\"type\":\"pie\"}],\"scatter3d\":[{\"line\":{\"colorbar\":{\"outlinewidth\":0,\"ticks\":\"\"}},\"marker\":{\"colorbar\":{\"outlinewidth\":0,\"ticks\":\"\"}},\"type\":\"scatter3d\"}],\"scattercarpet\":[{\"marker\":{\"colorbar\":{\"outlinewidth\":0,\"ticks\":\"\"}},\"type\":\"scattercarpet\"}],\"scattergeo\":[{\"marker\":{\"colorbar\":{\"outlinewidth\":0,\"ticks\":\"\"}},\"type\":\"scattergeo\"}],\"scattergl\":[{\"marker\":{\"colorbar\":{\"outlinewidth\":0,\"ticks\":\"\"}},\"type\":\"scattergl\"}],\"scattermapbox\":[{\"marker\":{\"colorbar\":{\"outlinewidth\":0,\"ticks\":\"\"}},\"type\":\"scattermapbox\"}],\"scatterpolargl\":[{\"marker\":{\"colorbar\":{\"outlinewidth\":0,\"ticks\":\"\"}},\"type\":\"scatterpolargl\"}],\"scatterpolar\":[{\"marker\":{\"colorbar\":{\"outlinewidth\":0,\"ticks\":\"\"}},\"type\":\"scatterpolar\"}],\"scatter\":[{\"fillpattern\":{\"fillmode\":\"overlay\",\"size\":10,\"solidity\":0.2},\"type\":\"scatter\"}],\"scatterternary\":[{\"marker\":{\"colorbar\":{\"outlinewidth\":0,\"ticks\":\"\"}},\"type\":\"scatterternary\"}],\"surface\":[{\"colorbar\":{\"outlinewidth\":0,\"ticks\":\"\"},\"colorscale\":[[0.0,\"#0d0887\"],[0.1111111111111111,\"#46039f\"],[0.2222222222222222,\"#7201a8\"],[0.3333333333333333,\"#9c179e\"],[0.4444444444444444,\"#bd3786\"],[0.5555555555555556,\"#d8576b\"],[0.6666666666666666,\"#ed7953\"],[0.7777777777777778,\"#fb9f3a\"],[0.8888888888888888,\"#fdca26\"],[1.0,\"#f0f921\"]],\"type\":\"surface\"}],\"table\":[{\"cells\":{\"fill\":{\"color\":\"#EBF0F8\"},\"line\":{\"color\":\"white\"}},\"header\":{\"fill\":{\"color\":\"#C8D4E3\"},\"line\":{\"color\":\"white\"}},\"type\":\"table\"}]},\"layout\":{\"annotationdefaults\":{\"arrowcolor\":\"#2a3f5f\",\"arrowhead\":0,\"arrowwidth\":1},\"autotypenumbers\":\"strict\",\"coloraxis\":{\"colorbar\":{\"outlinewidth\":0,\"ticks\":\"\"}},\"colorscale\":{\"diverging\":[[0,\"#8e0152\"],[0.1,\"#c51b7d\"],[0.2,\"#de77ae\"],[0.3,\"#f1b6da\"],[0.4,\"#fde0ef\"],[0.5,\"#f7f7f7\"],[0.6,\"#e6f5d0\"],[0.7,\"#b8e186\"],[0.8,\"#7fbc41\"],[0.9,\"#4d9221\"],[1,\"#276419\"]],\"sequential\":[[0.0,\"#0d0887\"],[0.1111111111111111,\"#46039f\"],[0.2222222222222222,\"#7201a8\"],[0.3333333333333333,\"#9c179e\"],[0.4444444444444444,\"#bd3786\"],[0.5555555555555556,\"#d8576b\"],[0.6666666666666666,\"#ed7953\"],[0.7777777777777778,\"#fb9f3a\"],[0.8888888888888888,\"#fdca26\"],[1.0,\"#f0f921\"]],\"sequentialminus\":[[0.0,\"#0d0887\"],[0.1111111111111111,\"#46039f\"],[0.2222222222222222,\"#7201a8\"],[0.3333333333333333,\"#9c179e\"],[0.4444444444444444,\"#bd3786\"],[0.5555555555555556,\"#d8576b\"],[0.6666666666666666,\"#ed7953\"],[0.7777777777777778,\"#fb9f3a\"],[0.8888888888888888,\"#fdca26\"],[1.0,\"#f0f921\"]]},\"colorway\":[\"#636efa\",\"#EF553B\",\"#00cc96\",\"#ab63fa\",\"#FFA15A\",\"#19d3f3\",\"#FF6692\",\"#B6E880\",\"#FF97FF\",\"#FECB52\"],\"font\":{\"color\":\"#2a3f5f\"},\"geo\":{\"bgcolor\":\"white\",\"lakecolor\":\"white\",\"landcolor\":\"#E5ECF6\",\"showlakes\":true,\"showland\":true,\"subunitcolor\":\"white\"},\"hoverlabel\":{\"align\":\"left\"},\"hovermode\":\"closest\",\"mapbox\":{\"style\":\"light\"},\"paper_bgcolor\":\"white\",\"plot_bgcolor\":\"#E5ECF6\",\"polar\":{\"angularaxis\":{\"gridcolor\":\"white\",\"linecolor\":\"white\",\"ticks\":\"\"},\"bgcolor\":\"#E5ECF6\",\"radialaxis\":{\"gridcolor\":\"white\",\"linecolor\":\"white\",\"ticks\":\"\"}},\"scene\":{\"xaxis\":{\"backgroundcolor\":\"#E5ECF6\",\"gridcolor\":\"white\",\"gridwidth\":2,\"linecolor\":\"white\",\"showbackground\":true,\"ticks\":\"\",\"zerolinecolor\":\"white\"},\"yaxis\":{\"backgroundcolor\":\"#E5ECF6\",\"gridcolor\":\"white\",\"gridwidth\":2,\"linecolor\":\"white\",\"showbackground\":true,\"ticks\":\"\",\"zerolinecolor\":\"white\"},\"zaxis\":{\"backgroundcolor\":\"#E5ECF6\",\"gridcolor\":\"white\",\"gridwidth\":2,\"linecolor\":\"white\",\"showbackground\":true,\"ticks\":\"\",\"zerolinecolor\":\"white\"}},\"shapedefaults\":{\"line\":{\"color\":\"#2a3f5f\"}},\"ternary\":{\"aaxis\":{\"gridcolor\":\"white\",\"linecolor\":\"white\",\"ticks\":\"\"},\"baxis\":{\"gridcolor\":\"white\",\"linecolor\":\"white\",\"ticks\":\"\"},\"bgcolor\":\"#E5ECF6\",\"caxis\":{\"gridcolor\":\"white\",\"linecolor\":\"white\",\"ticks\":\"\"}},\"title\":{\"x\":0.05},\"xaxis\":{\"automargin\":true,\"gridcolor\":\"white\",\"linecolor\":\"white\",\"ticks\":\"\",\"title\":{\"standoff\":15},\"zerolinecolor\":\"white\",\"zerolinewidth\":2},\"yaxis\":{\"automargin\":true,\"gridcolor\":\"white\",\"linecolor\":\"white\",\"ticks\":\"\",\"title\":{\"standoff\":15},\"zerolinecolor\":\"white\",\"zerolinewidth\":2}}},\"title\":{\"font\":{\"color\":\"#4D5663\"}},\"xaxis\":{\"gridcolor\":\"#E1E5ED\",\"showgrid\":true,\"tickfont\":{\"color\":\"#4D5663\"},\"title\":{\"font\":{\"color\":\"#4D5663\"},\"text\":\"\"},\"zerolinecolor\":\"#E1E5ED\"},\"yaxis\":{\"gridcolor\":\"#E1E5ED\",\"showgrid\":true,\"tickfont\":{\"color\":\"#4D5663\"},\"title\":{\"font\":{\"color\":\"#4D5663\"},\"text\":\"\"},\"zerolinecolor\":\"#E1E5ED\"}},                        {\"showLink\": true, \"linkText\": \"Export to plot.ly\", \"plotlyServerURL\": \"https://plot.ly\", \"responsive\": true}                    ).then(function(){\n",
       "                            \n",
       "var gd = document.getElementById('de1cf86b-c4b9-4e28-b414-236219b2255a');\n",
       "var x = new MutationObserver(function (mutations, observer) {{\n",
       "        var display = window.getComputedStyle(gd).display;\n",
       "        if (!display || display === 'none') {{\n",
       "            console.log([gd, 'removed!']);\n",
       "            Plotly.purge(gd);\n",
       "            observer.disconnect();\n",
       "        }}\n",
       "}});\n",
       "\n",
       "// Listen for the removal of the full notebook cells\n",
       "var notebookContainer = gd.closest('#notebook-container');\n",
       "if (notebookContainer) {{\n",
       "    x.observe(notebookContainer, {childList: true});\n",
       "}}\n",
       "\n",
       "// Listen for the clearing of the current output cell\n",
       "var outputEl = gd.closest('.output');\n",
       "if (outputEl) {{\n",
       "    x.observe(outputEl, {childList: true});\n",
       "}}\n",
       "\n",
       "                        })                };                });            </script>        </div>"
      ]
     },
     "metadata": {},
     "output_type": "display_data"
    }
   ],
   "source": [
    "df2.iplot(kind='bar',x='Category',y='Values')"
   ]
  },
  {
   "cell_type": "code",
   "execution_count": 18,
   "metadata": {},
   "outputs": [
    {
     "data": {
      "application/vnd.plotly.v1+json": {
       "config": {
        "linkText": "Export to plot.ly",
        "plotlyServerURL": "https://plot.ly",
        "showLink": true
       },
       "data": [
        {
         "marker": {
          "color": "rgba(255, 153, 51, 0.6)",
          "line": {
           "color": "rgba(255, 153, 51, 1.0)",
           "width": 1
          }
         },
         "name": "None",
         "orientation": "v",
         "text": "",
         "type": "bar",
         "x": [
          "A",
          "B",
          "C",
          "D"
         ],
         "y": [
          100,
          100,
          100,
          100
         ]
        }
       ],
       "layout": {
        "legend": {
         "bgcolor": "#F5F6F9",
         "font": {
          "color": "#4D5663"
         }
        },
        "paper_bgcolor": "#F5F6F9",
        "plot_bgcolor": "#F5F6F9",
        "template": {
         "data": {
          "bar": [
           {
            "error_x": {
             "color": "#2a3f5f"
            },
            "error_y": {
             "color": "#2a3f5f"
            },
            "marker": {
             "line": {
              "color": "#E5ECF6",
              "width": 0.5
             },
             "pattern": {
              "fillmode": "overlay",
              "size": 10,
              "solidity": 0.2
             }
            },
            "type": "bar"
           }
          ],
          "barpolar": [
           {
            "marker": {
             "line": {
              "color": "#E5ECF6",
              "width": 0.5
             },
             "pattern": {
              "fillmode": "overlay",
              "size": 10,
              "solidity": 0.2
             }
            },
            "type": "barpolar"
           }
          ],
          "carpet": [
           {
            "aaxis": {
             "endlinecolor": "#2a3f5f",
             "gridcolor": "white",
             "linecolor": "white",
             "minorgridcolor": "white",
             "startlinecolor": "#2a3f5f"
            },
            "baxis": {
             "endlinecolor": "#2a3f5f",
             "gridcolor": "white",
             "linecolor": "white",
             "minorgridcolor": "white",
             "startlinecolor": "#2a3f5f"
            },
            "type": "carpet"
           }
          ],
          "choropleth": [
           {
            "colorbar": {
             "outlinewidth": 0,
             "ticks": ""
            },
            "type": "choropleth"
           }
          ],
          "contour": [
           {
            "colorbar": {
             "outlinewidth": 0,
             "ticks": ""
            },
            "colorscale": [
             [
              0,
              "#0d0887"
             ],
             [
              0.1111111111111111,
              "#46039f"
             ],
             [
              0.2222222222222222,
              "#7201a8"
             ],
             [
              0.3333333333333333,
              "#9c179e"
             ],
             [
              0.4444444444444444,
              "#bd3786"
             ],
             [
              0.5555555555555556,
              "#d8576b"
             ],
             [
              0.6666666666666666,
              "#ed7953"
             ],
             [
              0.7777777777777778,
              "#fb9f3a"
             ],
             [
              0.8888888888888888,
              "#fdca26"
             ],
             [
              1,
              "#f0f921"
             ]
            ],
            "type": "contour"
           }
          ],
          "contourcarpet": [
           {
            "colorbar": {
             "outlinewidth": 0,
             "ticks": ""
            },
            "type": "contourcarpet"
           }
          ],
          "heatmap": [
           {
            "colorbar": {
             "outlinewidth": 0,
             "ticks": ""
            },
            "colorscale": [
             [
              0,
              "#0d0887"
             ],
             [
              0.1111111111111111,
              "#46039f"
             ],
             [
              0.2222222222222222,
              "#7201a8"
             ],
             [
              0.3333333333333333,
              "#9c179e"
             ],
             [
              0.4444444444444444,
              "#bd3786"
             ],
             [
              0.5555555555555556,
              "#d8576b"
             ],
             [
              0.6666666666666666,
              "#ed7953"
             ],
             [
              0.7777777777777778,
              "#fb9f3a"
             ],
             [
              0.8888888888888888,
              "#fdca26"
             ],
             [
              1,
              "#f0f921"
             ]
            ],
            "type": "heatmap"
           }
          ],
          "heatmapgl": [
           {
            "colorbar": {
             "outlinewidth": 0,
             "ticks": ""
            },
            "colorscale": [
             [
              0,
              "#0d0887"
             ],
             [
              0.1111111111111111,
              "#46039f"
             ],
             [
              0.2222222222222222,
              "#7201a8"
             ],
             [
              0.3333333333333333,
              "#9c179e"
             ],
             [
              0.4444444444444444,
              "#bd3786"
             ],
             [
              0.5555555555555556,
              "#d8576b"
             ],
             [
              0.6666666666666666,
              "#ed7953"
             ],
             [
              0.7777777777777778,
              "#fb9f3a"
             ],
             [
              0.8888888888888888,
              "#fdca26"
             ],
             [
              1,
              "#f0f921"
             ]
            ],
            "type": "heatmapgl"
           }
          ],
          "histogram": [
           {
            "marker": {
             "pattern": {
              "fillmode": "overlay",
              "size": 10,
              "solidity": 0.2
             }
            },
            "type": "histogram"
           }
          ],
          "histogram2d": [
           {
            "colorbar": {
             "outlinewidth": 0,
             "ticks": ""
            },
            "colorscale": [
             [
              0,
              "#0d0887"
             ],
             [
              0.1111111111111111,
              "#46039f"
             ],
             [
              0.2222222222222222,
              "#7201a8"
             ],
             [
              0.3333333333333333,
              "#9c179e"
             ],
             [
              0.4444444444444444,
              "#bd3786"
             ],
             [
              0.5555555555555556,
              "#d8576b"
             ],
             [
              0.6666666666666666,
              "#ed7953"
             ],
             [
              0.7777777777777778,
              "#fb9f3a"
             ],
             [
              0.8888888888888888,
              "#fdca26"
             ],
             [
              1,
              "#f0f921"
             ]
            ],
            "type": "histogram2d"
           }
          ],
          "histogram2dcontour": [
           {
            "colorbar": {
             "outlinewidth": 0,
             "ticks": ""
            },
            "colorscale": [
             [
              0,
              "#0d0887"
             ],
             [
              0.1111111111111111,
              "#46039f"
             ],
             [
              0.2222222222222222,
              "#7201a8"
             ],
             [
              0.3333333333333333,
              "#9c179e"
             ],
             [
              0.4444444444444444,
              "#bd3786"
             ],
             [
              0.5555555555555556,
              "#d8576b"
             ],
             [
              0.6666666666666666,
              "#ed7953"
             ],
             [
              0.7777777777777778,
              "#fb9f3a"
             ],
             [
              0.8888888888888888,
              "#fdca26"
             ],
             [
              1,
              "#f0f921"
             ]
            ],
            "type": "histogram2dcontour"
           }
          ],
          "mesh3d": [
           {
            "colorbar": {
             "outlinewidth": 0,
             "ticks": ""
            },
            "type": "mesh3d"
           }
          ],
          "parcoords": [
           {
            "line": {
             "colorbar": {
              "outlinewidth": 0,
              "ticks": ""
             }
            },
            "type": "parcoords"
           }
          ],
          "pie": [
           {
            "automargin": true,
            "type": "pie"
           }
          ],
          "scatter": [
           {
            "fillpattern": {
             "fillmode": "overlay",
             "size": 10,
             "solidity": 0.2
            },
            "type": "scatter"
           }
          ],
          "scatter3d": [
           {
            "line": {
             "colorbar": {
              "outlinewidth": 0,
              "ticks": ""
             }
            },
            "marker": {
             "colorbar": {
              "outlinewidth": 0,
              "ticks": ""
             }
            },
            "type": "scatter3d"
           }
          ],
          "scattercarpet": [
           {
            "marker": {
             "colorbar": {
              "outlinewidth": 0,
              "ticks": ""
             }
            },
            "type": "scattercarpet"
           }
          ],
          "scattergeo": [
           {
            "marker": {
             "colorbar": {
              "outlinewidth": 0,
              "ticks": ""
             }
            },
            "type": "scattergeo"
           }
          ],
          "scattergl": [
           {
            "marker": {
             "colorbar": {
              "outlinewidth": 0,
              "ticks": ""
             }
            },
            "type": "scattergl"
           }
          ],
          "scattermapbox": [
           {
            "marker": {
             "colorbar": {
              "outlinewidth": 0,
              "ticks": ""
             }
            },
            "type": "scattermapbox"
           }
          ],
          "scatterpolar": [
           {
            "marker": {
             "colorbar": {
              "outlinewidth": 0,
              "ticks": ""
             }
            },
            "type": "scatterpolar"
           }
          ],
          "scatterpolargl": [
           {
            "marker": {
             "colorbar": {
              "outlinewidth": 0,
              "ticks": ""
             }
            },
            "type": "scatterpolargl"
           }
          ],
          "scatterternary": [
           {
            "marker": {
             "colorbar": {
              "outlinewidth": 0,
              "ticks": ""
             }
            },
            "type": "scatterternary"
           }
          ],
          "surface": [
           {
            "colorbar": {
             "outlinewidth": 0,
             "ticks": ""
            },
            "colorscale": [
             [
              0,
              "#0d0887"
             ],
             [
              0.1111111111111111,
              "#46039f"
             ],
             [
              0.2222222222222222,
              "#7201a8"
             ],
             [
              0.3333333333333333,
              "#9c179e"
             ],
             [
              0.4444444444444444,
              "#bd3786"
             ],
             [
              0.5555555555555556,
              "#d8576b"
             ],
             [
              0.6666666666666666,
              "#ed7953"
             ],
             [
              0.7777777777777778,
              "#fb9f3a"
             ],
             [
              0.8888888888888888,
              "#fdca26"
             ],
             [
              1,
              "#f0f921"
             ]
            ],
            "type": "surface"
           }
          ],
          "table": [
           {
            "cells": {
             "fill": {
              "color": "#EBF0F8"
             },
             "line": {
              "color": "white"
             }
            },
            "header": {
             "fill": {
              "color": "#C8D4E3"
             },
             "line": {
              "color": "white"
             }
            },
            "type": "table"
           }
          ]
         },
         "layout": {
          "annotationdefaults": {
           "arrowcolor": "#2a3f5f",
           "arrowhead": 0,
           "arrowwidth": 1
          },
          "autotypenumbers": "strict",
          "coloraxis": {
           "colorbar": {
            "outlinewidth": 0,
            "ticks": ""
           }
          },
          "colorscale": {
           "diverging": [
            [
             0,
             "#8e0152"
            ],
            [
             0.1,
             "#c51b7d"
            ],
            [
             0.2,
             "#de77ae"
            ],
            [
             0.3,
             "#f1b6da"
            ],
            [
             0.4,
             "#fde0ef"
            ],
            [
             0.5,
             "#f7f7f7"
            ],
            [
             0.6,
             "#e6f5d0"
            ],
            [
             0.7,
             "#b8e186"
            ],
            [
             0.8,
             "#7fbc41"
            ],
            [
             0.9,
             "#4d9221"
            ],
            [
             1,
             "#276419"
            ]
           ],
           "sequential": [
            [
             0,
             "#0d0887"
            ],
            [
             0.1111111111111111,
             "#46039f"
            ],
            [
             0.2222222222222222,
             "#7201a8"
            ],
            [
             0.3333333333333333,
             "#9c179e"
            ],
            [
             0.4444444444444444,
             "#bd3786"
            ],
            [
             0.5555555555555556,
             "#d8576b"
            ],
            [
             0.6666666666666666,
             "#ed7953"
            ],
            [
             0.7777777777777778,
             "#fb9f3a"
            ],
            [
             0.8888888888888888,
             "#fdca26"
            ],
            [
             1,
             "#f0f921"
            ]
           ],
           "sequentialminus": [
            [
             0,
             "#0d0887"
            ],
            [
             0.1111111111111111,
             "#46039f"
            ],
            [
             0.2222222222222222,
             "#7201a8"
            ],
            [
             0.3333333333333333,
             "#9c179e"
            ],
            [
             0.4444444444444444,
             "#bd3786"
            ],
            [
             0.5555555555555556,
             "#d8576b"
            ],
            [
             0.6666666666666666,
             "#ed7953"
            ],
            [
             0.7777777777777778,
             "#fb9f3a"
            ],
            [
             0.8888888888888888,
             "#fdca26"
            ],
            [
             1,
             "#f0f921"
            ]
           ]
          },
          "colorway": [
           "#636efa",
           "#EF553B",
           "#00cc96",
           "#ab63fa",
           "#FFA15A",
           "#19d3f3",
           "#FF6692",
           "#B6E880",
           "#FF97FF",
           "#FECB52"
          ],
          "font": {
           "color": "#2a3f5f"
          },
          "geo": {
           "bgcolor": "white",
           "lakecolor": "white",
           "landcolor": "#E5ECF6",
           "showlakes": true,
           "showland": true,
           "subunitcolor": "white"
          },
          "hoverlabel": {
           "align": "left"
          },
          "hovermode": "closest",
          "mapbox": {
           "style": "light"
          },
          "paper_bgcolor": "white",
          "plot_bgcolor": "#E5ECF6",
          "polar": {
           "angularaxis": {
            "gridcolor": "white",
            "linecolor": "white",
            "ticks": ""
           },
           "bgcolor": "#E5ECF6",
           "radialaxis": {
            "gridcolor": "white",
            "linecolor": "white",
            "ticks": ""
           }
          },
          "scene": {
           "xaxis": {
            "backgroundcolor": "#E5ECF6",
            "gridcolor": "white",
            "gridwidth": 2,
            "linecolor": "white",
            "showbackground": true,
            "ticks": "",
            "zerolinecolor": "white"
           },
           "yaxis": {
            "backgroundcolor": "#E5ECF6",
            "gridcolor": "white",
            "gridwidth": 2,
            "linecolor": "white",
            "showbackground": true,
            "ticks": "",
            "zerolinecolor": "white"
           },
           "zaxis": {
            "backgroundcolor": "#E5ECF6",
            "gridcolor": "white",
            "gridwidth": 2,
            "linecolor": "white",
            "showbackground": true,
            "ticks": "",
            "zerolinecolor": "white"
           }
          },
          "shapedefaults": {
           "line": {
            "color": "#2a3f5f"
           }
          },
          "ternary": {
           "aaxis": {
            "gridcolor": "white",
            "linecolor": "white",
            "ticks": ""
           },
           "baxis": {
            "gridcolor": "white",
            "linecolor": "white",
            "ticks": ""
           },
           "bgcolor": "#E5ECF6",
           "caxis": {
            "gridcolor": "white",
            "linecolor": "white",
            "ticks": ""
           }
          },
          "title": {
           "x": 0.05
          },
          "xaxis": {
           "automargin": true,
           "gridcolor": "white",
           "linecolor": "white",
           "ticks": "",
           "title": {
            "standoff": 15
           },
           "zerolinecolor": "white",
           "zerolinewidth": 2
          },
          "yaxis": {
           "automargin": true,
           "gridcolor": "white",
           "linecolor": "white",
           "ticks": "",
           "title": {
            "standoff": 15
           },
           "zerolinecolor": "white",
           "zerolinewidth": 2
          }
         }
        },
        "title": {
         "font": {
          "color": "#4D5663"
         }
        },
        "xaxis": {
         "gridcolor": "#E1E5ED",
         "showgrid": true,
         "tickfont": {
          "color": "#4D5663"
         },
         "title": {
          "font": {
           "color": "#4D5663"
          },
          "text": ""
         },
         "zerolinecolor": "#E1E5ED"
        },
        "yaxis": {
         "gridcolor": "#E1E5ED",
         "showgrid": true,
         "tickfont": {
          "color": "#4D5663"
         },
         "title": {
          "font": {
           "color": "#4D5663"
          },
          "text": ""
         },
         "zerolinecolor": "#E1E5ED"
        }
       }
      },
      "text/html": [
       "<div>                            <div id=\"e041781f-63f5-4ab8-9773-a20881b3f080\" class=\"plotly-graph-div\" style=\"height:525px; width:100%;\"></div>            <script type=\"text/javascript\">                require([\"plotly\"], function(Plotly) {                    window.PLOTLYENV=window.PLOTLYENV || {};\n",
       "                    window.PLOTLYENV.BASE_URL='https://plot.ly';                                    if (document.getElementById(\"e041781f-63f5-4ab8-9773-a20881b3f080\")) {                    Plotly.newPlot(                        \"e041781f-63f5-4ab8-9773-a20881b3f080\",                        [{\"marker\":{\"color\":\"rgba(255, 153, 51, 0.6)\",\"line\":{\"color\":\"rgba(255, 153, 51, 1.0)\",\"width\":1}},\"name\":\"None\",\"orientation\":\"v\",\"text\":\"\",\"x\":[\"A\",\"B\",\"C\",\"D\"],\"y\":[100,100,100,100],\"type\":\"bar\"}],                        {\"legend\":{\"bgcolor\":\"#F5F6F9\",\"font\":{\"color\":\"#4D5663\"}},\"paper_bgcolor\":\"#F5F6F9\",\"plot_bgcolor\":\"#F5F6F9\",\"template\":{\"data\":{\"barpolar\":[{\"marker\":{\"line\":{\"color\":\"#E5ECF6\",\"width\":0.5},\"pattern\":{\"fillmode\":\"overlay\",\"size\":10,\"solidity\":0.2}},\"type\":\"barpolar\"}],\"bar\":[{\"error_x\":{\"color\":\"#2a3f5f\"},\"error_y\":{\"color\":\"#2a3f5f\"},\"marker\":{\"line\":{\"color\":\"#E5ECF6\",\"width\":0.5},\"pattern\":{\"fillmode\":\"overlay\",\"size\":10,\"solidity\":0.2}},\"type\":\"bar\"}],\"carpet\":[{\"aaxis\":{\"endlinecolor\":\"#2a3f5f\",\"gridcolor\":\"white\",\"linecolor\":\"white\",\"minorgridcolor\":\"white\",\"startlinecolor\":\"#2a3f5f\"},\"baxis\":{\"endlinecolor\":\"#2a3f5f\",\"gridcolor\":\"white\",\"linecolor\":\"white\",\"minorgridcolor\":\"white\",\"startlinecolor\":\"#2a3f5f\"},\"type\":\"carpet\"}],\"choropleth\":[{\"colorbar\":{\"outlinewidth\":0,\"ticks\":\"\"},\"type\":\"choropleth\"}],\"contourcarpet\":[{\"colorbar\":{\"outlinewidth\":0,\"ticks\":\"\"},\"type\":\"contourcarpet\"}],\"contour\":[{\"colorbar\":{\"outlinewidth\":0,\"ticks\":\"\"},\"colorscale\":[[0.0,\"#0d0887\"],[0.1111111111111111,\"#46039f\"],[0.2222222222222222,\"#7201a8\"],[0.3333333333333333,\"#9c179e\"],[0.4444444444444444,\"#bd3786\"],[0.5555555555555556,\"#d8576b\"],[0.6666666666666666,\"#ed7953\"],[0.7777777777777778,\"#fb9f3a\"],[0.8888888888888888,\"#fdca26\"],[1.0,\"#f0f921\"]],\"type\":\"contour\"}],\"heatmapgl\":[{\"colorbar\":{\"outlinewidth\":0,\"ticks\":\"\"},\"colorscale\":[[0.0,\"#0d0887\"],[0.1111111111111111,\"#46039f\"],[0.2222222222222222,\"#7201a8\"],[0.3333333333333333,\"#9c179e\"],[0.4444444444444444,\"#bd3786\"],[0.5555555555555556,\"#d8576b\"],[0.6666666666666666,\"#ed7953\"],[0.7777777777777778,\"#fb9f3a\"],[0.8888888888888888,\"#fdca26\"],[1.0,\"#f0f921\"]],\"type\":\"heatmapgl\"}],\"heatmap\":[{\"colorbar\":{\"outlinewidth\":0,\"ticks\":\"\"},\"colorscale\":[[0.0,\"#0d0887\"],[0.1111111111111111,\"#46039f\"],[0.2222222222222222,\"#7201a8\"],[0.3333333333333333,\"#9c179e\"],[0.4444444444444444,\"#bd3786\"],[0.5555555555555556,\"#d8576b\"],[0.6666666666666666,\"#ed7953\"],[0.7777777777777778,\"#fb9f3a\"],[0.8888888888888888,\"#fdca26\"],[1.0,\"#f0f921\"]],\"type\":\"heatmap\"}],\"histogram2dcontour\":[{\"colorbar\":{\"outlinewidth\":0,\"ticks\":\"\"},\"colorscale\":[[0.0,\"#0d0887\"],[0.1111111111111111,\"#46039f\"],[0.2222222222222222,\"#7201a8\"],[0.3333333333333333,\"#9c179e\"],[0.4444444444444444,\"#bd3786\"],[0.5555555555555556,\"#d8576b\"],[0.6666666666666666,\"#ed7953\"],[0.7777777777777778,\"#fb9f3a\"],[0.8888888888888888,\"#fdca26\"],[1.0,\"#f0f921\"]],\"type\":\"histogram2dcontour\"}],\"histogram2d\":[{\"colorbar\":{\"outlinewidth\":0,\"ticks\":\"\"},\"colorscale\":[[0.0,\"#0d0887\"],[0.1111111111111111,\"#46039f\"],[0.2222222222222222,\"#7201a8\"],[0.3333333333333333,\"#9c179e\"],[0.4444444444444444,\"#bd3786\"],[0.5555555555555556,\"#d8576b\"],[0.6666666666666666,\"#ed7953\"],[0.7777777777777778,\"#fb9f3a\"],[0.8888888888888888,\"#fdca26\"],[1.0,\"#f0f921\"]],\"type\":\"histogram2d\"}],\"histogram\":[{\"marker\":{\"pattern\":{\"fillmode\":\"overlay\",\"size\":10,\"solidity\":0.2}},\"type\":\"histogram\"}],\"mesh3d\":[{\"colorbar\":{\"outlinewidth\":0,\"ticks\":\"\"},\"type\":\"mesh3d\"}],\"parcoords\":[{\"line\":{\"colorbar\":{\"outlinewidth\":0,\"ticks\":\"\"}},\"type\":\"parcoords\"}],\"pie\":[{\"automargin\":true,\"type\":\"pie\"}],\"scatter3d\":[{\"line\":{\"colorbar\":{\"outlinewidth\":0,\"ticks\":\"\"}},\"marker\":{\"colorbar\":{\"outlinewidth\":0,\"ticks\":\"\"}},\"type\":\"scatter3d\"}],\"scattercarpet\":[{\"marker\":{\"colorbar\":{\"outlinewidth\":0,\"ticks\":\"\"}},\"type\":\"scattercarpet\"}],\"scattergeo\":[{\"marker\":{\"colorbar\":{\"outlinewidth\":0,\"ticks\":\"\"}},\"type\":\"scattergeo\"}],\"scattergl\":[{\"marker\":{\"colorbar\":{\"outlinewidth\":0,\"ticks\":\"\"}},\"type\":\"scattergl\"}],\"scattermapbox\":[{\"marker\":{\"colorbar\":{\"outlinewidth\":0,\"ticks\":\"\"}},\"type\":\"scattermapbox\"}],\"scatterpolargl\":[{\"marker\":{\"colorbar\":{\"outlinewidth\":0,\"ticks\":\"\"}},\"type\":\"scatterpolargl\"}],\"scatterpolar\":[{\"marker\":{\"colorbar\":{\"outlinewidth\":0,\"ticks\":\"\"}},\"type\":\"scatterpolar\"}],\"scatter\":[{\"fillpattern\":{\"fillmode\":\"overlay\",\"size\":10,\"solidity\":0.2},\"type\":\"scatter\"}],\"scatterternary\":[{\"marker\":{\"colorbar\":{\"outlinewidth\":0,\"ticks\":\"\"}},\"type\":\"scatterternary\"}],\"surface\":[{\"colorbar\":{\"outlinewidth\":0,\"ticks\":\"\"},\"colorscale\":[[0.0,\"#0d0887\"],[0.1111111111111111,\"#46039f\"],[0.2222222222222222,\"#7201a8\"],[0.3333333333333333,\"#9c179e\"],[0.4444444444444444,\"#bd3786\"],[0.5555555555555556,\"#d8576b\"],[0.6666666666666666,\"#ed7953\"],[0.7777777777777778,\"#fb9f3a\"],[0.8888888888888888,\"#fdca26\"],[1.0,\"#f0f921\"]],\"type\":\"surface\"}],\"table\":[{\"cells\":{\"fill\":{\"color\":\"#EBF0F8\"},\"line\":{\"color\":\"white\"}},\"header\":{\"fill\":{\"color\":\"#C8D4E3\"},\"line\":{\"color\":\"white\"}},\"type\":\"table\"}]},\"layout\":{\"annotationdefaults\":{\"arrowcolor\":\"#2a3f5f\",\"arrowhead\":0,\"arrowwidth\":1},\"autotypenumbers\":\"strict\",\"coloraxis\":{\"colorbar\":{\"outlinewidth\":0,\"ticks\":\"\"}},\"colorscale\":{\"diverging\":[[0,\"#8e0152\"],[0.1,\"#c51b7d\"],[0.2,\"#de77ae\"],[0.3,\"#f1b6da\"],[0.4,\"#fde0ef\"],[0.5,\"#f7f7f7\"],[0.6,\"#e6f5d0\"],[0.7,\"#b8e186\"],[0.8,\"#7fbc41\"],[0.9,\"#4d9221\"],[1,\"#276419\"]],\"sequential\":[[0.0,\"#0d0887\"],[0.1111111111111111,\"#46039f\"],[0.2222222222222222,\"#7201a8\"],[0.3333333333333333,\"#9c179e\"],[0.4444444444444444,\"#bd3786\"],[0.5555555555555556,\"#d8576b\"],[0.6666666666666666,\"#ed7953\"],[0.7777777777777778,\"#fb9f3a\"],[0.8888888888888888,\"#fdca26\"],[1.0,\"#f0f921\"]],\"sequentialminus\":[[0.0,\"#0d0887\"],[0.1111111111111111,\"#46039f\"],[0.2222222222222222,\"#7201a8\"],[0.3333333333333333,\"#9c179e\"],[0.4444444444444444,\"#bd3786\"],[0.5555555555555556,\"#d8576b\"],[0.6666666666666666,\"#ed7953\"],[0.7777777777777778,\"#fb9f3a\"],[0.8888888888888888,\"#fdca26\"],[1.0,\"#f0f921\"]]},\"colorway\":[\"#636efa\",\"#EF553B\",\"#00cc96\",\"#ab63fa\",\"#FFA15A\",\"#19d3f3\",\"#FF6692\",\"#B6E880\",\"#FF97FF\",\"#FECB52\"],\"font\":{\"color\":\"#2a3f5f\"},\"geo\":{\"bgcolor\":\"white\",\"lakecolor\":\"white\",\"landcolor\":\"#E5ECF6\",\"showlakes\":true,\"showland\":true,\"subunitcolor\":\"white\"},\"hoverlabel\":{\"align\":\"left\"},\"hovermode\":\"closest\",\"mapbox\":{\"style\":\"light\"},\"paper_bgcolor\":\"white\",\"plot_bgcolor\":\"#E5ECF6\",\"polar\":{\"angularaxis\":{\"gridcolor\":\"white\",\"linecolor\":\"white\",\"ticks\":\"\"},\"bgcolor\":\"#E5ECF6\",\"radialaxis\":{\"gridcolor\":\"white\",\"linecolor\":\"white\",\"ticks\":\"\"}},\"scene\":{\"xaxis\":{\"backgroundcolor\":\"#E5ECF6\",\"gridcolor\":\"white\",\"gridwidth\":2,\"linecolor\":\"white\",\"showbackground\":true,\"ticks\":\"\",\"zerolinecolor\":\"white\"},\"yaxis\":{\"backgroundcolor\":\"#E5ECF6\",\"gridcolor\":\"white\",\"gridwidth\":2,\"linecolor\":\"white\",\"showbackground\":true,\"ticks\":\"\",\"zerolinecolor\":\"white\"},\"zaxis\":{\"backgroundcolor\":\"#E5ECF6\",\"gridcolor\":\"white\",\"gridwidth\":2,\"linecolor\":\"white\",\"showbackground\":true,\"ticks\":\"\",\"zerolinecolor\":\"white\"}},\"shapedefaults\":{\"line\":{\"color\":\"#2a3f5f\"}},\"ternary\":{\"aaxis\":{\"gridcolor\":\"white\",\"linecolor\":\"white\",\"ticks\":\"\"},\"baxis\":{\"gridcolor\":\"white\",\"linecolor\":\"white\",\"ticks\":\"\"},\"bgcolor\":\"#E5ECF6\",\"caxis\":{\"gridcolor\":\"white\",\"linecolor\":\"white\",\"ticks\":\"\"}},\"title\":{\"x\":0.05},\"xaxis\":{\"automargin\":true,\"gridcolor\":\"white\",\"linecolor\":\"white\",\"ticks\":\"\",\"title\":{\"standoff\":15},\"zerolinecolor\":\"white\",\"zerolinewidth\":2},\"yaxis\":{\"automargin\":true,\"gridcolor\":\"white\",\"linecolor\":\"white\",\"ticks\":\"\",\"title\":{\"standoff\":15},\"zerolinecolor\":\"white\",\"zerolinewidth\":2}}},\"title\":{\"font\":{\"color\":\"#4D5663\"}},\"xaxis\":{\"gridcolor\":\"#E1E5ED\",\"showgrid\":true,\"tickfont\":{\"color\":\"#4D5663\"},\"title\":{\"font\":{\"color\":\"#4D5663\"},\"text\":\"\"},\"zerolinecolor\":\"#E1E5ED\"},\"yaxis\":{\"gridcolor\":\"#E1E5ED\",\"showgrid\":true,\"tickfont\":{\"color\":\"#4D5663\"},\"title\":{\"font\":{\"color\":\"#4D5663\"},\"text\":\"\"},\"zerolinecolor\":\"#E1E5ED\"}},                        {\"showLink\": true, \"linkText\": \"Export to plot.ly\", \"plotlyServerURL\": \"https://plot.ly\", \"responsive\": true}                    ).then(function(){\n",
       "                            \n",
       "var gd = document.getElementById('e041781f-63f5-4ab8-9773-a20881b3f080');\n",
       "var x = new MutationObserver(function (mutations, observer) {{\n",
       "        var display = window.getComputedStyle(gd).display;\n",
       "        if (!display || display === 'none') {{\n",
       "            console.log([gd, 'removed!']);\n",
       "            Plotly.purge(gd);\n",
       "            observer.disconnect();\n",
       "        }}\n",
       "}});\n",
       "\n",
       "// Listen for the removal of the full notebook cells\n",
       "var notebookContainer = gd.closest('#notebook-container');\n",
       "if (notebookContainer) {{\n",
       "    x.observe(notebookContainer, {childList: true});\n",
       "}}\n",
       "\n",
       "// Listen for the clearing of the current output cell\n",
       "var outputEl = gd.closest('.output');\n",
       "if (outputEl) {{\n",
       "    x.observe(outputEl, {childList: true});\n",
       "}}\n",
       "\n",
       "                        })                };                });            </script>        </div>"
      ]
     },
     "metadata": {},
     "output_type": "display_data"
    }
   ],
   "source": [
    "df.count().iplot(kind='bar')"
   ]
  },
  {
   "cell_type": "markdown",
   "metadata": {},
   "source": [
    "## Boxplots"
   ]
  },
  {
   "cell_type": "code",
   "execution_count": 14,
   "metadata": {},
   "outputs": [
    {
     "data": {
      "application/vnd.plotly.v1+json": {
       "config": {
        "linkText": "Export to plot.ly",
        "plotlyServerURL": "https://plot.ly",
        "showLink": true
       },
       "data": [
        {
         "boxpoints": false,
         "line": {
          "width": 1.3
         },
         "marker": {
          "color": "rgba(255, 153, 51, 1.0)"
         },
         "name": "A",
         "orientation": "v",
         "type": "box",
         "y": [
          -0.7292327978431696,
          -0.974830182761352,
          -0.26209888558511735,
          0.4625878154503189,
          0.6221956315443264,
          -0.6283426059822679,
          -1.1869257562288007,
          0.026352457396184876,
          1.5257379620231581,
          1.5097889271689648,
          -0.6791608437928496,
          -1.0655500653071028,
          0.5783798900691562,
          -0.5355223924045895,
          -0.5736487743916989,
          0.27782568089634363,
          -1.121704067911955,
          1.7455931181530004,
          0.567903648758014,
          -1.3223512063319718,
          -1.0810870370994095,
          0.8233908497553671,
          -0.33778797251284703,
          0.043579450021013946,
          -1.199789413486293,
          0.6924241308206706,
          -0.05501515108109769,
          -0.42943737492493633,
          1.8376407752463495,
          1.5696814508069885,
          0.7577066619428412,
          -0.8892641619069086,
          0.35435919411789346,
          0.5874653985956466,
          1.5418431505640875,
          0.2409054448296417,
          -0.3144984785843778,
          -0.21473436338089816,
          -1.1175123679192964,
          -0.5814531590899158,
          0.5245128721506751,
          -0.31633769485893803,
          -0.6359988668909158,
          -0.23726996098449016,
          -0.3982124198205674,
          -0.43722295290105845,
          -0.8939564181904478,
          1.6442649705379218,
          -0.03847002183551993,
          -2.404032839063728,
          1.378628141649735,
          -0.8312434491896347,
          0.2091557152576446,
          -1.099623054801942,
          2.3740966992587578,
          1.6821413637381235,
          -0.15604278937050337,
          1.606674383529953,
          0.5062402310934592,
          -1.9525630963497957,
          1.3550364682699907,
          1.7905006512907407,
          0.6360203667698248,
          -0.8618964953795111,
          0.16380466263449095,
          1.2803113779287176,
          -0.08320937923702665,
          -1.2482532423300359,
          1.5514630422022548,
          -1.3742530385494103,
          -0.782115657330491,
          1.4139594942160179,
          -1.196156501437301,
          0.1556477823532999,
          1.2192212179884288,
          -0.1790850020822392,
          -0.27884292842249364,
          1.5872912174311693,
          -2.2252991158069855,
          -1.0157107731910955,
          -0.17319966364655262,
          -0.003305183104299413,
          0.39134630972054646,
          -0.6299971666679965,
          -0.5599556417703775,
          1.7052530534060306,
          -1.0286663990820606,
          -0.8343300341499792,
          0.26836643957742273,
          -1.6435992402350532,
          0.185083912167794,
          0.13867387300098313,
          0.20557733968652833,
          0.8091575611898224,
          0.34215282304169004,
          1.7590302670488172,
          -0.06473440148486866,
          0.8467053994637058,
          -0.4096522335741291,
          -0.7188798737998551
         ]
        },
        {
         "boxpoints": false,
         "line": {
          "width": 1.3
         },
         "marker": {
          "color": "rgba(55, 128, 191, 1.0)"
         },
         "name": "B",
         "orientation": "v",
         "type": "box",
         "y": [
          0.2028904508929444,
          -0.5360060801057059,
          1.9172153542380332,
          1.1554998283753386,
          0.12181051885877126,
          -1.1319753703135211,
          1.3278769012435154,
          -1.373981442531079,
          -2.2633839963334057,
          0.6551232910308362,
          -1.504221412415844,
          -0.8474805378287004,
          -0.11093134329715523,
          1.241952295882244,
          -1.7442570727729392,
          0.06284888307838114,
          0.13129293250736535,
          2.202296949681284,
          -0.551127386875276,
          -1.207078337251924,
          0.5356896936168137,
          -2.3918065579996495,
          -0.8523246908502292,
          0.6248174892839728,
          -1.8244595775644652,
          1.165845385152743,
          -0.30163142477174654,
          1.660066544040394,
          -0.5068086946392768,
          -0.4556258833114967,
          -0.2983646508906948,
          0.01993433011999575,
          -0.7975056575397892,
          -1.6725777108246267,
          -0.29531640229284895,
          0.30971668360777754,
          0.716409560531819,
          0.7659397828648833,
          -0.11123212981795287,
          0.9117766490536945,
          0.25043579914409964,
          -1.344984375671524,
          -0.8801279362402369,
          0.5472592174474373,
          0.08204130503631124,
          0.17891799719213222,
          0.9489319327585631,
          0.5989101309274099,
          -0.8682489391966348,
          -2.172925528481716,
          0.8316005423159178,
          -0.06097820454389258,
          2.055498475504573,
          1.2521412919757304,
          0.04704227597800867,
          -0.4861375363540279,
          0.000582875403311226,
          -0.7320904438737423,
          0.686513285955763,
          -1.3117841313018825,
          -0.43690513505570056,
          -0.7945871974195586,
          -0.5879641229539143,
          0.24401073683741503,
          0.36009371304036686,
          -0.3019641107496942,
          -2.932775813982967,
          1.0328388977400622,
          -0.39009411657080284,
          -0.23215230892291142,
          -0.5672375951964085,
          -0.03015870112032784,
          0.3935515613535357,
          -0.34854915789772084,
          -0.24547773242621834,
          -0.9065078680653559,
          -0.9971414020458494,
          -0.08634145935478864,
          -0.3476514657989236,
          0.26556018860507086,
          -0.783460711466928,
          -1.075241131554598,
          -2.8287826318864626,
          2.136054210189507,
          0.38609878978660767,
          -1.6766148708269466,
          -0.43335314576840184,
          -0.6229073104172735,
          -0.5055562520910752,
          0.4588731405931876,
          -0.9709314596096776,
          -1.9218522420442605,
          -1.1194405577485236,
          -1.791423871895468,
          -0.4270051517947074,
          0.6222129827945807,
          -0.7878569695431034,
          -1.3978580491023649,
          1.6779823657239594,
          0.07792772247489195
         ]
        },
        {
         "boxpoints": false,
         "line": {
          "width": 1.3
         },
         "marker": {
          "color": "rgba(50, 171, 96, 1.0)"
         },
         "name": "C",
         "orientation": "v",
         "type": "box",
         "y": [
          -1.0254696456815664,
          0.7775611998203021,
          -0.20499226929278383,
          1.6015143467695474,
          2.097806392179643,
          -0.4796119091423343,
          1.082289424478793,
          -0.288966877710572,
          0.9213989888372064,
          0.01462940254773187,
          0.8592148213502434,
          0.5088230613436406,
          -0.040219135029324865,
          1.28473655462965,
          0.3423847164018379,
          0.8579061156088263,
          1.3606289039525115,
          0.2910045147197126,
          -0.5712703432758236,
          0.22685702819916062,
          -0.14530467368663916,
          1.4645560699327624,
          1.0215181407236713,
          -1.086646700625405,
          0.5365380164670625,
          -1.1042970297733814,
          -0.6058807027596476,
          -2.1380588405986485,
          1.7431683533201399,
          1.7302484983906652,
          1.288911148472986,
          1.078148783006668,
          -0.24590453578333873,
          1.1225823894268763,
          -0.3526066675255926,
          1.6560803349462097,
          0.015590437840218005,
          -1.6932085391822211,
          0.5437404788529965,
          0.6994865289367478,
          2.6186636395723157,
          1.6601574901932357,
          -0.07613554282868827,
          -0.3485755963494323,
          -1.5972319489482059,
          0.31782211580436764,
          -0.5835428084182313,
          0.08107512890708217,
          0.26815331067107984,
          1.4967254859563903,
          0.04661947159376344,
          0.5293767660853089,
          2.5895528605846025,
          1.7309986203507288,
          -0.3239633354499249,
          0.06344544639119536,
          0.8700511906010587,
          -0.48635465882446166,
          -0.546861619477916,
          1.2750447493866293,
          -1.0619992763638353,
          0.44059903665829664,
          -1.4611096291954173,
          0.4668790956832927,
          0.6991237039692891,
          -0.6229171598590227,
          0.3930809313037531,
          -1.6831173471735759,
          -0.6413720153024304,
          -0.9023310389871586,
          -1.337364637743806,
          0.5054338281563555,
          -0.23346719611390368,
          -0.059552125026203245,
          0.5921779267943594,
          -0.9829451011712914,
          -0.5411503992773751,
          -0.0028521608425189264,
          0.6806733661617044,
          -0.545069667006346,
          1.905930226797241,
          -0.24881379793339825,
          0.5344670210106673,
          0.25240035967963587,
          -0.18080354422621497,
          -1.9693964883936066,
          -1.2129477418029484,
          0.6366475468500201,
          1.4222791853401286,
          -0.9098173503757404,
          -1.7965623258527832,
          1.6616760089058293,
          0.9656171272377032,
          0.16671059556241694,
          -1.4770482531315494,
          0.5024863405437006,
          -1.1947552125809477,
          -0.5625317028407455,
          -0.5713804419749033,
          -0.9159268650090083
         ]
        },
        {
         "boxpoints": false,
         "line": {
          "width": 1.3
         },
         "marker": {
          "color": "rgba(128, 0, 128, 1.0)"
         },
         "name": "D",
         "orientation": "v",
         "type": "box",
         "y": [
          0.8701451134981023,
          -0.009464630807165916,
          1.1121383309134603,
          0.46297875573362385,
          -0.6436970180668675,
          0.4755382595616794,
          0.22558964868048326,
          -0.25049335242706516,
          -0.6900315101856774,
          -0.7689762645220269,
          -0.17949598241540698,
          0.28575432914935034,
          -0.9789663362726952,
          -0.1972315041361254,
          -0.24738689557654772,
          -0.15874656953369926,
          -0.2271395980874452,
          1.862810923538947,
          -0.3959839148509614,
          0.6297939909807113,
          -0.4189742788306943,
          -0.8351578977289027,
          1.0686659001388692,
          -1.5728691119325595,
          -1.3635106010781473,
          -1.1408364514819833,
          -0.8439806118796392,
          0.5671029854135595,
          0.5304523587298116,
          0.10609842342935913,
          0.6728987622088346,
          -1.894134951392827,
          -0.36742528550598275,
          1.324219395793488,
          -0.26191645539166897,
          -1.6693567626397805,
          -1.4219945824704003,
          1.1413038338392376,
          -1.4740520691504395,
          -0.6141517495442599,
          0.751642535199614,
          -0.895572577627479,
          -0.2273617535118292,
          0.20162941381999344,
          0.3826505688526492,
          0.5958049875378956,
          -0.05669134538874129,
          1.0148030537235921,
          0.3996173755041809,
          0.08690434639985714,
          -0.31612170133716977,
          0.4270831432743658,
          0.5158923167878706,
          -0.723365309296625,
          -0.046398539108323075,
          -2.366503533614684,
          1.7528648531263429,
          -1.9860526847326894,
          -1.7984247093651877,
          0.18254546199109117,
          0.06146836080597479,
          1.7795084968854165,
          0.46604601157724385,
          0.3057646323657242,
          -1.3894966491503697,
          1.8188177701780233,
          -0.2697969369066025,
          0.9585666934785415,
          -0.5243422761673631,
          0.7610617739364335,
          0.5075207721743724,
          -0.018617492383678786,
          -1.4127937858342468,
          -0.8397363996014167,
          0.43971330013637633,
          -1.7461070273974852,
          0.17066683195978116,
          0.15695222447033608,
          -0.6549721686911111,
          -0.7970805562895228,
          -0.3500779369444265,
          -0.35563584940702364,
          -0.7475789766095714,
          -0.5235231241193639,
          0.265766403143593,
          0.4057607782617236,
          -0.5346110017944211,
          1.9574517152516788,
          -0.6152555557576844,
          -1.3500515174050454,
          -0.4612020773142193,
          -0.08302484591615515,
          0.8496693590441516,
          -0.38681138818184313,
          0.3267484329796052,
          0.4527531986592999,
          -0.06339555709900874,
          0.8129693027331496,
          -0.4732417609307742,
          -0.15976325370741937
         ]
        }
       ],
       "layout": {
        "legend": {
         "bgcolor": "#F5F6F9",
         "font": {
          "color": "#4D5663"
         }
        },
        "paper_bgcolor": "#F5F6F9",
        "plot_bgcolor": "#F5F6F9",
        "template": {
         "data": {
          "bar": [
           {
            "error_x": {
             "color": "#2a3f5f"
            },
            "error_y": {
             "color": "#2a3f5f"
            },
            "marker": {
             "line": {
              "color": "#E5ECF6",
              "width": 0.5
             },
             "pattern": {
              "fillmode": "overlay",
              "size": 10,
              "solidity": 0.2
             }
            },
            "type": "bar"
           }
          ],
          "barpolar": [
           {
            "marker": {
             "line": {
              "color": "#E5ECF6",
              "width": 0.5
             },
             "pattern": {
              "fillmode": "overlay",
              "size": 10,
              "solidity": 0.2
             }
            },
            "type": "barpolar"
           }
          ],
          "carpet": [
           {
            "aaxis": {
             "endlinecolor": "#2a3f5f",
             "gridcolor": "white",
             "linecolor": "white",
             "minorgridcolor": "white",
             "startlinecolor": "#2a3f5f"
            },
            "baxis": {
             "endlinecolor": "#2a3f5f",
             "gridcolor": "white",
             "linecolor": "white",
             "minorgridcolor": "white",
             "startlinecolor": "#2a3f5f"
            },
            "type": "carpet"
           }
          ],
          "choropleth": [
           {
            "colorbar": {
             "outlinewidth": 0,
             "ticks": ""
            },
            "type": "choropleth"
           }
          ],
          "contour": [
           {
            "colorbar": {
             "outlinewidth": 0,
             "ticks": ""
            },
            "colorscale": [
             [
              0,
              "#0d0887"
             ],
             [
              0.1111111111111111,
              "#46039f"
             ],
             [
              0.2222222222222222,
              "#7201a8"
             ],
             [
              0.3333333333333333,
              "#9c179e"
             ],
             [
              0.4444444444444444,
              "#bd3786"
             ],
             [
              0.5555555555555556,
              "#d8576b"
             ],
             [
              0.6666666666666666,
              "#ed7953"
             ],
             [
              0.7777777777777778,
              "#fb9f3a"
             ],
             [
              0.8888888888888888,
              "#fdca26"
             ],
             [
              1,
              "#f0f921"
             ]
            ],
            "type": "contour"
           }
          ],
          "contourcarpet": [
           {
            "colorbar": {
             "outlinewidth": 0,
             "ticks": ""
            },
            "type": "contourcarpet"
           }
          ],
          "heatmap": [
           {
            "colorbar": {
             "outlinewidth": 0,
             "ticks": ""
            },
            "colorscale": [
             [
              0,
              "#0d0887"
             ],
             [
              0.1111111111111111,
              "#46039f"
             ],
             [
              0.2222222222222222,
              "#7201a8"
             ],
             [
              0.3333333333333333,
              "#9c179e"
             ],
             [
              0.4444444444444444,
              "#bd3786"
             ],
             [
              0.5555555555555556,
              "#d8576b"
             ],
             [
              0.6666666666666666,
              "#ed7953"
             ],
             [
              0.7777777777777778,
              "#fb9f3a"
             ],
             [
              0.8888888888888888,
              "#fdca26"
             ],
             [
              1,
              "#f0f921"
             ]
            ],
            "type": "heatmap"
           }
          ],
          "heatmapgl": [
           {
            "colorbar": {
             "outlinewidth": 0,
             "ticks": ""
            },
            "colorscale": [
             [
              0,
              "#0d0887"
             ],
             [
              0.1111111111111111,
              "#46039f"
             ],
             [
              0.2222222222222222,
              "#7201a8"
             ],
             [
              0.3333333333333333,
              "#9c179e"
             ],
             [
              0.4444444444444444,
              "#bd3786"
             ],
             [
              0.5555555555555556,
              "#d8576b"
             ],
             [
              0.6666666666666666,
              "#ed7953"
             ],
             [
              0.7777777777777778,
              "#fb9f3a"
             ],
             [
              0.8888888888888888,
              "#fdca26"
             ],
             [
              1,
              "#f0f921"
             ]
            ],
            "type": "heatmapgl"
           }
          ],
          "histogram": [
           {
            "marker": {
             "pattern": {
              "fillmode": "overlay",
              "size": 10,
              "solidity": 0.2
             }
            },
            "type": "histogram"
           }
          ],
          "histogram2d": [
           {
            "colorbar": {
             "outlinewidth": 0,
             "ticks": ""
            },
            "colorscale": [
             [
              0,
              "#0d0887"
             ],
             [
              0.1111111111111111,
              "#46039f"
             ],
             [
              0.2222222222222222,
              "#7201a8"
             ],
             [
              0.3333333333333333,
              "#9c179e"
             ],
             [
              0.4444444444444444,
              "#bd3786"
             ],
             [
              0.5555555555555556,
              "#d8576b"
             ],
             [
              0.6666666666666666,
              "#ed7953"
             ],
             [
              0.7777777777777778,
              "#fb9f3a"
             ],
             [
              0.8888888888888888,
              "#fdca26"
             ],
             [
              1,
              "#f0f921"
             ]
            ],
            "type": "histogram2d"
           }
          ],
          "histogram2dcontour": [
           {
            "colorbar": {
             "outlinewidth": 0,
             "ticks": ""
            },
            "colorscale": [
             [
              0,
              "#0d0887"
             ],
             [
              0.1111111111111111,
              "#46039f"
             ],
             [
              0.2222222222222222,
              "#7201a8"
             ],
             [
              0.3333333333333333,
              "#9c179e"
             ],
             [
              0.4444444444444444,
              "#bd3786"
             ],
             [
              0.5555555555555556,
              "#d8576b"
             ],
             [
              0.6666666666666666,
              "#ed7953"
             ],
             [
              0.7777777777777778,
              "#fb9f3a"
             ],
             [
              0.8888888888888888,
              "#fdca26"
             ],
             [
              1,
              "#f0f921"
             ]
            ],
            "type": "histogram2dcontour"
           }
          ],
          "mesh3d": [
           {
            "colorbar": {
             "outlinewidth": 0,
             "ticks": ""
            },
            "type": "mesh3d"
           }
          ],
          "parcoords": [
           {
            "line": {
             "colorbar": {
              "outlinewidth": 0,
              "ticks": ""
             }
            },
            "type": "parcoords"
           }
          ],
          "pie": [
           {
            "automargin": true,
            "type": "pie"
           }
          ],
          "scatter": [
           {
            "fillpattern": {
             "fillmode": "overlay",
             "size": 10,
             "solidity": 0.2
            },
            "type": "scatter"
           }
          ],
          "scatter3d": [
           {
            "line": {
             "colorbar": {
              "outlinewidth": 0,
              "ticks": ""
             }
            },
            "marker": {
             "colorbar": {
              "outlinewidth": 0,
              "ticks": ""
             }
            },
            "type": "scatter3d"
           }
          ],
          "scattercarpet": [
           {
            "marker": {
             "colorbar": {
              "outlinewidth": 0,
              "ticks": ""
             }
            },
            "type": "scattercarpet"
           }
          ],
          "scattergeo": [
           {
            "marker": {
             "colorbar": {
              "outlinewidth": 0,
              "ticks": ""
             }
            },
            "type": "scattergeo"
           }
          ],
          "scattergl": [
           {
            "marker": {
             "colorbar": {
              "outlinewidth": 0,
              "ticks": ""
             }
            },
            "type": "scattergl"
           }
          ],
          "scattermapbox": [
           {
            "marker": {
             "colorbar": {
              "outlinewidth": 0,
              "ticks": ""
             }
            },
            "type": "scattermapbox"
           }
          ],
          "scatterpolar": [
           {
            "marker": {
             "colorbar": {
              "outlinewidth": 0,
              "ticks": ""
             }
            },
            "type": "scatterpolar"
           }
          ],
          "scatterpolargl": [
           {
            "marker": {
             "colorbar": {
              "outlinewidth": 0,
              "ticks": ""
             }
            },
            "type": "scatterpolargl"
           }
          ],
          "scatterternary": [
           {
            "marker": {
             "colorbar": {
              "outlinewidth": 0,
              "ticks": ""
             }
            },
            "type": "scatterternary"
           }
          ],
          "surface": [
           {
            "colorbar": {
             "outlinewidth": 0,
             "ticks": ""
            },
            "colorscale": [
             [
              0,
              "#0d0887"
             ],
             [
              0.1111111111111111,
              "#46039f"
             ],
             [
              0.2222222222222222,
              "#7201a8"
             ],
             [
              0.3333333333333333,
              "#9c179e"
             ],
             [
              0.4444444444444444,
              "#bd3786"
             ],
             [
              0.5555555555555556,
              "#d8576b"
             ],
             [
              0.6666666666666666,
              "#ed7953"
             ],
             [
              0.7777777777777778,
              "#fb9f3a"
             ],
             [
              0.8888888888888888,
              "#fdca26"
             ],
             [
              1,
              "#f0f921"
             ]
            ],
            "type": "surface"
           }
          ],
          "table": [
           {
            "cells": {
             "fill": {
              "color": "#EBF0F8"
             },
             "line": {
              "color": "white"
             }
            },
            "header": {
             "fill": {
              "color": "#C8D4E3"
             },
             "line": {
              "color": "white"
             }
            },
            "type": "table"
           }
          ]
         },
         "layout": {
          "annotationdefaults": {
           "arrowcolor": "#2a3f5f",
           "arrowhead": 0,
           "arrowwidth": 1
          },
          "autotypenumbers": "strict",
          "coloraxis": {
           "colorbar": {
            "outlinewidth": 0,
            "ticks": ""
           }
          },
          "colorscale": {
           "diverging": [
            [
             0,
             "#8e0152"
            ],
            [
             0.1,
             "#c51b7d"
            ],
            [
             0.2,
             "#de77ae"
            ],
            [
             0.3,
             "#f1b6da"
            ],
            [
             0.4,
             "#fde0ef"
            ],
            [
             0.5,
             "#f7f7f7"
            ],
            [
             0.6,
             "#e6f5d0"
            ],
            [
             0.7,
             "#b8e186"
            ],
            [
             0.8,
             "#7fbc41"
            ],
            [
             0.9,
             "#4d9221"
            ],
            [
             1,
             "#276419"
            ]
           ],
           "sequential": [
            [
             0,
             "#0d0887"
            ],
            [
             0.1111111111111111,
             "#46039f"
            ],
            [
             0.2222222222222222,
             "#7201a8"
            ],
            [
             0.3333333333333333,
             "#9c179e"
            ],
            [
             0.4444444444444444,
             "#bd3786"
            ],
            [
             0.5555555555555556,
             "#d8576b"
            ],
            [
             0.6666666666666666,
             "#ed7953"
            ],
            [
             0.7777777777777778,
             "#fb9f3a"
            ],
            [
             0.8888888888888888,
             "#fdca26"
            ],
            [
             1,
             "#f0f921"
            ]
           ],
           "sequentialminus": [
            [
             0,
             "#0d0887"
            ],
            [
             0.1111111111111111,
             "#46039f"
            ],
            [
             0.2222222222222222,
             "#7201a8"
            ],
            [
             0.3333333333333333,
             "#9c179e"
            ],
            [
             0.4444444444444444,
             "#bd3786"
            ],
            [
             0.5555555555555556,
             "#d8576b"
            ],
            [
             0.6666666666666666,
             "#ed7953"
            ],
            [
             0.7777777777777778,
             "#fb9f3a"
            ],
            [
             0.8888888888888888,
             "#fdca26"
            ],
            [
             1,
             "#f0f921"
            ]
           ]
          },
          "colorway": [
           "#636efa",
           "#EF553B",
           "#00cc96",
           "#ab63fa",
           "#FFA15A",
           "#19d3f3",
           "#FF6692",
           "#B6E880",
           "#FF97FF",
           "#FECB52"
          ],
          "font": {
           "color": "#2a3f5f"
          },
          "geo": {
           "bgcolor": "white",
           "lakecolor": "white",
           "landcolor": "#E5ECF6",
           "showlakes": true,
           "showland": true,
           "subunitcolor": "white"
          },
          "hoverlabel": {
           "align": "left"
          },
          "hovermode": "closest",
          "mapbox": {
           "style": "light"
          },
          "paper_bgcolor": "white",
          "plot_bgcolor": "#E5ECF6",
          "polar": {
           "angularaxis": {
            "gridcolor": "white",
            "linecolor": "white",
            "ticks": ""
           },
           "bgcolor": "#E5ECF6",
           "radialaxis": {
            "gridcolor": "white",
            "linecolor": "white",
            "ticks": ""
           }
          },
          "scene": {
           "xaxis": {
            "backgroundcolor": "#E5ECF6",
            "gridcolor": "white",
            "gridwidth": 2,
            "linecolor": "white",
            "showbackground": true,
            "ticks": "",
            "zerolinecolor": "white"
           },
           "yaxis": {
            "backgroundcolor": "#E5ECF6",
            "gridcolor": "white",
            "gridwidth": 2,
            "linecolor": "white",
            "showbackground": true,
            "ticks": "",
            "zerolinecolor": "white"
           },
           "zaxis": {
            "backgroundcolor": "#E5ECF6",
            "gridcolor": "white",
            "gridwidth": 2,
            "linecolor": "white",
            "showbackground": true,
            "ticks": "",
            "zerolinecolor": "white"
           }
          },
          "shapedefaults": {
           "line": {
            "color": "#2a3f5f"
           }
          },
          "ternary": {
           "aaxis": {
            "gridcolor": "white",
            "linecolor": "white",
            "ticks": ""
           },
           "baxis": {
            "gridcolor": "white",
            "linecolor": "white",
            "ticks": ""
           },
           "bgcolor": "#E5ECF6",
           "caxis": {
            "gridcolor": "white",
            "linecolor": "white",
            "ticks": ""
           }
          },
          "title": {
           "x": 0.05
          },
          "xaxis": {
           "automargin": true,
           "gridcolor": "white",
           "linecolor": "white",
           "ticks": "",
           "title": {
            "standoff": 15
           },
           "zerolinecolor": "white",
           "zerolinewidth": 2
          },
          "yaxis": {
           "automargin": true,
           "gridcolor": "white",
           "linecolor": "white",
           "ticks": "",
           "title": {
            "standoff": 15
           },
           "zerolinecolor": "white",
           "zerolinewidth": 2
          }
         }
        },
        "title": {
         "font": {
          "color": "#4D5663"
         }
        },
        "xaxis": {
         "gridcolor": "#E1E5ED",
         "showgrid": true,
         "tickfont": {
          "color": "#4D5663"
         },
         "title": {
          "font": {
           "color": "#4D5663"
          },
          "text": ""
         },
         "zerolinecolor": "#E1E5ED"
        },
        "yaxis": {
         "gridcolor": "#E1E5ED",
         "showgrid": true,
         "tickfont": {
          "color": "#4D5663"
         },
         "title": {
          "font": {
           "color": "#4D5663"
          },
          "text": ""
         },
         "zerolinecolor": "#E1E5ED"
        }
       }
      },
      "text/html": [
       "<div>                            <div id=\"7eaf81c9-e2d9-4a8b-a3f2-863baaa76ca0\" class=\"plotly-graph-div\" style=\"height:525px; width:100%;\"></div>            <script type=\"text/javascript\">                require([\"plotly\"], function(Plotly) {                    window.PLOTLYENV=window.PLOTLYENV || {};\n",
       "                    window.PLOTLYENV.BASE_URL='https://plot.ly';                                    if (document.getElementById(\"7eaf81c9-e2d9-4a8b-a3f2-863baaa76ca0\")) {                    Plotly.newPlot(                        \"7eaf81c9-e2d9-4a8b-a3f2-863baaa76ca0\",                        [{\"boxpoints\":false,\"line\":{\"width\":1.3},\"marker\":{\"color\":\"rgba(255, 153, 51, 1.0)\"},\"name\":\"A\",\"orientation\":\"v\",\"y\":[-0.7292327978431696,-0.974830182761352,-0.26209888558511735,0.4625878154503189,0.6221956315443264,-0.6283426059822679,-1.1869257562288007,0.026352457396184876,1.5257379620231581,1.5097889271689648,-0.6791608437928496,-1.0655500653071028,0.5783798900691562,-0.5355223924045895,-0.5736487743916989,0.27782568089634363,-1.121704067911955,1.7455931181530004,0.567903648758014,-1.3223512063319718,-1.0810870370994095,0.8233908497553671,-0.33778797251284703,0.043579450021013946,-1.199789413486293,0.6924241308206706,-0.05501515108109769,-0.42943737492493633,1.8376407752463495,1.5696814508069885,0.7577066619428412,-0.8892641619069086,0.35435919411789346,0.5874653985956466,1.5418431505640875,0.2409054448296417,-0.3144984785843778,-0.21473436338089816,-1.1175123679192964,-0.5814531590899158,0.5245128721506751,-0.31633769485893803,-0.6359988668909158,-0.23726996098449016,-0.3982124198205674,-0.43722295290105845,-0.8939564181904478,1.6442649705379218,-0.03847002183551993,-2.404032839063728,1.378628141649735,-0.8312434491896347,0.2091557152576446,-1.099623054801942,2.3740966992587578,1.6821413637381235,-0.15604278937050337,1.606674383529953,0.5062402310934592,-1.9525630963497957,1.3550364682699907,1.7905006512907407,0.6360203667698248,-0.8618964953795111,0.16380466263449095,1.2803113779287176,-0.08320937923702665,-1.2482532423300359,1.5514630422022548,-1.3742530385494103,-0.782115657330491,1.4139594942160179,-1.196156501437301,0.1556477823532999,1.2192212179884288,-0.1790850020822392,-0.27884292842249364,1.5872912174311693,-2.2252991158069855,-1.0157107731910955,-0.17319966364655262,-0.003305183104299413,0.39134630972054646,-0.6299971666679965,-0.5599556417703775,1.7052530534060306,-1.0286663990820606,-0.8343300341499792,0.26836643957742273,-1.6435992402350532,0.185083912167794,0.13867387300098313,0.20557733968652833,0.8091575611898224,0.34215282304169004,1.7590302670488172,-0.06473440148486866,0.8467053994637058,-0.4096522335741291,-0.7188798737998551],\"type\":\"box\"},{\"boxpoints\":false,\"line\":{\"width\":1.3},\"marker\":{\"color\":\"rgba(55, 128, 191, 1.0)\"},\"name\":\"B\",\"orientation\":\"v\",\"y\":[0.2028904508929444,-0.5360060801057059,1.9172153542380332,1.1554998283753386,0.12181051885877126,-1.1319753703135211,1.3278769012435154,-1.373981442531079,-2.2633839963334057,0.6551232910308362,-1.504221412415844,-0.8474805378287004,-0.11093134329715523,1.241952295882244,-1.7442570727729392,0.06284888307838114,0.13129293250736535,2.202296949681284,-0.551127386875276,-1.207078337251924,0.5356896936168137,-2.3918065579996495,-0.8523246908502292,0.6248174892839728,-1.8244595775644652,1.165845385152743,-0.30163142477174654,1.660066544040394,-0.5068086946392768,-0.4556258833114967,-0.2983646508906948,0.01993433011999575,-0.7975056575397892,-1.6725777108246267,-0.29531640229284895,0.30971668360777754,0.716409560531819,0.7659397828648833,-0.11123212981795287,0.9117766490536945,0.25043579914409964,-1.344984375671524,-0.8801279362402369,0.5472592174474373,0.08204130503631124,0.17891799719213222,0.9489319327585631,0.5989101309274099,-0.8682489391966348,-2.172925528481716,0.8316005423159178,-0.06097820454389258,2.055498475504573,1.2521412919757304,0.04704227597800867,-0.4861375363540279,0.000582875403311226,-0.7320904438737423,0.686513285955763,-1.3117841313018825,-0.43690513505570056,-0.7945871974195586,-0.5879641229539143,0.24401073683741503,0.36009371304036686,-0.3019641107496942,-2.932775813982967,1.0328388977400622,-0.39009411657080284,-0.23215230892291142,-0.5672375951964085,-0.03015870112032784,0.3935515613535357,-0.34854915789772084,-0.24547773242621834,-0.9065078680653559,-0.9971414020458494,-0.08634145935478864,-0.3476514657989236,0.26556018860507086,-0.783460711466928,-1.075241131554598,-2.8287826318864626,2.136054210189507,0.38609878978660767,-1.6766148708269466,-0.43335314576840184,-0.6229073104172735,-0.5055562520910752,0.4588731405931876,-0.9709314596096776,-1.9218522420442605,-1.1194405577485236,-1.791423871895468,-0.4270051517947074,0.6222129827945807,-0.7878569695431034,-1.3978580491023649,1.6779823657239594,0.07792772247489195],\"type\":\"box\"},{\"boxpoints\":false,\"line\":{\"width\":1.3},\"marker\":{\"color\":\"rgba(50, 171, 96, 1.0)\"},\"name\":\"C\",\"orientation\":\"v\",\"y\":[-1.0254696456815664,0.7775611998203021,-0.20499226929278383,1.6015143467695474,2.097806392179643,-0.4796119091423343,1.082289424478793,-0.288966877710572,0.9213989888372064,0.01462940254773187,0.8592148213502434,0.5088230613436406,-0.040219135029324865,1.28473655462965,0.3423847164018379,0.8579061156088263,1.3606289039525115,0.2910045147197126,-0.5712703432758236,0.22685702819916062,-0.14530467368663916,1.4645560699327624,1.0215181407236713,-1.086646700625405,0.5365380164670625,-1.1042970297733814,-0.6058807027596476,-2.1380588405986485,1.7431683533201399,1.7302484983906652,1.288911148472986,1.078148783006668,-0.24590453578333873,1.1225823894268763,-0.3526066675255926,1.6560803349462097,0.015590437840218005,-1.6932085391822211,0.5437404788529965,0.6994865289367478,2.6186636395723157,1.6601574901932357,-0.07613554282868827,-0.3485755963494323,-1.5972319489482059,0.31782211580436764,-0.5835428084182313,0.08107512890708217,0.26815331067107984,1.4967254859563903,0.04661947159376344,0.5293767660853089,2.5895528605846025,1.7309986203507288,-0.3239633354499249,0.06344544639119536,0.8700511906010587,-0.48635465882446166,-0.546861619477916,1.2750447493866293,-1.0619992763638353,0.44059903665829664,-1.4611096291954173,0.4668790956832927,0.6991237039692891,-0.6229171598590227,0.3930809313037531,-1.6831173471735759,-0.6413720153024304,-0.9023310389871586,-1.337364637743806,0.5054338281563555,-0.23346719611390368,-0.059552125026203245,0.5921779267943594,-0.9829451011712914,-0.5411503992773751,-0.0028521608425189264,0.6806733661617044,-0.545069667006346,1.905930226797241,-0.24881379793339825,0.5344670210106673,0.25240035967963587,-0.18080354422621497,-1.9693964883936066,-1.2129477418029484,0.6366475468500201,1.4222791853401286,-0.9098173503757404,-1.7965623258527832,1.6616760089058293,0.9656171272377032,0.16671059556241694,-1.4770482531315494,0.5024863405437006,-1.1947552125809477,-0.5625317028407455,-0.5713804419749033,-0.9159268650090083],\"type\":\"box\"},{\"boxpoints\":false,\"line\":{\"width\":1.3},\"marker\":{\"color\":\"rgba(128, 0, 128, 1.0)\"},\"name\":\"D\",\"orientation\":\"v\",\"y\":[0.8701451134981023,-0.009464630807165916,1.1121383309134603,0.46297875573362385,-0.6436970180668675,0.4755382595616794,0.22558964868048326,-0.25049335242706516,-0.6900315101856774,-0.7689762645220269,-0.17949598241540698,0.28575432914935034,-0.9789663362726952,-0.1972315041361254,-0.24738689557654772,-0.15874656953369926,-0.2271395980874452,1.862810923538947,-0.3959839148509614,0.6297939909807113,-0.4189742788306943,-0.8351578977289027,1.0686659001388692,-1.5728691119325595,-1.3635106010781473,-1.1408364514819833,-0.8439806118796392,0.5671029854135595,0.5304523587298116,0.10609842342935913,0.6728987622088346,-1.894134951392827,-0.36742528550598275,1.324219395793488,-0.26191645539166897,-1.6693567626397805,-1.4219945824704003,1.1413038338392376,-1.4740520691504395,-0.6141517495442599,0.751642535199614,-0.895572577627479,-0.2273617535118292,0.20162941381999344,0.3826505688526492,0.5958049875378956,-0.05669134538874129,1.0148030537235921,0.3996173755041809,0.08690434639985714,-0.31612170133716977,0.4270831432743658,0.5158923167878706,-0.723365309296625,-0.046398539108323075,-2.366503533614684,1.7528648531263429,-1.9860526847326894,-1.7984247093651877,0.18254546199109117,0.06146836080597479,1.7795084968854165,0.46604601157724385,0.3057646323657242,-1.3894966491503697,1.8188177701780233,-0.2697969369066025,0.9585666934785415,-0.5243422761673631,0.7610617739364335,0.5075207721743724,-0.018617492383678786,-1.4127937858342468,-0.8397363996014167,0.43971330013637633,-1.7461070273974852,0.17066683195978116,0.15695222447033608,-0.6549721686911111,-0.7970805562895228,-0.3500779369444265,-0.35563584940702364,-0.7475789766095714,-0.5235231241193639,0.265766403143593,0.4057607782617236,-0.5346110017944211,1.9574517152516788,-0.6152555557576844,-1.3500515174050454,-0.4612020773142193,-0.08302484591615515,0.8496693590441516,-0.38681138818184313,0.3267484329796052,0.4527531986592999,-0.06339555709900874,0.8129693027331496,-0.4732417609307742,-0.15976325370741937],\"type\":\"box\"}],                        {\"legend\":{\"bgcolor\":\"#F5F6F9\",\"font\":{\"color\":\"#4D5663\"}},\"paper_bgcolor\":\"#F5F6F9\",\"plot_bgcolor\":\"#F5F6F9\",\"template\":{\"data\":{\"barpolar\":[{\"marker\":{\"line\":{\"color\":\"#E5ECF6\",\"width\":0.5},\"pattern\":{\"fillmode\":\"overlay\",\"size\":10,\"solidity\":0.2}},\"type\":\"barpolar\"}],\"bar\":[{\"error_x\":{\"color\":\"#2a3f5f\"},\"error_y\":{\"color\":\"#2a3f5f\"},\"marker\":{\"line\":{\"color\":\"#E5ECF6\",\"width\":0.5},\"pattern\":{\"fillmode\":\"overlay\",\"size\":10,\"solidity\":0.2}},\"type\":\"bar\"}],\"carpet\":[{\"aaxis\":{\"endlinecolor\":\"#2a3f5f\",\"gridcolor\":\"white\",\"linecolor\":\"white\",\"minorgridcolor\":\"white\",\"startlinecolor\":\"#2a3f5f\"},\"baxis\":{\"endlinecolor\":\"#2a3f5f\",\"gridcolor\":\"white\",\"linecolor\":\"white\",\"minorgridcolor\":\"white\",\"startlinecolor\":\"#2a3f5f\"},\"type\":\"carpet\"}],\"choropleth\":[{\"colorbar\":{\"outlinewidth\":0,\"ticks\":\"\"},\"type\":\"choropleth\"}],\"contourcarpet\":[{\"colorbar\":{\"outlinewidth\":0,\"ticks\":\"\"},\"type\":\"contourcarpet\"}],\"contour\":[{\"colorbar\":{\"outlinewidth\":0,\"ticks\":\"\"},\"colorscale\":[[0.0,\"#0d0887\"],[0.1111111111111111,\"#46039f\"],[0.2222222222222222,\"#7201a8\"],[0.3333333333333333,\"#9c179e\"],[0.4444444444444444,\"#bd3786\"],[0.5555555555555556,\"#d8576b\"],[0.6666666666666666,\"#ed7953\"],[0.7777777777777778,\"#fb9f3a\"],[0.8888888888888888,\"#fdca26\"],[1.0,\"#f0f921\"]],\"type\":\"contour\"}],\"heatmapgl\":[{\"colorbar\":{\"outlinewidth\":0,\"ticks\":\"\"},\"colorscale\":[[0.0,\"#0d0887\"],[0.1111111111111111,\"#46039f\"],[0.2222222222222222,\"#7201a8\"],[0.3333333333333333,\"#9c179e\"],[0.4444444444444444,\"#bd3786\"],[0.5555555555555556,\"#d8576b\"],[0.6666666666666666,\"#ed7953\"],[0.7777777777777778,\"#fb9f3a\"],[0.8888888888888888,\"#fdca26\"],[1.0,\"#f0f921\"]],\"type\":\"heatmapgl\"}],\"heatmap\":[{\"colorbar\":{\"outlinewidth\":0,\"ticks\":\"\"},\"colorscale\":[[0.0,\"#0d0887\"],[0.1111111111111111,\"#46039f\"],[0.2222222222222222,\"#7201a8\"],[0.3333333333333333,\"#9c179e\"],[0.4444444444444444,\"#bd3786\"],[0.5555555555555556,\"#d8576b\"],[0.6666666666666666,\"#ed7953\"],[0.7777777777777778,\"#fb9f3a\"],[0.8888888888888888,\"#fdca26\"],[1.0,\"#f0f921\"]],\"type\":\"heatmap\"}],\"histogram2dcontour\":[{\"colorbar\":{\"outlinewidth\":0,\"ticks\":\"\"},\"colorscale\":[[0.0,\"#0d0887\"],[0.1111111111111111,\"#46039f\"],[0.2222222222222222,\"#7201a8\"],[0.3333333333333333,\"#9c179e\"],[0.4444444444444444,\"#bd3786\"],[0.5555555555555556,\"#d8576b\"],[0.6666666666666666,\"#ed7953\"],[0.7777777777777778,\"#fb9f3a\"],[0.8888888888888888,\"#fdca26\"],[1.0,\"#f0f921\"]],\"type\":\"histogram2dcontour\"}],\"histogram2d\":[{\"colorbar\":{\"outlinewidth\":0,\"ticks\":\"\"},\"colorscale\":[[0.0,\"#0d0887\"],[0.1111111111111111,\"#46039f\"],[0.2222222222222222,\"#7201a8\"],[0.3333333333333333,\"#9c179e\"],[0.4444444444444444,\"#bd3786\"],[0.5555555555555556,\"#d8576b\"],[0.6666666666666666,\"#ed7953\"],[0.7777777777777778,\"#fb9f3a\"],[0.8888888888888888,\"#fdca26\"],[1.0,\"#f0f921\"]],\"type\":\"histogram2d\"}],\"histogram\":[{\"marker\":{\"pattern\":{\"fillmode\":\"overlay\",\"size\":10,\"solidity\":0.2}},\"type\":\"histogram\"}],\"mesh3d\":[{\"colorbar\":{\"outlinewidth\":0,\"ticks\":\"\"},\"type\":\"mesh3d\"}],\"parcoords\":[{\"line\":{\"colorbar\":{\"outlinewidth\":0,\"ticks\":\"\"}},\"type\":\"parcoords\"}],\"pie\":[{\"automargin\":true,\"type\":\"pie\"}],\"scatter3d\":[{\"line\":{\"colorbar\":{\"outlinewidth\":0,\"ticks\":\"\"}},\"marker\":{\"colorbar\":{\"outlinewidth\":0,\"ticks\":\"\"}},\"type\":\"scatter3d\"}],\"scattercarpet\":[{\"marker\":{\"colorbar\":{\"outlinewidth\":0,\"ticks\":\"\"}},\"type\":\"scattercarpet\"}],\"scattergeo\":[{\"marker\":{\"colorbar\":{\"outlinewidth\":0,\"ticks\":\"\"}},\"type\":\"scattergeo\"}],\"scattergl\":[{\"marker\":{\"colorbar\":{\"outlinewidth\":0,\"ticks\":\"\"}},\"type\":\"scattergl\"}],\"scattermapbox\":[{\"marker\":{\"colorbar\":{\"outlinewidth\":0,\"ticks\":\"\"}},\"type\":\"scattermapbox\"}],\"scatterpolargl\":[{\"marker\":{\"colorbar\":{\"outlinewidth\":0,\"ticks\":\"\"}},\"type\":\"scatterpolargl\"}],\"scatterpolar\":[{\"marker\":{\"colorbar\":{\"outlinewidth\":0,\"ticks\":\"\"}},\"type\":\"scatterpolar\"}],\"scatter\":[{\"fillpattern\":{\"fillmode\":\"overlay\",\"size\":10,\"solidity\":0.2},\"type\":\"scatter\"}],\"scatterternary\":[{\"marker\":{\"colorbar\":{\"outlinewidth\":0,\"ticks\":\"\"}},\"type\":\"scatterternary\"}],\"surface\":[{\"colorbar\":{\"outlinewidth\":0,\"ticks\":\"\"},\"colorscale\":[[0.0,\"#0d0887\"],[0.1111111111111111,\"#46039f\"],[0.2222222222222222,\"#7201a8\"],[0.3333333333333333,\"#9c179e\"],[0.4444444444444444,\"#bd3786\"],[0.5555555555555556,\"#d8576b\"],[0.6666666666666666,\"#ed7953\"],[0.7777777777777778,\"#fb9f3a\"],[0.8888888888888888,\"#fdca26\"],[1.0,\"#f0f921\"]],\"type\":\"surface\"}],\"table\":[{\"cells\":{\"fill\":{\"color\":\"#EBF0F8\"},\"line\":{\"color\":\"white\"}},\"header\":{\"fill\":{\"color\":\"#C8D4E3\"},\"line\":{\"color\":\"white\"}},\"type\":\"table\"}]},\"layout\":{\"annotationdefaults\":{\"arrowcolor\":\"#2a3f5f\",\"arrowhead\":0,\"arrowwidth\":1},\"autotypenumbers\":\"strict\",\"coloraxis\":{\"colorbar\":{\"outlinewidth\":0,\"ticks\":\"\"}},\"colorscale\":{\"diverging\":[[0,\"#8e0152\"],[0.1,\"#c51b7d\"],[0.2,\"#de77ae\"],[0.3,\"#f1b6da\"],[0.4,\"#fde0ef\"],[0.5,\"#f7f7f7\"],[0.6,\"#e6f5d0\"],[0.7,\"#b8e186\"],[0.8,\"#7fbc41\"],[0.9,\"#4d9221\"],[1,\"#276419\"]],\"sequential\":[[0.0,\"#0d0887\"],[0.1111111111111111,\"#46039f\"],[0.2222222222222222,\"#7201a8\"],[0.3333333333333333,\"#9c179e\"],[0.4444444444444444,\"#bd3786\"],[0.5555555555555556,\"#d8576b\"],[0.6666666666666666,\"#ed7953\"],[0.7777777777777778,\"#fb9f3a\"],[0.8888888888888888,\"#fdca26\"],[1.0,\"#f0f921\"]],\"sequentialminus\":[[0.0,\"#0d0887\"],[0.1111111111111111,\"#46039f\"],[0.2222222222222222,\"#7201a8\"],[0.3333333333333333,\"#9c179e\"],[0.4444444444444444,\"#bd3786\"],[0.5555555555555556,\"#d8576b\"],[0.6666666666666666,\"#ed7953\"],[0.7777777777777778,\"#fb9f3a\"],[0.8888888888888888,\"#fdca26\"],[1.0,\"#f0f921\"]]},\"colorway\":[\"#636efa\",\"#EF553B\",\"#00cc96\",\"#ab63fa\",\"#FFA15A\",\"#19d3f3\",\"#FF6692\",\"#B6E880\",\"#FF97FF\",\"#FECB52\"],\"font\":{\"color\":\"#2a3f5f\"},\"geo\":{\"bgcolor\":\"white\",\"lakecolor\":\"white\",\"landcolor\":\"#E5ECF6\",\"showlakes\":true,\"showland\":true,\"subunitcolor\":\"white\"},\"hoverlabel\":{\"align\":\"left\"},\"hovermode\":\"closest\",\"mapbox\":{\"style\":\"light\"},\"paper_bgcolor\":\"white\",\"plot_bgcolor\":\"#E5ECF6\",\"polar\":{\"angularaxis\":{\"gridcolor\":\"white\",\"linecolor\":\"white\",\"ticks\":\"\"},\"bgcolor\":\"#E5ECF6\",\"radialaxis\":{\"gridcolor\":\"white\",\"linecolor\":\"white\",\"ticks\":\"\"}},\"scene\":{\"xaxis\":{\"backgroundcolor\":\"#E5ECF6\",\"gridcolor\":\"white\",\"gridwidth\":2,\"linecolor\":\"white\",\"showbackground\":true,\"ticks\":\"\",\"zerolinecolor\":\"white\"},\"yaxis\":{\"backgroundcolor\":\"#E5ECF6\",\"gridcolor\":\"white\",\"gridwidth\":2,\"linecolor\":\"white\",\"showbackground\":true,\"ticks\":\"\",\"zerolinecolor\":\"white\"},\"zaxis\":{\"backgroundcolor\":\"#E5ECF6\",\"gridcolor\":\"white\",\"gridwidth\":2,\"linecolor\":\"white\",\"showbackground\":true,\"ticks\":\"\",\"zerolinecolor\":\"white\"}},\"shapedefaults\":{\"line\":{\"color\":\"#2a3f5f\"}},\"ternary\":{\"aaxis\":{\"gridcolor\":\"white\",\"linecolor\":\"white\",\"ticks\":\"\"},\"baxis\":{\"gridcolor\":\"white\",\"linecolor\":\"white\",\"ticks\":\"\"},\"bgcolor\":\"#E5ECF6\",\"caxis\":{\"gridcolor\":\"white\",\"linecolor\":\"white\",\"ticks\":\"\"}},\"title\":{\"x\":0.05},\"xaxis\":{\"automargin\":true,\"gridcolor\":\"white\",\"linecolor\":\"white\",\"ticks\":\"\",\"title\":{\"standoff\":15},\"zerolinecolor\":\"white\",\"zerolinewidth\":2},\"yaxis\":{\"automargin\":true,\"gridcolor\":\"white\",\"linecolor\":\"white\",\"ticks\":\"\",\"title\":{\"standoff\":15},\"zerolinecolor\":\"white\",\"zerolinewidth\":2}}},\"title\":{\"font\":{\"color\":\"#4D5663\"}},\"xaxis\":{\"gridcolor\":\"#E1E5ED\",\"showgrid\":true,\"tickfont\":{\"color\":\"#4D5663\"},\"title\":{\"font\":{\"color\":\"#4D5663\"},\"text\":\"\"},\"zerolinecolor\":\"#E1E5ED\"},\"yaxis\":{\"gridcolor\":\"#E1E5ED\",\"showgrid\":true,\"tickfont\":{\"color\":\"#4D5663\"},\"title\":{\"font\":{\"color\":\"#4D5663\"},\"text\":\"\"},\"zerolinecolor\":\"#E1E5ED\"}},                        {\"showLink\": true, \"linkText\": \"Export to plot.ly\", \"plotlyServerURL\": \"https://plot.ly\", \"responsive\": true}                    ).then(function(){\n",
       "                            \n",
       "var gd = document.getElementById('7eaf81c9-e2d9-4a8b-a3f2-863baaa76ca0');\n",
       "var x = new MutationObserver(function (mutations, observer) {{\n",
       "        var display = window.getComputedStyle(gd).display;\n",
       "        if (!display || display === 'none') {{\n",
       "            console.log([gd, 'removed!']);\n",
       "            Plotly.purge(gd);\n",
       "            observer.disconnect();\n",
       "        }}\n",
       "}});\n",
       "\n",
       "// Listen for the removal of the full notebook cells\n",
       "var notebookContainer = gd.closest('#notebook-container');\n",
       "if (notebookContainer) {{\n",
       "    x.observe(notebookContainer, {childList: true});\n",
       "}}\n",
       "\n",
       "// Listen for the clearing of the current output cell\n",
       "var outputEl = gd.closest('.output');\n",
       "if (outputEl) {{\n",
       "    x.observe(outputEl, {childList: true});\n",
       "}}\n",
       "\n",
       "                        })                };                });            </script>        </div>"
      ]
     },
     "metadata": {},
     "output_type": "display_data"
    }
   ],
   "source": [
    "df.iplot(kind='box')"
   ]
  },
  {
   "cell_type": "markdown",
   "metadata": {},
   "source": [
    "## 3d Surface"
   ]
  },
  {
   "cell_type": "code",
   "execution_count": 15,
   "metadata": {
    "scrolled": false
   },
   "outputs": [
    {
     "data": {
      "application/vnd.plotly.v1+json": {
       "config": {
        "linkText": "Export to plot.ly",
        "plotlyServerURL": "https://plot.ly",
        "showLink": true
       },
       "data": [
        {
         "colorscale": [
          [
           0,
           "rgb(165,0,38)"
          ],
          [
           0.1,
           "rgb(215,48,39)"
          ],
          [
           0.2,
           "rgb(244,109,67)"
          ],
          [
           0.3,
           "rgb(253,174,97)"
          ],
          [
           0.4,
           "rgb(254,224,144)"
          ],
          [
           0.5,
           "rgb(255,255,191)"
          ],
          [
           0.6,
           "rgb(224,243,248)"
          ],
          [
           0.7,
           "rgb(171,217,233)"
          ],
          [
           0.8,
           "rgb(116,173,209)"
          ],
          [
           0.9,
           "rgb(69,117,180)"
          ],
          [
           1,
           "rgb(49,54,149)"
          ]
         ],
         "type": "surface",
         "x": [
          0,
          1,
          2,
          3,
          4
         ],
         "y": [
          "x",
          "y",
          "z"
         ],
         "z": [
          [
           1,
           2,
           3,
           4,
           5
          ],
          [
           10,
           20,
           30,
           20,
           10
          ],
          [
           5,
           4,
           3,
           2,
           1
          ]
         ]
        }
       ],
       "layout": {
        "legend": {
         "bgcolor": "#F5F6F9",
         "font": {
          "color": "#4D5663"
         }
        },
        "paper_bgcolor": "#F5F6F9",
        "plot_bgcolor": "#F5F6F9",
        "template": {
         "data": {
          "bar": [
           {
            "error_x": {
             "color": "#2a3f5f"
            },
            "error_y": {
             "color": "#2a3f5f"
            },
            "marker": {
             "line": {
              "color": "#E5ECF6",
              "width": 0.5
             },
             "pattern": {
              "fillmode": "overlay",
              "size": 10,
              "solidity": 0.2
             }
            },
            "type": "bar"
           }
          ],
          "barpolar": [
           {
            "marker": {
             "line": {
              "color": "#E5ECF6",
              "width": 0.5
             },
             "pattern": {
              "fillmode": "overlay",
              "size": 10,
              "solidity": 0.2
             }
            },
            "type": "barpolar"
           }
          ],
          "carpet": [
           {
            "aaxis": {
             "endlinecolor": "#2a3f5f",
             "gridcolor": "white",
             "linecolor": "white",
             "minorgridcolor": "white",
             "startlinecolor": "#2a3f5f"
            },
            "baxis": {
             "endlinecolor": "#2a3f5f",
             "gridcolor": "white",
             "linecolor": "white",
             "minorgridcolor": "white",
             "startlinecolor": "#2a3f5f"
            },
            "type": "carpet"
           }
          ],
          "choropleth": [
           {
            "colorbar": {
             "outlinewidth": 0,
             "ticks": ""
            },
            "type": "choropleth"
           }
          ],
          "contour": [
           {
            "colorbar": {
             "outlinewidth": 0,
             "ticks": ""
            },
            "colorscale": [
             [
              0,
              "#0d0887"
             ],
             [
              0.1111111111111111,
              "#46039f"
             ],
             [
              0.2222222222222222,
              "#7201a8"
             ],
             [
              0.3333333333333333,
              "#9c179e"
             ],
             [
              0.4444444444444444,
              "#bd3786"
             ],
             [
              0.5555555555555556,
              "#d8576b"
             ],
             [
              0.6666666666666666,
              "#ed7953"
             ],
             [
              0.7777777777777778,
              "#fb9f3a"
             ],
             [
              0.8888888888888888,
              "#fdca26"
             ],
             [
              1,
              "#f0f921"
             ]
            ],
            "type": "contour"
           }
          ],
          "contourcarpet": [
           {
            "colorbar": {
             "outlinewidth": 0,
             "ticks": ""
            },
            "type": "contourcarpet"
           }
          ],
          "heatmap": [
           {
            "colorbar": {
             "outlinewidth": 0,
             "ticks": ""
            },
            "colorscale": [
             [
              0,
              "#0d0887"
             ],
             [
              0.1111111111111111,
              "#46039f"
             ],
             [
              0.2222222222222222,
              "#7201a8"
             ],
             [
              0.3333333333333333,
              "#9c179e"
             ],
             [
              0.4444444444444444,
              "#bd3786"
             ],
             [
              0.5555555555555556,
              "#d8576b"
             ],
             [
              0.6666666666666666,
              "#ed7953"
             ],
             [
              0.7777777777777778,
              "#fb9f3a"
             ],
             [
              0.8888888888888888,
              "#fdca26"
             ],
             [
              1,
              "#f0f921"
             ]
            ],
            "type": "heatmap"
           }
          ],
          "heatmapgl": [
           {
            "colorbar": {
             "outlinewidth": 0,
             "ticks": ""
            },
            "colorscale": [
             [
              0,
              "#0d0887"
             ],
             [
              0.1111111111111111,
              "#46039f"
             ],
             [
              0.2222222222222222,
              "#7201a8"
             ],
             [
              0.3333333333333333,
              "#9c179e"
             ],
             [
              0.4444444444444444,
              "#bd3786"
             ],
             [
              0.5555555555555556,
              "#d8576b"
             ],
             [
              0.6666666666666666,
              "#ed7953"
             ],
             [
              0.7777777777777778,
              "#fb9f3a"
             ],
             [
              0.8888888888888888,
              "#fdca26"
             ],
             [
              1,
              "#f0f921"
             ]
            ],
            "type": "heatmapgl"
           }
          ],
          "histogram": [
           {
            "marker": {
             "pattern": {
              "fillmode": "overlay",
              "size": 10,
              "solidity": 0.2
             }
            },
            "type": "histogram"
           }
          ],
          "histogram2d": [
           {
            "colorbar": {
             "outlinewidth": 0,
             "ticks": ""
            },
            "colorscale": [
             [
              0,
              "#0d0887"
             ],
             [
              0.1111111111111111,
              "#46039f"
             ],
             [
              0.2222222222222222,
              "#7201a8"
             ],
             [
              0.3333333333333333,
              "#9c179e"
             ],
             [
              0.4444444444444444,
              "#bd3786"
             ],
             [
              0.5555555555555556,
              "#d8576b"
             ],
             [
              0.6666666666666666,
              "#ed7953"
             ],
             [
              0.7777777777777778,
              "#fb9f3a"
             ],
             [
              0.8888888888888888,
              "#fdca26"
             ],
             [
              1,
              "#f0f921"
             ]
            ],
            "type": "histogram2d"
           }
          ],
          "histogram2dcontour": [
           {
            "colorbar": {
             "outlinewidth": 0,
             "ticks": ""
            },
            "colorscale": [
             [
              0,
              "#0d0887"
             ],
             [
              0.1111111111111111,
              "#46039f"
             ],
             [
              0.2222222222222222,
              "#7201a8"
             ],
             [
              0.3333333333333333,
              "#9c179e"
             ],
             [
              0.4444444444444444,
              "#bd3786"
             ],
             [
              0.5555555555555556,
              "#d8576b"
             ],
             [
              0.6666666666666666,
              "#ed7953"
             ],
             [
              0.7777777777777778,
              "#fb9f3a"
             ],
             [
              0.8888888888888888,
              "#fdca26"
             ],
             [
              1,
              "#f0f921"
             ]
            ],
            "type": "histogram2dcontour"
           }
          ],
          "mesh3d": [
           {
            "colorbar": {
             "outlinewidth": 0,
             "ticks": ""
            },
            "type": "mesh3d"
           }
          ],
          "parcoords": [
           {
            "line": {
             "colorbar": {
              "outlinewidth": 0,
              "ticks": ""
             }
            },
            "type": "parcoords"
           }
          ],
          "pie": [
           {
            "automargin": true,
            "type": "pie"
           }
          ],
          "scatter": [
           {
            "fillpattern": {
             "fillmode": "overlay",
             "size": 10,
             "solidity": 0.2
            },
            "type": "scatter"
           }
          ],
          "scatter3d": [
           {
            "line": {
             "colorbar": {
              "outlinewidth": 0,
              "ticks": ""
             }
            },
            "marker": {
             "colorbar": {
              "outlinewidth": 0,
              "ticks": ""
             }
            },
            "type": "scatter3d"
           }
          ],
          "scattercarpet": [
           {
            "marker": {
             "colorbar": {
              "outlinewidth": 0,
              "ticks": ""
             }
            },
            "type": "scattercarpet"
           }
          ],
          "scattergeo": [
           {
            "marker": {
             "colorbar": {
              "outlinewidth": 0,
              "ticks": ""
             }
            },
            "type": "scattergeo"
           }
          ],
          "scattergl": [
           {
            "marker": {
             "colorbar": {
              "outlinewidth": 0,
              "ticks": ""
             }
            },
            "type": "scattergl"
           }
          ],
          "scattermapbox": [
           {
            "marker": {
             "colorbar": {
              "outlinewidth": 0,
              "ticks": ""
             }
            },
            "type": "scattermapbox"
           }
          ],
          "scatterpolar": [
           {
            "marker": {
             "colorbar": {
              "outlinewidth": 0,
              "ticks": ""
             }
            },
            "type": "scatterpolar"
           }
          ],
          "scatterpolargl": [
           {
            "marker": {
             "colorbar": {
              "outlinewidth": 0,
              "ticks": ""
             }
            },
            "type": "scatterpolargl"
           }
          ],
          "scatterternary": [
           {
            "marker": {
             "colorbar": {
              "outlinewidth": 0,
              "ticks": ""
             }
            },
            "type": "scatterternary"
           }
          ],
          "surface": [
           {
            "colorbar": {
             "outlinewidth": 0,
             "ticks": ""
            },
            "colorscale": [
             [
              0,
              "#0d0887"
             ],
             [
              0.1111111111111111,
              "#46039f"
             ],
             [
              0.2222222222222222,
              "#7201a8"
             ],
             [
              0.3333333333333333,
              "#9c179e"
             ],
             [
              0.4444444444444444,
              "#bd3786"
             ],
             [
              0.5555555555555556,
              "#d8576b"
             ],
             [
              0.6666666666666666,
              "#ed7953"
             ],
             [
              0.7777777777777778,
              "#fb9f3a"
             ],
             [
              0.8888888888888888,
              "#fdca26"
             ],
             [
              1,
              "#f0f921"
             ]
            ],
            "type": "surface"
           }
          ],
          "table": [
           {
            "cells": {
             "fill": {
              "color": "#EBF0F8"
             },
             "line": {
              "color": "white"
             }
            },
            "header": {
             "fill": {
              "color": "#C8D4E3"
             },
             "line": {
              "color": "white"
             }
            },
            "type": "table"
           }
          ]
         },
         "layout": {
          "annotationdefaults": {
           "arrowcolor": "#2a3f5f",
           "arrowhead": 0,
           "arrowwidth": 1
          },
          "autotypenumbers": "strict",
          "coloraxis": {
           "colorbar": {
            "outlinewidth": 0,
            "ticks": ""
           }
          },
          "colorscale": {
           "diverging": [
            [
             0,
             "#8e0152"
            ],
            [
             0.1,
             "#c51b7d"
            ],
            [
             0.2,
             "#de77ae"
            ],
            [
             0.3,
             "#f1b6da"
            ],
            [
             0.4,
             "#fde0ef"
            ],
            [
             0.5,
             "#f7f7f7"
            ],
            [
             0.6,
             "#e6f5d0"
            ],
            [
             0.7,
             "#b8e186"
            ],
            [
             0.8,
             "#7fbc41"
            ],
            [
             0.9,
             "#4d9221"
            ],
            [
             1,
             "#276419"
            ]
           ],
           "sequential": [
            [
             0,
             "#0d0887"
            ],
            [
             0.1111111111111111,
             "#46039f"
            ],
            [
             0.2222222222222222,
             "#7201a8"
            ],
            [
             0.3333333333333333,
             "#9c179e"
            ],
            [
             0.4444444444444444,
             "#bd3786"
            ],
            [
             0.5555555555555556,
             "#d8576b"
            ],
            [
             0.6666666666666666,
             "#ed7953"
            ],
            [
             0.7777777777777778,
             "#fb9f3a"
            ],
            [
             0.8888888888888888,
             "#fdca26"
            ],
            [
             1,
             "#f0f921"
            ]
           ],
           "sequentialminus": [
            [
             0,
             "#0d0887"
            ],
            [
             0.1111111111111111,
             "#46039f"
            ],
            [
             0.2222222222222222,
             "#7201a8"
            ],
            [
             0.3333333333333333,
             "#9c179e"
            ],
            [
             0.4444444444444444,
             "#bd3786"
            ],
            [
             0.5555555555555556,
             "#d8576b"
            ],
            [
             0.6666666666666666,
             "#ed7953"
            ],
            [
             0.7777777777777778,
             "#fb9f3a"
            ],
            [
             0.8888888888888888,
             "#fdca26"
            ],
            [
             1,
             "#f0f921"
            ]
           ]
          },
          "colorway": [
           "#636efa",
           "#EF553B",
           "#00cc96",
           "#ab63fa",
           "#FFA15A",
           "#19d3f3",
           "#FF6692",
           "#B6E880",
           "#FF97FF",
           "#FECB52"
          ],
          "font": {
           "color": "#2a3f5f"
          },
          "geo": {
           "bgcolor": "white",
           "lakecolor": "white",
           "landcolor": "#E5ECF6",
           "showlakes": true,
           "showland": true,
           "subunitcolor": "white"
          },
          "hoverlabel": {
           "align": "left"
          },
          "hovermode": "closest",
          "mapbox": {
           "style": "light"
          },
          "paper_bgcolor": "white",
          "plot_bgcolor": "#E5ECF6",
          "polar": {
           "angularaxis": {
            "gridcolor": "white",
            "linecolor": "white",
            "ticks": ""
           },
           "bgcolor": "#E5ECF6",
           "radialaxis": {
            "gridcolor": "white",
            "linecolor": "white",
            "ticks": ""
           }
          },
          "scene": {
           "xaxis": {
            "backgroundcolor": "#E5ECF6",
            "gridcolor": "white",
            "gridwidth": 2,
            "linecolor": "white",
            "showbackground": true,
            "ticks": "",
            "zerolinecolor": "white"
           },
           "yaxis": {
            "backgroundcolor": "#E5ECF6",
            "gridcolor": "white",
            "gridwidth": 2,
            "linecolor": "white",
            "showbackground": true,
            "ticks": "",
            "zerolinecolor": "white"
           },
           "zaxis": {
            "backgroundcolor": "#E5ECF6",
            "gridcolor": "white",
            "gridwidth": 2,
            "linecolor": "white",
            "showbackground": true,
            "ticks": "",
            "zerolinecolor": "white"
           }
          },
          "shapedefaults": {
           "line": {
            "color": "#2a3f5f"
           }
          },
          "ternary": {
           "aaxis": {
            "gridcolor": "white",
            "linecolor": "white",
            "ticks": ""
           },
           "baxis": {
            "gridcolor": "white",
            "linecolor": "white",
            "ticks": ""
           },
           "bgcolor": "#E5ECF6",
           "caxis": {
            "gridcolor": "white",
            "linecolor": "white",
            "ticks": ""
           }
          },
          "title": {
           "x": 0.05
          },
          "xaxis": {
           "automargin": true,
           "gridcolor": "white",
           "linecolor": "white",
           "ticks": "",
           "title": {
            "standoff": 15
           },
           "zerolinecolor": "white",
           "zerolinewidth": 2
          },
          "yaxis": {
           "automargin": true,
           "gridcolor": "white",
           "linecolor": "white",
           "ticks": "",
           "title": {
            "standoff": 15
           },
           "zerolinecolor": "white",
           "zerolinewidth": 2
          }
         }
        },
        "title": {
         "font": {
          "color": "#4D5663"
         }
        },
        "xaxis": {
         "gridcolor": "#E1E5ED",
         "showgrid": true,
         "tickfont": {
          "color": "#4D5663"
         },
         "title": {
          "font": {
           "color": "#4D5663"
          },
          "text": ""
         },
         "zerolinecolor": "#E1E5ED"
        },
        "yaxis": {
         "gridcolor": "#E1E5ED",
         "showgrid": true,
         "tickfont": {
          "color": "#4D5663"
         },
         "title": {
          "font": {
           "color": "#4D5663"
          },
          "text": ""
         },
         "zerolinecolor": "#E1E5ED"
        }
       }
      },
      "text/html": [
       "<div>                            <div id=\"5ebffa68-47ea-4296-8feb-105918e2521e\" class=\"plotly-graph-div\" style=\"height:525px; width:100%;\"></div>            <script type=\"text/javascript\">                require([\"plotly\"], function(Plotly) {                    window.PLOTLYENV=window.PLOTLYENV || {};\n",
       "                    window.PLOTLYENV.BASE_URL='https://plot.ly';                                    if (document.getElementById(\"5ebffa68-47ea-4296-8feb-105918e2521e\")) {                    Plotly.newPlot(                        \"5ebffa68-47ea-4296-8feb-105918e2521e\",                        [{\"colorscale\":[[0.0,\"rgb(165,0,38)\"],[0.1,\"rgb(215,48,39)\"],[0.2,\"rgb(244,109,67)\"],[0.3,\"rgb(253,174,97)\"],[0.4,\"rgb(254,224,144)\"],[0.5,\"rgb(255,255,191)\"],[0.6,\"rgb(224,243,248)\"],[0.7,\"rgb(171,217,233)\"],[0.8,\"rgb(116,173,209)\"],[0.9,\"rgb(69,117,180)\"],[1.0,\"rgb(49,54,149)\"]],\"x\":[0,1,2,3,4],\"y\":[\"x\",\"y\",\"z\"],\"z\":[[1,2,3,4,5],[10,20,30,20,10],[5,4,3,2,1]],\"type\":\"surface\"}],                        {\"legend\":{\"bgcolor\":\"#F5F6F9\",\"font\":{\"color\":\"#4D5663\"}},\"paper_bgcolor\":\"#F5F6F9\",\"plot_bgcolor\":\"#F5F6F9\",\"template\":{\"data\":{\"barpolar\":[{\"marker\":{\"line\":{\"color\":\"#E5ECF6\",\"width\":0.5},\"pattern\":{\"fillmode\":\"overlay\",\"size\":10,\"solidity\":0.2}},\"type\":\"barpolar\"}],\"bar\":[{\"error_x\":{\"color\":\"#2a3f5f\"},\"error_y\":{\"color\":\"#2a3f5f\"},\"marker\":{\"line\":{\"color\":\"#E5ECF6\",\"width\":0.5},\"pattern\":{\"fillmode\":\"overlay\",\"size\":10,\"solidity\":0.2}},\"type\":\"bar\"}],\"carpet\":[{\"aaxis\":{\"endlinecolor\":\"#2a3f5f\",\"gridcolor\":\"white\",\"linecolor\":\"white\",\"minorgridcolor\":\"white\",\"startlinecolor\":\"#2a3f5f\"},\"baxis\":{\"endlinecolor\":\"#2a3f5f\",\"gridcolor\":\"white\",\"linecolor\":\"white\",\"minorgridcolor\":\"white\",\"startlinecolor\":\"#2a3f5f\"},\"type\":\"carpet\"}],\"choropleth\":[{\"colorbar\":{\"outlinewidth\":0,\"ticks\":\"\"},\"type\":\"choropleth\"}],\"contourcarpet\":[{\"colorbar\":{\"outlinewidth\":0,\"ticks\":\"\"},\"type\":\"contourcarpet\"}],\"contour\":[{\"colorbar\":{\"outlinewidth\":0,\"ticks\":\"\"},\"colorscale\":[[0.0,\"#0d0887\"],[0.1111111111111111,\"#46039f\"],[0.2222222222222222,\"#7201a8\"],[0.3333333333333333,\"#9c179e\"],[0.4444444444444444,\"#bd3786\"],[0.5555555555555556,\"#d8576b\"],[0.6666666666666666,\"#ed7953\"],[0.7777777777777778,\"#fb9f3a\"],[0.8888888888888888,\"#fdca26\"],[1.0,\"#f0f921\"]],\"type\":\"contour\"}],\"heatmapgl\":[{\"colorbar\":{\"outlinewidth\":0,\"ticks\":\"\"},\"colorscale\":[[0.0,\"#0d0887\"],[0.1111111111111111,\"#46039f\"],[0.2222222222222222,\"#7201a8\"],[0.3333333333333333,\"#9c179e\"],[0.4444444444444444,\"#bd3786\"],[0.5555555555555556,\"#d8576b\"],[0.6666666666666666,\"#ed7953\"],[0.7777777777777778,\"#fb9f3a\"],[0.8888888888888888,\"#fdca26\"],[1.0,\"#f0f921\"]],\"type\":\"heatmapgl\"}],\"heatmap\":[{\"colorbar\":{\"outlinewidth\":0,\"ticks\":\"\"},\"colorscale\":[[0.0,\"#0d0887\"],[0.1111111111111111,\"#46039f\"],[0.2222222222222222,\"#7201a8\"],[0.3333333333333333,\"#9c179e\"],[0.4444444444444444,\"#bd3786\"],[0.5555555555555556,\"#d8576b\"],[0.6666666666666666,\"#ed7953\"],[0.7777777777777778,\"#fb9f3a\"],[0.8888888888888888,\"#fdca26\"],[1.0,\"#f0f921\"]],\"type\":\"heatmap\"}],\"histogram2dcontour\":[{\"colorbar\":{\"outlinewidth\":0,\"ticks\":\"\"},\"colorscale\":[[0.0,\"#0d0887\"],[0.1111111111111111,\"#46039f\"],[0.2222222222222222,\"#7201a8\"],[0.3333333333333333,\"#9c179e\"],[0.4444444444444444,\"#bd3786\"],[0.5555555555555556,\"#d8576b\"],[0.6666666666666666,\"#ed7953\"],[0.7777777777777778,\"#fb9f3a\"],[0.8888888888888888,\"#fdca26\"],[1.0,\"#f0f921\"]],\"type\":\"histogram2dcontour\"}],\"histogram2d\":[{\"colorbar\":{\"outlinewidth\":0,\"ticks\":\"\"},\"colorscale\":[[0.0,\"#0d0887\"],[0.1111111111111111,\"#46039f\"],[0.2222222222222222,\"#7201a8\"],[0.3333333333333333,\"#9c179e\"],[0.4444444444444444,\"#bd3786\"],[0.5555555555555556,\"#d8576b\"],[0.6666666666666666,\"#ed7953\"],[0.7777777777777778,\"#fb9f3a\"],[0.8888888888888888,\"#fdca26\"],[1.0,\"#f0f921\"]],\"type\":\"histogram2d\"}],\"histogram\":[{\"marker\":{\"pattern\":{\"fillmode\":\"overlay\",\"size\":10,\"solidity\":0.2}},\"type\":\"histogram\"}],\"mesh3d\":[{\"colorbar\":{\"outlinewidth\":0,\"ticks\":\"\"},\"type\":\"mesh3d\"}],\"parcoords\":[{\"line\":{\"colorbar\":{\"outlinewidth\":0,\"ticks\":\"\"}},\"type\":\"parcoords\"}],\"pie\":[{\"automargin\":true,\"type\":\"pie\"}],\"scatter3d\":[{\"line\":{\"colorbar\":{\"outlinewidth\":0,\"ticks\":\"\"}},\"marker\":{\"colorbar\":{\"outlinewidth\":0,\"ticks\":\"\"}},\"type\":\"scatter3d\"}],\"scattercarpet\":[{\"marker\":{\"colorbar\":{\"outlinewidth\":0,\"ticks\":\"\"}},\"type\":\"scattercarpet\"}],\"scattergeo\":[{\"marker\":{\"colorbar\":{\"outlinewidth\":0,\"ticks\":\"\"}},\"type\":\"scattergeo\"}],\"scattergl\":[{\"marker\":{\"colorbar\":{\"outlinewidth\":0,\"ticks\":\"\"}},\"type\":\"scattergl\"}],\"scattermapbox\":[{\"marker\":{\"colorbar\":{\"outlinewidth\":0,\"ticks\":\"\"}},\"type\":\"scattermapbox\"}],\"scatterpolargl\":[{\"marker\":{\"colorbar\":{\"outlinewidth\":0,\"ticks\":\"\"}},\"type\":\"scatterpolargl\"}],\"scatterpolar\":[{\"marker\":{\"colorbar\":{\"outlinewidth\":0,\"ticks\":\"\"}},\"type\":\"scatterpolar\"}],\"scatter\":[{\"fillpattern\":{\"fillmode\":\"overlay\",\"size\":10,\"solidity\":0.2},\"type\":\"scatter\"}],\"scatterternary\":[{\"marker\":{\"colorbar\":{\"outlinewidth\":0,\"ticks\":\"\"}},\"type\":\"scatterternary\"}],\"surface\":[{\"colorbar\":{\"outlinewidth\":0,\"ticks\":\"\"},\"colorscale\":[[0.0,\"#0d0887\"],[0.1111111111111111,\"#46039f\"],[0.2222222222222222,\"#7201a8\"],[0.3333333333333333,\"#9c179e\"],[0.4444444444444444,\"#bd3786\"],[0.5555555555555556,\"#d8576b\"],[0.6666666666666666,\"#ed7953\"],[0.7777777777777778,\"#fb9f3a\"],[0.8888888888888888,\"#fdca26\"],[1.0,\"#f0f921\"]],\"type\":\"surface\"}],\"table\":[{\"cells\":{\"fill\":{\"color\":\"#EBF0F8\"},\"line\":{\"color\":\"white\"}},\"header\":{\"fill\":{\"color\":\"#C8D4E3\"},\"line\":{\"color\":\"white\"}},\"type\":\"table\"}]},\"layout\":{\"annotationdefaults\":{\"arrowcolor\":\"#2a3f5f\",\"arrowhead\":0,\"arrowwidth\":1},\"autotypenumbers\":\"strict\",\"coloraxis\":{\"colorbar\":{\"outlinewidth\":0,\"ticks\":\"\"}},\"colorscale\":{\"diverging\":[[0,\"#8e0152\"],[0.1,\"#c51b7d\"],[0.2,\"#de77ae\"],[0.3,\"#f1b6da\"],[0.4,\"#fde0ef\"],[0.5,\"#f7f7f7\"],[0.6,\"#e6f5d0\"],[0.7,\"#b8e186\"],[0.8,\"#7fbc41\"],[0.9,\"#4d9221\"],[1,\"#276419\"]],\"sequential\":[[0.0,\"#0d0887\"],[0.1111111111111111,\"#46039f\"],[0.2222222222222222,\"#7201a8\"],[0.3333333333333333,\"#9c179e\"],[0.4444444444444444,\"#bd3786\"],[0.5555555555555556,\"#d8576b\"],[0.6666666666666666,\"#ed7953\"],[0.7777777777777778,\"#fb9f3a\"],[0.8888888888888888,\"#fdca26\"],[1.0,\"#f0f921\"]],\"sequentialminus\":[[0.0,\"#0d0887\"],[0.1111111111111111,\"#46039f\"],[0.2222222222222222,\"#7201a8\"],[0.3333333333333333,\"#9c179e\"],[0.4444444444444444,\"#bd3786\"],[0.5555555555555556,\"#d8576b\"],[0.6666666666666666,\"#ed7953\"],[0.7777777777777778,\"#fb9f3a\"],[0.8888888888888888,\"#fdca26\"],[1.0,\"#f0f921\"]]},\"colorway\":[\"#636efa\",\"#EF553B\",\"#00cc96\",\"#ab63fa\",\"#FFA15A\",\"#19d3f3\",\"#FF6692\",\"#B6E880\",\"#FF97FF\",\"#FECB52\"],\"font\":{\"color\":\"#2a3f5f\"},\"geo\":{\"bgcolor\":\"white\",\"lakecolor\":\"white\",\"landcolor\":\"#E5ECF6\",\"showlakes\":true,\"showland\":true,\"subunitcolor\":\"white\"},\"hoverlabel\":{\"align\":\"left\"},\"hovermode\":\"closest\",\"mapbox\":{\"style\":\"light\"},\"paper_bgcolor\":\"white\",\"plot_bgcolor\":\"#E5ECF6\",\"polar\":{\"angularaxis\":{\"gridcolor\":\"white\",\"linecolor\":\"white\",\"ticks\":\"\"},\"bgcolor\":\"#E5ECF6\",\"radialaxis\":{\"gridcolor\":\"white\",\"linecolor\":\"white\",\"ticks\":\"\"}},\"scene\":{\"xaxis\":{\"backgroundcolor\":\"#E5ECF6\",\"gridcolor\":\"white\",\"gridwidth\":2,\"linecolor\":\"white\",\"showbackground\":true,\"ticks\":\"\",\"zerolinecolor\":\"white\"},\"yaxis\":{\"backgroundcolor\":\"#E5ECF6\",\"gridcolor\":\"white\",\"gridwidth\":2,\"linecolor\":\"white\",\"showbackground\":true,\"ticks\":\"\",\"zerolinecolor\":\"white\"},\"zaxis\":{\"backgroundcolor\":\"#E5ECF6\",\"gridcolor\":\"white\",\"gridwidth\":2,\"linecolor\":\"white\",\"showbackground\":true,\"ticks\":\"\",\"zerolinecolor\":\"white\"}},\"shapedefaults\":{\"line\":{\"color\":\"#2a3f5f\"}},\"ternary\":{\"aaxis\":{\"gridcolor\":\"white\",\"linecolor\":\"white\",\"ticks\":\"\"},\"baxis\":{\"gridcolor\":\"white\",\"linecolor\":\"white\",\"ticks\":\"\"},\"bgcolor\":\"#E5ECF6\",\"caxis\":{\"gridcolor\":\"white\",\"linecolor\":\"white\",\"ticks\":\"\"}},\"title\":{\"x\":0.05},\"xaxis\":{\"automargin\":true,\"gridcolor\":\"white\",\"linecolor\":\"white\",\"ticks\":\"\",\"title\":{\"standoff\":15},\"zerolinecolor\":\"white\",\"zerolinewidth\":2},\"yaxis\":{\"automargin\":true,\"gridcolor\":\"white\",\"linecolor\":\"white\",\"ticks\":\"\",\"title\":{\"standoff\":15},\"zerolinecolor\":\"white\",\"zerolinewidth\":2}}},\"title\":{\"font\":{\"color\":\"#4D5663\"}},\"xaxis\":{\"gridcolor\":\"#E1E5ED\",\"showgrid\":true,\"tickfont\":{\"color\":\"#4D5663\"},\"title\":{\"font\":{\"color\":\"#4D5663\"},\"text\":\"\"},\"zerolinecolor\":\"#E1E5ED\"},\"yaxis\":{\"gridcolor\":\"#E1E5ED\",\"showgrid\":true,\"tickfont\":{\"color\":\"#4D5663\"},\"title\":{\"font\":{\"color\":\"#4D5663\"},\"text\":\"\"},\"zerolinecolor\":\"#E1E5ED\"}},                        {\"showLink\": true, \"linkText\": \"Export to plot.ly\", \"plotlyServerURL\": \"https://plot.ly\", \"responsive\": true}                    ).then(function(){\n",
       "                            \n",
       "var gd = document.getElementById('5ebffa68-47ea-4296-8feb-105918e2521e');\n",
       "var x = new MutationObserver(function (mutations, observer) {{\n",
       "        var display = window.getComputedStyle(gd).display;\n",
       "        if (!display || display === 'none') {{\n",
       "            console.log([gd, 'removed!']);\n",
       "            Plotly.purge(gd);\n",
       "            observer.disconnect();\n",
       "        }}\n",
       "}});\n",
       "\n",
       "// Listen for the removal of the full notebook cells\n",
       "var notebookContainer = gd.closest('#notebook-container');\n",
       "if (notebookContainer) {{\n",
       "    x.observe(notebookContainer, {childList: true});\n",
       "}}\n",
       "\n",
       "// Listen for the clearing of the current output cell\n",
       "var outputEl = gd.closest('.output');\n",
       "if (outputEl) {{\n",
       "    x.observe(outputEl, {childList: true});\n",
       "}}\n",
       "\n",
       "                        })                };                });            </script>        </div>"
      ]
     },
     "metadata": {},
     "output_type": "display_data"
    }
   ],
   "source": [
    "df3 = pd.DataFrame({'x':[1,2,3,4,5],'y':[10,20,30,20,10],'z':[5,4,3,2,1]})\n",
    "df3.iplot(kind='surface',colorscale='rdylbu')"
   ]
  },
  {
   "cell_type": "markdown",
   "metadata": {},
   "source": [
    "## Spread"
   ]
  },
  {
   "cell_type": "code",
   "execution_count": 16,
   "metadata": {},
   "outputs": [
    {
     "name": "stderr",
     "output_type": "stream",
     "text": [
      "/opt/homebrew/anaconda3/lib/python3.9/site-packages/cufflinks/plotlytools.py:849: FutureWarning:\n",
      "\n",
      "The pandas.np module is deprecated and will be removed from pandas in a future version. Import numpy directly instead.\n",
      "\n",
      "/opt/homebrew/anaconda3/lib/python3.9/site-packages/cufflinks/plotlytools.py:850: FutureWarning:\n",
      "\n",
      "The pandas.np module is deprecated and will be removed from pandas in a future version. Import numpy directly instead.\n",
      "\n"
     ]
    },
    {
     "data": {
      "application/vnd.plotly.v1+json": {
       "config": {
        "linkText": "Export to plot.ly",
        "plotlyServerURL": "https://plot.ly",
        "showLink": true
       },
       "data": [
        {
         "line": {
          "color": "rgba(255, 153, 51, 1.0)",
          "dash": "solid",
          "shape": "linear",
          "width": 1.3
         },
         "mode": "lines",
         "name": "A",
         "text": "",
         "type": "scatter",
         "x": [
          0,
          1,
          2,
          3,
          4,
          5,
          6,
          7,
          8,
          9,
          10,
          11,
          12,
          13,
          14,
          15,
          16,
          17,
          18,
          19,
          20,
          21,
          22,
          23,
          24,
          25,
          26,
          27,
          28,
          29,
          30,
          31,
          32,
          33,
          34,
          35,
          36,
          37,
          38,
          39,
          40,
          41,
          42,
          43,
          44,
          45,
          46,
          47,
          48,
          49,
          50,
          51,
          52,
          53,
          54,
          55,
          56,
          57,
          58,
          59,
          60,
          61,
          62,
          63,
          64,
          65,
          66,
          67,
          68,
          69,
          70,
          71,
          72,
          73,
          74,
          75,
          76,
          77,
          78,
          79,
          80,
          81,
          82,
          83,
          84,
          85,
          86,
          87,
          88,
          89,
          90,
          91,
          92,
          93,
          94,
          95,
          96,
          97,
          98,
          99
         ],
         "y": [
          -0.7292327978431696,
          -0.974830182761352,
          -0.26209888558511735,
          0.4625878154503189,
          0.6221956315443264,
          -0.6283426059822679,
          -1.1869257562288007,
          0.026352457396184876,
          1.5257379620231581,
          1.5097889271689648,
          -0.6791608437928496,
          -1.0655500653071028,
          0.5783798900691562,
          -0.5355223924045895,
          -0.5736487743916989,
          0.27782568089634363,
          -1.121704067911955,
          1.7455931181530004,
          0.567903648758014,
          -1.3223512063319718,
          -1.0810870370994095,
          0.8233908497553671,
          -0.33778797251284703,
          0.043579450021013946,
          -1.199789413486293,
          0.6924241308206706,
          -0.05501515108109769,
          -0.42943737492493633,
          1.8376407752463495,
          1.5696814508069885,
          0.7577066619428412,
          -0.8892641619069086,
          0.35435919411789346,
          0.5874653985956466,
          1.5418431505640875,
          0.2409054448296417,
          -0.3144984785843778,
          -0.21473436338089816,
          -1.1175123679192964,
          -0.5814531590899158,
          0.5245128721506751,
          -0.31633769485893803,
          -0.6359988668909158,
          -0.23726996098449016,
          -0.3982124198205674,
          -0.43722295290105845,
          -0.8939564181904478,
          1.6442649705379218,
          -0.03847002183551993,
          -2.404032839063728,
          1.378628141649735,
          -0.8312434491896347,
          0.2091557152576446,
          -1.099623054801942,
          2.3740966992587578,
          1.6821413637381235,
          -0.15604278937050337,
          1.606674383529953,
          0.5062402310934592,
          -1.9525630963497957,
          1.3550364682699907,
          1.7905006512907407,
          0.6360203667698248,
          -0.8618964953795111,
          0.16380466263449095,
          1.2803113779287176,
          -0.08320937923702665,
          -1.2482532423300359,
          1.5514630422022548,
          -1.3742530385494103,
          -0.782115657330491,
          1.4139594942160179,
          -1.196156501437301,
          0.1556477823532999,
          1.2192212179884288,
          -0.1790850020822392,
          -0.27884292842249364,
          1.5872912174311693,
          -2.2252991158069855,
          -1.0157107731910955,
          -0.17319966364655262,
          -0.003305183104299413,
          0.39134630972054646,
          -0.6299971666679965,
          -0.5599556417703775,
          1.7052530534060306,
          -1.0286663990820606,
          -0.8343300341499792,
          0.26836643957742273,
          -1.6435992402350532,
          0.185083912167794,
          0.13867387300098313,
          0.20557733968652833,
          0.8091575611898224,
          0.34215282304169004,
          1.7590302670488172,
          -0.06473440148486866,
          0.8467053994637058,
          -0.4096522335741291,
          -0.7188798737998551
         ]
        },
        {
         "line": {
          "color": "rgba(55, 128, 191, 1.0)",
          "dash": "solid",
          "shape": "linear",
          "width": 1.3
         },
         "mode": "lines",
         "name": "B",
         "text": "",
         "type": "scatter",
         "x": [
          0,
          1,
          2,
          3,
          4,
          5,
          6,
          7,
          8,
          9,
          10,
          11,
          12,
          13,
          14,
          15,
          16,
          17,
          18,
          19,
          20,
          21,
          22,
          23,
          24,
          25,
          26,
          27,
          28,
          29,
          30,
          31,
          32,
          33,
          34,
          35,
          36,
          37,
          38,
          39,
          40,
          41,
          42,
          43,
          44,
          45,
          46,
          47,
          48,
          49,
          50,
          51,
          52,
          53,
          54,
          55,
          56,
          57,
          58,
          59,
          60,
          61,
          62,
          63,
          64,
          65,
          66,
          67,
          68,
          69,
          70,
          71,
          72,
          73,
          74,
          75,
          76,
          77,
          78,
          79,
          80,
          81,
          82,
          83,
          84,
          85,
          86,
          87,
          88,
          89,
          90,
          91,
          92,
          93,
          94,
          95,
          96,
          97,
          98,
          99
         ],
         "y": [
          0.2028904508929444,
          -0.5360060801057059,
          1.9172153542380332,
          1.1554998283753386,
          0.12181051885877126,
          -1.1319753703135211,
          1.3278769012435154,
          -1.373981442531079,
          -2.2633839963334057,
          0.6551232910308362,
          -1.504221412415844,
          -0.8474805378287004,
          -0.11093134329715523,
          1.241952295882244,
          -1.7442570727729392,
          0.06284888307838114,
          0.13129293250736535,
          2.202296949681284,
          -0.551127386875276,
          -1.207078337251924,
          0.5356896936168137,
          -2.3918065579996495,
          -0.8523246908502292,
          0.6248174892839728,
          -1.8244595775644652,
          1.165845385152743,
          -0.30163142477174654,
          1.660066544040394,
          -0.5068086946392768,
          -0.4556258833114967,
          -0.2983646508906948,
          0.01993433011999575,
          -0.7975056575397892,
          -1.6725777108246267,
          -0.29531640229284895,
          0.30971668360777754,
          0.716409560531819,
          0.7659397828648833,
          -0.11123212981795287,
          0.9117766490536945,
          0.25043579914409964,
          -1.344984375671524,
          -0.8801279362402369,
          0.5472592174474373,
          0.08204130503631124,
          0.17891799719213222,
          0.9489319327585631,
          0.5989101309274099,
          -0.8682489391966348,
          -2.172925528481716,
          0.8316005423159178,
          -0.06097820454389258,
          2.055498475504573,
          1.2521412919757304,
          0.04704227597800867,
          -0.4861375363540279,
          0.000582875403311226,
          -0.7320904438737423,
          0.686513285955763,
          -1.3117841313018825,
          -0.43690513505570056,
          -0.7945871974195586,
          -0.5879641229539143,
          0.24401073683741503,
          0.36009371304036686,
          -0.3019641107496942,
          -2.932775813982967,
          1.0328388977400622,
          -0.39009411657080284,
          -0.23215230892291142,
          -0.5672375951964085,
          -0.03015870112032784,
          0.3935515613535357,
          -0.34854915789772084,
          -0.24547773242621834,
          -0.9065078680653559,
          -0.9971414020458494,
          -0.08634145935478864,
          -0.3476514657989236,
          0.26556018860507086,
          -0.783460711466928,
          -1.075241131554598,
          -2.8287826318864626,
          2.136054210189507,
          0.38609878978660767,
          -1.6766148708269466,
          -0.43335314576840184,
          -0.6229073104172735,
          -0.5055562520910752,
          0.4588731405931876,
          -0.9709314596096776,
          -1.9218522420442605,
          -1.1194405577485236,
          -1.791423871895468,
          -0.4270051517947074,
          0.6222129827945807,
          -0.7878569695431034,
          -1.3978580491023649,
          1.6779823657239594,
          0.07792772247489195
         ]
        },
        {
         "connectgaps": false,
         "fill": "tozeroy",
         "line": {
          "color": "green",
          "dash": "solid",
          "shape": "linear",
          "width": 0.5
         },
         "mode": "lines",
         "name": "Spread",
         "showlegend": false,
         "type": "scatter",
         "x": [
          0,
          1,
          2,
          3,
          4,
          5,
          6,
          7,
          8,
          9,
          10,
          11,
          12,
          13,
          14,
          15,
          16,
          17,
          18,
          19,
          20,
          21,
          22,
          23,
          24,
          25,
          26,
          27,
          28,
          29,
          30,
          31,
          32,
          33,
          34,
          35,
          36,
          37,
          38,
          39,
          40,
          41,
          42,
          43,
          44,
          45,
          46,
          47,
          48,
          49,
          50,
          51,
          52,
          53,
          54,
          55,
          56,
          57,
          58,
          59,
          60,
          61,
          62,
          63,
          64,
          65,
          66,
          67,
          68,
          69,
          70,
          71,
          72,
          73,
          74,
          75,
          76,
          77,
          78,
          79,
          80,
          81,
          82,
          83,
          84,
          85,
          86,
          87,
          88,
          89,
          90,
          91,
          92,
          93,
          94,
          95,
          96,
          97,
          98,
          99
         ],
         "xaxis": "x2",
         "y": [
          "",
          "",
          "",
          "",
          0.5003851126855552,
          0.5036327643312533,
          "",
          1.4003338999272639,
          3.7891219583565636,
          0.8546656361381286,
          0.8250605686229944,
          "",
          0.6893112333663115,
          "",
          1.1706082983812403,
          0.21497679781796247,
          "",
          "",
          1.11903103563329,
          "",
          "",
          3.2151974077550167,
          0.5145367183373821,
          "",
          0.6246701640781722,
          "",
          0.24661627369064884,
          "",
          2.3444494698856264,
          2.025307334118485,
          1.056071312833536,
          "",
          1.1518648516576826,
          2.2600431094202733,
          1.8371595528569364,
          "",
          "",
          "",
          "",
          "",
          0.27407707300657547,
          1.028646680812586,
          0.2441290693493211,
          "",
          "",
          "",
          "",
          1.045354839610512,
          0.8297789173611149,
          "",
          0.5470275993338172,
          "",
          "",
          "",
          2.327054423280749,
          2.1682789000921514,
          "",
          2.338764827403695,
          "",
          "",
          1.7919416033256912,
          2.585087848710299,
          1.223984489723739,
          "",
          "",
          1.5822754886784118,
          2.8495664347459404,
          "",
          1.9415571587730578,
          "",
          "",
          1.4441181953363458,
          "",
          0.5041969402510207,
          1.464698950414647,
          0.7274228659831167,
          0.7182984736233557,
          1.673632676785958,
          "",
          "",
          0.6102610478203754,
          1.0719359484502986,
          3.220128941607009,
          "",
          "",
          3.381867924232977,
          "",
          "",
          0.773922691668498,
          "",
          1.1560153717774717,
          2.060526115045244,
          1.325017897435052,
          2.6005814330852903,
          0.7691579748363975,
          1.1368172842542363,
          0.7231225680582347,
          2.244563448566071,
          "",
          ""
         ],
         "yaxis": "y2"
        },
        {
         "connectgaps": false,
         "fill": "tozeroy",
         "line": {
          "color": "red",
          "dash": "solid",
          "shape": "linear",
          "width": 0.5
         },
         "mode": "lines",
         "name": "Spread",
         "showlegend": false,
         "type": "scatter",
         "x": [
          0,
          1,
          2,
          3,
          4,
          5,
          6,
          7,
          8,
          9,
          10,
          11,
          12,
          13,
          14,
          15,
          16,
          17,
          18,
          19,
          20,
          21,
          22,
          23,
          24,
          25,
          26,
          27,
          28,
          29,
          30,
          31,
          32,
          33,
          34,
          35,
          36,
          37,
          38,
          39,
          40,
          41,
          42,
          43,
          44,
          45,
          46,
          47,
          48,
          49,
          50,
          51,
          52,
          53,
          54,
          55,
          56,
          57,
          58,
          59,
          60,
          61,
          62,
          63,
          64,
          65,
          66,
          67,
          68,
          69,
          70,
          71,
          72,
          73,
          74,
          75,
          76,
          77,
          78,
          79,
          80,
          81,
          82,
          83,
          84,
          85,
          86,
          87,
          88,
          89,
          90,
          91,
          92,
          93,
          94,
          95,
          96,
          97,
          98,
          99
         ],
         "xaxis": "x2",
         "y": [
          -0.9321232487361141,
          -0.4388241026556461,
          -2.1793142398231504,
          -0.6929120129250197,
          "",
          "",
          -2.514802657472316,
          "",
          "",
          "",
          "",
          -0.21806952747840247,
          "",
          -1.7774746882868335,
          "",
          "",
          -1.2529970004193203,
          -0.4567038315282834,
          "",
          -0.11527286908004775,
          -1.6167767307162233,
          "",
          "",
          -0.5812380392629589,
          "",
          -0.4734212543320725,
          "",
          -2.0895039189653306,
          "",
          "",
          "",
          -0.9091984920269044,
          "",
          "",
          "",
          -0.06881123877813583,
          -1.0309080391161969,
          -0.9806741462457814,
          -1.0062802381013436,
          -1.4932298081436102,
          "",
          "",
          "",
          -0.7845291784319275,
          -0.4802537248568786,
          -0.6161409500931907,
          -1.842888350949011,
          "",
          "",
          -0.23110731058201228,
          "",
          -0.7702652446457421,
          -1.8463427602469284,
          -2.3517643467776725,
          "",
          "",
          -0.1566256647738146,
          "",
          -0.18027305486230383,
          -0.6407789650479132,
          "",
          "",
          "",
          -1.105907232216926,
          -0.1962890504058759,
          "",
          "",
          -2.281092140070098,
          "",
          -1.142100729626499,
          -0.21487806213408256,
          "",
          -1.5897080627908367,
          "",
          "",
          "",
          "",
          "",
          -1.8776476500080619,
          -1.2812709617961664,
          "",
          "",
          "",
          -2.7660513768575035,
          -0.9460544315569852,
          "",
          -0.5953132533136587,
          -0.21142272373270565,
          "",
          -2.1024723808282406,
          "",
          "",
          "",
          "",
          "",
          "",
          "",
          "",
          -2.0876345992980885,
          -0.7968075962747471
         ],
         "yaxis": "y2"
        }
       ],
       "layout": {
        "hovermode": "x",
        "legend": {
         "bgcolor": "#F5F6F9",
         "font": {
          "color": "#4D5663"
         }
        },
        "paper_bgcolor": "#F5F6F9",
        "plot_bgcolor": "#F5F6F9",
        "template": {
         "data": {
          "bar": [
           {
            "error_x": {
             "color": "#2a3f5f"
            },
            "error_y": {
             "color": "#2a3f5f"
            },
            "marker": {
             "line": {
              "color": "#E5ECF6",
              "width": 0.5
             },
             "pattern": {
              "fillmode": "overlay",
              "size": 10,
              "solidity": 0.2
             }
            },
            "type": "bar"
           }
          ],
          "barpolar": [
           {
            "marker": {
             "line": {
              "color": "#E5ECF6",
              "width": 0.5
             },
             "pattern": {
              "fillmode": "overlay",
              "size": 10,
              "solidity": 0.2
             }
            },
            "type": "barpolar"
           }
          ],
          "carpet": [
           {
            "aaxis": {
             "endlinecolor": "#2a3f5f",
             "gridcolor": "white",
             "linecolor": "white",
             "minorgridcolor": "white",
             "startlinecolor": "#2a3f5f"
            },
            "baxis": {
             "endlinecolor": "#2a3f5f",
             "gridcolor": "white",
             "linecolor": "white",
             "minorgridcolor": "white",
             "startlinecolor": "#2a3f5f"
            },
            "type": "carpet"
           }
          ],
          "choropleth": [
           {
            "colorbar": {
             "outlinewidth": 0,
             "ticks": ""
            },
            "type": "choropleth"
           }
          ],
          "contour": [
           {
            "colorbar": {
             "outlinewidth": 0,
             "ticks": ""
            },
            "colorscale": [
             [
              0,
              "#0d0887"
             ],
             [
              0.1111111111111111,
              "#46039f"
             ],
             [
              0.2222222222222222,
              "#7201a8"
             ],
             [
              0.3333333333333333,
              "#9c179e"
             ],
             [
              0.4444444444444444,
              "#bd3786"
             ],
             [
              0.5555555555555556,
              "#d8576b"
             ],
             [
              0.6666666666666666,
              "#ed7953"
             ],
             [
              0.7777777777777778,
              "#fb9f3a"
             ],
             [
              0.8888888888888888,
              "#fdca26"
             ],
             [
              1,
              "#f0f921"
             ]
            ],
            "type": "contour"
           }
          ],
          "contourcarpet": [
           {
            "colorbar": {
             "outlinewidth": 0,
             "ticks": ""
            },
            "type": "contourcarpet"
           }
          ],
          "heatmap": [
           {
            "colorbar": {
             "outlinewidth": 0,
             "ticks": ""
            },
            "colorscale": [
             [
              0,
              "#0d0887"
             ],
             [
              0.1111111111111111,
              "#46039f"
             ],
             [
              0.2222222222222222,
              "#7201a8"
             ],
             [
              0.3333333333333333,
              "#9c179e"
             ],
             [
              0.4444444444444444,
              "#bd3786"
             ],
             [
              0.5555555555555556,
              "#d8576b"
             ],
             [
              0.6666666666666666,
              "#ed7953"
             ],
             [
              0.7777777777777778,
              "#fb9f3a"
             ],
             [
              0.8888888888888888,
              "#fdca26"
             ],
             [
              1,
              "#f0f921"
             ]
            ],
            "type": "heatmap"
           }
          ],
          "heatmapgl": [
           {
            "colorbar": {
             "outlinewidth": 0,
             "ticks": ""
            },
            "colorscale": [
             [
              0,
              "#0d0887"
             ],
             [
              0.1111111111111111,
              "#46039f"
             ],
             [
              0.2222222222222222,
              "#7201a8"
             ],
             [
              0.3333333333333333,
              "#9c179e"
             ],
             [
              0.4444444444444444,
              "#bd3786"
             ],
             [
              0.5555555555555556,
              "#d8576b"
             ],
             [
              0.6666666666666666,
              "#ed7953"
             ],
             [
              0.7777777777777778,
              "#fb9f3a"
             ],
             [
              0.8888888888888888,
              "#fdca26"
             ],
             [
              1,
              "#f0f921"
             ]
            ],
            "type": "heatmapgl"
           }
          ],
          "histogram": [
           {
            "marker": {
             "pattern": {
              "fillmode": "overlay",
              "size": 10,
              "solidity": 0.2
             }
            },
            "type": "histogram"
           }
          ],
          "histogram2d": [
           {
            "colorbar": {
             "outlinewidth": 0,
             "ticks": ""
            },
            "colorscale": [
             [
              0,
              "#0d0887"
             ],
             [
              0.1111111111111111,
              "#46039f"
             ],
             [
              0.2222222222222222,
              "#7201a8"
             ],
             [
              0.3333333333333333,
              "#9c179e"
             ],
             [
              0.4444444444444444,
              "#bd3786"
             ],
             [
              0.5555555555555556,
              "#d8576b"
             ],
             [
              0.6666666666666666,
              "#ed7953"
             ],
             [
              0.7777777777777778,
              "#fb9f3a"
             ],
             [
              0.8888888888888888,
              "#fdca26"
             ],
             [
              1,
              "#f0f921"
             ]
            ],
            "type": "histogram2d"
           }
          ],
          "histogram2dcontour": [
           {
            "colorbar": {
             "outlinewidth": 0,
             "ticks": ""
            },
            "colorscale": [
             [
              0,
              "#0d0887"
             ],
             [
              0.1111111111111111,
              "#46039f"
             ],
             [
              0.2222222222222222,
              "#7201a8"
             ],
             [
              0.3333333333333333,
              "#9c179e"
             ],
             [
              0.4444444444444444,
              "#bd3786"
             ],
             [
              0.5555555555555556,
              "#d8576b"
             ],
             [
              0.6666666666666666,
              "#ed7953"
             ],
             [
              0.7777777777777778,
              "#fb9f3a"
             ],
             [
              0.8888888888888888,
              "#fdca26"
             ],
             [
              1,
              "#f0f921"
             ]
            ],
            "type": "histogram2dcontour"
           }
          ],
          "mesh3d": [
           {
            "colorbar": {
             "outlinewidth": 0,
             "ticks": ""
            },
            "type": "mesh3d"
           }
          ],
          "parcoords": [
           {
            "line": {
             "colorbar": {
              "outlinewidth": 0,
              "ticks": ""
             }
            },
            "type": "parcoords"
           }
          ],
          "pie": [
           {
            "automargin": true,
            "type": "pie"
           }
          ],
          "scatter": [
           {
            "fillpattern": {
             "fillmode": "overlay",
             "size": 10,
             "solidity": 0.2
            },
            "type": "scatter"
           }
          ],
          "scatter3d": [
           {
            "line": {
             "colorbar": {
              "outlinewidth": 0,
              "ticks": ""
             }
            },
            "marker": {
             "colorbar": {
              "outlinewidth": 0,
              "ticks": ""
             }
            },
            "type": "scatter3d"
           }
          ],
          "scattercarpet": [
           {
            "marker": {
             "colorbar": {
              "outlinewidth": 0,
              "ticks": ""
             }
            },
            "type": "scattercarpet"
           }
          ],
          "scattergeo": [
           {
            "marker": {
             "colorbar": {
              "outlinewidth": 0,
              "ticks": ""
             }
            },
            "type": "scattergeo"
           }
          ],
          "scattergl": [
           {
            "marker": {
             "colorbar": {
              "outlinewidth": 0,
              "ticks": ""
             }
            },
            "type": "scattergl"
           }
          ],
          "scattermapbox": [
           {
            "marker": {
             "colorbar": {
              "outlinewidth": 0,
              "ticks": ""
             }
            },
            "type": "scattermapbox"
           }
          ],
          "scatterpolar": [
           {
            "marker": {
             "colorbar": {
              "outlinewidth": 0,
              "ticks": ""
             }
            },
            "type": "scatterpolar"
           }
          ],
          "scatterpolargl": [
           {
            "marker": {
             "colorbar": {
              "outlinewidth": 0,
              "ticks": ""
             }
            },
            "type": "scatterpolargl"
           }
          ],
          "scatterternary": [
           {
            "marker": {
             "colorbar": {
              "outlinewidth": 0,
              "ticks": ""
             }
            },
            "type": "scatterternary"
           }
          ],
          "surface": [
           {
            "colorbar": {
             "outlinewidth": 0,
             "ticks": ""
            },
            "colorscale": [
             [
              0,
              "#0d0887"
             ],
             [
              0.1111111111111111,
              "#46039f"
             ],
             [
              0.2222222222222222,
              "#7201a8"
             ],
             [
              0.3333333333333333,
              "#9c179e"
             ],
             [
              0.4444444444444444,
              "#bd3786"
             ],
             [
              0.5555555555555556,
              "#d8576b"
             ],
             [
              0.6666666666666666,
              "#ed7953"
             ],
             [
              0.7777777777777778,
              "#fb9f3a"
             ],
             [
              0.8888888888888888,
              "#fdca26"
             ],
             [
              1,
              "#f0f921"
             ]
            ],
            "type": "surface"
           }
          ],
          "table": [
           {
            "cells": {
             "fill": {
              "color": "#EBF0F8"
             },
             "line": {
              "color": "white"
             }
            },
            "header": {
             "fill": {
              "color": "#C8D4E3"
             },
             "line": {
              "color": "white"
             }
            },
            "type": "table"
           }
          ]
         },
         "layout": {
          "annotationdefaults": {
           "arrowcolor": "#2a3f5f",
           "arrowhead": 0,
           "arrowwidth": 1
          },
          "autotypenumbers": "strict",
          "coloraxis": {
           "colorbar": {
            "outlinewidth": 0,
            "ticks": ""
           }
          },
          "colorscale": {
           "diverging": [
            [
             0,
             "#8e0152"
            ],
            [
             0.1,
             "#c51b7d"
            ],
            [
             0.2,
             "#de77ae"
            ],
            [
             0.3,
             "#f1b6da"
            ],
            [
             0.4,
             "#fde0ef"
            ],
            [
             0.5,
             "#f7f7f7"
            ],
            [
             0.6,
             "#e6f5d0"
            ],
            [
             0.7,
             "#b8e186"
            ],
            [
             0.8,
             "#7fbc41"
            ],
            [
             0.9,
             "#4d9221"
            ],
            [
             1,
             "#276419"
            ]
           ],
           "sequential": [
            [
             0,
             "#0d0887"
            ],
            [
             0.1111111111111111,
             "#46039f"
            ],
            [
             0.2222222222222222,
             "#7201a8"
            ],
            [
             0.3333333333333333,
             "#9c179e"
            ],
            [
             0.4444444444444444,
             "#bd3786"
            ],
            [
             0.5555555555555556,
             "#d8576b"
            ],
            [
             0.6666666666666666,
             "#ed7953"
            ],
            [
             0.7777777777777778,
             "#fb9f3a"
            ],
            [
             0.8888888888888888,
             "#fdca26"
            ],
            [
             1,
             "#f0f921"
            ]
           ],
           "sequentialminus": [
            [
             0,
             "#0d0887"
            ],
            [
             0.1111111111111111,
             "#46039f"
            ],
            [
             0.2222222222222222,
             "#7201a8"
            ],
            [
             0.3333333333333333,
             "#9c179e"
            ],
            [
             0.4444444444444444,
             "#bd3786"
            ],
            [
             0.5555555555555556,
             "#d8576b"
            ],
            [
             0.6666666666666666,
             "#ed7953"
            ],
            [
             0.7777777777777778,
             "#fb9f3a"
            ],
            [
             0.8888888888888888,
             "#fdca26"
            ],
            [
             1,
             "#f0f921"
            ]
           ]
          },
          "colorway": [
           "#636efa",
           "#EF553B",
           "#00cc96",
           "#ab63fa",
           "#FFA15A",
           "#19d3f3",
           "#FF6692",
           "#B6E880",
           "#FF97FF",
           "#FECB52"
          ],
          "font": {
           "color": "#2a3f5f"
          },
          "geo": {
           "bgcolor": "white",
           "lakecolor": "white",
           "landcolor": "#E5ECF6",
           "showlakes": true,
           "showland": true,
           "subunitcolor": "white"
          },
          "hoverlabel": {
           "align": "left"
          },
          "hovermode": "closest",
          "mapbox": {
           "style": "light"
          },
          "paper_bgcolor": "white",
          "plot_bgcolor": "#E5ECF6",
          "polar": {
           "angularaxis": {
            "gridcolor": "white",
            "linecolor": "white",
            "ticks": ""
           },
           "bgcolor": "#E5ECF6",
           "radialaxis": {
            "gridcolor": "white",
            "linecolor": "white",
            "ticks": ""
           }
          },
          "scene": {
           "xaxis": {
            "backgroundcolor": "#E5ECF6",
            "gridcolor": "white",
            "gridwidth": 2,
            "linecolor": "white",
            "showbackground": true,
            "ticks": "",
            "zerolinecolor": "white"
           },
           "yaxis": {
            "backgroundcolor": "#E5ECF6",
            "gridcolor": "white",
            "gridwidth": 2,
            "linecolor": "white",
            "showbackground": true,
            "ticks": "",
            "zerolinecolor": "white"
           },
           "zaxis": {
            "backgroundcolor": "#E5ECF6",
            "gridcolor": "white",
            "gridwidth": 2,
            "linecolor": "white",
            "showbackground": true,
            "ticks": "",
            "zerolinecolor": "white"
           }
          },
          "shapedefaults": {
           "line": {
            "color": "#2a3f5f"
           }
          },
          "ternary": {
           "aaxis": {
            "gridcolor": "white",
            "linecolor": "white",
            "ticks": ""
           },
           "baxis": {
            "gridcolor": "white",
            "linecolor": "white",
            "ticks": ""
           },
           "bgcolor": "#E5ECF6",
           "caxis": {
            "gridcolor": "white",
            "linecolor": "white",
            "ticks": ""
           }
          },
          "title": {
           "x": 0.05
          },
          "xaxis": {
           "automargin": true,
           "gridcolor": "white",
           "linecolor": "white",
           "ticks": "",
           "title": {
            "standoff": 15
           },
           "zerolinecolor": "white",
           "zerolinewidth": 2
          },
          "yaxis": {
           "automargin": true,
           "gridcolor": "white",
           "linecolor": "white",
           "ticks": "",
           "title": {
            "standoff": 15
           },
           "zerolinecolor": "white",
           "zerolinewidth": 2
          }
         }
        },
        "title": {
         "font": {
          "color": "#4D5663"
         }
        },
        "xaxis": {
         "gridcolor": "#E1E5ED",
         "showgrid": true,
         "tickfont": {
          "color": "#4D5663"
         },
         "title": {
          "font": {
           "color": "#4D5663"
          },
          "text": ""
         },
         "zerolinecolor": "#E1E5ED"
        },
        "xaxis2": {
         "anchor": "y2",
         "gridcolor": "#E1E5ED",
         "showgrid": true,
         "showticklabels": false,
         "tickfont": {
          "color": "#4D5663"
         },
         "title": {
          "font": {
           "color": "#4D5663"
          },
          "text": ""
         },
         "zerolinecolor": "#E1E5ED"
        },
        "yaxis": {
         "domain": [
          0.3,
          1
         ],
         "gridcolor": "#E1E5ED",
         "showgrid": true,
         "tickfont": {
          "color": "#4D5663"
         },
         "title": {
          "font": {
           "color": "#4D5663"
          },
          "text": ""
         },
         "zerolinecolor": "#E1E5ED"
        },
        "yaxis2": {
         "domain": [
          0,
          0.25
         ],
         "gridcolor": "#E1E5ED",
         "showgrid": true,
         "tickfont": {
          "color": "#4D5663"
         },
         "title": {
          "font": {
           "color": "#4D5663"
          },
          "text": "Spread"
         },
         "zerolinecolor": "#E1E5ED"
        }
       }
      },
      "text/html": [
       "<div>                            <div id=\"34c0daef-e74e-4f1d-b2c0-c135d7c0484b\" class=\"plotly-graph-div\" style=\"height:525px; width:100%;\"></div>            <script type=\"text/javascript\">                require([\"plotly\"], function(Plotly) {                    window.PLOTLYENV=window.PLOTLYENV || {};\n",
       "                    window.PLOTLYENV.BASE_URL='https://plot.ly';                                    if (document.getElementById(\"34c0daef-e74e-4f1d-b2c0-c135d7c0484b\")) {                    Plotly.newPlot(                        \"34c0daef-e74e-4f1d-b2c0-c135d7c0484b\",                        [{\"line\":{\"color\":\"rgba(255, 153, 51, 1.0)\",\"dash\":\"solid\",\"shape\":\"linear\",\"width\":1.3},\"mode\":\"lines\",\"name\":\"A\",\"text\":\"\",\"x\":[0,1,2,3,4,5,6,7,8,9,10,11,12,13,14,15,16,17,18,19,20,21,22,23,24,25,26,27,28,29,30,31,32,33,34,35,36,37,38,39,40,41,42,43,44,45,46,47,48,49,50,51,52,53,54,55,56,57,58,59,60,61,62,63,64,65,66,67,68,69,70,71,72,73,74,75,76,77,78,79,80,81,82,83,84,85,86,87,88,89,90,91,92,93,94,95,96,97,98,99],\"y\":[-0.7292327978431696,-0.974830182761352,-0.26209888558511735,0.4625878154503189,0.6221956315443264,-0.6283426059822679,-1.1869257562288007,0.026352457396184876,1.5257379620231581,1.5097889271689648,-0.6791608437928496,-1.0655500653071028,0.5783798900691562,-0.5355223924045895,-0.5736487743916989,0.27782568089634363,-1.121704067911955,1.7455931181530004,0.567903648758014,-1.3223512063319718,-1.0810870370994095,0.8233908497553671,-0.33778797251284703,0.043579450021013946,-1.199789413486293,0.6924241308206706,-0.05501515108109769,-0.42943737492493633,1.8376407752463495,1.5696814508069885,0.7577066619428412,-0.8892641619069086,0.35435919411789346,0.5874653985956466,1.5418431505640875,0.2409054448296417,-0.3144984785843778,-0.21473436338089816,-1.1175123679192964,-0.5814531590899158,0.5245128721506751,-0.31633769485893803,-0.6359988668909158,-0.23726996098449016,-0.3982124198205674,-0.43722295290105845,-0.8939564181904478,1.6442649705379218,-0.03847002183551993,-2.404032839063728,1.378628141649735,-0.8312434491896347,0.2091557152576446,-1.099623054801942,2.3740966992587578,1.6821413637381235,-0.15604278937050337,1.606674383529953,0.5062402310934592,-1.9525630963497957,1.3550364682699907,1.7905006512907407,0.6360203667698248,-0.8618964953795111,0.16380466263449095,1.2803113779287176,-0.08320937923702665,-1.2482532423300359,1.5514630422022548,-1.3742530385494103,-0.782115657330491,1.4139594942160179,-1.196156501437301,0.1556477823532999,1.2192212179884288,-0.1790850020822392,-0.27884292842249364,1.5872912174311693,-2.2252991158069855,-1.0157107731910955,-0.17319966364655262,-0.003305183104299413,0.39134630972054646,-0.6299971666679965,-0.5599556417703775,1.7052530534060306,-1.0286663990820606,-0.8343300341499792,0.26836643957742273,-1.6435992402350532,0.185083912167794,0.13867387300098313,0.20557733968652833,0.8091575611898224,0.34215282304169004,1.7590302670488172,-0.06473440148486866,0.8467053994637058,-0.4096522335741291,-0.7188798737998551],\"type\":\"scatter\"},{\"line\":{\"color\":\"rgba(55, 128, 191, 1.0)\",\"dash\":\"solid\",\"shape\":\"linear\",\"width\":1.3},\"mode\":\"lines\",\"name\":\"B\",\"text\":\"\",\"x\":[0,1,2,3,4,5,6,7,8,9,10,11,12,13,14,15,16,17,18,19,20,21,22,23,24,25,26,27,28,29,30,31,32,33,34,35,36,37,38,39,40,41,42,43,44,45,46,47,48,49,50,51,52,53,54,55,56,57,58,59,60,61,62,63,64,65,66,67,68,69,70,71,72,73,74,75,76,77,78,79,80,81,82,83,84,85,86,87,88,89,90,91,92,93,94,95,96,97,98,99],\"y\":[0.2028904508929444,-0.5360060801057059,1.9172153542380332,1.1554998283753386,0.12181051885877126,-1.1319753703135211,1.3278769012435154,-1.373981442531079,-2.2633839963334057,0.6551232910308362,-1.504221412415844,-0.8474805378287004,-0.11093134329715523,1.241952295882244,-1.7442570727729392,0.06284888307838114,0.13129293250736535,2.202296949681284,-0.551127386875276,-1.207078337251924,0.5356896936168137,-2.3918065579996495,-0.8523246908502292,0.6248174892839728,-1.8244595775644652,1.165845385152743,-0.30163142477174654,1.660066544040394,-0.5068086946392768,-0.4556258833114967,-0.2983646508906948,0.01993433011999575,-0.7975056575397892,-1.6725777108246267,-0.29531640229284895,0.30971668360777754,0.716409560531819,0.7659397828648833,-0.11123212981795287,0.9117766490536945,0.25043579914409964,-1.344984375671524,-0.8801279362402369,0.5472592174474373,0.08204130503631124,0.17891799719213222,0.9489319327585631,0.5989101309274099,-0.8682489391966348,-2.172925528481716,0.8316005423159178,-0.06097820454389258,2.055498475504573,1.2521412919757304,0.04704227597800867,-0.4861375363540279,0.000582875403311226,-0.7320904438737423,0.686513285955763,-1.3117841313018825,-0.43690513505570056,-0.7945871974195586,-0.5879641229539143,0.24401073683741503,0.36009371304036686,-0.3019641107496942,-2.932775813982967,1.0328388977400622,-0.39009411657080284,-0.23215230892291142,-0.5672375951964085,-0.03015870112032784,0.3935515613535357,-0.34854915789772084,-0.24547773242621834,-0.9065078680653559,-0.9971414020458494,-0.08634145935478864,-0.3476514657989236,0.26556018860507086,-0.783460711466928,-1.075241131554598,-2.8287826318864626,2.136054210189507,0.38609878978660767,-1.6766148708269466,-0.43335314576840184,-0.6229073104172735,-0.5055562520910752,0.4588731405931876,-0.9709314596096776,-1.9218522420442605,-1.1194405577485236,-1.791423871895468,-0.4270051517947074,0.6222129827945807,-0.7878569695431034,-1.3978580491023649,1.6779823657239594,0.07792772247489195],\"type\":\"scatter\"},{\"connectgaps\":false,\"fill\":\"tozeroy\",\"line\":{\"color\":\"green\",\"dash\":\"solid\",\"shape\":\"linear\",\"width\":0.5},\"mode\":\"lines\",\"name\":\"Spread\",\"showlegend\":false,\"x\":[0,1,2,3,4,5,6,7,8,9,10,11,12,13,14,15,16,17,18,19,20,21,22,23,24,25,26,27,28,29,30,31,32,33,34,35,36,37,38,39,40,41,42,43,44,45,46,47,48,49,50,51,52,53,54,55,56,57,58,59,60,61,62,63,64,65,66,67,68,69,70,71,72,73,74,75,76,77,78,79,80,81,82,83,84,85,86,87,88,89,90,91,92,93,94,95,96,97,98,99],\"xaxis\":\"x2\",\"y\":[\"\",\"\",\"\",\"\",0.5003851126855552,0.5036327643312533,\"\",1.4003338999272639,3.7891219583565636,0.8546656361381286,0.8250605686229944,\"\",0.6893112333663115,\"\",1.1706082983812403,0.21497679781796247,\"\",\"\",1.11903103563329,\"\",\"\",3.2151974077550167,0.5145367183373821,\"\",0.6246701640781722,\"\",0.24661627369064884,\"\",2.3444494698856264,2.025307334118485,1.056071312833536,\"\",1.1518648516576826,2.2600431094202733,1.8371595528569364,\"\",\"\",\"\",\"\",\"\",0.27407707300657547,1.028646680812586,0.2441290693493211,\"\",\"\",\"\",\"\",1.045354839610512,0.8297789173611149,\"\",0.5470275993338172,\"\",\"\",\"\",2.327054423280749,2.1682789000921514,\"\",2.338764827403695,\"\",\"\",1.7919416033256912,2.585087848710299,1.223984489723739,\"\",\"\",1.5822754886784118,2.8495664347459404,\"\",1.9415571587730578,\"\",\"\",1.4441181953363458,\"\",0.5041969402510207,1.464698950414647,0.7274228659831167,0.7182984736233557,1.673632676785958,\"\",\"\",0.6102610478203754,1.0719359484502986,3.220128941607009,\"\",\"\",3.381867924232977,\"\",\"\",0.773922691668498,\"\",1.1560153717774717,2.060526115045244,1.325017897435052,2.6005814330852903,0.7691579748363975,1.1368172842542363,0.7231225680582347,2.244563448566071,\"\",\"\"],\"yaxis\":\"y2\",\"type\":\"scatter\"},{\"connectgaps\":false,\"fill\":\"tozeroy\",\"line\":{\"color\":\"red\",\"dash\":\"solid\",\"shape\":\"linear\",\"width\":0.5},\"mode\":\"lines\",\"name\":\"Spread\",\"showlegend\":false,\"x\":[0,1,2,3,4,5,6,7,8,9,10,11,12,13,14,15,16,17,18,19,20,21,22,23,24,25,26,27,28,29,30,31,32,33,34,35,36,37,38,39,40,41,42,43,44,45,46,47,48,49,50,51,52,53,54,55,56,57,58,59,60,61,62,63,64,65,66,67,68,69,70,71,72,73,74,75,76,77,78,79,80,81,82,83,84,85,86,87,88,89,90,91,92,93,94,95,96,97,98,99],\"xaxis\":\"x2\",\"y\":[-0.9321232487361141,-0.4388241026556461,-2.1793142398231504,-0.6929120129250197,\"\",\"\",-2.514802657472316,\"\",\"\",\"\",\"\",-0.21806952747840247,\"\",-1.7774746882868335,\"\",\"\",-1.2529970004193203,-0.4567038315282834,\"\",-0.11527286908004775,-1.6167767307162233,\"\",\"\",-0.5812380392629589,\"\",-0.4734212543320725,\"\",-2.0895039189653306,\"\",\"\",\"\",-0.9091984920269044,\"\",\"\",\"\",-0.06881123877813583,-1.0309080391161969,-0.9806741462457814,-1.0062802381013436,-1.4932298081436102,\"\",\"\",\"\",-0.7845291784319275,-0.4802537248568786,-0.6161409500931907,-1.842888350949011,\"\",\"\",-0.23110731058201228,\"\",-0.7702652446457421,-1.8463427602469284,-2.3517643467776725,\"\",\"\",-0.1566256647738146,\"\",-0.18027305486230383,-0.6407789650479132,\"\",\"\",\"\",-1.105907232216926,-0.1962890504058759,\"\",\"\",-2.281092140070098,\"\",-1.142100729626499,-0.21487806213408256,\"\",-1.5897080627908367,\"\",\"\",\"\",\"\",\"\",-1.8776476500080619,-1.2812709617961664,\"\",\"\",\"\",-2.7660513768575035,-0.9460544315569852,\"\",-0.5953132533136587,-0.21142272373270565,\"\",-2.1024723808282406,\"\",\"\",\"\",\"\",\"\",\"\",\"\",\"\",-2.0876345992980885,-0.7968075962747471],\"yaxis\":\"y2\",\"type\":\"scatter\"}],                        {\"hovermode\":\"x\",\"legend\":{\"bgcolor\":\"#F5F6F9\",\"font\":{\"color\":\"#4D5663\"}},\"paper_bgcolor\":\"#F5F6F9\",\"plot_bgcolor\":\"#F5F6F9\",\"template\":{\"data\":{\"barpolar\":[{\"marker\":{\"line\":{\"color\":\"#E5ECF6\",\"width\":0.5},\"pattern\":{\"fillmode\":\"overlay\",\"size\":10,\"solidity\":0.2}},\"type\":\"barpolar\"}],\"bar\":[{\"error_x\":{\"color\":\"#2a3f5f\"},\"error_y\":{\"color\":\"#2a3f5f\"},\"marker\":{\"line\":{\"color\":\"#E5ECF6\",\"width\":0.5},\"pattern\":{\"fillmode\":\"overlay\",\"size\":10,\"solidity\":0.2}},\"type\":\"bar\"}],\"carpet\":[{\"aaxis\":{\"endlinecolor\":\"#2a3f5f\",\"gridcolor\":\"white\",\"linecolor\":\"white\",\"minorgridcolor\":\"white\",\"startlinecolor\":\"#2a3f5f\"},\"baxis\":{\"endlinecolor\":\"#2a3f5f\",\"gridcolor\":\"white\",\"linecolor\":\"white\",\"minorgridcolor\":\"white\",\"startlinecolor\":\"#2a3f5f\"},\"type\":\"carpet\"}],\"choropleth\":[{\"colorbar\":{\"outlinewidth\":0,\"ticks\":\"\"},\"type\":\"choropleth\"}],\"contourcarpet\":[{\"colorbar\":{\"outlinewidth\":0,\"ticks\":\"\"},\"type\":\"contourcarpet\"}],\"contour\":[{\"colorbar\":{\"outlinewidth\":0,\"ticks\":\"\"},\"colorscale\":[[0.0,\"#0d0887\"],[0.1111111111111111,\"#46039f\"],[0.2222222222222222,\"#7201a8\"],[0.3333333333333333,\"#9c179e\"],[0.4444444444444444,\"#bd3786\"],[0.5555555555555556,\"#d8576b\"],[0.6666666666666666,\"#ed7953\"],[0.7777777777777778,\"#fb9f3a\"],[0.8888888888888888,\"#fdca26\"],[1.0,\"#f0f921\"]],\"type\":\"contour\"}],\"heatmapgl\":[{\"colorbar\":{\"outlinewidth\":0,\"ticks\":\"\"},\"colorscale\":[[0.0,\"#0d0887\"],[0.1111111111111111,\"#46039f\"],[0.2222222222222222,\"#7201a8\"],[0.3333333333333333,\"#9c179e\"],[0.4444444444444444,\"#bd3786\"],[0.5555555555555556,\"#d8576b\"],[0.6666666666666666,\"#ed7953\"],[0.7777777777777778,\"#fb9f3a\"],[0.8888888888888888,\"#fdca26\"],[1.0,\"#f0f921\"]],\"type\":\"heatmapgl\"}],\"heatmap\":[{\"colorbar\":{\"outlinewidth\":0,\"ticks\":\"\"},\"colorscale\":[[0.0,\"#0d0887\"],[0.1111111111111111,\"#46039f\"],[0.2222222222222222,\"#7201a8\"],[0.3333333333333333,\"#9c179e\"],[0.4444444444444444,\"#bd3786\"],[0.5555555555555556,\"#d8576b\"],[0.6666666666666666,\"#ed7953\"],[0.7777777777777778,\"#fb9f3a\"],[0.8888888888888888,\"#fdca26\"],[1.0,\"#f0f921\"]],\"type\":\"heatmap\"}],\"histogram2dcontour\":[{\"colorbar\":{\"outlinewidth\":0,\"ticks\":\"\"},\"colorscale\":[[0.0,\"#0d0887\"],[0.1111111111111111,\"#46039f\"],[0.2222222222222222,\"#7201a8\"],[0.3333333333333333,\"#9c179e\"],[0.4444444444444444,\"#bd3786\"],[0.5555555555555556,\"#d8576b\"],[0.6666666666666666,\"#ed7953\"],[0.7777777777777778,\"#fb9f3a\"],[0.8888888888888888,\"#fdca26\"],[1.0,\"#f0f921\"]],\"type\":\"histogram2dcontour\"}],\"histogram2d\":[{\"colorbar\":{\"outlinewidth\":0,\"ticks\":\"\"},\"colorscale\":[[0.0,\"#0d0887\"],[0.1111111111111111,\"#46039f\"],[0.2222222222222222,\"#7201a8\"],[0.3333333333333333,\"#9c179e\"],[0.4444444444444444,\"#bd3786\"],[0.5555555555555556,\"#d8576b\"],[0.6666666666666666,\"#ed7953\"],[0.7777777777777778,\"#fb9f3a\"],[0.8888888888888888,\"#fdca26\"],[1.0,\"#f0f921\"]],\"type\":\"histogram2d\"}],\"histogram\":[{\"marker\":{\"pattern\":{\"fillmode\":\"overlay\",\"size\":10,\"solidity\":0.2}},\"type\":\"histogram\"}],\"mesh3d\":[{\"colorbar\":{\"outlinewidth\":0,\"ticks\":\"\"},\"type\":\"mesh3d\"}],\"parcoords\":[{\"line\":{\"colorbar\":{\"outlinewidth\":0,\"ticks\":\"\"}},\"type\":\"parcoords\"}],\"pie\":[{\"automargin\":true,\"type\":\"pie\"}],\"scatter3d\":[{\"line\":{\"colorbar\":{\"outlinewidth\":0,\"ticks\":\"\"}},\"marker\":{\"colorbar\":{\"outlinewidth\":0,\"ticks\":\"\"}},\"type\":\"scatter3d\"}],\"scattercarpet\":[{\"marker\":{\"colorbar\":{\"outlinewidth\":0,\"ticks\":\"\"}},\"type\":\"scattercarpet\"}],\"scattergeo\":[{\"marker\":{\"colorbar\":{\"outlinewidth\":0,\"ticks\":\"\"}},\"type\":\"scattergeo\"}],\"scattergl\":[{\"marker\":{\"colorbar\":{\"outlinewidth\":0,\"ticks\":\"\"}},\"type\":\"scattergl\"}],\"scattermapbox\":[{\"marker\":{\"colorbar\":{\"outlinewidth\":0,\"ticks\":\"\"}},\"type\":\"scattermapbox\"}],\"scatterpolargl\":[{\"marker\":{\"colorbar\":{\"outlinewidth\":0,\"ticks\":\"\"}},\"type\":\"scatterpolargl\"}],\"scatterpolar\":[{\"marker\":{\"colorbar\":{\"outlinewidth\":0,\"ticks\":\"\"}},\"type\":\"scatterpolar\"}],\"scatter\":[{\"fillpattern\":{\"fillmode\":\"overlay\",\"size\":10,\"solidity\":0.2},\"type\":\"scatter\"}],\"scatterternary\":[{\"marker\":{\"colorbar\":{\"outlinewidth\":0,\"ticks\":\"\"}},\"type\":\"scatterternary\"}],\"surface\":[{\"colorbar\":{\"outlinewidth\":0,\"ticks\":\"\"},\"colorscale\":[[0.0,\"#0d0887\"],[0.1111111111111111,\"#46039f\"],[0.2222222222222222,\"#7201a8\"],[0.3333333333333333,\"#9c179e\"],[0.4444444444444444,\"#bd3786\"],[0.5555555555555556,\"#d8576b\"],[0.6666666666666666,\"#ed7953\"],[0.7777777777777778,\"#fb9f3a\"],[0.8888888888888888,\"#fdca26\"],[1.0,\"#f0f921\"]],\"type\":\"surface\"}],\"table\":[{\"cells\":{\"fill\":{\"color\":\"#EBF0F8\"},\"line\":{\"color\":\"white\"}},\"header\":{\"fill\":{\"color\":\"#C8D4E3\"},\"line\":{\"color\":\"white\"}},\"type\":\"table\"}]},\"layout\":{\"annotationdefaults\":{\"arrowcolor\":\"#2a3f5f\",\"arrowhead\":0,\"arrowwidth\":1},\"autotypenumbers\":\"strict\",\"coloraxis\":{\"colorbar\":{\"outlinewidth\":0,\"ticks\":\"\"}},\"colorscale\":{\"diverging\":[[0,\"#8e0152\"],[0.1,\"#c51b7d\"],[0.2,\"#de77ae\"],[0.3,\"#f1b6da\"],[0.4,\"#fde0ef\"],[0.5,\"#f7f7f7\"],[0.6,\"#e6f5d0\"],[0.7,\"#b8e186\"],[0.8,\"#7fbc41\"],[0.9,\"#4d9221\"],[1,\"#276419\"]],\"sequential\":[[0.0,\"#0d0887\"],[0.1111111111111111,\"#46039f\"],[0.2222222222222222,\"#7201a8\"],[0.3333333333333333,\"#9c179e\"],[0.4444444444444444,\"#bd3786\"],[0.5555555555555556,\"#d8576b\"],[0.6666666666666666,\"#ed7953\"],[0.7777777777777778,\"#fb9f3a\"],[0.8888888888888888,\"#fdca26\"],[1.0,\"#f0f921\"]],\"sequentialminus\":[[0.0,\"#0d0887\"],[0.1111111111111111,\"#46039f\"],[0.2222222222222222,\"#7201a8\"],[0.3333333333333333,\"#9c179e\"],[0.4444444444444444,\"#bd3786\"],[0.5555555555555556,\"#d8576b\"],[0.6666666666666666,\"#ed7953\"],[0.7777777777777778,\"#fb9f3a\"],[0.8888888888888888,\"#fdca26\"],[1.0,\"#f0f921\"]]},\"colorway\":[\"#636efa\",\"#EF553B\",\"#00cc96\",\"#ab63fa\",\"#FFA15A\",\"#19d3f3\",\"#FF6692\",\"#B6E880\",\"#FF97FF\",\"#FECB52\"],\"font\":{\"color\":\"#2a3f5f\"},\"geo\":{\"bgcolor\":\"white\",\"lakecolor\":\"white\",\"landcolor\":\"#E5ECF6\",\"showlakes\":true,\"showland\":true,\"subunitcolor\":\"white\"},\"hoverlabel\":{\"align\":\"left\"},\"hovermode\":\"closest\",\"mapbox\":{\"style\":\"light\"},\"paper_bgcolor\":\"white\",\"plot_bgcolor\":\"#E5ECF6\",\"polar\":{\"angularaxis\":{\"gridcolor\":\"white\",\"linecolor\":\"white\",\"ticks\":\"\"},\"bgcolor\":\"#E5ECF6\",\"radialaxis\":{\"gridcolor\":\"white\",\"linecolor\":\"white\",\"ticks\":\"\"}},\"scene\":{\"xaxis\":{\"backgroundcolor\":\"#E5ECF6\",\"gridcolor\":\"white\",\"gridwidth\":2,\"linecolor\":\"white\",\"showbackground\":true,\"ticks\":\"\",\"zerolinecolor\":\"white\"},\"yaxis\":{\"backgroundcolor\":\"#E5ECF6\",\"gridcolor\":\"white\",\"gridwidth\":2,\"linecolor\":\"white\",\"showbackground\":true,\"ticks\":\"\",\"zerolinecolor\":\"white\"},\"zaxis\":{\"backgroundcolor\":\"#E5ECF6\",\"gridcolor\":\"white\",\"gridwidth\":2,\"linecolor\":\"white\",\"showbackground\":true,\"ticks\":\"\",\"zerolinecolor\":\"white\"}},\"shapedefaults\":{\"line\":{\"color\":\"#2a3f5f\"}},\"ternary\":{\"aaxis\":{\"gridcolor\":\"white\",\"linecolor\":\"white\",\"ticks\":\"\"},\"baxis\":{\"gridcolor\":\"white\",\"linecolor\":\"white\",\"ticks\":\"\"},\"bgcolor\":\"#E5ECF6\",\"caxis\":{\"gridcolor\":\"white\",\"linecolor\":\"white\",\"ticks\":\"\"}},\"title\":{\"x\":0.05},\"xaxis\":{\"automargin\":true,\"gridcolor\":\"white\",\"linecolor\":\"white\",\"ticks\":\"\",\"title\":{\"standoff\":15},\"zerolinecolor\":\"white\",\"zerolinewidth\":2},\"yaxis\":{\"automargin\":true,\"gridcolor\":\"white\",\"linecolor\":\"white\",\"ticks\":\"\",\"title\":{\"standoff\":15},\"zerolinecolor\":\"white\",\"zerolinewidth\":2}}},\"title\":{\"font\":{\"color\":\"#4D5663\"}},\"xaxis\":{\"gridcolor\":\"#E1E5ED\",\"showgrid\":true,\"tickfont\":{\"color\":\"#4D5663\"},\"title\":{\"font\":{\"color\":\"#4D5663\"},\"text\":\"\"},\"zerolinecolor\":\"#E1E5ED\"},\"yaxis\":{\"domain\":[0.3,1],\"gridcolor\":\"#E1E5ED\",\"showgrid\":true,\"tickfont\":{\"color\":\"#4D5663\"},\"title\":{\"font\":{\"color\":\"#4D5663\"},\"text\":\"\"},\"zerolinecolor\":\"#E1E5ED\"},\"yaxis2\":{\"domain\":[0,0.25],\"gridcolor\":\"#E1E5ED\",\"showgrid\":true,\"tickfont\":{\"color\":\"#4D5663\"},\"title\":{\"font\":{\"color\":\"#4D5663\"},\"text\":\"Spread\"},\"zerolinecolor\":\"#E1E5ED\"},\"xaxis2\":{\"anchor\":\"y2\",\"gridcolor\":\"#E1E5ED\",\"showgrid\":true,\"showticklabels\":false,\"tickfont\":{\"color\":\"#4D5663\"},\"title\":{\"font\":{\"color\":\"#4D5663\"},\"text\":\"\"},\"zerolinecolor\":\"#E1E5ED\"}},                        {\"showLink\": true, \"linkText\": \"Export to plot.ly\", \"plotlyServerURL\": \"https://plot.ly\", \"responsive\": true}                    ).then(function(){\n",
       "                            \n",
       "var gd = document.getElementById('34c0daef-e74e-4f1d-b2c0-c135d7c0484b');\n",
       "var x = new MutationObserver(function (mutations, observer) {{\n",
       "        var display = window.getComputedStyle(gd).display;\n",
       "        if (!display || display === 'none') {{\n",
       "            console.log([gd, 'removed!']);\n",
       "            Plotly.purge(gd);\n",
       "            observer.disconnect();\n",
       "        }}\n",
       "}});\n",
       "\n",
       "// Listen for the removal of the full notebook cells\n",
       "var notebookContainer = gd.closest('#notebook-container');\n",
       "if (notebookContainer) {{\n",
       "    x.observe(notebookContainer, {childList: true});\n",
       "}}\n",
       "\n",
       "// Listen for the clearing of the current output cell\n",
       "var outputEl = gd.closest('.output');\n",
       "if (outputEl) {{\n",
       "    x.observe(outputEl, {childList: true});\n",
       "}}\n",
       "\n",
       "                        })                };                });            </script>        </div>"
      ]
     },
     "metadata": {},
     "output_type": "display_data"
    }
   ],
   "source": [
    "df[['A','B']].iplot(kind='spread')"
   ]
  },
  {
   "cell_type": "markdown",
   "metadata": {},
   "source": [
    "## histogram"
   ]
  },
  {
   "cell_type": "code",
   "execution_count": 20,
   "metadata": {},
   "outputs": [
    {
     "data": {
      "application/vnd.plotly.v1+json": {
       "config": {
        "linkText": "Export to plot.ly",
        "plotlyServerURL": "https://plot.ly",
        "showLink": true
       },
       "data": [
        {
         "histfunc": "count",
         "histnorm": "",
         "marker": {
          "color": "rgba(255, 153, 51, 1.0)",
          "line": {
           "color": "#4D5663",
           "width": 1.3
          }
         },
         "name": "A",
         "nbinsx": 25,
         "opacity": 0.8,
         "orientation": "v",
         "type": "histogram",
         "x": [
          -0.7292327978431696,
          -0.974830182761352,
          -0.26209888558511735,
          0.4625878154503189,
          0.6221956315443264,
          -0.6283426059822679,
          -1.1869257562288007,
          0.026352457396184876,
          1.5257379620231581,
          1.5097889271689648,
          -0.6791608437928496,
          -1.0655500653071028,
          0.5783798900691562,
          -0.5355223924045895,
          -0.5736487743916989,
          0.27782568089634363,
          -1.121704067911955,
          1.7455931181530004,
          0.567903648758014,
          -1.3223512063319718,
          -1.0810870370994095,
          0.8233908497553671,
          -0.33778797251284703,
          0.043579450021013946,
          -1.199789413486293,
          0.6924241308206706,
          -0.05501515108109769,
          -0.42943737492493633,
          1.8376407752463495,
          1.5696814508069885,
          0.7577066619428412,
          -0.8892641619069086,
          0.35435919411789346,
          0.5874653985956466,
          1.5418431505640875,
          0.2409054448296417,
          -0.3144984785843778,
          -0.21473436338089816,
          -1.1175123679192964,
          -0.5814531590899158,
          0.5245128721506751,
          -0.31633769485893803,
          -0.6359988668909158,
          -0.23726996098449016,
          -0.3982124198205674,
          -0.43722295290105845,
          -0.8939564181904478,
          1.6442649705379218,
          -0.03847002183551993,
          -2.404032839063728,
          1.378628141649735,
          -0.8312434491896347,
          0.2091557152576446,
          -1.099623054801942,
          2.3740966992587578,
          1.6821413637381235,
          -0.15604278937050337,
          1.606674383529953,
          0.5062402310934592,
          -1.9525630963497957,
          1.3550364682699907,
          1.7905006512907407,
          0.6360203667698248,
          -0.8618964953795111,
          0.16380466263449095,
          1.2803113779287176,
          -0.08320937923702665,
          -1.2482532423300359,
          1.5514630422022548,
          -1.3742530385494103,
          -0.782115657330491,
          1.4139594942160179,
          -1.196156501437301,
          0.1556477823532999,
          1.2192212179884288,
          -0.1790850020822392,
          -0.27884292842249364,
          1.5872912174311693,
          -2.2252991158069855,
          -1.0157107731910955,
          -0.17319966364655262,
          -0.003305183104299413,
          0.39134630972054646,
          -0.6299971666679965,
          -0.5599556417703775,
          1.7052530534060306,
          -1.0286663990820606,
          -0.8343300341499792,
          0.26836643957742273,
          -1.6435992402350532,
          0.185083912167794,
          0.13867387300098313,
          0.20557733968652833,
          0.8091575611898224,
          0.34215282304169004,
          1.7590302670488172,
          -0.06473440148486866,
          0.8467053994637058,
          -0.4096522335741291,
          -0.7188798737998551
         ]
        },
        {
         "histfunc": "count",
         "histnorm": "",
         "marker": {
          "color": "rgba(55, 128, 191, 1.0)",
          "line": {
           "color": "#4D5663",
           "width": 1.3
          }
         },
         "name": "B",
         "nbinsx": 25,
         "opacity": 0.8,
         "orientation": "v",
         "type": "histogram",
         "x": [
          0.2028904508929444,
          -0.5360060801057059,
          1.9172153542380332,
          1.1554998283753386,
          0.12181051885877126,
          -1.1319753703135211,
          1.3278769012435154,
          -1.373981442531079,
          -2.2633839963334057,
          0.6551232910308362,
          -1.504221412415844,
          -0.8474805378287004,
          -0.11093134329715523,
          1.241952295882244,
          -1.7442570727729392,
          0.06284888307838114,
          0.13129293250736535,
          2.202296949681284,
          -0.551127386875276,
          -1.207078337251924,
          0.5356896936168137,
          -2.3918065579996495,
          -0.8523246908502292,
          0.6248174892839728,
          -1.8244595775644652,
          1.165845385152743,
          -0.30163142477174654,
          1.660066544040394,
          -0.5068086946392768,
          -0.4556258833114967,
          -0.2983646508906948,
          0.01993433011999575,
          -0.7975056575397892,
          -1.6725777108246267,
          -0.29531640229284895,
          0.30971668360777754,
          0.716409560531819,
          0.7659397828648833,
          -0.11123212981795287,
          0.9117766490536945,
          0.25043579914409964,
          -1.344984375671524,
          -0.8801279362402369,
          0.5472592174474373,
          0.08204130503631124,
          0.17891799719213222,
          0.9489319327585631,
          0.5989101309274099,
          -0.8682489391966348,
          -2.172925528481716,
          0.8316005423159178,
          -0.06097820454389258,
          2.055498475504573,
          1.2521412919757304,
          0.04704227597800867,
          -0.4861375363540279,
          0.000582875403311226,
          -0.7320904438737423,
          0.686513285955763,
          -1.3117841313018825,
          -0.43690513505570056,
          -0.7945871974195586,
          -0.5879641229539143,
          0.24401073683741503,
          0.36009371304036686,
          -0.3019641107496942,
          -2.932775813982967,
          1.0328388977400622,
          -0.39009411657080284,
          -0.23215230892291142,
          -0.5672375951964085,
          -0.03015870112032784,
          0.3935515613535357,
          -0.34854915789772084,
          -0.24547773242621834,
          -0.9065078680653559,
          -0.9971414020458494,
          -0.08634145935478864,
          -0.3476514657989236,
          0.26556018860507086,
          -0.783460711466928,
          -1.075241131554598,
          -2.8287826318864626,
          2.136054210189507,
          0.38609878978660767,
          -1.6766148708269466,
          -0.43335314576840184,
          -0.6229073104172735,
          -0.5055562520910752,
          0.4588731405931876,
          -0.9709314596096776,
          -1.9218522420442605,
          -1.1194405577485236,
          -1.791423871895468,
          -0.4270051517947074,
          0.6222129827945807,
          -0.7878569695431034,
          -1.3978580491023649,
          1.6779823657239594,
          0.07792772247489195
         ]
        },
        {
         "histfunc": "count",
         "histnorm": "",
         "marker": {
          "color": "rgba(50, 171, 96, 1.0)",
          "line": {
           "color": "#4D5663",
           "width": 1.3
          }
         },
         "name": "C",
         "nbinsx": 25,
         "opacity": 0.8,
         "orientation": "v",
         "type": "histogram",
         "x": [
          -1.0254696456815664,
          0.7775611998203021,
          -0.20499226929278383,
          1.6015143467695474,
          2.097806392179643,
          -0.4796119091423343,
          1.082289424478793,
          -0.288966877710572,
          0.9213989888372064,
          0.01462940254773187,
          0.8592148213502434,
          0.5088230613436406,
          -0.040219135029324865,
          1.28473655462965,
          0.3423847164018379,
          0.8579061156088263,
          1.3606289039525115,
          0.2910045147197126,
          -0.5712703432758236,
          0.22685702819916062,
          -0.14530467368663916,
          1.4645560699327624,
          1.0215181407236713,
          -1.086646700625405,
          0.5365380164670625,
          -1.1042970297733814,
          -0.6058807027596476,
          -2.1380588405986485,
          1.7431683533201399,
          1.7302484983906652,
          1.288911148472986,
          1.078148783006668,
          -0.24590453578333873,
          1.1225823894268763,
          -0.3526066675255926,
          1.6560803349462097,
          0.015590437840218005,
          -1.6932085391822211,
          0.5437404788529965,
          0.6994865289367478,
          2.6186636395723157,
          1.6601574901932357,
          -0.07613554282868827,
          -0.3485755963494323,
          -1.5972319489482059,
          0.31782211580436764,
          -0.5835428084182313,
          0.08107512890708217,
          0.26815331067107984,
          1.4967254859563903,
          0.04661947159376344,
          0.5293767660853089,
          2.5895528605846025,
          1.7309986203507288,
          -0.3239633354499249,
          0.06344544639119536,
          0.8700511906010587,
          -0.48635465882446166,
          -0.546861619477916,
          1.2750447493866293,
          -1.0619992763638353,
          0.44059903665829664,
          -1.4611096291954173,
          0.4668790956832927,
          0.6991237039692891,
          -0.6229171598590227,
          0.3930809313037531,
          -1.6831173471735759,
          -0.6413720153024304,
          -0.9023310389871586,
          -1.337364637743806,
          0.5054338281563555,
          -0.23346719611390368,
          -0.059552125026203245,
          0.5921779267943594,
          -0.9829451011712914,
          -0.5411503992773751,
          -0.0028521608425189264,
          0.6806733661617044,
          -0.545069667006346,
          1.905930226797241,
          -0.24881379793339825,
          0.5344670210106673,
          0.25240035967963587,
          -0.18080354422621497,
          -1.9693964883936066,
          -1.2129477418029484,
          0.6366475468500201,
          1.4222791853401286,
          -0.9098173503757404,
          -1.7965623258527832,
          1.6616760089058293,
          0.9656171272377032,
          0.16671059556241694,
          -1.4770482531315494,
          0.5024863405437006,
          -1.1947552125809477,
          -0.5625317028407455,
          -0.5713804419749033,
          -0.9159268650090083
         ]
        },
        {
         "histfunc": "count",
         "histnorm": "",
         "marker": {
          "color": "rgba(128, 0, 128, 1.0)",
          "line": {
           "color": "#4D5663",
           "width": 1.3
          }
         },
         "name": "D",
         "nbinsx": 25,
         "opacity": 0.8,
         "orientation": "v",
         "type": "histogram",
         "x": [
          0.8701451134981023,
          -0.009464630807165916,
          1.1121383309134603,
          0.46297875573362385,
          -0.6436970180668675,
          0.4755382595616794,
          0.22558964868048326,
          -0.25049335242706516,
          -0.6900315101856774,
          -0.7689762645220269,
          -0.17949598241540698,
          0.28575432914935034,
          -0.9789663362726952,
          -0.1972315041361254,
          -0.24738689557654772,
          -0.15874656953369926,
          -0.2271395980874452,
          1.862810923538947,
          -0.3959839148509614,
          0.6297939909807113,
          -0.4189742788306943,
          -0.8351578977289027,
          1.0686659001388692,
          -1.5728691119325595,
          -1.3635106010781473,
          -1.1408364514819833,
          -0.8439806118796392,
          0.5671029854135595,
          0.5304523587298116,
          0.10609842342935913,
          0.6728987622088346,
          -1.894134951392827,
          -0.36742528550598275,
          1.324219395793488,
          -0.26191645539166897,
          -1.6693567626397805,
          -1.4219945824704003,
          1.1413038338392376,
          -1.4740520691504395,
          -0.6141517495442599,
          0.751642535199614,
          -0.895572577627479,
          -0.2273617535118292,
          0.20162941381999344,
          0.3826505688526492,
          0.5958049875378956,
          -0.05669134538874129,
          1.0148030537235921,
          0.3996173755041809,
          0.08690434639985714,
          -0.31612170133716977,
          0.4270831432743658,
          0.5158923167878706,
          -0.723365309296625,
          -0.046398539108323075,
          -2.366503533614684,
          1.7528648531263429,
          -1.9860526847326894,
          -1.7984247093651877,
          0.18254546199109117,
          0.06146836080597479,
          1.7795084968854165,
          0.46604601157724385,
          0.3057646323657242,
          -1.3894966491503697,
          1.8188177701780233,
          -0.2697969369066025,
          0.9585666934785415,
          -0.5243422761673631,
          0.7610617739364335,
          0.5075207721743724,
          -0.018617492383678786,
          -1.4127937858342468,
          -0.8397363996014167,
          0.43971330013637633,
          -1.7461070273974852,
          0.17066683195978116,
          0.15695222447033608,
          -0.6549721686911111,
          -0.7970805562895228,
          -0.3500779369444265,
          -0.35563584940702364,
          -0.7475789766095714,
          -0.5235231241193639,
          0.265766403143593,
          0.4057607782617236,
          -0.5346110017944211,
          1.9574517152516788,
          -0.6152555557576844,
          -1.3500515174050454,
          -0.4612020773142193,
          -0.08302484591615515,
          0.8496693590441516,
          -0.38681138818184313,
          0.3267484329796052,
          0.4527531986592999,
          -0.06339555709900874,
          0.8129693027331496,
          -0.4732417609307742,
          -0.15976325370741937
         ]
        }
       ],
       "layout": {
        "barmode": "overlay",
        "legend": {
         "bgcolor": "#F5F6F9",
         "font": {
          "color": "#4D5663"
         }
        },
        "paper_bgcolor": "#F5F6F9",
        "plot_bgcolor": "#F5F6F9",
        "template": {
         "data": {
          "bar": [
           {
            "error_x": {
             "color": "#2a3f5f"
            },
            "error_y": {
             "color": "#2a3f5f"
            },
            "marker": {
             "line": {
              "color": "#E5ECF6",
              "width": 0.5
             },
             "pattern": {
              "fillmode": "overlay",
              "size": 10,
              "solidity": 0.2
             }
            },
            "type": "bar"
           }
          ],
          "barpolar": [
           {
            "marker": {
             "line": {
              "color": "#E5ECF6",
              "width": 0.5
             },
             "pattern": {
              "fillmode": "overlay",
              "size": 10,
              "solidity": 0.2
             }
            },
            "type": "barpolar"
           }
          ],
          "carpet": [
           {
            "aaxis": {
             "endlinecolor": "#2a3f5f",
             "gridcolor": "white",
             "linecolor": "white",
             "minorgridcolor": "white",
             "startlinecolor": "#2a3f5f"
            },
            "baxis": {
             "endlinecolor": "#2a3f5f",
             "gridcolor": "white",
             "linecolor": "white",
             "minorgridcolor": "white",
             "startlinecolor": "#2a3f5f"
            },
            "type": "carpet"
           }
          ],
          "choropleth": [
           {
            "colorbar": {
             "outlinewidth": 0,
             "ticks": ""
            },
            "type": "choropleth"
           }
          ],
          "contour": [
           {
            "colorbar": {
             "outlinewidth": 0,
             "ticks": ""
            },
            "colorscale": [
             [
              0,
              "#0d0887"
             ],
             [
              0.1111111111111111,
              "#46039f"
             ],
             [
              0.2222222222222222,
              "#7201a8"
             ],
             [
              0.3333333333333333,
              "#9c179e"
             ],
             [
              0.4444444444444444,
              "#bd3786"
             ],
             [
              0.5555555555555556,
              "#d8576b"
             ],
             [
              0.6666666666666666,
              "#ed7953"
             ],
             [
              0.7777777777777778,
              "#fb9f3a"
             ],
             [
              0.8888888888888888,
              "#fdca26"
             ],
             [
              1,
              "#f0f921"
             ]
            ],
            "type": "contour"
           }
          ],
          "contourcarpet": [
           {
            "colorbar": {
             "outlinewidth": 0,
             "ticks": ""
            },
            "type": "contourcarpet"
           }
          ],
          "heatmap": [
           {
            "colorbar": {
             "outlinewidth": 0,
             "ticks": ""
            },
            "colorscale": [
             [
              0,
              "#0d0887"
             ],
             [
              0.1111111111111111,
              "#46039f"
             ],
             [
              0.2222222222222222,
              "#7201a8"
             ],
             [
              0.3333333333333333,
              "#9c179e"
             ],
             [
              0.4444444444444444,
              "#bd3786"
             ],
             [
              0.5555555555555556,
              "#d8576b"
             ],
             [
              0.6666666666666666,
              "#ed7953"
             ],
             [
              0.7777777777777778,
              "#fb9f3a"
             ],
             [
              0.8888888888888888,
              "#fdca26"
             ],
             [
              1,
              "#f0f921"
             ]
            ],
            "type": "heatmap"
           }
          ],
          "heatmapgl": [
           {
            "colorbar": {
             "outlinewidth": 0,
             "ticks": ""
            },
            "colorscale": [
             [
              0,
              "#0d0887"
             ],
             [
              0.1111111111111111,
              "#46039f"
             ],
             [
              0.2222222222222222,
              "#7201a8"
             ],
             [
              0.3333333333333333,
              "#9c179e"
             ],
             [
              0.4444444444444444,
              "#bd3786"
             ],
             [
              0.5555555555555556,
              "#d8576b"
             ],
             [
              0.6666666666666666,
              "#ed7953"
             ],
             [
              0.7777777777777778,
              "#fb9f3a"
             ],
             [
              0.8888888888888888,
              "#fdca26"
             ],
             [
              1,
              "#f0f921"
             ]
            ],
            "type": "heatmapgl"
           }
          ],
          "histogram": [
           {
            "marker": {
             "pattern": {
              "fillmode": "overlay",
              "size": 10,
              "solidity": 0.2
             }
            },
            "type": "histogram"
           }
          ],
          "histogram2d": [
           {
            "colorbar": {
             "outlinewidth": 0,
             "ticks": ""
            },
            "colorscale": [
             [
              0,
              "#0d0887"
             ],
             [
              0.1111111111111111,
              "#46039f"
             ],
             [
              0.2222222222222222,
              "#7201a8"
             ],
             [
              0.3333333333333333,
              "#9c179e"
             ],
             [
              0.4444444444444444,
              "#bd3786"
             ],
             [
              0.5555555555555556,
              "#d8576b"
             ],
             [
              0.6666666666666666,
              "#ed7953"
             ],
             [
              0.7777777777777778,
              "#fb9f3a"
             ],
             [
              0.8888888888888888,
              "#fdca26"
             ],
             [
              1,
              "#f0f921"
             ]
            ],
            "type": "histogram2d"
           }
          ],
          "histogram2dcontour": [
           {
            "colorbar": {
             "outlinewidth": 0,
             "ticks": ""
            },
            "colorscale": [
             [
              0,
              "#0d0887"
             ],
             [
              0.1111111111111111,
              "#46039f"
             ],
             [
              0.2222222222222222,
              "#7201a8"
             ],
             [
              0.3333333333333333,
              "#9c179e"
             ],
             [
              0.4444444444444444,
              "#bd3786"
             ],
             [
              0.5555555555555556,
              "#d8576b"
             ],
             [
              0.6666666666666666,
              "#ed7953"
             ],
             [
              0.7777777777777778,
              "#fb9f3a"
             ],
             [
              0.8888888888888888,
              "#fdca26"
             ],
             [
              1,
              "#f0f921"
             ]
            ],
            "type": "histogram2dcontour"
           }
          ],
          "mesh3d": [
           {
            "colorbar": {
             "outlinewidth": 0,
             "ticks": ""
            },
            "type": "mesh3d"
           }
          ],
          "parcoords": [
           {
            "line": {
             "colorbar": {
              "outlinewidth": 0,
              "ticks": ""
             }
            },
            "type": "parcoords"
           }
          ],
          "pie": [
           {
            "automargin": true,
            "type": "pie"
           }
          ],
          "scatter": [
           {
            "fillpattern": {
             "fillmode": "overlay",
             "size": 10,
             "solidity": 0.2
            },
            "type": "scatter"
           }
          ],
          "scatter3d": [
           {
            "line": {
             "colorbar": {
              "outlinewidth": 0,
              "ticks": ""
             }
            },
            "marker": {
             "colorbar": {
              "outlinewidth": 0,
              "ticks": ""
             }
            },
            "type": "scatter3d"
           }
          ],
          "scattercarpet": [
           {
            "marker": {
             "colorbar": {
              "outlinewidth": 0,
              "ticks": ""
             }
            },
            "type": "scattercarpet"
           }
          ],
          "scattergeo": [
           {
            "marker": {
             "colorbar": {
              "outlinewidth": 0,
              "ticks": ""
             }
            },
            "type": "scattergeo"
           }
          ],
          "scattergl": [
           {
            "marker": {
             "colorbar": {
              "outlinewidth": 0,
              "ticks": ""
             }
            },
            "type": "scattergl"
           }
          ],
          "scattermapbox": [
           {
            "marker": {
             "colorbar": {
              "outlinewidth": 0,
              "ticks": ""
             }
            },
            "type": "scattermapbox"
           }
          ],
          "scatterpolar": [
           {
            "marker": {
             "colorbar": {
              "outlinewidth": 0,
              "ticks": ""
             }
            },
            "type": "scatterpolar"
           }
          ],
          "scatterpolargl": [
           {
            "marker": {
             "colorbar": {
              "outlinewidth": 0,
              "ticks": ""
             }
            },
            "type": "scatterpolargl"
           }
          ],
          "scatterternary": [
           {
            "marker": {
             "colorbar": {
              "outlinewidth": 0,
              "ticks": ""
             }
            },
            "type": "scatterternary"
           }
          ],
          "surface": [
           {
            "colorbar": {
             "outlinewidth": 0,
             "ticks": ""
            },
            "colorscale": [
             [
              0,
              "#0d0887"
             ],
             [
              0.1111111111111111,
              "#46039f"
             ],
             [
              0.2222222222222222,
              "#7201a8"
             ],
             [
              0.3333333333333333,
              "#9c179e"
             ],
             [
              0.4444444444444444,
              "#bd3786"
             ],
             [
              0.5555555555555556,
              "#d8576b"
             ],
             [
              0.6666666666666666,
              "#ed7953"
             ],
             [
              0.7777777777777778,
              "#fb9f3a"
             ],
             [
              0.8888888888888888,
              "#fdca26"
             ],
             [
              1,
              "#f0f921"
             ]
            ],
            "type": "surface"
           }
          ],
          "table": [
           {
            "cells": {
             "fill": {
              "color": "#EBF0F8"
             },
             "line": {
              "color": "white"
             }
            },
            "header": {
             "fill": {
              "color": "#C8D4E3"
             },
             "line": {
              "color": "white"
             }
            },
            "type": "table"
           }
          ]
         },
         "layout": {
          "annotationdefaults": {
           "arrowcolor": "#2a3f5f",
           "arrowhead": 0,
           "arrowwidth": 1
          },
          "autotypenumbers": "strict",
          "coloraxis": {
           "colorbar": {
            "outlinewidth": 0,
            "ticks": ""
           }
          },
          "colorscale": {
           "diverging": [
            [
             0,
             "#8e0152"
            ],
            [
             0.1,
             "#c51b7d"
            ],
            [
             0.2,
             "#de77ae"
            ],
            [
             0.3,
             "#f1b6da"
            ],
            [
             0.4,
             "#fde0ef"
            ],
            [
             0.5,
             "#f7f7f7"
            ],
            [
             0.6,
             "#e6f5d0"
            ],
            [
             0.7,
             "#b8e186"
            ],
            [
             0.8,
             "#7fbc41"
            ],
            [
             0.9,
             "#4d9221"
            ],
            [
             1,
             "#276419"
            ]
           ],
           "sequential": [
            [
             0,
             "#0d0887"
            ],
            [
             0.1111111111111111,
             "#46039f"
            ],
            [
             0.2222222222222222,
             "#7201a8"
            ],
            [
             0.3333333333333333,
             "#9c179e"
            ],
            [
             0.4444444444444444,
             "#bd3786"
            ],
            [
             0.5555555555555556,
             "#d8576b"
            ],
            [
             0.6666666666666666,
             "#ed7953"
            ],
            [
             0.7777777777777778,
             "#fb9f3a"
            ],
            [
             0.8888888888888888,
             "#fdca26"
            ],
            [
             1,
             "#f0f921"
            ]
           ],
           "sequentialminus": [
            [
             0,
             "#0d0887"
            ],
            [
             0.1111111111111111,
             "#46039f"
            ],
            [
             0.2222222222222222,
             "#7201a8"
            ],
            [
             0.3333333333333333,
             "#9c179e"
            ],
            [
             0.4444444444444444,
             "#bd3786"
            ],
            [
             0.5555555555555556,
             "#d8576b"
            ],
            [
             0.6666666666666666,
             "#ed7953"
            ],
            [
             0.7777777777777778,
             "#fb9f3a"
            ],
            [
             0.8888888888888888,
             "#fdca26"
            ],
            [
             1,
             "#f0f921"
            ]
           ]
          },
          "colorway": [
           "#636efa",
           "#EF553B",
           "#00cc96",
           "#ab63fa",
           "#FFA15A",
           "#19d3f3",
           "#FF6692",
           "#B6E880",
           "#FF97FF",
           "#FECB52"
          ],
          "font": {
           "color": "#2a3f5f"
          },
          "geo": {
           "bgcolor": "white",
           "lakecolor": "white",
           "landcolor": "#E5ECF6",
           "showlakes": true,
           "showland": true,
           "subunitcolor": "white"
          },
          "hoverlabel": {
           "align": "left"
          },
          "hovermode": "closest",
          "mapbox": {
           "style": "light"
          },
          "paper_bgcolor": "white",
          "plot_bgcolor": "#E5ECF6",
          "polar": {
           "angularaxis": {
            "gridcolor": "white",
            "linecolor": "white",
            "ticks": ""
           },
           "bgcolor": "#E5ECF6",
           "radialaxis": {
            "gridcolor": "white",
            "linecolor": "white",
            "ticks": ""
           }
          },
          "scene": {
           "xaxis": {
            "backgroundcolor": "#E5ECF6",
            "gridcolor": "white",
            "gridwidth": 2,
            "linecolor": "white",
            "showbackground": true,
            "ticks": "",
            "zerolinecolor": "white"
           },
           "yaxis": {
            "backgroundcolor": "#E5ECF6",
            "gridcolor": "white",
            "gridwidth": 2,
            "linecolor": "white",
            "showbackground": true,
            "ticks": "",
            "zerolinecolor": "white"
           },
           "zaxis": {
            "backgroundcolor": "#E5ECF6",
            "gridcolor": "white",
            "gridwidth": 2,
            "linecolor": "white",
            "showbackground": true,
            "ticks": "",
            "zerolinecolor": "white"
           }
          },
          "shapedefaults": {
           "line": {
            "color": "#2a3f5f"
           }
          },
          "ternary": {
           "aaxis": {
            "gridcolor": "white",
            "linecolor": "white",
            "ticks": ""
           },
           "baxis": {
            "gridcolor": "white",
            "linecolor": "white",
            "ticks": ""
           },
           "bgcolor": "#E5ECF6",
           "caxis": {
            "gridcolor": "white",
            "linecolor": "white",
            "ticks": ""
           }
          },
          "title": {
           "x": 0.05
          },
          "xaxis": {
           "automargin": true,
           "gridcolor": "white",
           "linecolor": "white",
           "ticks": "",
           "title": {
            "standoff": 15
           },
           "zerolinecolor": "white",
           "zerolinewidth": 2
          },
          "yaxis": {
           "automargin": true,
           "gridcolor": "white",
           "linecolor": "white",
           "ticks": "",
           "title": {
            "standoff": 15
           },
           "zerolinecolor": "white",
           "zerolinewidth": 2
          }
         }
        },
        "title": {
         "font": {
          "color": "#4D5663"
         }
        },
        "xaxis": {
         "gridcolor": "#E1E5ED",
         "showgrid": true,
         "tickfont": {
          "color": "#4D5663"
         },
         "title": {
          "font": {
           "color": "#4D5663"
          },
          "text": ""
         },
         "zerolinecolor": "#E1E5ED"
        },
        "yaxis": {
         "gridcolor": "#E1E5ED",
         "showgrid": true,
         "tickfont": {
          "color": "#4D5663"
         },
         "title": {
          "font": {
           "color": "#4D5663"
          },
          "text": ""
         },
         "zerolinecolor": "#E1E5ED"
        }
       }
      },
      "text/html": [
       "<div>                            <div id=\"52073e8e-ea21-4733-b0c4-971c23681936\" class=\"plotly-graph-div\" style=\"height:525px; width:100%;\"></div>            <script type=\"text/javascript\">                require([\"plotly\"], function(Plotly) {                    window.PLOTLYENV=window.PLOTLYENV || {};\n",
       "                    window.PLOTLYENV.BASE_URL='https://plot.ly';                                    if (document.getElementById(\"52073e8e-ea21-4733-b0c4-971c23681936\")) {                    Plotly.newPlot(                        \"52073e8e-ea21-4733-b0c4-971c23681936\",                        [{\"histfunc\":\"count\",\"histnorm\":\"\",\"marker\":{\"color\":\"rgba(255, 153, 51, 1.0)\",\"line\":{\"color\":\"#4D5663\",\"width\":1.3}},\"name\":\"A\",\"nbinsx\":25,\"opacity\":0.8,\"orientation\":\"v\",\"x\":[-0.7292327978431696,-0.974830182761352,-0.26209888558511735,0.4625878154503189,0.6221956315443264,-0.6283426059822679,-1.1869257562288007,0.026352457396184876,1.5257379620231581,1.5097889271689648,-0.6791608437928496,-1.0655500653071028,0.5783798900691562,-0.5355223924045895,-0.5736487743916989,0.27782568089634363,-1.121704067911955,1.7455931181530004,0.567903648758014,-1.3223512063319718,-1.0810870370994095,0.8233908497553671,-0.33778797251284703,0.043579450021013946,-1.199789413486293,0.6924241308206706,-0.05501515108109769,-0.42943737492493633,1.8376407752463495,1.5696814508069885,0.7577066619428412,-0.8892641619069086,0.35435919411789346,0.5874653985956466,1.5418431505640875,0.2409054448296417,-0.3144984785843778,-0.21473436338089816,-1.1175123679192964,-0.5814531590899158,0.5245128721506751,-0.31633769485893803,-0.6359988668909158,-0.23726996098449016,-0.3982124198205674,-0.43722295290105845,-0.8939564181904478,1.6442649705379218,-0.03847002183551993,-2.404032839063728,1.378628141649735,-0.8312434491896347,0.2091557152576446,-1.099623054801942,2.3740966992587578,1.6821413637381235,-0.15604278937050337,1.606674383529953,0.5062402310934592,-1.9525630963497957,1.3550364682699907,1.7905006512907407,0.6360203667698248,-0.8618964953795111,0.16380466263449095,1.2803113779287176,-0.08320937923702665,-1.2482532423300359,1.5514630422022548,-1.3742530385494103,-0.782115657330491,1.4139594942160179,-1.196156501437301,0.1556477823532999,1.2192212179884288,-0.1790850020822392,-0.27884292842249364,1.5872912174311693,-2.2252991158069855,-1.0157107731910955,-0.17319966364655262,-0.003305183104299413,0.39134630972054646,-0.6299971666679965,-0.5599556417703775,1.7052530534060306,-1.0286663990820606,-0.8343300341499792,0.26836643957742273,-1.6435992402350532,0.185083912167794,0.13867387300098313,0.20557733968652833,0.8091575611898224,0.34215282304169004,1.7590302670488172,-0.06473440148486866,0.8467053994637058,-0.4096522335741291,-0.7188798737998551],\"type\":\"histogram\"},{\"histfunc\":\"count\",\"histnorm\":\"\",\"marker\":{\"color\":\"rgba(55, 128, 191, 1.0)\",\"line\":{\"color\":\"#4D5663\",\"width\":1.3}},\"name\":\"B\",\"nbinsx\":25,\"opacity\":0.8,\"orientation\":\"v\",\"x\":[0.2028904508929444,-0.5360060801057059,1.9172153542380332,1.1554998283753386,0.12181051885877126,-1.1319753703135211,1.3278769012435154,-1.373981442531079,-2.2633839963334057,0.6551232910308362,-1.504221412415844,-0.8474805378287004,-0.11093134329715523,1.241952295882244,-1.7442570727729392,0.06284888307838114,0.13129293250736535,2.202296949681284,-0.551127386875276,-1.207078337251924,0.5356896936168137,-2.3918065579996495,-0.8523246908502292,0.6248174892839728,-1.8244595775644652,1.165845385152743,-0.30163142477174654,1.660066544040394,-0.5068086946392768,-0.4556258833114967,-0.2983646508906948,0.01993433011999575,-0.7975056575397892,-1.6725777108246267,-0.29531640229284895,0.30971668360777754,0.716409560531819,0.7659397828648833,-0.11123212981795287,0.9117766490536945,0.25043579914409964,-1.344984375671524,-0.8801279362402369,0.5472592174474373,0.08204130503631124,0.17891799719213222,0.9489319327585631,0.5989101309274099,-0.8682489391966348,-2.172925528481716,0.8316005423159178,-0.06097820454389258,2.055498475504573,1.2521412919757304,0.04704227597800867,-0.4861375363540279,0.000582875403311226,-0.7320904438737423,0.686513285955763,-1.3117841313018825,-0.43690513505570056,-0.7945871974195586,-0.5879641229539143,0.24401073683741503,0.36009371304036686,-0.3019641107496942,-2.932775813982967,1.0328388977400622,-0.39009411657080284,-0.23215230892291142,-0.5672375951964085,-0.03015870112032784,0.3935515613535357,-0.34854915789772084,-0.24547773242621834,-0.9065078680653559,-0.9971414020458494,-0.08634145935478864,-0.3476514657989236,0.26556018860507086,-0.783460711466928,-1.075241131554598,-2.8287826318864626,2.136054210189507,0.38609878978660767,-1.6766148708269466,-0.43335314576840184,-0.6229073104172735,-0.5055562520910752,0.4588731405931876,-0.9709314596096776,-1.9218522420442605,-1.1194405577485236,-1.791423871895468,-0.4270051517947074,0.6222129827945807,-0.7878569695431034,-1.3978580491023649,1.6779823657239594,0.07792772247489195],\"type\":\"histogram\"},{\"histfunc\":\"count\",\"histnorm\":\"\",\"marker\":{\"color\":\"rgba(50, 171, 96, 1.0)\",\"line\":{\"color\":\"#4D5663\",\"width\":1.3}},\"name\":\"C\",\"nbinsx\":25,\"opacity\":0.8,\"orientation\":\"v\",\"x\":[-1.0254696456815664,0.7775611998203021,-0.20499226929278383,1.6015143467695474,2.097806392179643,-0.4796119091423343,1.082289424478793,-0.288966877710572,0.9213989888372064,0.01462940254773187,0.8592148213502434,0.5088230613436406,-0.040219135029324865,1.28473655462965,0.3423847164018379,0.8579061156088263,1.3606289039525115,0.2910045147197126,-0.5712703432758236,0.22685702819916062,-0.14530467368663916,1.4645560699327624,1.0215181407236713,-1.086646700625405,0.5365380164670625,-1.1042970297733814,-0.6058807027596476,-2.1380588405986485,1.7431683533201399,1.7302484983906652,1.288911148472986,1.078148783006668,-0.24590453578333873,1.1225823894268763,-0.3526066675255926,1.6560803349462097,0.015590437840218005,-1.6932085391822211,0.5437404788529965,0.6994865289367478,2.6186636395723157,1.6601574901932357,-0.07613554282868827,-0.3485755963494323,-1.5972319489482059,0.31782211580436764,-0.5835428084182313,0.08107512890708217,0.26815331067107984,1.4967254859563903,0.04661947159376344,0.5293767660853089,2.5895528605846025,1.7309986203507288,-0.3239633354499249,0.06344544639119536,0.8700511906010587,-0.48635465882446166,-0.546861619477916,1.2750447493866293,-1.0619992763638353,0.44059903665829664,-1.4611096291954173,0.4668790956832927,0.6991237039692891,-0.6229171598590227,0.3930809313037531,-1.6831173471735759,-0.6413720153024304,-0.9023310389871586,-1.337364637743806,0.5054338281563555,-0.23346719611390368,-0.059552125026203245,0.5921779267943594,-0.9829451011712914,-0.5411503992773751,-0.0028521608425189264,0.6806733661617044,-0.545069667006346,1.905930226797241,-0.24881379793339825,0.5344670210106673,0.25240035967963587,-0.18080354422621497,-1.9693964883936066,-1.2129477418029484,0.6366475468500201,1.4222791853401286,-0.9098173503757404,-1.7965623258527832,1.6616760089058293,0.9656171272377032,0.16671059556241694,-1.4770482531315494,0.5024863405437006,-1.1947552125809477,-0.5625317028407455,-0.5713804419749033,-0.9159268650090083],\"type\":\"histogram\"},{\"histfunc\":\"count\",\"histnorm\":\"\",\"marker\":{\"color\":\"rgba(128, 0, 128, 1.0)\",\"line\":{\"color\":\"#4D5663\",\"width\":1.3}},\"name\":\"D\",\"nbinsx\":25,\"opacity\":0.8,\"orientation\":\"v\",\"x\":[0.8701451134981023,-0.009464630807165916,1.1121383309134603,0.46297875573362385,-0.6436970180668675,0.4755382595616794,0.22558964868048326,-0.25049335242706516,-0.6900315101856774,-0.7689762645220269,-0.17949598241540698,0.28575432914935034,-0.9789663362726952,-0.1972315041361254,-0.24738689557654772,-0.15874656953369926,-0.2271395980874452,1.862810923538947,-0.3959839148509614,0.6297939909807113,-0.4189742788306943,-0.8351578977289027,1.0686659001388692,-1.5728691119325595,-1.3635106010781473,-1.1408364514819833,-0.8439806118796392,0.5671029854135595,0.5304523587298116,0.10609842342935913,0.6728987622088346,-1.894134951392827,-0.36742528550598275,1.324219395793488,-0.26191645539166897,-1.6693567626397805,-1.4219945824704003,1.1413038338392376,-1.4740520691504395,-0.6141517495442599,0.751642535199614,-0.895572577627479,-0.2273617535118292,0.20162941381999344,0.3826505688526492,0.5958049875378956,-0.05669134538874129,1.0148030537235921,0.3996173755041809,0.08690434639985714,-0.31612170133716977,0.4270831432743658,0.5158923167878706,-0.723365309296625,-0.046398539108323075,-2.366503533614684,1.7528648531263429,-1.9860526847326894,-1.7984247093651877,0.18254546199109117,0.06146836080597479,1.7795084968854165,0.46604601157724385,0.3057646323657242,-1.3894966491503697,1.8188177701780233,-0.2697969369066025,0.9585666934785415,-0.5243422761673631,0.7610617739364335,0.5075207721743724,-0.018617492383678786,-1.4127937858342468,-0.8397363996014167,0.43971330013637633,-1.7461070273974852,0.17066683195978116,0.15695222447033608,-0.6549721686911111,-0.7970805562895228,-0.3500779369444265,-0.35563584940702364,-0.7475789766095714,-0.5235231241193639,0.265766403143593,0.4057607782617236,-0.5346110017944211,1.9574517152516788,-0.6152555557576844,-1.3500515174050454,-0.4612020773142193,-0.08302484591615515,0.8496693590441516,-0.38681138818184313,0.3267484329796052,0.4527531986592999,-0.06339555709900874,0.8129693027331496,-0.4732417609307742,-0.15976325370741937],\"type\":\"histogram\"}],                        {\"barmode\":\"overlay\",\"legend\":{\"bgcolor\":\"#F5F6F9\",\"font\":{\"color\":\"#4D5663\"}},\"paper_bgcolor\":\"#F5F6F9\",\"plot_bgcolor\":\"#F5F6F9\",\"template\":{\"data\":{\"barpolar\":[{\"marker\":{\"line\":{\"color\":\"#E5ECF6\",\"width\":0.5},\"pattern\":{\"fillmode\":\"overlay\",\"size\":10,\"solidity\":0.2}},\"type\":\"barpolar\"}],\"bar\":[{\"error_x\":{\"color\":\"#2a3f5f\"},\"error_y\":{\"color\":\"#2a3f5f\"},\"marker\":{\"line\":{\"color\":\"#E5ECF6\",\"width\":0.5},\"pattern\":{\"fillmode\":\"overlay\",\"size\":10,\"solidity\":0.2}},\"type\":\"bar\"}],\"carpet\":[{\"aaxis\":{\"endlinecolor\":\"#2a3f5f\",\"gridcolor\":\"white\",\"linecolor\":\"white\",\"minorgridcolor\":\"white\",\"startlinecolor\":\"#2a3f5f\"},\"baxis\":{\"endlinecolor\":\"#2a3f5f\",\"gridcolor\":\"white\",\"linecolor\":\"white\",\"minorgridcolor\":\"white\",\"startlinecolor\":\"#2a3f5f\"},\"type\":\"carpet\"}],\"choropleth\":[{\"colorbar\":{\"outlinewidth\":0,\"ticks\":\"\"},\"type\":\"choropleth\"}],\"contourcarpet\":[{\"colorbar\":{\"outlinewidth\":0,\"ticks\":\"\"},\"type\":\"contourcarpet\"}],\"contour\":[{\"colorbar\":{\"outlinewidth\":0,\"ticks\":\"\"},\"colorscale\":[[0.0,\"#0d0887\"],[0.1111111111111111,\"#46039f\"],[0.2222222222222222,\"#7201a8\"],[0.3333333333333333,\"#9c179e\"],[0.4444444444444444,\"#bd3786\"],[0.5555555555555556,\"#d8576b\"],[0.6666666666666666,\"#ed7953\"],[0.7777777777777778,\"#fb9f3a\"],[0.8888888888888888,\"#fdca26\"],[1.0,\"#f0f921\"]],\"type\":\"contour\"}],\"heatmapgl\":[{\"colorbar\":{\"outlinewidth\":0,\"ticks\":\"\"},\"colorscale\":[[0.0,\"#0d0887\"],[0.1111111111111111,\"#46039f\"],[0.2222222222222222,\"#7201a8\"],[0.3333333333333333,\"#9c179e\"],[0.4444444444444444,\"#bd3786\"],[0.5555555555555556,\"#d8576b\"],[0.6666666666666666,\"#ed7953\"],[0.7777777777777778,\"#fb9f3a\"],[0.8888888888888888,\"#fdca26\"],[1.0,\"#f0f921\"]],\"type\":\"heatmapgl\"}],\"heatmap\":[{\"colorbar\":{\"outlinewidth\":0,\"ticks\":\"\"},\"colorscale\":[[0.0,\"#0d0887\"],[0.1111111111111111,\"#46039f\"],[0.2222222222222222,\"#7201a8\"],[0.3333333333333333,\"#9c179e\"],[0.4444444444444444,\"#bd3786\"],[0.5555555555555556,\"#d8576b\"],[0.6666666666666666,\"#ed7953\"],[0.7777777777777778,\"#fb9f3a\"],[0.8888888888888888,\"#fdca26\"],[1.0,\"#f0f921\"]],\"type\":\"heatmap\"}],\"histogram2dcontour\":[{\"colorbar\":{\"outlinewidth\":0,\"ticks\":\"\"},\"colorscale\":[[0.0,\"#0d0887\"],[0.1111111111111111,\"#46039f\"],[0.2222222222222222,\"#7201a8\"],[0.3333333333333333,\"#9c179e\"],[0.4444444444444444,\"#bd3786\"],[0.5555555555555556,\"#d8576b\"],[0.6666666666666666,\"#ed7953\"],[0.7777777777777778,\"#fb9f3a\"],[0.8888888888888888,\"#fdca26\"],[1.0,\"#f0f921\"]],\"type\":\"histogram2dcontour\"}],\"histogram2d\":[{\"colorbar\":{\"outlinewidth\":0,\"ticks\":\"\"},\"colorscale\":[[0.0,\"#0d0887\"],[0.1111111111111111,\"#46039f\"],[0.2222222222222222,\"#7201a8\"],[0.3333333333333333,\"#9c179e\"],[0.4444444444444444,\"#bd3786\"],[0.5555555555555556,\"#d8576b\"],[0.6666666666666666,\"#ed7953\"],[0.7777777777777778,\"#fb9f3a\"],[0.8888888888888888,\"#fdca26\"],[1.0,\"#f0f921\"]],\"type\":\"histogram2d\"}],\"histogram\":[{\"marker\":{\"pattern\":{\"fillmode\":\"overlay\",\"size\":10,\"solidity\":0.2}},\"type\":\"histogram\"}],\"mesh3d\":[{\"colorbar\":{\"outlinewidth\":0,\"ticks\":\"\"},\"type\":\"mesh3d\"}],\"parcoords\":[{\"line\":{\"colorbar\":{\"outlinewidth\":0,\"ticks\":\"\"}},\"type\":\"parcoords\"}],\"pie\":[{\"automargin\":true,\"type\":\"pie\"}],\"scatter3d\":[{\"line\":{\"colorbar\":{\"outlinewidth\":0,\"ticks\":\"\"}},\"marker\":{\"colorbar\":{\"outlinewidth\":0,\"ticks\":\"\"}},\"type\":\"scatter3d\"}],\"scattercarpet\":[{\"marker\":{\"colorbar\":{\"outlinewidth\":0,\"ticks\":\"\"}},\"type\":\"scattercarpet\"}],\"scattergeo\":[{\"marker\":{\"colorbar\":{\"outlinewidth\":0,\"ticks\":\"\"}},\"type\":\"scattergeo\"}],\"scattergl\":[{\"marker\":{\"colorbar\":{\"outlinewidth\":0,\"ticks\":\"\"}},\"type\":\"scattergl\"}],\"scattermapbox\":[{\"marker\":{\"colorbar\":{\"outlinewidth\":0,\"ticks\":\"\"}},\"type\":\"scattermapbox\"}],\"scatterpolargl\":[{\"marker\":{\"colorbar\":{\"outlinewidth\":0,\"ticks\":\"\"}},\"type\":\"scatterpolargl\"}],\"scatterpolar\":[{\"marker\":{\"colorbar\":{\"outlinewidth\":0,\"ticks\":\"\"}},\"type\":\"scatterpolar\"}],\"scatter\":[{\"fillpattern\":{\"fillmode\":\"overlay\",\"size\":10,\"solidity\":0.2},\"type\":\"scatter\"}],\"scatterternary\":[{\"marker\":{\"colorbar\":{\"outlinewidth\":0,\"ticks\":\"\"}},\"type\":\"scatterternary\"}],\"surface\":[{\"colorbar\":{\"outlinewidth\":0,\"ticks\":\"\"},\"colorscale\":[[0.0,\"#0d0887\"],[0.1111111111111111,\"#46039f\"],[0.2222222222222222,\"#7201a8\"],[0.3333333333333333,\"#9c179e\"],[0.4444444444444444,\"#bd3786\"],[0.5555555555555556,\"#d8576b\"],[0.6666666666666666,\"#ed7953\"],[0.7777777777777778,\"#fb9f3a\"],[0.8888888888888888,\"#fdca26\"],[1.0,\"#f0f921\"]],\"type\":\"surface\"}],\"table\":[{\"cells\":{\"fill\":{\"color\":\"#EBF0F8\"},\"line\":{\"color\":\"white\"}},\"header\":{\"fill\":{\"color\":\"#C8D4E3\"},\"line\":{\"color\":\"white\"}},\"type\":\"table\"}]},\"layout\":{\"annotationdefaults\":{\"arrowcolor\":\"#2a3f5f\",\"arrowhead\":0,\"arrowwidth\":1},\"autotypenumbers\":\"strict\",\"coloraxis\":{\"colorbar\":{\"outlinewidth\":0,\"ticks\":\"\"}},\"colorscale\":{\"diverging\":[[0,\"#8e0152\"],[0.1,\"#c51b7d\"],[0.2,\"#de77ae\"],[0.3,\"#f1b6da\"],[0.4,\"#fde0ef\"],[0.5,\"#f7f7f7\"],[0.6,\"#e6f5d0\"],[0.7,\"#b8e186\"],[0.8,\"#7fbc41\"],[0.9,\"#4d9221\"],[1,\"#276419\"]],\"sequential\":[[0.0,\"#0d0887\"],[0.1111111111111111,\"#46039f\"],[0.2222222222222222,\"#7201a8\"],[0.3333333333333333,\"#9c179e\"],[0.4444444444444444,\"#bd3786\"],[0.5555555555555556,\"#d8576b\"],[0.6666666666666666,\"#ed7953\"],[0.7777777777777778,\"#fb9f3a\"],[0.8888888888888888,\"#fdca26\"],[1.0,\"#f0f921\"]],\"sequentialminus\":[[0.0,\"#0d0887\"],[0.1111111111111111,\"#46039f\"],[0.2222222222222222,\"#7201a8\"],[0.3333333333333333,\"#9c179e\"],[0.4444444444444444,\"#bd3786\"],[0.5555555555555556,\"#d8576b\"],[0.6666666666666666,\"#ed7953\"],[0.7777777777777778,\"#fb9f3a\"],[0.8888888888888888,\"#fdca26\"],[1.0,\"#f0f921\"]]},\"colorway\":[\"#636efa\",\"#EF553B\",\"#00cc96\",\"#ab63fa\",\"#FFA15A\",\"#19d3f3\",\"#FF6692\",\"#B6E880\",\"#FF97FF\",\"#FECB52\"],\"font\":{\"color\":\"#2a3f5f\"},\"geo\":{\"bgcolor\":\"white\",\"lakecolor\":\"white\",\"landcolor\":\"#E5ECF6\",\"showlakes\":true,\"showland\":true,\"subunitcolor\":\"white\"},\"hoverlabel\":{\"align\":\"left\"},\"hovermode\":\"closest\",\"mapbox\":{\"style\":\"light\"},\"paper_bgcolor\":\"white\",\"plot_bgcolor\":\"#E5ECF6\",\"polar\":{\"angularaxis\":{\"gridcolor\":\"white\",\"linecolor\":\"white\",\"ticks\":\"\"},\"bgcolor\":\"#E5ECF6\",\"radialaxis\":{\"gridcolor\":\"white\",\"linecolor\":\"white\",\"ticks\":\"\"}},\"scene\":{\"xaxis\":{\"backgroundcolor\":\"#E5ECF6\",\"gridcolor\":\"white\",\"gridwidth\":2,\"linecolor\":\"white\",\"showbackground\":true,\"ticks\":\"\",\"zerolinecolor\":\"white\"},\"yaxis\":{\"backgroundcolor\":\"#E5ECF6\",\"gridcolor\":\"white\",\"gridwidth\":2,\"linecolor\":\"white\",\"showbackground\":true,\"ticks\":\"\",\"zerolinecolor\":\"white\"},\"zaxis\":{\"backgroundcolor\":\"#E5ECF6\",\"gridcolor\":\"white\",\"gridwidth\":2,\"linecolor\":\"white\",\"showbackground\":true,\"ticks\":\"\",\"zerolinecolor\":\"white\"}},\"shapedefaults\":{\"line\":{\"color\":\"#2a3f5f\"}},\"ternary\":{\"aaxis\":{\"gridcolor\":\"white\",\"linecolor\":\"white\",\"ticks\":\"\"},\"baxis\":{\"gridcolor\":\"white\",\"linecolor\":\"white\",\"ticks\":\"\"},\"bgcolor\":\"#E5ECF6\",\"caxis\":{\"gridcolor\":\"white\",\"linecolor\":\"white\",\"ticks\":\"\"}},\"title\":{\"x\":0.05},\"xaxis\":{\"automargin\":true,\"gridcolor\":\"white\",\"linecolor\":\"white\",\"ticks\":\"\",\"title\":{\"standoff\":15},\"zerolinecolor\":\"white\",\"zerolinewidth\":2},\"yaxis\":{\"automargin\":true,\"gridcolor\":\"white\",\"linecolor\":\"white\",\"ticks\":\"\",\"title\":{\"standoff\":15},\"zerolinecolor\":\"white\",\"zerolinewidth\":2}}},\"title\":{\"font\":{\"color\":\"#4D5663\"}},\"xaxis\":{\"gridcolor\":\"#E1E5ED\",\"showgrid\":true,\"tickfont\":{\"color\":\"#4D5663\"},\"title\":{\"font\":{\"color\":\"#4D5663\"},\"text\":\"\"},\"zerolinecolor\":\"#E1E5ED\"},\"yaxis\":{\"gridcolor\":\"#E1E5ED\",\"showgrid\":true,\"tickfont\":{\"color\":\"#4D5663\"},\"title\":{\"font\":{\"color\":\"#4D5663\"},\"text\":\"\"},\"zerolinecolor\":\"#E1E5ED\"}},                        {\"showLink\": true, \"linkText\": \"Export to plot.ly\", \"plotlyServerURL\": \"https://plot.ly\", \"responsive\": true}                    ).then(function(){\n",
       "                            \n",
       "var gd = document.getElementById('52073e8e-ea21-4733-b0c4-971c23681936');\n",
       "var x = new MutationObserver(function (mutations, observer) {{\n",
       "        var display = window.getComputedStyle(gd).display;\n",
       "        if (!display || display === 'none') {{\n",
       "            console.log([gd, 'removed!']);\n",
       "            Plotly.purge(gd);\n",
       "            observer.disconnect();\n",
       "        }}\n",
       "}});\n",
       "\n",
       "// Listen for the removal of the full notebook cells\n",
       "var notebookContainer = gd.closest('#notebook-container');\n",
       "if (notebookContainer) {{\n",
       "    x.observe(notebookContainer, {childList: true});\n",
       "}}\n",
       "\n",
       "// Listen for the clearing of the current output cell\n",
       "var outputEl = gd.closest('.output');\n",
       "if (outputEl) {{\n",
       "    x.observe(outputEl, {childList: true});\n",
       "}}\n",
       "\n",
       "                        })                };                });            </script>        </div>"
      ]
     },
     "metadata": {},
     "output_type": "display_data"
    }
   ],
   "source": [
    "df.iplot(kind='hist',bins=25)"
   ]
  },
  {
   "cell_type": "code",
   "execution_count": 23,
   "metadata": {},
   "outputs": [
    {
     "data": {
      "application/vnd.plotly.v1+json": {
       "config": {
        "linkText": "Export to plot.ly",
        "plotlyServerURL": "https://plot.ly",
        "showLink": true
       },
       "data": [
        {
         "marker": {
          "color": [
           "rgb(255, 153, 51)",
           "rgb(55, 128, 191)",
           "rgb(50, 171, 96)",
           "rgb(128, 0, 128)",
           "rgb(219, 64, 82)",
           "rgb(0, 128, 128)",
           "rgb(255, 255, 51)",
           "rgb(128, 128, 0)",
           "rgb(251, 128, 114)",
           "rgb(128, 177, 211)"
          ],
          "line": {
           "width": 1.3
          },
          "size": [
           35,
           73,
           52,
           90,
           101,
           46,
           79,
           50,
           76,
           57,
           75,
           67,
           56,
           83,
           64,
           74,
           85,
           63,
           44,
           61,
           53,
           87,
           78,
           34,
           68,
           33,
           44,
           12,
           93,
           93,
           84,
           79,
           51,
           80,
           49,
           91,
           57,
           21,
           68,
           71,
           112,
           91,
           55,
           49,
           23,
           63,
           44,
           58,
           62,
           88,
           57,
           68,
           111,
           93,
           50,
           58,
           75,
           46,
           45,
           83,
           34,
           66,
           26,
           66,
           71,
           43,
           65,
           21,
           43,
           37,
           28,
           67,
           52,
           55,
           69,
           36,
           45,
           56,
           71,
           45,
           97,
           51,
           68,
           62,
           53,
           15,
           31,
           70,
           86,
           37,
           19,
           91,
           77,
           60,
           25,
           67,
           31,
           45,
           44,
           37
          ],
          "symbol": "circle"
         },
         "mode": "markers",
         "text": "",
         "type": "scatter",
         "x": [
          -0.7292327978431696,
          -0.974830182761352,
          -0.26209888558511735,
          0.4625878154503189,
          0.6221956315443264,
          -0.6283426059822679,
          -1.1869257562288007,
          0.026352457396184876,
          1.5257379620231581,
          1.5097889271689648,
          -0.6791608437928496,
          -1.0655500653071028,
          0.5783798900691562,
          -0.5355223924045895,
          -0.5736487743916989,
          0.27782568089634363,
          -1.121704067911955,
          1.7455931181530004,
          0.567903648758014,
          -1.3223512063319718,
          -1.0810870370994095,
          0.8233908497553671,
          -0.33778797251284703,
          0.043579450021013946,
          -1.199789413486293,
          0.6924241308206706,
          -0.05501515108109769,
          -0.42943737492493633,
          1.8376407752463495,
          1.5696814508069885,
          0.7577066619428412,
          -0.8892641619069086,
          0.35435919411789346,
          0.5874653985956466,
          1.5418431505640875,
          0.2409054448296417,
          -0.3144984785843778,
          -0.21473436338089816,
          -1.1175123679192964,
          -0.5814531590899158,
          0.5245128721506751,
          -0.31633769485893803,
          -0.6359988668909158,
          -0.23726996098449016,
          -0.3982124198205674,
          -0.43722295290105845,
          -0.8939564181904478,
          1.6442649705379218,
          -0.03847002183551993,
          -2.404032839063728,
          1.378628141649735,
          -0.8312434491896347,
          0.2091557152576446,
          -1.099623054801942,
          2.3740966992587578,
          1.6821413637381235,
          -0.15604278937050337,
          1.606674383529953,
          0.5062402310934592,
          -1.9525630963497957,
          1.3550364682699907,
          1.7905006512907407,
          0.6360203667698248,
          -0.8618964953795111,
          0.16380466263449095,
          1.2803113779287176,
          -0.08320937923702665,
          -1.2482532423300359,
          1.5514630422022548,
          -1.3742530385494103,
          -0.782115657330491,
          1.4139594942160179,
          -1.196156501437301,
          0.1556477823532999,
          1.2192212179884288,
          -0.1790850020822392,
          -0.27884292842249364,
          1.5872912174311693,
          -2.2252991158069855,
          -1.0157107731910955,
          -0.17319966364655262,
          -0.003305183104299413,
          0.39134630972054646,
          -0.6299971666679965,
          -0.5599556417703775,
          1.7052530534060306,
          -1.0286663990820606,
          -0.8343300341499792,
          0.26836643957742273,
          -1.6435992402350532,
          0.185083912167794,
          0.13867387300098313,
          0.20557733968652833,
          0.8091575611898224,
          0.34215282304169004,
          1.7590302670488172,
          -0.06473440148486866,
          0.8467053994637058,
          -0.4096522335741291,
          -0.7188798737998551
         ],
         "y": [
          0.2028904508929444,
          -0.5360060801057059,
          1.9172153542380332,
          1.1554998283753386,
          0.12181051885877126,
          -1.1319753703135211,
          1.3278769012435154,
          -1.373981442531079,
          -2.2633839963334057,
          0.6551232910308362,
          -1.504221412415844,
          -0.8474805378287004,
          -0.11093134329715523,
          1.241952295882244,
          -1.7442570727729392,
          0.06284888307838114,
          0.13129293250736535,
          2.202296949681284,
          -0.551127386875276,
          -1.207078337251924,
          0.5356896936168137,
          -2.3918065579996495,
          -0.8523246908502292,
          0.6248174892839728,
          -1.8244595775644652,
          1.165845385152743,
          -0.30163142477174654,
          1.660066544040394,
          -0.5068086946392768,
          -0.4556258833114967,
          -0.2983646508906948,
          0.01993433011999575,
          -0.7975056575397892,
          -1.6725777108246267,
          -0.29531640229284895,
          0.30971668360777754,
          0.716409560531819,
          0.7659397828648833,
          -0.11123212981795287,
          0.9117766490536945,
          0.25043579914409964,
          -1.344984375671524,
          -0.8801279362402369,
          0.5472592174474373,
          0.08204130503631124,
          0.17891799719213222,
          0.9489319327585631,
          0.5989101309274099,
          -0.8682489391966348,
          -2.172925528481716,
          0.8316005423159178,
          -0.06097820454389258,
          2.055498475504573,
          1.2521412919757304,
          0.04704227597800867,
          -0.4861375363540279,
          0.000582875403311226,
          -0.7320904438737423,
          0.686513285955763,
          -1.3117841313018825,
          -0.43690513505570056,
          -0.7945871974195586,
          -0.5879641229539143,
          0.24401073683741503,
          0.36009371304036686,
          -0.3019641107496942,
          -2.932775813982967,
          1.0328388977400622,
          -0.39009411657080284,
          -0.23215230892291142,
          -0.5672375951964085,
          -0.03015870112032784,
          0.3935515613535357,
          -0.34854915789772084,
          -0.24547773242621834,
          -0.9065078680653559,
          -0.9971414020458494,
          -0.08634145935478864,
          -0.3476514657989236,
          0.26556018860507086,
          -0.783460711466928,
          -1.075241131554598,
          -2.8287826318864626,
          2.136054210189507,
          0.38609878978660767,
          -1.6766148708269466,
          -0.43335314576840184,
          -0.6229073104172735,
          -0.5055562520910752,
          0.4588731405931876,
          -0.9709314596096776,
          -1.9218522420442605,
          -1.1194405577485236,
          -1.791423871895468,
          -0.4270051517947074,
          0.6222129827945807,
          -0.7878569695431034,
          -1.3978580491023649,
          1.6779823657239594,
          0.07792772247489195
         ]
        }
       ],
       "layout": {
        "legend": {
         "bgcolor": "#F5F6F9",
         "font": {
          "color": "#4D5663"
         }
        },
        "paper_bgcolor": "#F5F6F9",
        "plot_bgcolor": "#F5F6F9",
        "template": {
         "data": {
          "bar": [
           {
            "error_x": {
             "color": "#2a3f5f"
            },
            "error_y": {
             "color": "#2a3f5f"
            },
            "marker": {
             "line": {
              "color": "#E5ECF6",
              "width": 0.5
             },
             "pattern": {
              "fillmode": "overlay",
              "size": 10,
              "solidity": 0.2
             }
            },
            "type": "bar"
           }
          ],
          "barpolar": [
           {
            "marker": {
             "line": {
              "color": "#E5ECF6",
              "width": 0.5
             },
             "pattern": {
              "fillmode": "overlay",
              "size": 10,
              "solidity": 0.2
             }
            },
            "type": "barpolar"
           }
          ],
          "carpet": [
           {
            "aaxis": {
             "endlinecolor": "#2a3f5f",
             "gridcolor": "white",
             "linecolor": "white",
             "minorgridcolor": "white",
             "startlinecolor": "#2a3f5f"
            },
            "baxis": {
             "endlinecolor": "#2a3f5f",
             "gridcolor": "white",
             "linecolor": "white",
             "minorgridcolor": "white",
             "startlinecolor": "#2a3f5f"
            },
            "type": "carpet"
           }
          ],
          "choropleth": [
           {
            "colorbar": {
             "outlinewidth": 0,
             "ticks": ""
            },
            "type": "choropleth"
           }
          ],
          "contour": [
           {
            "colorbar": {
             "outlinewidth": 0,
             "ticks": ""
            },
            "colorscale": [
             [
              0,
              "#0d0887"
             ],
             [
              0.1111111111111111,
              "#46039f"
             ],
             [
              0.2222222222222222,
              "#7201a8"
             ],
             [
              0.3333333333333333,
              "#9c179e"
             ],
             [
              0.4444444444444444,
              "#bd3786"
             ],
             [
              0.5555555555555556,
              "#d8576b"
             ],
             [
              0.6666666666666666,
              "#ed7953"
             ],
             [
              0.7777777777777778,
              "#fb9f3a"
             ],
             [
              0.8888888888888888,
              "#fdca26"
             ],
             [
              1,
              "#f0f921"
             ]
            ],
            "type": "contour"
           }
          ],
          "contourcarpet": [
           {
            "colorbar": {
             "outlinewidth": 0,
             "ticks": ""
            },
            "type": "contourcarpet"
           }
          ],
          "heatmap": [
           {
            "colorbar": {
             "outlinewidth": 0,
             "ticks": ""
            },
            "colorscale": [
             [
              0,
              "#0d0887"
             ],
             [
              0.1111111111111111,
              "#46039f"
             ],
             [
              0.2222222222222222,
              "#7201a8"
             ],
             [
              0.3333333333333333,
              "#9c179e"
             ],
             [
              0.4444444444444444,
              "#bd3786"
             ],
             [
              0.5555555555555556,
              "#d8576b"
             ],
             [
              0.6666666666666666,
              "#ed7953"
             ],
             [
              0.7777777777777778,
              "#fb9f3a"
             ],
             [
              0.8888888888888888,
              "#fdca26"
             ],
             [
              1,
              "#f0f921"
             ]
            ],
            "type": "heatmap"
           }
          ],
          "heatmapgl": [
           {
            "colorbar": {
             "outlinewidth": 0,
             "ticks": ""
            },
            "colorscale": [
             [
              0,
              "#0d0887"
             ],
             [
              0.1111111111111111,
              "#46039f"
             ],
             [
              0.2222222222222222,
              "#7201a8"
             ],
             [
              0.3333333333333333,
              "#9c179e"
             ],
             [
              0.4444444444444444,
              "#bd3786"
             ],
             [
              0.5555555555555556,
              "#d8576b"
             ],
             [
              0.6666666666666666,
              "#ed7953"
             ],
             [
              0.7777777777777778,
              "#fb9f3a"
             ],
             [
              0.8888888888888888,
              "#fdca26"
             ],
             [
              1,
              "#f0f921"
             ]
            ],
            "type": "heatmapgl"
           }
          ],
          "histogram": [
           {
            "marker": {
             "pattern": {
              "fillmode": "overlay",
              "size": 10,
              "solidity": 0.2
             }
            },
            "type": "histogram"
           }
          ],
          "histogram2d": [
           {
            "colorbar": {
             "outlinewidth": 0,
             "ticks": ""
            },
            "colorscale": [
             [
              0,
              "#0d0887"
             ],
             [
              0.1111111111111111,
              "#46039f"
             ],
             [
              0.2222222222222222,
              "#7201a8"
             ],
             [
              0.3333333333333333,
              "#9c179e"
             ],
             [
              0.4444444444444444,
              "#bd3786"
             ],
             [
              0.5555555555555556,
              "#d8576b"
             ],
             [
              0.6666666666666666,
              "#ed7953"
             ],
             [
              0.7777777777777778,
              "#fb9f3a"
             ],
             [
              0.8888888888888888,
              "#fdca26"
             ],
             [
              1,
              "#f0f921"
             ]
            ],
            "type": "histogram2d"
           }
          ],
          "histogram2dcontour": [
           {
            "colorbar": {
             "outlinewidth": 0,
             "ticks": ""
            },
            "colorscale": [
             [
              0,
              "#0d0887"
             ],
             [
              0.1111111111111111,
              "#46039f"
             ],
             [
              0.2222222222222222,
              "#7201a8"
             ],
             [
              0.3333333333333333,
              "#9c179e"
             ],
             [
              0.4444444444444444,
              "#bd3786"
             ],
             [
              0.5555555555555556,
              "#d8576b"
             ],
             [
              0.6666666666666666,
              "#ed7953"
             ],
             [
              0.7777777777777778,
              "#fb9f3a"
             ],
             [
              0.8888888888888888,
              "#fdca26"
             ],
             [
              1,
              "#f0f921"
             ]
            ],
            "type": "histogram2dcontour"
           }
          ],
          "mesh3d": [
           {
            "colorbar": {
             "outlinewidth": 0,
             "ticks": ""
            },
            "type": "mesh3d"
           }
          ],
          "parcoords": [
           {
            "line": {
             "colorbar": {
              "outlinewidth": 0,
              "ticks": ""
             }
            },
            "type": "parcoords"
           }
          ],
          "pie": [
           {
            "automargin": true,
            "type": "pie"
           }
          ],
          "scatter": [
           {
            "fillpattern": {
             "fillmode": "overlay",
             "size": 10,
             "solidity": 0.2
            },
            "type": "scatter"
           }
          ],
          "scatter3d": [
           {
            "line": {
             "colorbar": {
              "outlinewidth": 0,
              "ticks": ""
             }
            },
            "marker": {
             "colorbar": {
              "outlinewidth": 0,
              "ticks": ""
             }
            },
            "type": "scatter3d"
           }
          ],
          "scattercarpet": [
           {
            "marker": {
             "colorbar": {
              "outlinewidth": 0,
              "ticks": ""
             }
            },
            "type": "scattercarpet"
           }
          ],
          "scattergeo": [
           {
            "marker": {
             "colorbar": {
              "outlinewidth": 0,
              "ticks": ""
             }
            },
            "type": "scattergeo"
           }
          ],
          "scattergl": [
           {
            "marker": {
             "colorbar": {
              "outlinewidth": 0,
              "ticks": ""
             }
            },
            "type": "scattergl"
           }
          ],
          "scattermapbox": [
           {
            "marker": {
             "colorbar": {
              "outlinewidth": 0,
              "ticks": ""
             }
            },
            "type": "scattermapbox"
           }
          ],
          "scatterpolar": [
           {
            "marker": {
             "colorbar": {
              "outlinewidth": 0,
              "ticks": ""
             }
            },
            "type": "scatterpolar"
           }
          ],
          "scatterpolargl": [
           {
            "marker": {
             "colorbar": {
              "outlinewidth": 0,
              "ticks": ""
             }
            },
            "type": "scatterpolargl"
           }
          ],
          "scatterternary": [
           {
            "marker": {
             "colorbar": {
              "outlinewidth": 0,
              "ticks": ""
             }
            },
            "type": "scatterternary"
           }
          ],
          "surface": [
           {
            "colorbar": {
             "outlinewidth": 0,
             "ticks": ""
            },
            "colorscale": [
             [
              0,
              "#0d0887"
             ],
             [
              0.1111111111111111,
              "#46039f"
             ],
             [
              0.2222222222222222,
              "#7201a8"
             ],
             [
              0.3333333333333333,
              "#9c179e"
             ],
             [
              0.4444444444444444,
              "#bd3786"
             ],
             [
              0.5555555555555556,
              "#d8576b"
             ],
             [
              0.6666666666666666,
              "#ed7953"
             ],
             [
              0.7777777777777778,
              "#fb9f3a"
             ],
             [
              0.8888888888888888,
              "#fdca26"
             ],
             [
              1,
              "#f0f921"
             ]
            ],
            "type": "surface"
           }
          ],
          "table": [
           {
            "cells": {
             "fill": {
              "color": "#EBF0F8"
             },
             "line": {
              "color": "white"
             }
            },
            "header": {
             "fill": {
              "color": "#C8D4E3"
             },
             "line": {
              "color": "white"
             }
            },
            "type": "table"
           }
          ]
         },
         "layout": {
          "annotationdefaults": {
           "arrowcolor": "#2a3f5f",
           "arrowhead": 0,
           "arrowwidth": 1
          },
          "autotypenumbers": "strict",
          "coloraxis": {
           "colorbar": {
            "outlinewidth": 0,
            "ticks": ""
           }
          },
          "colorscale": {
           "diverging": [
            [
             0,
             "#8e0152"
            ],
            [
             0.1,
             "#c51b7d"
            ],
            [
             0.2,
             "#de77ae"
            ],
            [
             0.3,
             "#f1b6da"
            ],
            [
             0.4,
             "#fde0ef"
            ],
            [
             0.5,
             "#f7f7f7"
            ],
            [
             0.6,
             "#e6f5d0"
            ],
            [
             0.7,
             "#b8e186"
            ],
            [
             0.8,
             "#7fbc41"
            ],
            [
             0.9,
             "#4d9221"
            ],
            [
             1,
             "#276419"
            ]
           ],
           "sequential": [
            [
             0,
             "#0d0887"
            ],
            [
             0.1111111111111111,
             "#46039f"
            ],
            [
             0.2222222222222222,
             "#7201a8"
            ],
            [
             0.3333333333333333,
             "#9c179e"
            ],
            [
             0.4444444444444444,
             "#bd3786"
            ],
            [
             0.5555555555555556,
             "#d8576b"
            ],
            [
             0.6666666666666666,
             "#ed7953"
            ],
            [
             0.7777777777777778,
             "#fb9f3a"
            ],
            [
             0.8888888888888888,
             "#fdca26"
            ],
            [
             1,
             "#f0f921"
            ]
           ],
           "sequentialminus": [
            [
             0,
             "#0d0887"
            ],
            [
             0.1111111111111111,
             "#46039f"
            ],
            [
             0.2222222222222222,
             "#7201a8"
            ],
            [
             0.3333333333333333,
             "#9c179e"
            ],
            [
             0.4444444444444444,
             "#bd3786"
            ],
            [
             0.5555555555555556,
             "#d8576b"
            ],
            [
             0.6666666666666666,
             "#ed7953"
            ],
            [
             0.7777777777777778,
             "#fb9f3a"
            ],
            [
             0.8888888888888888,
             "#fdca26"
            ],
            [
             1,
             "#f0f921"
            ]
           ]
          },
          "colorway": [
           "#636efa",
           "#EF553B",
           "#00cc96",
           "#ab63fa",
           "#FFA15A",
           "#19d3f3",
           "#FF6692",
           "#B6E880",
           "#FF97FF",
           "#FECB52"
          ],
          "font": {
           "color": "#2a3f5f"
          },
          "geo": {
           "bgcolor": "white",
           "lakecolor": "white",
           "landcolor": "#E5ECF6",
           "showlakes": true,
           "showland": true,
           "subunitcolor": "white"
          },
          "hoverlabel": {
           "align": "left"
          },
          "hovermode": "closest",
          "mapbox": {
           "style": "light"
          },
          "paper_bgcolor": "white",
          "plot_bgcolor": "#E5ECF6",
          "polar": {
           "angularaxis": {
            "gridcolor": "white",
            "linecolor": "white",
            "ticks": ""
           },
           "bgcolor": "#E5ECF6",
           "radialaxis": {
            "gridcolor": "white",
            "linecolor": "white",
            "ticks": ""
           }
          },
          "scene": {
           "xaxis": {
            "backgroundcolor": "#E5ECF6",
            "gridcolor": "white",
            "gridwidth": 2,
            "linecolor": "white",
            "showbackground": true,
            "ticks": "",
            "zerolinecolor": "white"
           },
           "yaxis": {
            "backgroundcolor": "#E5ECF6",
            "gridcolor": "white",
            "gridwidth": 2,
            "linecolor": "white",
            "showbackground": true,
            "ticks": "",
            "zerolinecolor": "white"
           },
           "zaxis": {
            "backgroundcolor": "#E5ECF6",
            "gridcolor": "white",
            "gridwidth": 2,
            "linecolor": "white",
            "showbackground": true,
            "ticks": "",
            "zerolinecolor": "white"
           }
          },
          "shapedefaults": {
           "line": {
            "color": "#2a3f5f"
           }
          },
          "ternary": {
           "aaxis": {
            "gridcolor": "white",
            "linecolor": "white",
            "ticks": ""
           },
           "baxis": {
            "gridcolor": "white",
            "linecolor": "white",
            "ticks": ""
           },
           "bgcolor": "#E5ECF6",
           "caxis": {
            "gridcolor": "white",
            "linecolor": "white",
            "ticks": ""
           }
          },
          "title": {
           "x": 0.05
          },
          "xaxis": {
           "automargin": true,
           "gridcolor": "white",
           "linecolor": "white",
           "ticks": "",
           "title": {
            "standoff": 15
           },
           "zerolinecolor": "white",
           "zerolinewidth": 2
          },
          "yaxis": {
           "automargin": true,
           "gridcolor": "white",
           "linecolor": "white",
           "ticks": "",
           "title": {
            "standoff": 15
           },
           "zerolinecolor": "white",
           "zerolinewidth": 2
          }
         }
        },
        "title": {
         "font": {
          "color": "#4D5663"
         }
        },
        "xaxis": {
         "gridcolor": "#E1E5ED",
         "showgrid": true,
         "tickfont": {
          "color": "#4D5663"
         },
         "title": {
          "font": {
           "color": "#4D5663"
          },
          "text": ""
         },
         "zerolinecolor": "#E1E5ED"
        },
        "yaxis": {
         "gridcolor": "#E1E5ED",
         "showgrid": true,
         "tickfont": {
          "color": "#4D5663"
         },
         "title": {
          "font": {
           "color": "#4D5663"
          },
          "text": ""
         },
         "zerolinecolor": "#E1E5ED"
        }
       }
      },
      "text/html": [
       "<div>                            <div id=\"3567b8e3-b43e-4804-9d96-3fe15d6d22a4\" class=\"plotly-graph-div\" style=\"height:525px; width:100%;\"></div>            <script type=\"text/javascript\">                require([\"plotly\"], function(Plotly) {                    window.PLOTLYENV=window.PLOTLYENV || {};\n",
       "                    window.PLOTLYENV.BASE_URL='https://plot.ly';                                    if (document.getElementById(\"3567b8e3-b43e-4804-9d96-3fe15d6d22a4\")) {                    Plotly.newPlot(                        \"3567b8e3-b43e-4804-9d96-3fe15d6d22a4\",                        [{\"marker\":{\"color\":[\"rgb(255, 153, 51)\",\"rgb(55, 128, 191)\",\"rgb(50, 171, 96)\",\"rgb(128, 0, 128)\",\"rgb(219, 64, 82)\",\"rgb(0, 128, 128)\",\"rgb(255, 255, 51)\",\"rgb(128, 128, 0)\",\"rgb(251, 128, 114)\",\"rgb(128, 177, 211)\"],\"line\":{\"width\":1.3},\"size\":[35,73,52,90,101,46,79,50,76,57,75,67,56,83,64,74,85,63,44,61,53,87,78,34,68,33,44,12,93,93,84,79,51,80,49,91,57,21,68,71,112,91,55,49,23,63,44,58,62,88,57,68,111,93,50,58,75,46,45,83,34,66,26,66,71,43,65,21,43,37,28,67,52,55,69,36,45,56,71,45,97,51,68,62,53,15,31,70,86,37,19,91,77,60,25,67,31,45,44,37],\"symbol\":\"circle\"},\"mode\":\"markers\",\"text\":\"\",\"x\":[-0.7292327978431696,-0.974830182761352,-0.26209888558511735,0.4625878154503189,0.6221956315443264,-0.6283426059822679,-1.1869257562288007,0.026352457396184876,1.5257379620231581,1.5097889271689648,-0.6791608437928496,-1.0655500653071028,0.5783798900691562,-0.5355223924045895,-0.5736487743916989,0.27782568089634363,-1.121704067911955,1.7455931181530004,0.567903648758014,-1.3223512063319718,-1.0810870370994095,0.8233908497553671,-0.33778797251284703,0.043579450021013946,-1.199789413486293,0.6924241308206706,-0.05501515108109769,-0.42943737492493633,1.8376407752463495,1.5696814508069885,0.7577066619428412,-0.8892641619069086,0.35435919411789346,0.5874653985956466,1.5418431505640875,0.2409054448296417,-0.3144984785843778,-0.21473436338089816,-1.1175123679192964,-0.5814531590899158,0.5245128721506751,-0.31633769485893803,-0.6359988668909158,-0.23726996098449016,-0.3982124198205674,-0.43722295290105845,-0.8939564181904478,1.6442649705379218,-0.03847002183551993,-2.404032839063728,1.378628141649735,-0.8312434491896347,0.2091557152576446,-1.099623054801942,2.3740966992587578,1.6821413637381235,-0.15604278937050337,1.606674383529953,0.5062402310934592,-1.9525630963497957,1.3550364682699907,1.7905006512907407,0.6360203667698248,-0.8618964953795111,0.16380466263449095,1.2803113779287176,-0.08320937923702665,-1.2482532423300359,1.5514630422022548,-1.3742530385494103,-0.782115657330491,1.4139594942160179,-1.196156501437301,0.1556477823532999,1.2192212179884288,-0.1790850020822392,-0.27884292842249364,1.5872912174311693,-2.2252991158069855,-1.0157107731910955,-0.17319966364655262,-0.003305183104299413,0.39134630972054646,-0.6299971666679965,-0.5599556417703775,1.7052530534060306,-1.0286663990820606,-0.8343300341499792,0.26836643957742273,-1.6435992402350532,0.185083912167794,0.13867387300098313,0.20557733968652833,0.8091575611898224,0.34215282304169004,1.7590302670488172,-0.06473440148486866,0.8467053994637058,-0.4096522335741291,-0.7188798737998551],\"y\":[0.2028904508929444,-0.5360060801057059,1.9172153542380332,1.1554998283753386,0.12181051885877126,-1.1319753703135211,1.3278769012435154,-1.373981442531079,-2.2633839963334057,0.6551232910308362,-1.504221412415844,-0.8474805378287004,-0.11093134329715523,1.241952295882244,-1.7442570727729392,0.06284888307838114,0.13129293250736535,2.202296949681284,-0.551127386875276,-1.207078337251924,0.5356896936168137,-2.3918065579996495,-0.8523246908502292,0.6248174892839728,-1.8244595775644652,1.165845385152743,-0.30163142477174654,1.660066544040394,-0.5068086946392768,-0.4556258833114967,-0.2983646508906948,0.01993433011999575,-0.7975056575397892,-1.6725777108246267,-0.29531640229284895,0.30971668360777754,0.716409560531819,0.7659397828648833,-0.11123212981795287,0.9117766490536945,0.25043579914409964,-1.344984375671524,-0.8801279362402369,0.5472592174474373,0.08204130503631124,0.17891799719213222,0.9489319327585631,0.5989101309274099,-0.8682489391966348,-2.172925528481716,0.8316005423159178,-0.06097820454389258,2.055498475504573,1.2521412919757304,0.04704227597800867,-0.4861375363540279,0.000582875403311226,-0.7320904438737423,0.686513285955763,-1.3117841313018825,-0.43690513505570056,-0.7945871974195586,-0.5879641229539143,0.24401073683741503,0.36009371304036686,-0.3019641107496942,-2.932775813982967,1.0328388977400622,-0.39009411657080284,-0.23215230892291142,-0.5672375951964085,-0.03015870112032784,0.3935515613535357,-0.34854915789772084,-0.24547773242621834,-0.9065078680653559,-0.9971414020458494,-0.08634145935478864,-0.3476514657989236,0.26556018860507086,-0.783460711466928,-1.075241131554598,-2.8287826318864626,2.136054210189507,0.38609878978660767,-1.6766148708269466,-0.43335314576840184,-0.6229073104172735,-0.5055562520910752,0.4588731405931876,-0.9709314596096776,-1.9218522420442605,-1.1194405577485236,-1.791423871895468,-0.4270051517947074,0.6222129827945807,-0.7878569695431034,-1.3978580491023649,1.6779823657239594,0.07792772247489195],\"type\":\"scatter\"}],                        {\"legend\":{\"bgcolor\":\"#F5F6F9\",\"font\":{\"color\":\"#4D5663\"}},\"paper_bgcolor\":\"#F5F6F9\",\"plot_bgcolor\":\"#F5F6F9\",\"template\":{\"data\":{\"barpolar\":[{\"marker\":{\"line\":{\"color\":\"#E5ECF6\",\"width\":0.5},\"pattern\":{\"fillmode\":\"overlay\",\"size\":10,\"solidity\":0.2}},\"type\":\"barpolar\"}],\"bar\":[{\"error_x\":{\"color\":\"#2a3f5f\"},\"error_y\":{\"color\":\"#2a3f5f\"},\"marker\":{\"line\":{\"color\":\"#E5ECF6\",\"width\":0.5},\"pattern\":{\"fillmode\":\"overlay\",\"size\":10,\"solidity\":0.2}},\"type\":\"bar\"}],\"carpet\":[{\"aaxis\":{\"endlinecolor\":\"#2a3f5f\",\"gridcolor\":\"white\",\"linecolor\":\"white\",\"minorgridcolor\":\"white\",\"startlinecolor\":\"#2a3f5f\"},\"baxis\":{\"endlinecolor\":\"#2a3f5f\",\"gridcolor\":\"white\",\"linecolor\":\"white\",\"minorgridcolor\":\"white\",\"startlinecolor\":\"#2a3f5f\"},\"type\":\"carpet\"}],\"choropleth\":[{\"colorbar\":{\"outlinewidth\":0,\"ticks\":\"\"},\"type\":\"choropleth\"}],\"contourcarpet\":[{\"colorbar\":{\"outlinewidth\":0,\"ticks\":\"\"},\"type\":\"contourcarpet\"}],\"contour\":[{\"colorbar\":{\"outlinewidth\":0,\"ticks\":\"\"},\"colorscale\":[[0.0,\"#0d0887\"],[0.1111111111111111,\"#46039f\"],[0.2222222222222222,\"#7201a8\"],[0.3333333333333333,\"#9c179e\"],[0.4444444444444444,\"#bd3786\"],[0.5555555555555556,\"#d8576b\"],[0.6666666666666666,\"#ed7953\"],[0.7777777777777778,\"#fb9f3a\"],[0.8888888888888888,\"#fdca26\"],[1.0,\"#f0f921\"]],\"type\":\"contour\"}],\"heatmapgl\":[{\"colorbar\":{\"outlinewidth\":0,\"ticks\":\"\"},\"colorscale\":[[0.0,\"#0d0887\"],[0.1111111111111111,\"#46039f\"],[0.2222222222222222,\"#7201a8\"],[0.3333333333333333,\"#9c179e\"],[0.4444444444444444,\"#bd3786\"],[0.5555555555555556,\"#d8576b\"],[0.6666666666666666,\"#ed7953\"],[0.7777777777777778,\"#fb9f3a\"],[0.8888888888888888,\"#fdca26\"],[1.0,\"#f0f921\"]],\"type\":\"heatmapgl\"}],\"heatmap\":[{\"colorbar\":{\"outlinewidth\":0,\"ticks\":\"\"},\"colorscale\":[[0.0,\"#0d0887\"],[0.1111111111111111,\"#46039f\"],[0.2222222222222222,\"#7201a8\"],[0.3333333333333333,\"#9c179e\"],[0.4444444444444444,\"#bd3786\"],[0.5555555555555556,\"#d8576b\"],[0.6666666666666666,\"#ed7953\"],[0.7777777777777778,\"#fb9f3a\"],[0.8888888888888888,\"#fdca26\"],[1.0,\"#f0f921\"]],\"type\":\"heatmap\"}],\"histogram2dcontour\":[{\"colorbar\":{\"outlinewidth\":0,\"ticks\":\"\"},\"colorscale\":[[0.0,\"#0d0887\"],[0.1111111111111111,\"#46039f\"],[0.2222222222222222,\"#7201a8\"],[0.3333333333333333,\"#9c179e\"],[0.4444444444444444,\"#bd3786\"],[0.5555555555555556,\"#d8576b\"],[0.6666666666666666,\"#ed7953\"],[0.7777777777777778,\"#fb9f3a\"],[0.8888888888888888,\"#fdca26\"],[1.0,\"#f0f921\"]],\"type\":\"histogram2dcontour\"}],\"histogram2d\":[{\"colorbar\":{\"outlinewidth\":0,\"ticks\":\"\"},\"colorscale\":[[0.0,\"#0d0887\"],[0.1111111111111111,\"#46039f\"],[0.2222222222222222,\"#7201a8\"],[0.3333333333333333,\"#9c179e\"],[0.4444444444444444,\"#bd3786\"],[0.5555555555555556,\"#d8576b\"],[0.6666666666666666,\"#ed7953\"],[0.7777777777777778,\"#fb9f3a\"],[0.8888888888888888,\"#fdca26\"],[1.0,\"#f0f921\"]],\"type\":\"histogram2d\"}],\"histogram\":[{\"marker\":{\"pattern\":{\"fillmode\":\"overlay\",\"size\":10,\"solidity\":0.2}},\"type\":\"histogram\"}],\"mesh3d\":[{\"colorbar\":{\"outlinewidth\":0,\"ticks\":\"\"},\"type\":\"mesh3d\"}],\"parcoords\":[{\"line\":{\"colorbar\":{\"outlinewidth\":0,\"ticks\":\"\"}},\"type\":\"parcoords\"}],\"pie\":[{\"automargin\":true,\"type\":\"pie\"}],\"scatter3d\":[{\"line\":{\"colorbar\":{\"outlinewidth\":0,\"ticks\":\"\"}},\"marker\":{\"colorbar\":{\"outlinewidth\":0,\"ticks\":\"\"}},\"type\":\"scatter3d\"}],\"scattercarpet\":[{\"marker\":{\"colorbar\":{\"outlinewidth\":0,\"ticks\":\"\"}},\"type\":\"scattercarpet\"}],\"scattergeo\":[{\"marker\":{\"colorbar\":{\"outlinewidth\":0,\"ticks\":\"\"}},\"type\":\"scattergeo\"}],\"scattergl\":[{\"marker\":{\"colorbar\":{\"outlinewidth\":0,\"ticks\":\"\"}},\"type\":\"scattergl\"}],\"scattermapbox\":[{\"marker\":{\"colorbar\":{\"outlinewidth\":0,\"ticks\":\"\"}},\"type\":\"scattermapbox\"}],\"scatterpolargl\":[{\"marker\":{\"colorbar\":{\"outlinewidth\":0,\"ticks\":\"\"}},\"type\":\"scatterpolargl\"}],\"scatterpolar\":[{\"marker\":{\"colorbar\":{\"outlinewidth\":0,\"ticks\":\"\"}},\"type\":\"scatterpolar\"}],\"scatter\":[{\"fillpattern\":{\"fillmode\":\"overlay\",\"size\":10,\"solidity\":0.2},\"type\":\"scatter\"}],\"scatterternary\":[{\"marker\":{\"colorbar\":{\"outlinewidth\":0,\"ticks\":\"\"}},\"type\":\"scatterternary\"}],\"surface\":[{\"colorbar\":{\"outlinewidth\":0,\"ticks\":\"\"},\"colorscale\":[[0.0,\"#0d0887\"],[0.1111111111111111,\"#46039f\"],[0.2222222222222222,\"#7201a8\"],[0.3333333333333333,\"#9c179e\"],[0.4444444444444444,\"#bd3786\"],[0.5555555555555556,\"#d8576b\"],[0.6666666666666666,\"#ed7953\"],[0.7777777777777778,\"#fb9f3a\"],[0.8888888888888888,\"#fdca26\"],[1.0,\"#f0f921\"]],\"type\":\"surface\"}],\"table\":[{\"cells\":{\"fill\":{\"color\":\"#EBF0F8\"},\"line\":{\"color\":\"white\"}},\"header\":{\"fill\":{\"color\":\"#C8D4E3\"},\"line\":{\"color\":\"white\"}},\"type\":\"table\"}]},\"layout\":{\"annotationdefaults\":{\"arrowcolor\":\"#2a3f5f\",\"arrowhead\":0,\"arrowwidth\":1},\"autotypenumbers\":\"strict\",\"coloraxis\":{\"colorbar\":{\"outlinewidth\":0,\"ticks\":\"\"}},\"colorscale\":{\"diverging\":[[0,\"#8e0152\"],[0.1,\"#c51b7d\"],[0.2,\"#de77ae\"],[0.3,\"#f1b6da\"],[0.4,\"#fde0ef\"],[0.5,\"#f7f7f7\"],[0.6,\"#e6f5d0\"],[0.7,\"#b8e186\"],[0.8,\"#7fbc41\"],[0.9,\"#4d9221\"],[1,\"#276419\"]],\"sequential\":[[0.0,\"#0d0887\"],[0.1111111111111111,\"#46039f\"],[0.2222222222222222,\"#7201a8\"],[0.3333333333333333,\"#9c179e\"],[0.4444444444444444,\"#bd3786\"],[0.5555555555555556,\"#d8576b\"],[0.6666666666666666,\"#ed7953\"],[0.7777777777777778,\"#fb9f3a\"],[0.8888888888888888,\"#fdca26\"],[1.0,\"#f0f921\"]],\"sequentialminus\":[[0.0,\"#0d0887\"],[0.1111111111111111,\"#46039f\"],[0.2222222222222222,\"#7201a8\"],[0.3333333333333333,\"#9c179e\"],[0.4444444444444444,\"#bd3786\"],[0.5555555555555556,\"#d8576b\"],[0.6666666666666666,\"#ed7953\"],[0.7777777777777778,\"#fb9f3a\"],[0.8888888888888888,\"#fdca26\"],[1.0,\"#f0f921\"]]},\"colorway\":[\"#636efa\",\"#EF553B\",\"#00cc96\",\"#ab63fa\",\"#FFA15A\",\"#19d3f3\",\"#FF6692\",\"#B6E880\",\"#FF97FF\",\"#FECB52\"],\"font\":{\"color\":\"#2a3f5f\"},\"geo\":{\"bgcolor\":\"white\",\"lakecolor\":\"white\",\"landcolor\":\"#E5ECF6\",\"showlakes\":true,\"showland\":true,\"subunitcolor\":\"white\"},\"hoverlabel\":{\"align\":\"left\"},\"hovermode\":\"closest\",\"mapbox\":{\"style\":\"light\"},\"paper_bgcolor\":\"white\",\"plot_bgcolor\":\"#E5ECF6\",\"polar\":{\"angularaxis\":{\"gridcolor\":\"white\",\"linecolor\":\"white\",\"ticks\":\"\"},\"bgcolor\":\"#E5ECF6\",\"radialaxis\":{\"gridcolor\":\"white\",\"linecolor\":\"white\",\"ticks\":\"\"}},\"scene\":{\"xaxis\":{\"backgroundcolor\":\"#E5ECF6\",\"gridcolor\":\"white\",\"gridwidth\":2,\"linecolor\":\"white\",\"showbackground\":true,\"ticks\":\"\",\"zerolinecolor\":\"white\"},\"yaxis\":{\"backgroundcolor\":\"#E5ECF6\",\"gridcolor\":\"white\",\"gridwidth\":2,\"linecolor\":\"white\",\"showbackground\":true,\"ticks\":\"\",\"zerolinecolor\":\"white\"},\"zaxis\":{\"backgroundcolor\":\"#E5ECF6\",\"gridcolor\":\"white\",\"gridwidth\":2,\"linecolor\":\"white\",\"showbackground\":true,\"ticks\":\"\",\"zerolinecolor\":\"white\"}},\"shapedefaults\":{\"line\":{\"color\":\"#2a3f5f\"}},\"ternary\":{\"aaxis\":{\"gridcolor\":\"white\",\"linecolor\":\"white\",\"ticks\":\"\"},\"baxis\":{\"gridcolor\":\"white\",\"linecolor\":\"white\",\"ticks\":\"\"},\"bgcolor\":\"#E5ECF6\",\"caxis\":{\"gridcolor\":\"white\",\"linecolor\":\"white\",\"ticks\":\"\"}},\"title\":{\"x\":0.05},\"xaxis\":{\"automargin\":true,\"gridcolor\":\"white\",\"linecolor\":\"white\",\"ticks\":\"\",\"title\":{\"standoff\":15},\"zerolinecolor\":\"white\",\"zerolinewidth\":2},\"yaxis\":{\"automargin\":true,\"gridcolor\":\"white\",\"linecolor\":\"white\",\"ticks\":\"\",\"title\":{\"standoff\":15},\"zerolinecolor\":\"white\",\"zerolinewidth\":2}}},\"title\":{\"font\":{\"color\":\"#4D5663\"}},\"xaxis\":{\"gridcolor\":\"#E1E5ED\",\"showgrid\":true,\"tickfont\":{\"color\":\"#4D5663\"},\"title\":{\"font\":{\"color\":\"#4D5663\"},\"text\":\"\"},\"zerolinecolor\":\"#E1E5ED\"},\"yaxis\":{\"gridcolor\":\"#E1E5ED\",\"showgrid\":true,\"tickfont\":{\"color\":\"#4D5663\"},\"title\":{\"font\":{\"color\":\"#4D5663\"},\"text\":\"\"},\"zerolinecolor\":\"#E1E5ED\"}},                        {\"showLink\": true, \"linkText\": \"Export to plot.ly\", \"plotlyServerURL\": \"https://plot.ly\", \"responsive\": true}                    ).then(function(){\n",
       "                            \n",
       "var gd = document.getElementById('3567b8e3-b43e-4804-9d96-3fe15d6d22a4');\n",
       "var x = new MutationObserver(function (mutations, observer) {{\n",
       "        var display = window.getComputedStyle(gd).display;\n",
       "        if (!display || display === 'none') {{\n",
       "            console.log([gd, 'removed!']);\n",
       "            Plotly.purge(gd);\n",
       "            observer.disconnect();\n",
       "        }}\n",
       "}});\n",
       "\n",
       "// Listen for the removal of the full notebook cells\n",
       "var notebookContainer = gd.closest('#notebook-container');\n",
       "if (notebookContainer) {{\n",
       "    x.observe(notebookContainer, {childList: true});\n",
       "}}\n",
       "\n",
       "// Listen for the clearing of the current output cell\n",
       "var outputEl = gd.closest('.output');\n",
       "if (outputEl) {{\n",
       "    x.observe(outputEl, {childList: true});\n",
       "}}\n",
       "\n",
       "                        })                };                });            </script>        </div>"
      ]
     },
     "metadata": {},
     "output_type": "display_data"
    }
   ],
   "source": [
    "df.iplot(kind='bubble',x='A',y='B',size='C')"
   ]
  },
  {
   "cell_type": "markdown",
   "metadata": {},
   "source": [
    "## scatter_matrix()\n",
    "\n",
    "Similar to sns.pairplot()"
   ]
  },
  {
   "cell_type": "code",
   "execution_count": 24,
   "metadata": {},
   "outputs": [
    {
     "data": {
      "application/vnd.plotly.v1+json": {
       "config": {
        "linkText": "Export to plot.ly",
        "plotlyServerURL": "https://plot.ly",
        "showLink": true
       },
       "data": [
        {
         "histfunc": "count",
         "histnorm": "",
         "marker": {
          "color": "rgba(255, 153, 51, 1.0)",
          "line": {
           "color": "#4D5663",
           "width": 1.3
          }
         },
         "name": "A",
         "nbinsx": 10,
         "opacity": 0.8,
         "orientation": "v",
         "type": "histogram",
         "x": [
          -0.7292327978431696,
          -0.974830182761352,
          -0.26209888558511735,
          0.4625878154503189,
          0.6221956315443264,
          -0.6283426059822679,
          -1.1869257562288007,
          0.026352457396184876,
          1.5257379620231581,
          1.5097889271689648,
          -0.6791608437928496,
          -1.0655500653071028,
          0.5783798900691562,
          -0.5355223924045895,
          -0.5736487743916989,
          0.27782568089634363,
          -1.121704067911955,
          1.7455931181530004,
          0.567903648758014,
          -1.3223512063319718,
          -1.0810870370994095,
          0.8233908497553671,
          -0.33778797251284703,
          0.043579450021013946,
          -1.199789413486293,
          0.6924241308206706,
          -0.05501515108109769,
          -0.42943737492493633,
          1.8376407752463495,
          1.5696814508069885,
          0.7577066619428412,
          -0.8892641619069086,
          0.35435919411789346,
          0.5874653985956466,
          1.5418431505640875,
          0.2409054448296417,
          -0.3144984785843778,
          -0.21473436338089816,
          -1.1175123679192964,
          -0.5814531590899158,
          0.5245128721506751,
          -0.31633769485893803,
          -0.6359988668909158,
          -0.23726996098449016,
          -0.3982124198205674,
          -0.43722295290105845,
          -0.8939564181904478,
          1.6442649705379218,
          -0.03847002183551993,
          -2.404032839063728,
          1.378628141649735,
          -0.8312434491896347,
          0.2091557152576446,
          -1.099623054801942,
          2.3740966992587578,
          1.6821413637381235,
          -0.15604278937050337,
          1.606674383529953,
          0.5062402310934592,
          -1.9525630963497957,
          1.3550364682699907,
          1.7905006512907407,
          0.6360203667698248,
          -0.8618964953795111,
          0.16380466263449095,
          1.2803113779287176,
          -0.08320937923702665,
          -1.2482532423300359,
          1.5514630422022548,
          -1.3742530385494103,
          -0.782115657330491,
          1.4139594942160179,
          -1.196156501437301,
          0.1556477823532999,
          1.2192212179884288,
          -0.1790850020822392,
          -0.27884292842249364,
          1.5872912174311693,
          -2.2252991158069855,
          -1.0157107731910955,
          -0.17319966364655262,
          -0.003305183104299413,
          0.39134630972054646,
          -0.6299971666679965,
          -0.5599556417703775,
          1.7052530534060306,
          -1.0286663990820606,
          -0.8343300341499792,
          0.26836643957742273,
          -1.6435992402350532,
          0.185083912167794,
          0.13867387300098313,
          0.20557733968652833,
          0.8091575611898224,
          0.34215282304169004,
          1.7590302670488172,
          -0.06473440148486866,
          0.8467053994637058,
          -0.4096522335741291,
          -0.7188798737998551
         ],
         "xaxis": "x",
         "yaxis": "y"
        },
        {
         "line": {
          "color": "rgba(128, 128, 128, 1.0)",
          "dash": "solid",
          "shape": "linear",
          "width": 1.3
         },
         "marker": {
          "size": 2,
          "symbol": "circle"
         },
         "mode": "markers",
         "name": "A",
         "text": "",
         "type": "scatter",
         "x": [
          0.2028904508929444,
          -0.5360060801057059,
          1.9172153542380332,
          1.1554998283753386,
          0.12181051885877126,
          -1.1319753703135211,
          1.3278769012435154,
          -1.373981442531079,
          -2.2633839963334057,
          0.6551232910308362,
          -1.504221412415844,
          -0.8474805378287004,
          -0.11093134329715523,
          1.241952295882244,
          -1.7442570727729392,
          0.06284888307838114,
          0.13129293250736535,
          2.202296949681284,
          -0.551127386875276,
          -1.207078337251924,
          0.5356896936168137,
          -2.3918065579996495,
          -0.8523246908502292,
          0.6248174892839728,
          -1.8244595775644652,
          1.165845385152743,
          -0.30163142477174654,
          1.660066544040394,
          -0.5068086946392768,
          -0.4556258833114967,
          -0.2983646508906948,
          0.01993433011999575,
          -0.7975056575397892,
          -1.6725777108246267,
          -0.29531640229284895,
          0.30971668360777754,
          0.716409560531819,
          0.7659397828648833,
          -0.11123212981795287,
          0.9117766490536945,
          0.25043579914409964,
          -1.344984375671524,
          -0.8801279362402369,
          0.5472592174474373,
          0.08204130503631124,
          0.17891799719213222,
          0.9489319327585631,
          0.5989101309274099,
          -0.8682489391966348,
          -2.172925528481716,
          0.8316005423159178,
          -0.06097820454389258,
          2.055498475504573,
          1.2521412919757304,
          0.04704227597800867,
          -0.4861375363540279,
          0.000582875403311226,
          -0.7320904438737423,
          0.686513285955763,
          -1.3117841313018825,
          -0.43690513505570056,
          -0.7945871974195586,
          -0.5879641229539143,
          0.24401073683741503,
          0.36009371304036686,
          -0.3019641107496942,
          -2.932775813982967,
          1.0328388977400622,
          -0.39009411657080284,
          -0.23215230892291142,
          -0.5672375951964085,
          -0.03015870112032784,
          0.3935515613535357,
          -0.34854915789772084,
          -0.24547773242621834,
          -0.9065078680653559,
          -0.9971414020458494,
          -0.08634145935478864,
          -0.3476514657989236,
          0.26556018860507086,
          -0.783460711466928,
          -1.075241131554598,
          -2.8287826318864626,
          2.136054210189507,
          0.38609878978660767,
          -1.6766148708269466,
          -0.43335314576840184,
          -0.6229073104172735,
          -0.5055562520910752,
          0.4588731405931876,
          -0.9709314596096776,
          -1.9218522420442605,
          -1.1194405577485236,
          -1.791423871895468,
          -0.4270051517947074,
          0.6222129827945807,
          -0.7878569695431034,
          -1.3978580491023649,
          1.6779823657239594,
          0.07792772247489195
         ],
         "xaxis": "x2",
         "y": [
          -0.7292327978431696,
          -0.974830182761352,
          -0.26209888558511735,
          0.4625878154503189,
          0.6221956315443264,
          -0.6283426059822679,
          -1.1869257562288007,
          0.026352457396184876,
          1.5257379620231581,
          1.5097889271689648,
          -0.6791608437928496,
          -1.0655500653071028,
          0.5783798900691562,
          -0.5355223924045895,
          -0.5736487743916989,
          0.27782568089634363,
          -1.121704067911955,
          1.7455931181530004,
          0.567903648758014,
          -1.3223512063319718,
          -1.0810870370994095,
          0.8233908497553671,
          -0.33778797251284703,
          0.043579450021013946,
          -1.199789413486293,
          0.6924241308206706,
          -0.05501515108109769,
          -0.42943737492493633,
          1.8376407752463495,
          1.5696814508069885,
          0.7577066619428412,
          -0.8892641619069086,
          0.35435919411789346,
          0.5874653985956466,
          1.5418431505640875,
          0.2409054448296417,
          -0.3144984785843778,
          -0.21473436338089816,
          -1.1175123679192964,
          -0.5814531590899158,
          0.5245128721506751,
          -0.31633769485893803,
          -0.6359988668909158,
          -0.23726996098449016,
          -0.3982124198205674,
          -0.43722295290105845,
          -0.8939564181904478,
          1.6442649705379218,
          -0.03847002183551993,
          -2.404032839063728,
          1.378628141649735,
          -0.8312434491896347,
          0.2091557152576446,
          -1.099623054801942,
          2.3740966992587578,
          1.6821413637381235,
          -0.15604278937050337,
          1.606674383529953,
          0.5062402310934592,
          -1.9525630963497957,
          1.3550364682699907,
          1.7905006512907407,
          0.6360203667698248,
          -0.8618964953795111,
          0.16380466263449095,
          1.2803113779287176,
          -0.08320937923702665,
          -1.2482532423300359,
          1.5514630422022548,
          -1.3742530385494103,
          -0.782115657330491,
          1.4139594942160179,
          -1.196156501437301,
          0.1556477823532999,
          1.2192212179884288,
          -0.1790850020822392,
          -0.27884292842249364,
          1.5872912174311693,
          -2.2252991158069855,
          -1.0157107731910955,
          -0.17319966364655262,
          -0.003305183104299413,
          0.39134630972054646,
          -0.6299971666679965,
          -0.5599556417703775,
          1.7052530534060306,
          -1.0286663990820606,
          -0.8343300341499792,
          0.26836643957742273,
          -1.6435992402350532,
          0.185083912167794,
          0.13867387300098313,
          0.20557733968652833,
          0.8091575611898224,
          0.34215282304169004,
          1.7590302670488172,
          -0.06473440148486866,
          0.8467053994637058,
          -0.4096522335741291,
          -0.7188798737998551
         ],
         "yaxis": "y2"
        },
        {
         "line": {
          "color": "rgba(128, 128, 128, 1.0)",
          "dash": "solid",
          "shape": "linear",
          "width": 1.3
         },
         "marker": {
          "size": 2,
          "symbol": "circle"
         },
         "mode": "markers",
         "name": "A",
         "text": "",
         "type": "scatter",
         "x": [
          -1.0254696456815664,
          0.7775611998203021,
          -0.20499226929278383,
          1.6015143467695474,
          2.097806392179643,
          -0.4796119091423343,
          1.082289424478793,
          -0.288966877710572,
          0.9213989888372064,
          0.01462940254773187,
          0.8592148213502434,
          0.5088230613436406,
          -0.040219135029324865,
          1.28473655462965,
          0.3423847164018379,
          0.8579061156088263,
          1.3606289039525115,
          0.2910045147197126,
          -0.5712703432758236,
          0.22685702819916062,
          -0.14530467368663916,
          1.4645560699327624,
          1.0215181407236713,
          -1.086646700625405,
          0.5365380164670625,
          -1.1042970297733814,
          -0.6058807027596476,
          -2.1380588405986485,
          1.7431683533201399,
          1.7302484983906652,
          1.288911148472986,
          1.078148783006668,
          -0.24590453578333873,
          1.1225823894268763,
          -0.3526066675255926,
          1.6560803349462097,
          0.015590437840218005,
          -1.6932085391822211,
          0.5437404788529965,
          0.6994865289367478,
          2.6186636395723157,
          1.6601574901932357,
          -0.07613554282868827,
          -0.3485755963494323,
          -1.5972319489482059,
          0.31782211580436764,
          -0.5835428084182313,
          0.08107512890708217,
          0.26815331067107984,
          1.4967254859563903,
          0.04661947159376344,
          0.5293767660853089,
          2.5895528605846025,
          1.7309986203507288,
          -0.3239633354499249,
          0.06344544639119536,
          0.8700511906010587,
          -0.48635465882446166,
          -0.546861619477916,
          1.2750447493866293,
          -1.0619992763638353,
          0.44059903665829664,
          -1.4611096291954173,
          0.4668790956832927,
          0.6991237039692891,
          -0.6229171598590227,
          0.3930809313037531,
          -1.6831173471735759,
          -0.6413720153024304,
          -0.9023310389871586,
          -1.337364637743806,
          0.5054338281563555,
          -0.23346719611390368,
          -0.059552125026203245,
          0.5921779267943594,
          -0.9829451011712914,
          -0.5411503992773751,
          -0.0028521608425189264,
          0.6806733661617044,
          -0.545069667006346,
          1.905930226797241,
          -0.24881379793339825,
          0.5344670210106673,
          0.25240035967963587,
          -0.18080354422621497,
          -1.9693964883936066,
          -1.2129477418029484,
          0.6366475468500201,
          1.4222791853401286,
          -0.9098173503757404,
          -1.7965623258527832,
          1.6616760089058293,
          0.9656171272377032,
          0.16671059556241694,
          -1.4770482531315494,
          0.5024863405437006,
          -1.1947552125809477,
          -0.5625317028407455,
          -0.5713804419749033,
          -0.9159268650090083
         ],
         "xaxis": "x3",
         "y": [
          -0.7292327978431696,
          -0.974830182761352,
          -0.26209888558511735,
          0.4625878154503189,
          0.6221956315443264,
          -0.6283426059822679,
          -1.1869257562288007,
          0.026352457396184876,
          1.5257379620231581,
          1.5097889271689648,
          -0.6791608437928496,
          -1.0655500653071028,
          0.5783798900691562,
          -0.5355223924045895,
          -0.5736487743916989,
          0.27782568089634363,
          -1.121704067911955,
          1.7455931181530004,
          0.567903648758014,
          -1.3223512063319718,
          -1.0810870370994095,
          0.8233908497553671,
          -0.33778797251284703,
          0.043579450021013946,
          -1.199789413486293,
          0.6924241308206706,
          -0.05501515108109769,
          -0.42943737492493633,
          1.8376407752463495,
          1.5696814508069885,
          0.7577066619428412,
          -0.8892641619069086,
          0.35435919411789346,
          0.5874653985956466,
          1.5418431505640875,
          0.2409054448296417,
          -0.3144984785843778,
          -0.21473436338089816,
          -1.1175123679192964,
          -0.5814531590899158,
          0.5245128721506751,
          -0.31633769485893803,
          -0.6359988668909158,
          -0.23726996098449016,
          -0.3982124198205674,
          -0.43722295290105845,
          -0.8939564181904478,
          1.6442649705379218,
          -0.03847002183551993,
          -2.404032839063728,
          1.378628141649735,
          -0.8312434491896347,
          0.2091557152576446,
          -1.099623054801942,
          2.3740966992587578,
          1.6821413637381235,
          -0.15604278937050337,
          1.606674383529953,
          0.5062402310934592,
          -1.9525630963497957,
          1.3550364682699907,
          1.7905006512907407,
          0.6360203667698248,
          -0.8618964953795111,
          0.16380466263449095,
          1.2803113779287176,
          -0.08320937923702665,
          -1.2482532423300359,
          1.5514630422022548,
          -1.3742530385494103,
          -0.782115657330491,
          1.4139594942160179,
          -1.196156501437301,
          0.1556477823532999,
          1.2192212179884288,
          -0.1790850020822392,
          -0.27884292842249364,
          1.5872912174311693,
          -2.2252991158069855,
          -1.0157107731910955,
          -0.17319966364655262,
          -0.003305183104299413,
          0.39134630972054646,
          -0.6299971666679965,
          -0.5599556417703775,
          1.7052530534060306,
          -1.0286663990820606,
          -0.8343300341499792,
          0.26836643957742273,
          -1.6435992402350532,
          0.185083912167794,
          0.13867387300098313,
          0.20557733968652833,
          0.8091575611898224,
          0.34215282304169004,
          1.7590302670488172,
          -0.06473440148486866,
          0.8467053994637058,
          -0.4096522335741291,
          -0.7188798737998551
         ],
         "yaxis": "y3"
        },
        {
         "line": {
          "color": "rgba(128, 128, 128, 1.0)",
          "dash": "solid",
          "shape": "linear",
          "width": 1.3
         },
         "marker": {
          "size": 2,
          "symbol": "circle"
         },
         "mode": "markers",
         "name": "A",
         "text": "",
         "type": "scatter",
         "x": [
          0.8701451134981023,
          -0.009464630807165916,
          1.1121383309134603,
          0.46297875573362385,
          -0.6436970180668675,
          0.4755382595616794,
          0.22558964868048326,
          -0.25049335242706516,
          -0.6900315101856774,
          -0.7689762645220269,
          -0.17949598241540698,
          0.28575432914935034,
          -0.9789663362726952,
          -0.1972315041361254,
          -0.24738689557654772,
          -0.15874656953369926,
          -0.2271395980874452,
          1.862810923538947,
          -0.3959839148509614,
          0.6297939909807113,
          -0.4189742788306943,
          -0.8351578977289027,
          1.0686659001388692,
          -1.5728691119325595,
          -1.3635106010781473,
          -1.1408364514819833,
          -0.8439806118796392,
          0.5671029854135595,
          0.5304523587298116,
          0.10609842342935913,
          0.6728987622088346,
          -1.894134951392827,
          -0.36742528550598275,
          1.324219395793488,
          -0.26191645539166897,
          -1.6693567626397805,
          -1.4219945824704003,
          1.1413038338392376,
          -1.4740520691504395,
          -0.6141517495442599,
          0.751642535199614,
          -0.895572577627479,
          -0.2273617535118292,
          0.20162941381999344,
          0.3826505688526492,
          0.5958049875378956,
          -0.05669134538874129,
          1.0148030537235921,
          0.3996173755041809,
          0.08690434639985714,
          -0.31612170133716977,
          0.4270831432743658,
          0.5158923167878706,
          -0.723365309296625,
          -0.046398539108323075,
          -2.366503533614684,
          1.7528648531263429,
          -1.9860526847326894,
          -1.7984247093651877,
          0.18254546199109117,
          0.06146836080597479,
          1.7795084968854165,
          0.46604601157724385,
          0.3057646323657242,
          -1.3894966491503697,
          1.8188177701780233,
          -0.2697969369066025,
          0.9585666934785415,
          -0.5243422761673631,
          0.7610617739364335,
          0.5075207721743724,
          -0.018617492383678786,
          -1.4127937858342468,
          -0.8397363996014167,
          0.43971330013637633,
          -1.7461070273974852,
          0.17066683195978116,
          0.15695222447033608,
          -0.6549721686911111,
          -0.7970805562895228,
          -0.3500779369444265,
          -0.35563584940702364,
          -0.7475789766095714,
          -0.5235231241193639,
          0.265766403143593,
          0.4057607782617236,
          -0.5346110017944211,
          1.9574517152516788,
          -0.6152555557576844,
          -1.3500515174050454,
          -0.4612020773142193,
          -0.08302484591615515,
          0.8496693590441516,
          -0.38681138818184313,
          0.3267484329796052,
          0.4527531986592999,
          -0.06339555709900874,
          0.8129693027331496,
          -0.4732417609307742,
          -0.15976325370741937
         ],
         "xaxis": "x4",
         "y": [
          -0.7292327978431696,
          -0.974830182761352,
          -0.26209888558511735,
          0.4625878154503189,
          0.6221956315443264,
          -0.6283426059822679,
          -1.1869257562288007,
          0.026352457396184876,
          1.5257379620231581,
          1.5097889271689648,
          -0.6791608437928496,
          -1.0655500653071028,
          0.5783798900691562,
          -0.5355223924045895,
          -0.5736487743916989,
          0.27782568089634363,
          -1.121704067911955,
          1.7455931181530004,
          0.567903648758014,
          -1.3223512063319718,
          -1.0810870370994095,
          0.8233908497553671,
          -0.33778797251284703,
          0.043579450021013946,
          -1.199789413486293,
          0.6924241308206706,
          -0.05501515108109769,
          -0.42943737492493633,
          1.8376407752463495,
          1.5696814508069885,
          0.7577066619428412,
          -0.8892641619069086,
          0.35435919411789346,
          0.5874653985956466,
          1.5418431505640875,
          0.2409054448296417,
          -0.3144984785843778,
          -0.21473436338089816,
          -1.1175123679192964,
          -0.5814531590899158,
          0.5245128721506751,
          -0.31633769485893803,
          -0.6359988668909158,
          -0.23726996098449016,
          -0.3982124198205674,
          -0.43722295290105845,
          -0.8939564181904478,
          1.6442649705379218,
          -0.03847002183551993,
          -2.404032839063728,
          1.378628141649735,
          -0.8312434491896347,
          0.2091557152576446,
          -1.099623054801942,
          2.3740966992587578,
          1.6821413637381235,
          -0.15604278937050337,
          1.606674383529953,
          0.5062402310934592,
          -1.9525630963497957,
          1.3550364682699907,
          1.7905006512907407,
          0.6360203667698248,
          -0.8618964953795111,
          0.16380466263449095,
          1.2803113779287176,
          -0.08320937923702665,
          -1.2482532423300359,
          1.5514630422022548,
          -1.3742530385494103,
          -0.782115657330491,
          1.4139594942160179,
          -1.196156501437301,
          0.1556477823532999,
          1.2192212179884288,
          -0.1790850020822392,
          -0.27884292842249364,
          1.5872912174311693,
          -2.2252991158069855,
          -1.0157107731910955,
          -0.17319966364655262,
          -0.003305183104299413,
          0.39134630972054646,
          -0.6299971666679965,
          -0.5599556417703775,
          1.7052530534060306,
          -1.0286663990820606,
          -0.8343300341499792,
          0.26836643957742273,
          -1.6435992402350532,
          0.185083912167794,
          0.13867387300098313,
          0.20557733968652833,
          0.8091575611898224,
          0.34215282304169004,
          1.7590302670488172,
          -0.06473440148486866,
          0.8467053994637058,
          -0.4096522335741291,
          -0.7188798737998551
         ],
         "yaxis": "y4"
        },
        {
         "line": {
          "color": "rgba(128, 128, 128, 1.0)",
          "dash": "solid",
          "shape": "linear",
          "width": 1.3
         },
         "marker": {
          "size": 2,
          "symbol": "circle"
         },
         "mode": "markers",
         "name": "B",
         "text": "",
         "type": "scatter",
         "x": [
          -0.7292327978431696,
          -0.974830182761352,
          -0.26209888558511735,
          0.4625878154503189,
          0.6221956315443264,
          -0.6283426059822679,
          -1.1869257562288007,
          0.026352457396184876,
          1.5257379620231581,
          1.5097889271689648,
          -0.6791608437928496,
          -1.0655500653071028,
          0.5783798900691562,
          -0.5355223924045895,
          -0.5736487743916989,
          0.27782568089634363,
          -1.121704067911955,
          1.7455931181530004,
          0.567903648758014,
          -1.3223512063319718,
          -1.0810870370994095,
          0.8233908497553671,
          -0.33778797251284703,
          0.043579450021013946,
          -1.199789413486293,
          0.6924241308206706,
          -0.05501515108109769,
          -0.42943737492493633,
          1.8376407752463495,
          1.5696814508069885,
          0.7577066619428412,
          -0.8892641619069086,
          0.35435919411789346,
          0.5874653985956466,
          1.5418431505640875,
          0.2409054448296417,
          -0.3144984785843778,
          -0.21473436338089816,
          -1.1175123679192964,
          -0.5814531590899158,
          0.5245128721506751,
          -0.31633769485893803,
          -0.6359988668909158,
          -0.23726996098449016,
          -0.3982124198205674,
          -0.43722295290105845,
          -0.8939564181904478,
          1.6442649705379218,
          -0.03847002183551993,
          -2.404032839063728,
          1.378628141649735,
          -0.8312434491896347,
          0.2091557152576446,
          -1.099623054801942,
          2.3740966992587578,
          1.6821413637381235,
          -0.15604278937050337,
          1.606674383529953,
          0.5062402310934592,
          -1.9525630963497957,
          1.3550364682699907,
          1.7905006512907407,
          0.6360203667698248,
          -0.8618964953795111,
          0.16380466263449095,
          1.2803113779287176,
          -0.08320937923702665,
          -1.2482532423300359,
          1.5514630422022548,
          -1.3742530385494103,
          -0.782115657330491,
          1.4139594942160179,
          -1.196156501437301,
          0.1556477823532999,
          1.2192212179884288,
          -0.1790850020822392,
          -0.27884292842249364,
          1.5872912174311693,
          -2.2252991158069855,
          -1.0157107731910955,
          -0.17319966364655262,
          -0.003305183104299413,
          0.39134630972054646,
          -0.6299971666679965,
          -0.5599556417703775,
          1.7052530534060306,
          -1.0286663990820606,
          -0.8343300341499792,
          0.26836643957742273,
          -1.6435992402350532,
          0.185083912167794,
          0.13867387300098313,
          0.20557733968652833,
          0.8091575611898224,
          0.34215282304169004,
          1.7590302670488172,
          -0.06473440148486866,
          0.8467053994637058,
          -0.4096522335741291,
          -0.7188798737998551
         ],
         "xaxis": "x5",
         "y": [
          0.2028904508929444,
          -0.5360060801057059,
          1.9172153542380332,
          1.1554998283753386,
          0.12181051885877126,
          -1.1319753703135211,
          1.3278769012435154,
          -1.373981442531079,
          -2.2633839963334057,
          0.6551232910308362,
          -1.504221412415844,
          -0.8474805378287004,
          -0.11093134329715523,
          1.241952295882244,
          -1.7442570727729392,
          0.06284888307838114,
          0.13129293250736535,
          2.202296949681284,
          -0.551127386875276,
          -1.207078337251924,
          0.5356896936168137,
          -2.3918065579996495,
          -0.8523246908502292,
          0.6248174892839728,
          -1.8244595775644652,
          1.165845385152743,
          -0.30163142477174654,
          1.660066544040394,
          -0.5068086946392768,
          -0.4556258833114967,
          -0.2983646508906948,
          0.01993433011999575,
          -0.7975056575397892,
          -1.6725777108246267,
          -0.29531640229284895,
          0.30971668360777754,
          0.716409560531819,
          0.7659397828648833,
          -0.11123212981795287,
          0.9117766490536945,
          0.25043579914409964,
          -1.344984375671524,
          -0.8801279362402369,
          0.5472592174474373,
          0.08204130503631124,
          0.17891799719213222,
          0.9489319327585631,
          0.5989101309274099,
          -0.8682489391966348,
          -2.172925528481716,
          0.8316005423159178,
          -0.06097820454389258,
          2.055498475504573,
          1.2521412919757304,
          0.04704227597800867,
          -0.4861375363540279,
          0.000582875403311226,
          -0.7320904438737423,
          0.686513285955763,
          -1.3117841313018825,
          -0.43690513505570056,
          -0.7945871974195586,
          -0.5879641229539143,
          0.24401073683741503,
          0.36009371304036686,
          -0.3019641107496942,
          -2.932775813982967,
          1.0328388977400622,
          -0.39009411657080284,
          -0.23215230892291142,
          -0.5672375951964085,
          -0.03015870112032784,
          0.3935515613535357,
          -0.34854915789772084,
          -0.24547773242621834,
          -0.9065078680653559,
          -0.9971414020458494,
          -0.08634145935478864,
          -0.3476514657989236,
          0.26556018860507086,
          -0.783460711466928,
          -1.075241131554598,
          -2.8287826318864626,
          2.136054210189507,
          0.38609878978660767,
          -1.6766148708269466,
          -0.43335314576840184,
          -0.6229073104172735,
          -0.5055562520910752,
          0.4588731405931876,
          -0.9709314596096776,
          -1.9218522420442605,
          -1.1194405577485236,
          -1.791423871895468,
          -0.4270051517947074,
          0.6222129827945807,
          -0.7878569695431034,
          -1.3978580491023649,
          1.6779823657239594,
          0.07792772247489195
         ],
         "yaxis": "y5"
        },
        {
         "histfunc": "count",
         "histnorm": "",
         "marker": {
          "color": "rgba(55, 128, 191, 1.0)",
          "line": {
           "color": "#4D5663",
           "width": 1.3
          }
         },
         "name": "B",
         "nbinsx": 10,
         "opacity": 0.8,
         "orientation": "v",
         "type": "histogram",
         "x": [
          0.2028904508929444,
          -0.5360060801057059,
          1.9172153542380332,
          1.1554998283753386,
          0.12181051885877126,
          -1.1319753703135211,
          1.3278769012435154,
          -1.373981442531079,
          -2.2633839963334057,
          0.6551232910308362,
          -1.504221412415844,
          -0.8474805378287004,
          -0.11093134329715523,
          1.241952295882244,
          -1.7442570727729392,
          0.06284888307838114,
          0.13129293250736535,
          2.202296949681284,
          -0.551127386875276,
          -1.207078337251924,
          0.5356896936168137,
          -2.3918065579996495,
          -0.8523246908502292,
          0.6248174892839728,
          -1.8244595775644652,
          1.165845385152743,
          -0.30163142477174654,
          1.660066544040394,
          -0.5068086946392768,
          -0.4556258833114967,
          -0.2983646508906948,
          0.01993433011999575,
          -0.7975056575397892,
          -1.6725777108246267,
          -0.29531640229284895,
          0.30971668360777754,
          0.716409560531819,
          0.7659397828648833,
          -0.11123212981795287,
          0.9117766490536945,
          0.25043579914409964,
          -1.344984375671524,
          -0.8801279362402369,
          0.5472592174474373,
          0.08204130503631124,
          0.17891799719213222,
          0.9489319327585631,
          0.5989101309274099,
          -0.8682489391966348,
          -2.172925528481716,
          0.8316005423159178,
          -0.06097820454389258,
          2.055498475504573,
          1.2521412919757304,
          0.04704227597800867,
          -0.4861375363540279,
          0.000582875403311226,
          -0.7320904438737423,
          0.686513285955763,
          -1.3117841313018825,
          -0.43690513505570056,
          -0.7945871974195586,
          -0.5879641229539143,
          0.24401073683741503,
          0.36009371304036686,
          -0.3019641107496942,
          -2.932775813982967,
          1.0328388977400622,
          -0.39009411657080284,
          -0.23215230892291142,
          -0.5672375951964085,
          -0.03015870112032784,
          0.3935515613535357,
          -0.34854915789772084,
          -0.24547773242621834,
          -0.9065078680653559,
          -0.9971414020458494,
          -0.08634145935478864,
          -0.3476514657989236,
          0.26556018860507086,
          -0.783460711466928,
          -1.075241131554598,
          -2.8287826318864626,
          2.136054210189507,
          0.38609878978660767,
          -1.6766148708269466,
          -0.43335314576840184,
          -0.6229073104172735,
          -0.5055562520910752,
          0.4588731405931876,
          -0.9709314596096776,
          -1.9218522420442605,
          -1.1194405577485236,
          -1.791423871895468,
          -0.4270051517947074,
          0.6222129827945807,
          -0.7878569695431034,
          -1.3978580491023649,
          1.6779823657239594,
          0.07792772247489195
         ],
         "xaxis": "x6",
         "yaxis": "y6"
        },
        {
         "line": {
          "color": "rgba(128, 128, 128, 1.0)",
          "dash": "solid",
          "shape": "linear",
          "width": 1.3
         },
         "marker": {
          "size": 2,
          "symbol": "circle"
         },
         "mode": "markers",
         "name": "B",
         "text": "",
         "type": "scatter",
         "x": [
          -1.0254696456815664,
          0.7775611998203021,
          -0.20499226929278383,
          1.6015143467695474,
          2.097806392179643,
          -0.4796119091423343,
          1.082289424478793,
          -0.288966877710572,
          0.9213989888372064,
          0.01462940254773187,
          0.8592148213502434,
          0.5088230613436406,
          -0.040219135029324865,
          1.28473655462965,
          0.3423847164018379,
          0.8579061156088263,
          1.3606289039525115,
          0.2910045147197126,
          -0.5712703432758236,
          0.22685702819916062,
          -0.14530467368663916,
          1.4645560699327624,
          1.0215181407236713,
          -1.086646700625405,
          0.5365380164670625,
          -1.1042970297733814,
          -0.6058807027596476,
          -2.1380588405986485,
          1.7431683533201399,
          1.7302484983906652,
          1.288911148472986,
          1.078148783006668,
          -0.24590453578333873,
          1.1225823894268763,
          -0.3526066675255926,
          1.6560803349462097,
          0.015590437840218005,
          -1.6932085391822211,
          0.5437404788529965,
          0.6994865289367478,
          2.6186636395723157,
          1.6601574901932357,
          -0.07613554282868827,
          -0.3485755963494323,
          -1.5972319489482059,
          0.31782211580436764,
          -0.5835428084182313,
          0.08107512890708217,
          0.26815331067107984,
          1.4967254859563903,
          0.04661947159376344,
          0.5293767660853089,
          2.5895528605846025,
          1.7309986203507288,
          -0.3239633354499249,
          0.06344544639119536,
          0.8700511906010587,
          -0.48635465882446166,
          -0.546861619477916,
          1.2750447493866293,
          -1.0619992763638353,
          0.44059903665829664,
          -1.4611096291954173,
          0.4668790956832927,
          0.6991237039692891,
          -0.6229171598590227,
          0.3930809313037531,
          -1.6831173471735759,
          -0.6413720153024304,
          -0.9023310389871586,
          -1.337364637743806,
          0.5054338281563555,
          -0.23346719611390368,
          -0.059552125026203245,
          0.5921779267943594,
          -0.9829451011712914,
          -0.5411503992773751,
          -0.0028521608425189264,
          0.6806733661617044,
          -0.545069667006346,
          1.905930226797241,
          -0.24881379793339825,
          0.5344670210106673,
          0.25240035967963587,
          -0.18080354422621497,
          -1.9693964883936066,
          -1.2129477418029484,
          0.6366475468500201,
          1.4222791853401286,
          -0.9098173503757404,
          -1.7965623258527832,
          1.6616760089058293,
          0.9656171272377032,
          0.16671059556241694,
          -1.4770482531315494,
          0.5024863405437006,
          -1.1947552125809477,
          -0.5625317028407455,
          -0.5713804419749033,
          -0.9159268650090083
         ],
         "xaxis": "x7",
         "y": [
          0.2028904508929444,
          -0.5360060801057059,
          1.9172153542380332,
          1.1554998283753386,
          0.12181051885877126,
          -1.1319753703135211,
          1.3278769012435154,
          -1.373981442531079,
          -2.2633839963334057,
          0.6551232910308362,
          -1.504221412415844,
          -0.8474805378287004,
          -0.11093134329715523,
          1.241952295882244,
          -1.7442570727729392,
          0.06284888307838114,
          0.13129293250736535,
          2.202296949681284,
          -0.551127386875276,
          -1.207078337251924,
          0.5356896936168137,
          -2.3918065579996495,
          -0.8523246908502292,
          0.6248174892839728,
          -1.8244595775644652,
          1.165845385152743,
          -0.30163142477174654,
          1.660066544040394,
          -0.5068086946392768,
          -0.4556258833114967,
          -0.2983646508906948,
          0.01993433011999575,
          -0.7975056575397892,
          -1.6725777108246267,
          -0.29531640229284895,
          0.30971668360777754,
          0.716409560531819,
          0.7659397828648833,
          -0.11123212981795287,
          0.9117766490536945,
          0.25043579914409964,
          -1.344984375671524,
          -0.8801279362402369,
          0.5472592174474373,
          0.08204130503631124,
          0.17891799719213222,
          0.9489319327585631,
          0.5989101309274099,
          -0.8682489391966348,
          -2.172925528481716,
          0.8316005423159178,
          -0.06097820454389258,
          2.055498475504573,
          1.2521412919757304,
          0.04704227597800867,
          -0.4861375363540279,
          0.000582875403311226,
          -0.7320904438737423,
          0.686513285955763,
          -1.3117841313018825,
          -0.43690513505570056,
          -0.7945871974195586,
          -0.5879641229539143,
          0.24401073683741503,
          0.36009371304036686,
          -0.3019641107496942,
          -2.932775813982967,
          1.0328388977400622,
          -0.39009411657080284,
          -0.23215230892291142,
          -0.5672375951964085,
          -0.03015870112032784,
          0.3935515613535357,
          -0.34854915789772084,
          -0.24547773242621834,
          -0.9065078680653559,
          -0.9971414020458494,
          -0.08634145935478864,
          -0.3476514657989236,
          0.26556018860507086,
          -0.783460711466928,
          -1.075241131554598,
          -2.8287826318864626,
          2.136054210189507,
          0.38609878978660767,
          -1.6766148708269466,
          -0.43335314576840184,
          -0.6229073104172735,
          -0.5055562520910752,
          0.4588731405931876,
          -0.9709314596096776,
          -1.9218522420442605,
          -1.1194405577485236,
          -1.791423871895468,
          -0.4270051517947074,
          0.6222129827945807,
          -0.7878569695431034,
          -1.3978580491023649,
          1.6779823657239594,
          0.07792772247489195
         ],
         "yaxis": "y7"
        },
        {
         "line": {
          "color": "rgba(128, 128, 128, 1.0)",
          "dash": "solid",
          "shape": "linear",
          "width": 1.3
         },
         "marker": {
          "size": 2,
          "symbol": "circle"
         },
         "mode": "markers",
         "name": "B",
         "text": "",
         "type": "scatter",
         "x": [
          0.8701451134981023,
          -0.009464630807165916,
          1.1121383309134603,
          0.46297875573362385,
          -0.6436970180668675,
          0.4755382595616794,
          0.22558964868048326,
          -0.25049335242706516,
          -0.6900315101856774,
          -0.7689762645220269,
          -0.17949598241540698,
          0.28575432914935034,
          -0.9789663362726952,
          -0.1972315041361254,
          -0.24738689557654772,
          -0.15874656953369926,
          -0.2271395980874452,
          1.862810923538947,
          -0.3959839148509614,
          0.6297939909807113,
          -0.4189742788306943,
          -0.8351578977289027,
          1.0686659001388692,
          -1.5728691119325595,
          -1.3635106010781473,
          -1.1408364514819833,
          -0.8439806118796392,
          0.5671029854135595,
          0.5304523587298116,
          0.10609842342935913,
          0.6728987622088346,
          -1.894134951392827,
          -0.36742528550598275,
          1.324219395793488,
          -0.26191645539166897,
          -1.6693567626397805,
          -1.4219945824704003,
          1.1413038338392376,
          -1.4740520691504395,
          -0.6141517495442599,
          0.751642535199614,
          -0.895572577627479,
          -0.2273617535118292,
          0.20162941381999344,
          0.3826505688526492,
          0.5958049875378956,
          -0.05669134538874129,
          1.0148030537235921,
          0.3996173755041809,
          0.08690434639985714,
          -0.31612170133716977,
          0.4270831432743658,
          0.5158923167878706,
          -0.723365309296625,
          -0.046398539108323075,
          -2.366503533614684,
          1.7528648531263429,
          -1.9860526847326894,
          -1.7984247093651877,
          0.18254546199109117,
          0.06146836080597479,
          1.7795084968854165,
          0.46604601157724385,
          0.3057646323657242,
          -1.3894966491503697,
          1.8188177701780233,
          -0.2697969369066025,
          0.9585666934785415,
          -0.5243422761673631,
          0.7610617739364335,
          0.5075207721743724,
          -0.018617492383678786,
          -1.4127937858342468,
          -0.8397363996014167,
          0.43971330013637633,
          -1.7461070273974852,
          0.17066683195978116,
          0.15695222447033608,
          -0.6549721686911111,
          -0.7970805562895228,
          -0.3500779369444265,
          -0.35563584940702364,
          -0.7475789766095714,
          -0.5235231241193639,
          0.265766403143593,
          0.4057607782617236,
          -0.5346110017944211,
          1.9574517152516788,
          -0.6152555557576844,
          -1.3500515174050454,
          -0.4612020773142193,
          -0.08302484591615515,
          0.8496693590441516,
          -0.38681138818184313,
          0.3267484329796052,
          0.4527531986592999,
          -0.06339555709900874,
          0.8129693027331496,
          -0.4732417609307742,
          -0.15976325370741937
         ],
         "xaxis": "x8",
         "y": [
          0.2028904508929444,
          -0.5360060801057059,
          1.9172153542380332,
          1.1554998283753386,
          0.12181051885877126,
          -1.1319753703135211,
          1.3278769012435154,
          -1.373981442531079,
          -2.2633839963334057,
          0.6551232910308362,
          -1.504221412415844,
          -0.8474805378287004,
          -0.11093134329715523,
          1.241952295882244,
          -1.7442570727729392,
          0.06284888307838114,
          0.13129293250736535,
          2.202296949681284,
          -0.551127386875276,
          -1.207078337251924,
          0.5356896936168137,
          -2.3918065579996495,
          -0.8523246908502292,
          0.6248174892839728,
          -1.8244595775644652,
          1.165845385152743,
          -0.30163142477174654,
          1.660066544040394,
          -0.5068086946392768,
          -0.4556258833114967,
          -0.2983646508906948,
          0.01993433011999575,
          -0.7975056575397892,
          -1.6725777108246267,
          -0.29531640229284895,
          0.30971668360777754,
          0.716409560531819,
          0.7659397828648833,
          -0.11123212981795287,
          0.9117766490536945,
          0.25043579914409964,
          -1.344984375671524,
          -0.8801279362402369,
          0.5472592174474373,
          0.08204130503631124,
          0.17891799719213222,
          0.9489319327585631,
          0.5989101309274099,
          -0.8682489391966348,
          -2.172925528481716,
          0.8316005423159178,
          -0.06097820454389258,
          2.055498475504573,
          1.2521412919757304,
          0.04704227597800867,
          -0.4861375363540279,
          0.000582875403311226,
          -0.7320904438737423,
          0.686513285955763,
          -1.3117841313018825,
          -0.43690513505570056,
          -0.7945871974195586,
          -0.5879641229539143,
          0.24401073683741503,
          0.36009371304036686,
          -0.3019641107496942,
          -2.932775813982967,
          1.0328388977400622,
          -0.39009411657080284,
          -0.23215230892291142,
          -0.5672375951964085,
          -0.03015870112032784,
          0.3935515613535357,
          -0.34854915789772084,
          -0.24547773242621834,
          -0.9065078680653559,
          -0.9971414020458494,
          -0.08634145935478864,
          -0.3476514657989236,
          0.26556018860507086,
          -0.783460711466928,
          -1.075241131554598,
          -2.8287826318864626,
          2.136054210189507,
          0.38609878978660767,
          -1.6766148708269466,
          -0.43335314576840184,
          -0.6229073104172735,
          -0.5055562520910752,
          0.4588731405931876,
          -0.9709314596096776,
          -1.9218522420442605,
          -1.1194405577485236,
          -1.791423871895468,
          -0.4270051517947074,
          0.6222129827945807,
          -0.7878569695431034,
          -1.3978580491023649,
          1.6779823657239594,
          0.07792772247489195
         ],
         "yaxis": "y8"
        },
        {
         "line": {
          "color": "rgba(128, 128, 128, 1.0)",
          "dash": "solid",
          "shape": "linear",
          "width": 1.3
         },
         "marker": {
          "size": 2,
          "symbol": "circle"
         },
         "mode": "markers",
         "name": "C",
         "text": "",
         "type": "scatter",
         "x": [
          -0.7292327978431696,
          -0.974830182761352,
          -0.26209888558511735,
          0.4625878154503189,
          0.6221956315443264,
          -0.6283426059822679,
          -1.1869257562288007,
          0.026352457396184876,
          1.5257379620231581,
          1.5097889271689648,
          -0.6791608437928496,
          -1.0655500653071028,
          0.5783798900691562,
          -0.5355223924045895,
          -0.5736487743916989,
          0.27782568089634363,
          -1.121704067911955,
          1.7455931181530004,
          0.567903648758014,
          -1.3223512063319718,
          -1.0810870370994095,
          0.8233908497553671,
          -0.33778797251284703,
          0.043579450021013946,
          -1.199789413486293,
          0.6924241308206706,
          -0.05501515108109769,
          -0.42943737492493633,
          1.8376407752463495,
          1.5696814508069885,
          0.7577066619428412,
          -0.8892641619069086,
          0.35435919411789346,
          0.5874653985956466,
          1.5418431505640875,
          0.2409054448296417,
          -0.3144984785843778,
          -0.21473436338089816,
          -1.1175123679192964,
          -0.5814531590899158,
          0.5245128721506751,
          -0.31633769485893803,
          -0.6359988668909158,
          -0.23726996098449016,
          -0.3982124198205674,
          -0.43722295290105845,
          -0.8939564181904478,
          1.6442649705379218,
          -0.03847002183551993,
          -2.404032839063728,
          1.378628141649735,
          -0.8312434491896347,
          0.2091557152576446,
          -1.099623054801942,
          2.3740966992587578,
          1.6821413637381235,
          -0.15604278937050337,
          1.606674383529953,
          0.5062402310934592,
          -1.9525630963497957,
          1.3550364682699907,
          1.7905006512907407,
          0.6360203667698248,
          -0.8618964953795111,
          0.16380466263449095,
          1.2803113779287176,
          -0.08320937923702665,
          -1.2482532423300359,
          1.5514630422022548,
          -1.3742530385494103,
          -0.782115657330491,
          1.4139594942160179,
          -1.196156501437301,
          0.1556477823532999,
          1.2192212179884288,
          -0.1790850020822392,
          -0.27884292842249364,
          1.5872912174311693,
          -2.2252991158069855,
          -1.0157107731910955,
          -0.17319966364655262,
          -0.003305183104299413,
          0.39134630972054646,
          -0.6299971666679965,
          -0.5599556417703775,
          1.7052530534060306,
          -1.0286663990820606,
          -0.8343300341499792,
          0.26836643957742273,
          -1.6435992402350532,
          0.185083912167794,
          0.13867387300098313,
          0.20557733968652833,
          0.8091575611898224,
          0.34215282304169004,
          1.7590302670488172,
          -0.06473440148486866,
          0.8467053994637058,
          -0.4096522335741291,
          -0.7188798737998551
         ],
         "xaxis": "x9",
         "y": [
          -1.0254696456815664,
          0.7775611998203021,
          -0.20499226929278383,
          1.6015143467695474,
          2.097806392179643,
          -0.4796119091423343,
          1.082289424478793,
          -0.288966877710572,
          0.9213989888372064,
          0.01462940254773187,
          0.8592148213502434,
          0.5088230613436406,
          -0.040219135029324865,
          1.28473655462965,
          0.3423847164018379,
          0.8579061156088263,
          1.3606289039525115,
          0.2910045147197126,
          -0.5712703432758236,
          0.22685702819916062,
          -0.14530467368663916,
          1.4645560699327624,
          1.0215181407236713,
          -1.086646700625405,
          0.5365380164670625,
          -1.1042970297733814,
          -0.6058807027596476,
          -2.1380588405986485,
          1.7431683533201399,
          1.7302484983906652,
          1.288911148472986,
          1.078148783006668,
          -0.24590453578333873,
          1.1225823894268763,
          -0.3526066675255926,
          1.6560803349462097,
          0.015590437840218005,
          -1.6932085391822211,
          0.5437404788529965,
          0.6994865289367478,
          2.6186636395723157,
          1.6601574901932357,
          -0.07613554282868827,
          -0.3485755963494323,
          -1.5972319489482059,
          0.31782211580436764,
          -0.5835428084182313,
          0.08107512890708217,
          0.26815331067107984,
          1.4967254859563903,
          0.04661947159376344,
          0.5293767660853089,
          2.5895528605846025,
          1.7309986203507288,
          -0.3239633354499249,
          0.06344544639119536,
          0.8700511906010587,
          -0.48635465882446166,
          -0.546861619477916,
          1.2750447493866293,
          -1.0619992763638353,
          0.44059903665829664,
          -1.4611096291954173,
          0.4668790956832927,
          0.6991237039692891,
          -0.6229171598590227,
          0.3930809313037531,
          -1.6831173471735759,
          -0.6413720153024304,
          -0.9023310389871586,
          -1.337364637743806,
          0.5054338281563555,
          -0.23346719611390368,
          -0.059552125026203245,
          0.5921779267943594,
          -0.9829451011712914,
          -0.5411503992773751,
          -0.0028521608425189264,
          0.6806733661617044,
          -0.545069667006346,
          1.905930226797241,
          -0.24881379793339825,
          0.5344670210106673,
          0.25240035967963587,
          -0.18080354422621497,
          -1.9693964883936066,
          -1.2129477418029484,
          0.6366475468500201,
          1.4222791853401286,
          -0.9098173503757404,
          -1.7965623258527832,
          1.6616760089058293,
          0.9656171272377032,
          0.16671059556241694,
          -1.4770482531315494,
          0.5024863405437006,
          -1.1947552125809477,
          -0.5625317028407455,
          -0.5713804419749033,
          -0.9159268650090083
         ],
         "yaxis": "y9"
        },
        {
         "line": {
          "color": "rgba(128, 128, 128, 1.0)",
          "dash": "solid",
          "shape": "linear",
          "width": 1.3
         },
         "marker": {
          "size": 2,
          "symbol": "circle"
         },
         "mode": "markers",
         "name": "C",
         "text": "",
         "type": "scatter",
         "x": [
          0.2028904508929444,
          -0.5360060801057059,
          1.9172153542380332,
          1.1554998283753386,
          0.12181051885877126,
          -1.1319753703135211,
          1.3278769012435154,
          -1.373981442531079,
          -2.2633839963334057,
          0.6551232910308362,
          -1.504221412415844,
          -0.8474805378287004,
          -0.11093134329715523,
          1.241952295882244,
          -1.7442570727729392,
          0.06284888307838114,
          0.13129293250736535,
          2.202296949681284,
          -0.551127386875276,
          -1.207078337251924,
          0.5356896936168137,
          -2.3918065579996495,
          -0.8523246908502292,
          0.6248174892839728,
          -1.8244595775644652,
          1.165845385152743,
          -0.30163142477174654,
          1.660066544040394,
          -0.5068086946392768,
          -0.4556258833114967,
          -0.2983646508906948,
          0.01993433011999575,
          -0.7975056575397892,
          -1.6725777108246267,
          -0.29531640229284895,
          0.30971668360777754,
          0.716409560531819,
          0.7659397828648833,
          -0.11123212981795287,
          0.9117766490536945,
          0.25043579914409964,
          -1.344984375671524,
          -0.8801279362402369,
          0.5472592174474373,
          0.08204130503631124,
          0.17891799719213222,
          0.9489319327585631,
          0.5989101309274099,
          -0.8682489391966348,
          -2.172925528481716,
          0.8316005423159178,
          -0.06097820454389258,
          2.055498475504573,
          1.2521412919757304,
          0.04704227597800867,
          -0.4861375363540279,
          0.000582875403311226,
          -0.7320904438737423,
          0.686513285955763,
          -1.3117841313018825,
          -0.43690513505570056,
          -0.7945871974195586,
          -0.5879641229539143,
          0.24401073683741503,
          0.36009371304036686,
          -0.3019641107496942,
          -2.932775813982967,
          1.0328388977400622,
          -0.39009411657080284,
          -0.23215230892291142,
          -0.5672375951964085,
          -0.03015870112032784,
          0.3935515613535357,
          -0.34854915789772084,
          -0.24547773242621834,
          -0.9065078680653559,
          -0.9971414020458494,
          -0.08634145935478864,
          -0.3476514657989236,
          0.26556018860507086,
          -0.783460711466928,
          -1.075241131554598,
          -2.8287826318864626,
          2.136054210189507,
          0.38609878978660767,
          -1.6766148708269466,
          -0.43335314576840184,
          -0.6229073104172735,
          -0.5055562520910752,
          0.4588731405931876,
          -0.9709314596096776,
          -1.9218522420442605,
          -1.1194405577485236,
          -1.791423871895468,
          -0.4270051517947074,
          0.6222129827945807,
          -0.7878569695431034,
          -1.3978580491023649,
          1.6779823657239594,
          0.07792772247489195
         ],
         "xaxis": "x10",
         "y": [
          -1.0254696456815664,
          0.7775611998203021,
          -0.20499226929278383,
          1.6015143467695474,
          2.097806392179643,
          -0.4796119091423343,
          1.082289424478793,
          -0.288966877710572,
          0.9213989888372064,
          0.01462940254773187,
          0.8592148213502434,
          0.5088230613436406,
          -0.040219135029324865,
          1.28473655462965,
          0.3423847164018379,
          0.8579061156088263,
          1.3606289039525115,
          0.2910045147197126,
          -0.5712703432758236,
          0.22685702819916062,
          -0.14530467368663916,
          1.4645560699327624,
          1.0215181407236713,
          -1.086646700625405,
          0.5365380164670625,
          -1.1042970297733814,
          -0.6058807027596476,
          -2.1380588405986485,
          1.7431683533201399,
          1.7302484983906652,
          1.288911148472986,
          1.078148783006668,
          -0.24590453578333873,
          1.1225823894268763,
          -0.3526066675255926,
          1.6560803349462097,
          0.015590437840218005,
          -1.6932085391822211,
          0.5437404788529965,
          0.6994865289367478,
          2.6186636395723157,
          1.6601574901932357,
          -0.07613554282868827,
          -0.3485755963494323,
          -1.5972319489482059,
          0.31782211580436764,
          -0.5835428084182313,
          0.08107512890708217,
          0.26815331067107984,
          1.4967254859563903,
          0.04661947159376344,
          0.5293767660853089,
          2.5895528605846025,
          1.7309986203507288,
          -0.3239633354499249,
          0.06344544639119536,
          0.8700511906010587,
          -0.48635465882446166,
          -0.546861619477916,
          1.2750447493866293,
          -1.0619992763638353,
          0.44059903665829664,
          -1.4611096291954173,
          0.4668790956832927,
          0.6991237039692891,
          -0.6229171598590227,
          0.3930809313037531,
          -1.6831173471735759,
          -0.6413720153024304,
          -0.9023310389871586,
          -1.337364637743806,
          0.5054338281563555,
          -0.23346719611390368,
          -0.059552125026203245,
          0.5921779267943594,
          -0.9829451011712914,
          -0.5411503992773751,
          -0.0028521608425189264,
          0.6806733661617044,
          -0.545069667006346,
          1.905930226797241,
          -0.24881379793339825,
          0.5344670210106673,
          0.25240035967963587,
          -0.18080354422621497,
          -1.9693964883936066,
          -1.2129477418029484,
          0.6366475468500201,
          1.4222791853401286,
          -0.9098173503757404,
          -1.7965623258527832,
          1.6616760089058293,
          0.9656171272377032,
          0.16671059556241694,
          -1.4770482531315494,
          0.5024863405437006,
          -1.1947552125809477,
          -0.5625317028407455,
          -0.5713804419749033,
          -0.9159268650090083
         ],
         "yaxis": "y10"
        },
        {
         "histfunc": "count",
         "histnorm": "",
         "marker": {
          "color": "rgba(50, 171, 96, 1.0)",
          "line": {
           "color": "#4D5663",
           "width": 1.3
          }
         },
         "name": "C",
         "nbinsx": 10,
         "opacity": 0.8,
         "orientation": "v",
         "type": "histogram",
         "x": [
          -1.0254696456815664,
          0.7775611998203021,
          -0.20499226929278383,
          1.6015143467695474,
          2.097806392179643,
          -0.4796119091423343,
          1.082289424478793,
          -0.288966877710572,
          0.9213989888372064,
          0.01462940254773187,
          0.8592148213502434,
          0.5088230613436406,
          -0.040219135029324865,
          1.28473655462965,
          0.3423847164018379,
          0.8579061156088263,
          1.3606289039525115,
          0.2910045147197126,
          -0.5712703432758236,
          0.22685702819916062,
          -0.14530467368663916,
          1.4645560699327624,
          1.0215181407236713,
          -1.086646700625405,
          0.5365380164670625,
          -1.1042970297733814,
          -0.6058807027596476,
          -2.1380588405986485,
          1.7431683533201399,
          1.7302484983906652,
          1.288911148472986,
          1.078148783006668,
          -0.24590453578333873,
          1.1225823894268763,
          -0.3526066675255926,
          1.6560803349462097,
          0.015590437840218005,
          -1.6932085391822211,
          0.5437404788529965,
          0.6994865289367478,
          2.6186636395723157,
          1.6601574901932357,
          -0.07613554282868827,
          -0.3485755963494323,
          -1.5972319489482059,
          0.31782211580436764,
          -0.5835428084182313,
          0.08107512890708217,
          0.26815331067107984,
          1.4967254859563903,
          0.04661947159376344,
          0.5293767660853089,
          2.5895528605846025,
          1.7309986203507288,
          -0.3239633354499249,
          0.06344544639119536,
          0.8700511906010587,
          -0.48635465882446166,
          -0.546861619477916,
          1.2750447493866293,
          -1.0619992763638353,
          0.44059903665829664,
          -1.4611096291954173,
          0.4668790956832927,
          0.6991237039692891,
          -0.6229171598590227,
          0.3930809313037531,
          -1.6831173471735759,
          -0.6413720153024304,
          -0.9023310389871586,
          -1.337364637743806,
          0.5054338281563555,
          -0.23346719611390368,
          -0.059552125026203245,
          0.5921779267943594,
          -0.9829451011712914,
          -0.5411503992773751,
          -0.0028521608425189264,
          0.6806733661617044,
          -0.545069667006346,
          1.905930226797241,
          -0.24881379793339825,
          0.5344670210106673,
          0.25240035967963587,
          -0.18080354422621497,
          -1.9693964883936066,
          -1.2129477418029484,
          0.6366475468500201,
          1.4222791853401286,
          -0.9098173503757404,
          -1.7965623258527832,
          1.6616760089058293,
          0.9656171272377032,
          0.16671059556241694,
          -1.4770482531315494,
          0.5024863405437006,
          -1.1947552125809477,
          -0.5625317028407455,
          -0.5713804419749033,
          -0.9159268650090083
         ],
         "xaxis": "x11",
         "yaxis": "y11"
        },
        {
         "line": {
          "color": "rgba(128, 128, 128, 1.0)",
          "dash": "solid",
          "shape": "linear",
          "width": 1.3
         },
         "marker": {
          "size": 2,
          "symbol": "circle"
         },
         "mode": "markers",
         "name": "C",
         "text": "",
         "type": "scatter",
         "x": [
          0.8701451134981023,
          -0.009464630807165916,
          1.1121383309134603,
          0.46297875573362385,
          -0.6436970180668675,
          0.4755382595616794,
          0.22558964868048326,
          -0.25049335242706516,
          -0.6900315101856774,
          -0.7689762645220269,
          -0.17949598241540698,
          0.28575432914935034,
          -0.9789663362726952,
          -0.1972315041361254,
          -0.24738689557654772,
          -0.15874656953369926,
          -0.2271395980874452,
          1.862810923538947,
          -0.3959839148509614,
          0.6297939909807113,
          -0.4189742788306943,
          -0.8351578977289027,
          1.0686659001388692,
          -1.5728691119325595,
          -1.3635106010781473,
          -1.1408364514819833,
          -0.8439806118796392,
          0.5671029854135595,
          0.5304523587298116,
          0.10609842342935913,
          0.6728987622088346,
          -1.894134951392827,
          -0.36742528550598275,
          1.324219395793488,
          -0.26191645539166897,
          -1.6693567626397805,
          -1.4219945824704003,
          1.1413038338392376,
          -1.4740520691504395,
          -0.6141517495442599,
          0.751642535199614,
          -0.895572577627479,
          -0.2273617535118292,
          0.20162941381999344,
          0.3826505688526492,
          0.5958049875378956,
          -0.05669134538874129,
          1.0148030537235921,
          0.3996173755041809,
          0.08690434639985714,
          -0.31612170133716977,
          0.4270831432743658,
          0.5158923167878706,
          -0.723365309296625,
          -0.046398539108323075,
          -2.366503533614684,
          1.7528648531263429,
          -1.9860526847326894,
          -1.7984247093651877,
          0.18254546199109117,
          0.06146836080597479,
          1.7795084968854165,
          0.46604601157724385,
          0.3057646323657242,
          -1.3894966491503697,
          1.8188177701780233,
          -0.2697969369066025,
          0.9585666934785415,
          -0.5243422761673631,
          0.7610617739364335,
          0.5075207721743724,
          -0.018617492383678786,
          -1.4127937858342468,
          -0.8397363996014167,
          0.43971330013637633,
          -1.7461070273974852,
          0.17066683195978116,
          0.15695222447033608,
          -0.6549721686911111,
          -0.7970805562895228,
          -0.3500779369444265,
          -0.35563584940702364,
          -0.7475789766095714,
          -0.5235231241193639,
          0.265766403143593,
          0.4057607782617236,
          -0.5346110017944211,
          1.9574517152516788,
          -0.6152555557576844,
          -1.3500515174050454,
          -0.4612020773142193,
          -0.08302484591615515,
          0.8496693590441516,
          -0.38681138818184313,
          0.3267484329796052,
          0.4527531986592999,
          -0.06339555709900874,
          0.8129693027331496,
          -0.4732417609307742,
          -0.15976325370741937
         ],
         "xaxis": "x12",
         "y": [
          -1.0254696456815664,
          0.7775611998203021,
          -0.20499226929278383,
          1.6015143467695474,
          2.097806392179643,
          -0.4796119091423343,
          1.082289424478793,
          -0.288966877710572,
          0.9213989888372064,
          0.01462940254773187,
          0.8592148213502434,
          0.5088230613436406,
          -0.040219135029324865,
          1.28473655462965,
          0.3423847164018379,
          0.8579061156088263,
          1.3606289039525115,
          0.2910045147197126,
          -0.5712703432758236,
          0.22685702819916062,
          -0.14530467368663916,
          1.4645560699327624,
          1.0215181407236713,
          -1.086646700625405,
          0.5365380164670625,
          -1.1042970297733814,
          -0.6058807027596476,
          -2.1380588405986485,
          1.7431683533201399,
          1.7302484983906652,
          1.288911148472986,
          1.078148783006668,
          -0.24590453578333873,
          1.1225823894268763,
          -0.3526066675255926,
          1.6560803349462097,
          0.015590437840218005,
          -1.6932085391822211,
          0.5437404788529965,
          0.6994865289367478,
          2.6186636395723157,
          1.6601574901932357,
          -0.07613554282868827,
          -0.3485755963494323,
          -1.5972319489482059,
          0.31782211580436764,
          -0.5835428084182313,
          0.08107512890708217,
          0.26815331067107984,
          1.4967254859563903,
          0.04661947159376344,
          0.5293767660853089,
          2.5895528605846025,
          1.7309986203507288,
          -0.3239633354499249,
          0.06344544639119536,
          0.8700511906010587,
          -0.48635465882446166,
          -0.546861619477916,
          1.2750447493866293,
          -1.0619992763638353,
          0.44059903665829664,
          -1.4611096291954173,
          0.4668790956832927,
          0.6991237039692891,
          -0.6229171598590227,
          0.3930809313037531,
          -1.6831173471735759,
          -0.6413720153024304,
          -0.9023310389871586,
          -1.337364637743806,
          0.5054338281563555,
          -0.23346719611390368,
          -0.059552125026203245,
          0.5921779267943594,
          -0.9829451011712914,
          -0.5411503992773751,
          -0.0028521608425189264,
          0.6806733661617044,
          -0.545069667006346,
          1.905930226797241,
          -0.24881379793339825,
          0.5344670210106673,
          0.25240035967963587,
          -0.18080354422621497,
          -1.9693964883936066,
          -1.2129477418029484,
          0.6366475468500201,
          1.4222791853401286,
          -0.9098173503757404,
          -1.7965623258527832,
          1.6616760089058293,
          0.9656171272377032,
          0.16671059556241694,
          -1.4770482531315494,
          0.5024863405437006,
          -1.1947552125809477,
          -0.5625317028407455,
          -0.5713804419749033,
          -0.9159268650090083
         ],
         "yaxis": "y12"
        },
        {
         "line": {
          "color": "rgba(128, 128, 128, 1.0)",
          "dash": "solid",
          "shape": "linear",
          "width": 1.3
         },
         "marker": {
          "size": 2,
          "symbol": "circle"
         },
         "mode": "markers",
         "name": "D",
         "text": "",
         "type": "scatter",
         "x": [
          -0.7292327978431696,
          -0.974830182761352,
          -0.26209888558511735,
          0.4625878154503189,
          0.6221956315443264,
          -0.6283426059822679,
          -1.1869257562288007,
          0.026352457396184876,
          1.5257379620231581,
          1.5097889271689648,
          -0.6791608437928496,
          -1.0655500653071028,
          0.5783798900691562,
          -0.5355223924045895,
          -0.5736487743916989,
          0.27782568089634363,
          -1.121704067911955,
          1.7455931181530004,
          0.567903648758014,
          -1.3223512063319718,
          -1.0810870370994095,
          0.8233908497553671,
          -0.33778797251284703,
          0.043579450021013946,
          -1.199789413486293,
          0.6924241308206706,
          -0.05501515108109769,
          -0.42943737492493633,
          1.8376407752463495,
          1.5696814508069885,
          0.7577066619428412,
          -0.8892641619069086,
          0.35435919411789346,
          0.5874653985956466,
          1.5418431505640875,
          0.2409054448296417,
          -0.3144984785843778,
          -0.21473436338089816,
          -1.1175123679192964,
          -0.5814531590899158,
          0.5245128721506751,
          -0.31633769485893803,
          -0.6359988668909158,
          -0.23726996098449016,
          -0.3982124198205674,
          -0.43722295290105845,
          -0.8939564181904478,
          1.6442649705379218,
          -0.03847002183551993,
          -2.404032839063728,
          1.378628141649735,
          -0.8312434491896347,
          0.2091557152576446,
          -1.099623054801942,
          2.3740966992587578,
          1.6821413637381235,
          -0.15604278937050337,
          1.606674383529953,
          0.5062402310934592,
          -1.9525630963497957,
          1.3550364682699907,
          1.7905006512907407,
          0.6360203667698248,
          -0.8618964953795111,
          0.16380466263449095,
          1.2803113779287176,
          -0.08320937923702665,
          -1.2482532423300359,
          1.5514630422022548,
          -1.3742530385494103,
          -0.782115657330491,
          1.4139594942160179,
          -1.196156501437301,
          0.1556477823532999,
          1.2192212179884288,
          -0.1790850020822392,
          -0.27884292842249364,
          1.5872912174311693,
          -2.2252991158069855,
          -1.0157107731910955,
          -0.17319966364655262,
          -0.003305183104299413,
          0.39134630972054646,
          -0.6299971666679965,
          -0.5599556417703775,
          1.7052530534060306,
          -1.0286663990820606,
          -0.8343300341499792,
          0.26836643957742273,
          -1.6435992402350532,
          0.185083912167794,
          0.13867387300098313,
          0.20557733968652833,
          0.8091575611898224,
          0.34215282304169004,
          1.7590302670488172,
          -0.06473440148486866,
          0.8467053994637058,
          -0.4096522335741291,
          -0.7188798737998551
         ],
         "xaxis": "x13",
         "y": [
          0.8701451134981023,
          -0.009464630807165916,
          1.1121383309134603,
          0.46297875573362385,
          -0.6436970180668675,
          0.4755382595616794,
          0.22558964868048326,
          -0.25049335242706516,
          -0.6900315101856774,
          -0.7689762645220269,
          -0.17949598241540698,
          0.28575432914935034,
          -0.9789663362726952,
          -0.1972315041361254,
          -0.24738689557654772,
          -0.15874656953369926,
          -0.2271395980874452,
          1.862810923538947,
          -0.3959839148509614,
          0.6297939909807113,
          -0.4189742788306943,
          -0.8351578977289027,
          1.0686659001388692,
          -1.5728691119325595,
          -1.3635106010781473,
          -1.1408364514819833,
          -0.8439806118796392,
          0.5671029854135595,
          0.5304523587298116,
          0.10609842342935913,
          0.6728987622088346,
          -1.894134951392827,
          -0.36742528550598275,
          1.324219395793488,
          -0.26191645539166897,
          -1.6693567626397805,
          -1.4219945824704003,
          1.1413038338392376,
          -1.4740520691504395,
          -0.6141517495442599,
          0.751642535199614,
          -0.895572577627479,
          -0.2273617535118292,
          0.20162941381999344,
          0.3826505688526492,
          0.5958049875378956,
          -0.05669134538874129,
          1.0148030537235921,
          0.3996173755041809,
          0.08690434639985714,
          -0.31612170133716977,
          0.4270831432743658,
          0.5158923167878706,
          -0.723365309296625,
          -0.046398539108323075,
          -2.366503533614684,
          1.7528648531263429,
          -1.9860526847326894,
          -1.7984247093651877,
          0.18254546199109117,
          0.06146836080597479,
          1.7795084968854165,
          0.46604601157724385,
          0.3057646323657242,
          -1.3894966491503697,
          1.8188177701780233,
          -0.2697969369066025,
          0.9585666934785415,
          -0.5243422761673631,
          0.7610617739364335,
          0.5075207721743724,
          -0.018617492383678786,
          -1.4127937858342468,
          -0.8397363996014167,
          0.43971330013637633,
          -1.7461070273974852,
          0.17066683195978116,
          0.15695222447033608,
          -0.6549721686911111,
          -0.7970805562895228,
          -0.3500779369444265,
          -0.35563584940702364,
          -0.7475789766095714,
          -0.5235231241193639,
          0.265766403143593,
          0.4057607782617236,
          -0.5346110017944211,
          1.9574517152516788,
          -0.6152555557576844,
          -1.3500515174050454,
          -0.4612020773142193,
          -0.08302484591615515,
          0.8496693590441516,
          -0.38681138818184313,
          0.3267484329796052,
          0.4527531986592999,
          -0.06339555709900874,
          0.8129693027331496,
          -0.4732417609307742,
          -0.15976325370741937
         ],
         "yaxis": "y13"
        },
        {
         "line": {
          "color": "rgba(128, 128, 128, 1.0)",
          "dash": "solid",
          "shape": "linear",
          "width": 1.3
         },
         "marker": {
          "size": 2,
          "symbol": "circle"
         },
         "mode": "markers",
         "name": "D",
         "text": "",
         "type": "scatter",
         "x": [
          0.2028904508929444,
          -0.5360060801057059,
          1.9172153542380332,
          1.1554998283753386,
          0.12181051885877126,
          -1.1319753703135211,
          1.3278769012435154,
          -1.373981442531079,
          -2.2633839963334057,
          0.6551232910308362,
          -1.504221412415844,
          -0.8474805378287004,
          -0.11093134329715523,
          1.241952295882244,
          -1.7442570727729392,
          0.06284888307838114,
          0.13129293250736535,
          2.202296949681284,
          -0.551127386875276,
          -1.207078337251924,
          0.5356896936168137,
          -2.3918065579996495,
          -0.8523246908502292,
          0.6248174892839728,
          -1.8244595775644652,
          1.165845385152743,
          -0.30163142477174654,
          1.660066544040394,
          -0.5068086946392768,
          -0.4556258833114967,
          -0.2983646508906948,
          0.01993433011999575,
          -0.7975056575397892,
          -1.6725777108246267,
          -0.29531640229284895,
          0.30971668360777754,
          0.716409560531819,
          0.7659397828648833,
          -0.11123212981795287,
          0.9117766490536945,
          0.25043579914409964,
          -1.344984375671524,
          -0.8801279362402369,
          0.5472592174474373,
          0.08204130503631124,
          0.17891799719213222,
          0.9489319327585631,
          0.5989101309274099,
          -0.8682489391966348,
          -2.172925528481716,
          0.8316005423159178,
          -0.06097820454389258,
          2.055498475504573,
          1.2521412919757304,
          0.04704227597800867,
          -0.4861375363540279,
          0.000582875403311226,
          -0.7320904438737423,
          0.686513285955763,
          -1.3117841313018825,
          -0.43690513505570056,
          -0.7945871974195586,
          -0.5879641229539143,
          0.24401073683741503,
          0.36009371304036686,
          -0.3019641107496942,
          -2.932775813982967,
          1.0328388977400622,
          -0.39009411657080284,
          -0.23215230892291142,
          -0.5672375951964085,
          -0.03015870112032784,
          0.3935515613535357,
          -0.34854915789772084,
          -0.24547773242621834,
          -0.9065078680653559,
          -0.9971414020458494,
          -0.08634145935478864,
          -0.3476514657989236,
          0.26556018860507086,
          -0.783460711466928,
          -1.075241131554598,
          -2.8287826318864626,
          2.136054210189507,
          0.38609878978660767,
          -1.6766148708269466,
          -0.43335314576840184,
          -0.6229073104172735,
          -0.5055562520910752,
          0.4588731405931876,
          -0.9709314596096776,
          -1.9218522420442605,
          -1.1194405577485236,
          -1.791423871895468,
          -0.4270051517947074,
          0.6222129827945807,
          -0.7878569695431034,
          -1.3978580491023649,
          1.6779823657239594,
          0.07792772247489195
         ],
         "xaxis": "x14",
         "y": [
          0.8701451134981023,
          -0.009464630807165916,
          1.1121383309134603,
          0.46297875573362385,
          -0.6436970180668675,
          0.4755382595616794,
          0.22558964868048326,
          -0.25049335242706516,
          -0.6900315101856774,
          -0.7689762645220269,
          -0.17949598241540698,
          0.28575432914935034,
          -0.9789663362726952,
          -0.1972315041361254,
          -0.24738689557654772,
          -0.15874656953369926,
          -0.2271395980874452,
          1.862810923538947,
          -0.3959839148509614,
          0.6297939909807113,
          -0.4189742788306943,
          -0.8351578977289027,
          1.0686659001388692,
          -1.5728691119325595,
          -1.3635106010781473,
          -1.1408364514819833,
          -0.8439806118796392,
          0.5671029854135595,
          0.5304523587298116,
          0.10609842342935913,
          0.6728987622088346,
          -1.894134951392827,
          -0.36742528550598275,
          1.324219395793488,
          -0.26191645539166897,
          -1.6693567626397805,
          -1.4219945824704003,
          1.1413038338392376,
          -1.4740520691504395,
          -0.6141517495442599,
          0.751642535199614,
          -0.895572577627479,
          -0.2273617535118292,
          0.20162941381999344,
          0.3826505688526492,
          0.5958049875378956,
          -0.05669134538874129,
          1.0148030537235921,
          0.3996173755041809,
          0.08690434639985714,
          -0.31612170133716977,
          0.4270831432743658,
          0.5158923167878706,
          -0.723365309296625,
          -0.046398539108323075,
          -2.366503533614684,
          1.7528648531263429,
          -1.9860526847326894,
          -1.7984247093651877,
          0.18254546199109117,
          0.06146836080597479,
          1.7795084968854165,
          0.46604601157724385,
          0.3057646323657242,
          -1.3894966491503697,
          1.8188177701780233,
          -0.2697969369066025,
          0.9585666934785415,
          -0.5243422761673631,
          0.7610617739364335,
          0.5075207721743724,
          -0.018617492383678786,
          -1.4127937858342468,
          -0.8397363996014167,
          0.43971330013637633,
          -1.7461070273974852,
          0.17066683195978116,
          0.15695222447033608,
          -0.6549721686911111,
          -0.7970805562895228,
          -0.3500779369444265,
          -0.35563584940702364,
          -0.7475789766095714,
          -0.5235231241193639,
          0.265766403143593,
          0.4057607782617236,
          -0.5346110017944211,
          1.9574517152516788,
          -0.6152555557576844,
          -1.3500515174050454,
          -0.4612020773142193,
          -0.08302484591615515,
          0.8496693590441516,
          -0.38681138818184313,
          0.3267484329796052,
          0.4527531986592999,
          -0.06339555709900874,
          0.8129693027331496,
          -0.4732417609307742,
          -0.15976325370741937
         ],
         "yaxis": "y14"
        },
        {
         "line": {
          "color": "rgba(128, 128, 128, 1.0)",
          "dash": "solid",
          "shape": "linear",
          "width": 1.3
         },
         "marker": {
          "size": 2,
          "symbol": "circle"
         },
         "mode": "markers",
         "name": "D",
         "text": "",
         "type": "scatter",
         "x": [
          -1.0254696456815664,
          0.7775611998203021,
          -0.20499226929278383,
          1.6015143467695474,
          2.097806392179643,
          -0.4796119091423343,
          1.082289424478793,
          -0.288966877710572,
          0.9213989888372064,
          0.01462940254773187,
          0.8592148213502434,
          0.5088230613436406,
          -0.040219135029324865,
          1.28473655462965,
          0.3423847164018379,
          0.8579061156088263,
          1.3606289039525115,
          0.2910045147197126,
          -0.5712703432758236,
          0.22685702819916062,
          -0.14530467368663916,
          1.4645560699327624,
          1.0215181407236713,
          -1.086646700625405,
          0.5365380164670625,
          -1.1042970297733814,
          -0.6058807027596476,
          -2.1380588405986485,
          1.7431683533201399,
          1.7302484983906652,
          1.288911148472986,
          1.078148783006668,
          -0.24590453578333873,
          1.1225823894268763,
          -0.3526066675255926,
          1.6560803349462097,
          0.015590437840218005,
          -1.6932085391822211,
          0.5437404788529965,
          0.6994865289367478,
          2.6186636395723157,
          1.6601574901932357,
          -0.07613554282868827,
          -0.3485755963494323,
          -1.5972319489482059,
          0.31782211580436764,
          -0.5835428084182313,
          0.08107512890708217,
          0.26815331067107984,
          1.4967254859563903,
          0.04661947159376344,
          0.5293767660853089,
          2.5895528605846025,
          1.7309986203507288,
          -0.3239633354499249,
          0.06344544639119536,
          0.8700511906010587,
          -0.48635465882446166,
          -0.546861619477916,
          1.2750447493866293,
          -1.0619992763638353,
          0.44059903665829664,
          -1.4611096291954173,
          0.4668790956832927,
          0.6991237039692891,
          -0.6229171598590227,
          0.3930809313037531,
          -1.6831173471735759,
          -0.6413720153024304,
          -0.9023310389871586,
          -1.337364637743806,
          0.5054338281563555,
          -0.23346719611390368,
          -0.059552125026203245,
          0.5921779267943594,
          -0.9829451011712914,
          -0.5411503992773751,
          -0.0028521608425189264,
          0.6806733661617044,
          -0.545069667006346,
          1.905930226797241,
          -0.24881379793339825,
          0.5344670210106673,
          0.25240035967963587,
          -0.18080354422621497,
          -1.9693964883936066,
          -1.2129477418029484,
          0.6366475468500201,
          1.4222791853401286,
          -0.9098173503757404,
          -1.7965623258527832,
          1.6616760089058293,
          0.9656171272377032,
          0.16671059556241694,
          -1.4770482531315494,
          0.5024863405437006,
          -1.1947552125809477,
          -0.5625317028407455,
          -0.5713804419749033,
          -0.9159268650090083
         ],
         "xaxis": "x15",
         "y": [
          0.8701451134981023,
          -0.009464630807165916,
          1.1121383309134603,
          0.46297875573362385,
          -0.6436970180668675,
          0.4755382595616794,
          0.22558964868048326,
          -0.25049335242706516,
          -0.6900315101856774,
          -0.7689762645220269,
          -0.17949598241540698,
          0.28575432914935034,
          -0.9789663362726952,
          -0.1972315041361254,
          -0.24738689557654772,
          -0.15874656953369926,
          -0.2271395980874452,
          1.862810923538947,
          -0.3959839148509614,
          0.6297939909807113,
          -0.4189742788306943,
          -0.8351578977289027,
          1.0686659001388692,
          -1.5728691119325595,
          -1.3635106010781473,
          -1.1408364514819833,
          -0.8439806118796392,
          0.5671029854135595,
          0.5304523587298116,
          0.10609842342935913,
          0.6728987622088346,
          -1.894134951392827,
          -0.36742528550598275,
          1.324219395793488,
          -0.26191645539166897,
          -1.6693567626397805,
          -1.4219945824704003,
          1.1413038338392376,
          -1.4740520691504395,
          -0.6141517495442599,
          0.751642535199614,
          -0.895572577627479,
          -0.2273617535118292,
          0.20162941381999344,
          0.3826505688526492,
          0.5958049875378956,
          -0.05669134538874129,
          1.0148030537235921,
          0.3996173755041809,
          0.08690434639985714,
          -0.31612170133716977,
          0.4270831432743658,
          0.5158923167878706,
          -0.723365309296625,
          -0.046398539108323075,
          -2.366503533614684,
          1.7528648531263429,
          -1.9860526847326894,
          -1.7984247093651877,
          0.18254546199109117,
          0.06146836080597479,
          1.7795084968854165,
          0.46604601157724385,
          0.3057646323657242,
          -1.3894966491503697,
          1.8188177701780233,
          -0.2697969369066025,
          0.9585666934785415,
          -0.5243422761673631,
          0.7610617739364335,
          0.5075207721743724,
          -0.018617492383678786,
          -1.4127937858342468,
          -0.8397363996014167,
          0.43971330013637633,
          -1.7461070273974852,
          0.17066683195978116,
          0.15695222447033608,
          -0.6549721686911111,
          -0.7970805562895228,
          -0.3500779369444265,
          -0.35563584940702364,
          -0.7475789766095714,
          -0.5235231241193639,
          0.265766403143593,
          0.4057607782617236,
          -0.5346110017944211,
          1.9574517152516788,
          -0.6152555557576844,
          -1.3500515174050454,
          -0.4612020773142193,
          -0.08302484591615515,
          0.8496693590441516,
          -0.38681138818184313,
          0.3267484329796052,
          0.4527531986592999,
          -0.06339555709900874,
          0.8129693027331496,
          -0.4732417609307742,
          -0.15976325370741937
         ],
         "yaxis": "y15"
        },
        {
         "histfunc": "count",
         "histnorm": "",
         "marker": {
          "color": "rgba(128, 0, 128, 1.0)",
          "line": {
           "color": "#4D5663",
           "width": 1.3
          }
         },
         "name": "D",
         "nbinsx": 10,
         "opacity": 0.8,
         "orientation": "v",
         "type": "histogram",
         "x": [
          0.8701451134981023,
          -0.009464630807165916,
          1.1121383309134603,
          0.46297875573362385,
          -0.6436970180668675,
          0.4755382595616794,
          0.22558964868048326,
          -0.25049335242706516,
          -0.6900315101856774,
          -0.7689762645220269,
          -0.17949598241540698,
          0.28575432914935034,
          -0.9789663362726952,
          -0.1972315041361254,
          -0.24738689557654772,
          -0.15874656953369926,
          -0.2271395980874452,
          1.862810923538947,
          -0.3959839148509614,
          0.6297939909807113,
          -0.4189742788306943,
          -0.8351578977289027,
          1.0686659001388692,
          -1.5728691119325595,
          -1.3635106010781473,
          -1.1408364514819833,
          -0.8439806118796392,
          0.5671029854135595,
          0.5304523587298116,
          0.10609842342935913,
          0.6728987622088346,
          -1.894134951392827,
          -0.36742528550598275,
          1.324219395793488,
          -0.26191645539166897,
          -1.6693567626397805,
          -1.4219945824704003,
          1.1413038338392376,
          -1.4740520691504395,
          -0.6141517495442599,
          0.751642535199614,
          -0.895572577627479,
          -0.2273617535118292,
          0.20162941381999344,
          0.3826505688526492,
          0.5958049875378956,
          -0.05669134538874129,
          1.0148030537235921,
          0.3996173755041809,
          0.08690434639985714,
          -0.31612170133716977,
          0.4270831432743658,
          0.5158923167878706,
          -0.723365309296625,
          -0.046398539108323075,
          -2.366503533614684,
          1.7528648531263429,
          -1.9860526847326894,
          -1.7984247093651877,
          0.18254546199109117,
          0.06146836080597479,
          1.7795084968854165,
          0.46604601157724385,
          0.3057646323657242,
          -1.3894966491503697,
          1.8188177701780233,
          -0.2697969369066025,
          0.9585666934785415,
          -0.5243422761673631,
          0.7610617739364335,
          0.5075207721743724,
          -0.018617492383678786,
          -1.4127937858342468,
          -0.8397363996014167,
          0.43971330013637633,
          -1.7461070273974852,
          0.17066683195978116,
          0.15695222447033608,
          -0.6549721686911111,
          -0.7970805562895228,
          -0.3500779369444265,
          -0.35563584940702364,
          -0.7475789766095714,
          -0.5235231241193639,
          0.265766403143593,
          0.4057607782617236,
          -0.5346110017944211,
          1.9574517152516788,
          -0.6152555557576844,
          -1.3500515174050454,
          -0.4612020773142193,
          -0.08302484591615515,
          0.8496693590441516,
          -0.38681138818184313,
          0.3267484329796052,
          0.4527531986592999,
          -0.06339555709900874,
          0.8129693027331496,
          -0.4732417609307742,
          -0.15976325370741937
         ],
         "xaxis": "x16",
         "yaxis": "y16"
        }
       ],
       "layout": {
        "bargap": 0.02,
        "legend": {
         "bgcolor": "#F5F6F9",
         "font": {
          "color": "#4D5663"
         }
        },
        "paper_bgcolor": "#F5F6F9",
        "plot_bgcolor": "#F5F6F9",
        "showlegend": false,
        "template": {
         "data": {
          "bar": [
           {
            "error_x": {
             "color": "#2a3f5f"
            },
            "error_y": {
             "color": "#2a3f5f"
            },
            "marker": {
             "line": {
              "color": "#E5ECF6",
              "width": 0.5
             },
             "pattern": {
              "fillmode": "overlay",
              "size": 10,
              "solidity": 0.2
             }
            },
            "type": "bar"
           }
          ],
          "barpolar": [
           {
            "marker": {
             "line": {
              "color": "#E5ECF6",
              "width": 0.5
             },
             "pattern": {
              "fillmode": "overlay",
              "size": 10,
              "solidity": 0.2
             }
            },
            "type": "barpolar"
           }
          ],
          "carpet": [
           {
            "aaxis": {
             "endlinecolor": "#2a3f5f",
             "gridcolor": "white",
             "linecolor": "white",
             "minorgridcolor": "white",
             "startlinecolor": "#2a3f5f"
            },
            "baxis": {
             "endlinecolor": "#2a3f5f",
             "gridcolor": "white",
             "linecolor": "white",
             "minorgridcolor": "white",
             "startlinecolor": "#2a3f5f"
            },
            "type": "carpet"
           }
          ],
          "choropleth": [
           {
            "colorbar": {
             "outlinewidth": 0,
             "ticks": ""
            },
            "type": "choropleth"
           }
          ],
          "contour": [
           {
            "colorbar": {
             "outlinewidth": 0,
             "ticks": ""
            },
            "colorscale": [
             [
              0,
              "#0d0887"
             ],
             [
              0.1111111111111111,
              "#46039f"
             ],
             [
              0.2222222222222222,
              "#7201a8"
             ],
             [
              0.3333333333333333,
              "#9c179e"
             ],
             [
              0.4444444444444444,
              "#bd3786"
             ],
             [
              0.5555555555555556,
              "#d8576b"
             ],
             [
              0.6666666666666666,
              "#ed7953"
             ],
             [
              0.7777777777777778,
              "#fb9f3a"
             ],
             [
              0.8888888888888888,
              "#fdca26"
             ],
             [
              1,
              "#f0f921"
             ]
            ],
            "type": "contour"
           }
          ],
          "contourcarpet": [
           {
            "colorbar": {
             "outlinewidth": 0,
             "ticks": ""
            },
            "type": "contourcarpet"
           }
          ],
          "heatmap": [
           {
            "colorbar": {
             "outlinewidth": 0,
             "ticks": ""
            },
            "colorscale": [
             [
              0,
              "#0d0887"
             ],
             [
              0.1111111111111111,
              "#46039f"
             ],
             [
              0.2222222222222222,
              "#7201a8"
             ],
             [
              0.3333333333333333,
              "#9c179e"
             ],
             [
              0.4444444444444444,
              "#bd3786"
             ],
             [
              0.5555555555555556,
              "#d8576b"
             ],
             [
              0.6666666666666666,
              "#ed7953"
             ],
             [
              0.7777777777777778,
              "#fb9f3a"
             ],
             [
              0.8888888888888888,
              "#fdca26"
             ],
             [
              1,
              "#f0f921"
             ]
            ],
            "type": "heatmap"
           }
          ],
          "heatmapgl": [
           {
            "colorbar": {
             "outlinewidth": 0,
             "ticks": ""
            },
            "colorscale": [
             [
              0,
              "#0d0887"
             ],
             [
              0.1111111111111111,
              "#46039f"
             ],
             [
              0.2222222222222222,
              "#7201a8"
             ],
             [
              0.3333333333333333,
              "#9c179e"
             ],
             [
              0.4444444444444444,
              "#bd3786"
             ],
             [
              0.5555555555555556,
              "#d8576b"
             ],
             [
              0.6666666666666666,
              "#ed7953"
             ],
             [
              0.7777777777777778,
              "#fb9f3a"
             ],
             [
              0.8888888888888888,
              "#fdca26"
             ],
             [
              1,
              "#f0f921"
             ]
            ],
            "type": "heatmapgl"
           }
          ],
          "histogram": [
           {
            "marker": {
             "pattern": {
              "fillmode": "overlay",
              "size": 10,
              "solidity": 0.2
             }
            },
            "type": "histogram"
           }
          ],
          "histogram2d": [
           {
            "colorbar": {
             "outlinewidth": 0,
             "ticks": ""
            },
            "colorscale": [
             [
              0,
              "#0d0887"
             ],
             [
              0.1111111111111111,
              "#46039f"
             ],
             [
              0.2222222222222222,
              "#7201a8"
             ],
             [
              0.3333333333333333,
              "#9c179e"
             ],
             [
              0.4444444444444444,
              "#bd3786"
             ],
             [
              0.5555555555555556,
              "#d8576b"
             ],
             [
              0.6666666666666666,
              "#ed7953"
             ],
             [
              0.7777777777777778,
              "#fb9f3a"
             ],
             [
              0.8888888888888888,
              "#fdca26"
             ],
             [
              1,
              "#f0f921"
             ]
            ],
            "type": "histogram2d"
           }
          ],
          "histogram2dcontour": [
           {
            "colorbar": {
             "outlinewidth": 0,
             "ticks": ""
            },
            "colorscale": [
             [
              0,
              "#0d0887"
             ],
             [
              0.1111111111111111,
              "#46039f"
             ],
             [
              0.2222222222222222,
              "#7201a8"
             ],
             [
              0.3333333333333333,
              "#9c179e"
             ],
             [
              0.4444444444444444,
              "#bd3786"
             ],
             [
              0.5555555555555556,
              "#d8576b"
             ],
             [
              0.6666666666666666,
              "#ed7953"
             ],
             [
              0.7777777777777778,
              "#fb9f3a"
             ],
             [
              0.8888888888888888,
              "#fdca26"
             ],
             [
              1,
              "#f0f921"
             ]
            ],
            "type": "histogram2dcontour"
           }
          ],
          "mesh3d": [
           {
            "colorbar": {
             "outlinewidth": 0,
             "ticks": ""
            },
            "type": "mesh3d"
           }
          ],
          "parcoords": [
           {
            "line": {
             "colorbar": {
              "outlinewidth": 0,
              "ticks": ""
             }
            },
            "type": "parcoords"
           }
          ],
          "pie": [
           {
            "automargin": true,
            "type": "pie"
           }
          ],
          "scatter": [
           {
            "fillpattern": {
             "fillmode": "overlay",
             "size": 10,
             "solidity": 0.2
            },
            "type": "scatter"
           }
          ],
          "scatter3d": [
           {
            "line": {
             "colorbar": {
              "outlinewidth": 0,
              "ticks": ""
             }
            },
            "marker": {
             "colorbar": {
              "outlinewidth": 0,
              "ticks": ""
             }
            },
            "type": "scatter3d"
           }
          ],
          "scattercarpet": [
           {
            "marker": {
             "colorbar": {
              "outlinewidth": 0,
              "ticks": ""
             }
            },
            "type": "scattercarpet"
           }
          ],
          "scattergeo": [
           {
            "marker": {
             "colorbar": {
              "outlinewidth": 0,
              "ticks": ""
             }
            },
            "type": "scattergeo"
           }
          ],
          "scattergl": [
           {
            "marker": {
             "colorbar": {
              "outlinewidth": 0,
              "ticks": ""
             }
            },
            "type": "scattergl"
           }
          ],
          "scattermapbox": [
           {
            "marker": {
             "colorbar": {
              "outlinewidth": 0,
              "ticks": ""
             }
            },
            "type": "scattermapbox"
           }
          ],
          "scatterpolar": [
           {
            "marker": {
             "colorbar": {
              "outlinewidth": 0,
              "ticks": ""
             }
            },
            "type": "scatterpolar"
           }
          ],
          "scatterpolargl": [
           {
            "marker": {
             "colorbar": {
              "outlinewidth": 0,
              "ticks": ""
             }
            },
            "type": "scatterpolargl"
           }
          ],
          "scatterternary": [
           {
            "marker": {
             "colorbar": {
              "outlinewidth": 0,
              "ticks": ""
             }
            },
            "type": "scatterternary"
           }
          ],
          "surface": [
           {
            "colorbar": {
             "outlinewidth": 0,
             "ticks": ""
            },
            "colorscale": [
             [
              0,
              "#0d0887"
             ],
             [
              0.1111111111111111,
              "#46039f"
             ],
             [
              0.2222222222222222,
              "#7201a8"
             ],
             [
              0.3333333333333333,
              "#9c179e"
             ],
             [
              0.4444444444444444,
              "#bd3786"
             ],
             [
              0.5555555555555556,
              "#d8576b"
             ],
             [
              0.6666666666666666,
              "#ed7953"
             ],
             [
              0.7777777777777778,
              "#fb9f3a"
             ],
             [
              0.8888888888888888,
              "#fdca26"
             ],
             [
              1,
              "#f0f921"
             ]
            ],
            "type": "surface"
           }
          ],
          "table": [
           {
            "cells": {
             "fill": {
              "color": "#EBF0F8"
             },
             "line": {
              "color": "white"
             }
            },
            "header": {
             "fill": {
              "color": "#C8D4E3"
             },
             "line": {
              "color": "white"
             }
            },
            "type": "table"
           }
          ]
         },
         "layout": {
          "annotationdefaults": {
           "arrowcolor": "#2a3f5f",
           "arrowhead": 0,
           "arrowwidth": 1
          },
          "autotypenumbers": "strict",
          "coloraxis": {
           "colorbar": {
            "outlinewidth": 0,
            "ticks": ""
           }
          },
          "colorscale": {
           "diverging": [
            [
             0,
             "#8e0152"
            ],
            [
             0.1,
             "#c51b7d"
            ],
            [
             0.2,
             "#de77ae"
            ],
            [
             0.3,
             "#f1b6da"
            ],
            [
             0.4,
             "#fde0ef"
            ],
            [
             0.5,
             "#f7f7f7"
            ],
            [
             0.6,
             "#e6f5d0"
            ],
            [
             0.7,
             "#b8e186"
            ],
            [
             0.8,
             "#7fbc41"
            ],
            [
             0.9,
             "#4d9221"
            ],
            [
             1,
             "#276419"
            ]
           ],
           "sequential": [
            [
             0,
             "#0d0887"
            ],
            [
             0.1111111111111111,
             "#46039f"
            ],
            [
             0.2222222222222222,
             "#7201a8"
            ],
            [
             0.3333333333333333,
             "#9c179e"
            ],
            [
             0.4444444444444444,
             "#bd3786"
            ],
            [
             0.5555555555555556,
             "#d8576b"
            ],
            [
             0.6666666666666666,
             "#ed7953"
            ],
            [
             0.7777777777777778,
             "#fb9f3a"
            ],
            [
             0.8888888888888888,
             "#fdca26"
            ],
            [
             1,
             "#f0f921"
            ]
           ],
           "sequentialminus": [
            [
             0,
             "#0d0887"
            ],
            [
             0.1111111111111111,
             "#46039f"
            ],
            [
             0.2222222222222222,
             "#7201a8"
            ],
            [
             0.3333333333333333,
             "#9c179e"
            ],
            [
             0.4444444444444444,
             "#bd3786"
            ],
            [
             0.5555555555555556,
             "#d8576b"
            ],
            [
             0.6666666666666666,
             "#ed7953"
            ],
            [
             0.7777777777777778,
             "#fb9f3a"
            ],
            [
             0.8888888888888888,
             "#fdca26"
            ],
            [
             1,
             "#f0f921"
            ]
           ]
          },
          "colorway": [
           "#636efa",
           "#EF553B",
           "#00cc96",
           "#ab63fa",
           "#FFA15A",
           "#19d3f3",
           "#FF6692",
           "#B6E880",
           "#FF97FF",
           "#FECB52"
          ],
          "font": {
           "color": "#2a3f5f"
          },
          "geo": {
           "bgcolor": "white",
           "lakecolor": "white",
           "landcolor": "#E5ECF6",
           "showlakes": true,
           "showland": true,
           "subunitcolor": "white"
          },
          "hoverlabel": {
           "align": "left"
          },
          "hovermode": "closest",
          "mapbox": {
           "style": "light"
          },
          "paper_bgcolor": "white",
          "plot_bgcolor": "#E5ECF6",
          "polar": {
           "angularaxis": {
            "gridcolor": "white",
            "linecolor": "white",
            "ticks": ""
           },
           "bgcolor": "#E5ECF6",
           "radialaxis": {
            "gridcolor": "white",
            "linecolor": "white",
            "ticks": ""
           }
          },
          "scene": {
           "xaxis": {
            "backgroundcolor": "#E5ECF6",
            "gridcolor": "white",
            "gridwidth": 2,
            "linecolor": "white",
            "showbackground": true,
            "ticks": "",
            "zerolinecolor": "white"
           },
           "yaxis": {
            "backgroundcolor": "#E5ECF6",
            "gridcolor": "white",
            "gridwidth": 2,
            "linecolor": "white",
            "showbackground": true,
            "ticks": "",
            "zerolinecolor": "white"
           },
           "zaxis": {
            "backgroundcolor": "#E5ECF6",
            "gridcolor": "white",
            "gridwidth": 2,
            "linecolor": "white",
            "showbackground": true,
            "ticks": "",
            "zerolinecolor": "white"
           }
          },
          "shapedefaults": {
           "line": {
            "color": "#2a3f5f"
           }
          },
          "ternary": {
           "aaxis": {
            "gridcolor": "white",
            "linecolor": "white",
            "ticks": ""
           },
           "baxis": {
            "gridcolor": "white",
            "linecolor": "white",
            "ticks": ""
           },
           "bgcolor": "#E5ECF6",
           "caxis": {
            "gridcolor": "white",
            "linecolor": "white",
            "ticks": ""
           }
          },
          "title": {
           "x": 0.05
          },
          "xaxis": {
           "automargin": true,
           "gridcolor": "white",
           "linecolor": "white",
           "ticks": "",
           "title": {
            "standoff": 15
           },
           "zerolinecolor": "white",
           "zerolinewidth": 2
          },
          "yaxis": {
           "automargin": true,
           "gridcolor": "white",
           "linecolor": "white",
           "ticks": "",
           "title": {
            "standoff": 15
           },
           "zerolinecolor": "white",
           "zerolinewidth": 2
          }
         }
        },
        "title": {
         "font": {
          "color": "#4D5663"
         }
        },
        "xaxis": {
         "anchor": "y",
         "domain": [
          0,
          0.2125
         ],
         "gridcolor": "#E1E5ED",
         "showgrid": false,
         "tickfont": {
          "color": "#4D5663"
         },
         "title": {
          "font": {
           "color": "#4D5663"
          },
          "text": ""
         },
         "zerolinecolor": "#E1E5ED"
        },
        "xaxis10": {
         "anchor": "y10",
         "domain": [
          0.2625,
          0.475
         ],
         "gridcolor": "#E1E5ED",
         "showgrid": false,
         "tickfont": {
          "color": "#4D5663"
         },
         "title": {
          "font": {
           "color": "#4D5663"
          },
          "text": ""
         },
         "zerolinecolor": "#E1E5ED"
        },
        "xaxis11": {
         "anchor": "y11",
         "domain": [
          0.525,
          0.7375
         ],
         "gridcolor": "#E1E5ED",
         "showgrid": false,
         "tickfont": {
          "color": "#4D5663"
         },
         "title": {
          "font": {
           "color": "#4D5663"
          },
          "text": ""
         },
         "zerolinecolor": "#E1E5ED"
        },
        "xaxis12": {
         "anchor": "y12",
         "domain": [
          0.7875,
          1
         ],
         "gridcolor": "#E1E5ED",
         "showgrid": false,
         "tickfont": {
          "color": "#4D5663"
         },
         "title": {
          "font": {
           "color": "#4D5663"
          },
          "text": ""
         },
         "zerolinecolor": "#E1E5ED"
        },
        "xaxis13": {
         "anchor": "y13",
         "domain": [
          0,
          0.2125
         ],
         "gridcolor": "#E1E5ED",
         "showgrid": false,
         "tickfont": {
          "color": "#4D5663"
         },
         "title": {
          "font": {
           "color": "#4D5663"
          },
          "text": ""
         },
         "zerolinecolor": "#E1E5ED"
        },
        "xaxis14": {
         "anchor": "y14",
         "domain": [
          0.2625,
          0.475
         ],
         "gridcolor": "#E1E5ED",
         "showgrid": false,
         "tickfont": {
          "color": "#4D5663"
         },
         "title": {
          "font": {
           "color": "#4D5663"
          },
          "text": ""
         },
         "zerolinecolor": "#E1E5ED"
        },
        "xaxis15": {
         "anchor": "y15",
         "domain": [
          0.525,
          0.7375
         ],
         "gridcolor": "#E1E5ED",
         "showgrid": false,
         "tickfont": {
          "color": "#4D5663"
         },
         "title": {
          "font": {
           "color": "#4D5663"
          },
          "text": ""
         },
         "zerolinecolor": "#E1E5ED"
        },
        "xaxis16": {
         "anchor": "y16",
         "domain": [
          0.7875,
          1
         ],
         "gridcolor": "#E1E5ED",
         "showgrid": false,
         "tickfont": {
          "color": "#4D5663"
         },
         "title": {
          "font": {
           "color": "#4D5663"
          },
          "text": ""
         },
         "zerolinecolor": "#E1E5ED"
        },
        "xaxis2": {
         "anchor": "y2",
         "domain": [
          0.2625,
          0.475
         ],
         "gridcolor": "#E1E5ED",
         "showgrid": false,
         "tickfont": {
          "color": "#4D5663"
         },
         "title": {
          "font": {
           "color": "#4D5663"
          },
          "text": ""
         },
         "zerolinecolor": "#E1E5ED"
        },
        "xaxis3": {
         "anchor": "y3",
         "domain": [
          0.525,
          0.7375
         ],
         "gridcolor": "#E1E5ED",
         "showgrid": false,
         "tickfont": {
          "color": "#4D5663"
         },
         "title": {
          "font": {
           "color": "#4D5663"
          },
          "text": ""
         },
         "zerolinecolor": "#E1E5ED"
        },
        "xaxis4": {
         "anchor": "y4",
         "domain": [
          0.7875,
          1
         ],
         "gridcolor": "#E1E5ED",
         "showgrid": false,
         "tickfont": {
          "color": "#4D5663"
         },
         "title": {
          "font": {
           "color": "#4D5663"
          },
          "text": ""
         },
         "zerolinecolor": "#E1E5ED"
        },
        "xaxis5": {
         "anchor": "y5",
         "domain": [
          0,
          0.2125
         ],
         "gridcolor": "#E1E5ED",
         "showgrid": false,
         "tickfont": {
          "color": "#4D5663"
         },
         "title": {
          "font": {
           "color": "#4D5663"
          },
          "text": ""
         },
         "zerolinecolor": "#E1E5ED"
        },
        "xaxis6": {
         "anchor": "y6",
         "domain": [
          0.2625,
          0.475
         ],
         "gridcolor": "#E1E5ED",
         "showgrid": false,
         "tickfont": {
          "color": "#4D5663"
         },
         "title": {
          "font": {
           "color": "#4D5663"
          },
          "text": ""
         },
         "zerolinecolor": "#E1E5ED"
        },
        "xaxis7": {
         "anchor": "y7",
         "domain": [
          0.525,
          0.7375
         ],
         "gridcolor": "#E1E5ED",
         "showgrid": false,
         "tickfont": {
          "color": "#4D5663"
         },
         "title": {
          "font": {
           "color": "#4D5663"
          },
          "text": ""
         },
         "zerolinecolor": "#E1E5ED"
        },
        "xaxis8": {
         "anchor": "y8",
         "domain": [
          0.7875,
          1
         ],
         "gridcolor": "#E1E5ED",
         "showgrid": false,
         "tickfont": {
          "color": "#4D5663"
         },
         "title": {
          "font": {
           "color": "#4D5663"
          },
          "text": ""
         },
         "zerolinecolor": "#E1E5ED"
        },
        "xaxis9": {
         "anchor": "y9",
         "domain": [
          0,
          0.2125
         ],
         "gridcolor": "#E1E5ED",
         "showgrid": false,
         "tickfont": {
          "color": "#4D5663"
         },
         "title": {
          "font": {
           "color": "#4D5663"
          },
          "text": ""
         },
         "zerolinecolor": "#E1E5ED"
        },
        "yaxis": {
         "anchor": "x",
         "domain": [
          0.8025,
          1
         ],
         "gridcolor": "#E1E5ED",
         "showgrid": false,
         "tickfont": {
          "color": "#4D5663"
         },
         "title": {
          "font": {
           "color": "#4D5663"
          },
          "text": ""
         },
         "zerolinecolor": "#E1E5ED"
        },
        "yaxis10": {
         "anchor": "x10",
         "domain": [
          0.2675,
          0.465
         ],
         "gridcolor": "#E1E5ED",
         "showgrid": false,
         "tickfont": {
          "color": "#4D5663"
         },
         "title": {
          "font": {
           "color": "#4D5663"
          },
          "text": ""
         },
         "zerolinecolor": "#E1E5ED"
        },
        "yaxis11": {
         "anchor": "x11",
         "domain": [
          0.2675,
          0.465
         ],
         "gridcolor": "#E1E5ED",
         "showgrid": false,
         "tickfont": {
          "color": "#4D5663"
         },
         "title": {
          "font": {
           "color": "#4D5663"
          },
          "text": ""
         },
         "zerolinecolor": "#E1E5ED"
        },
        "yaxis12": {
         "anchor": "x12",
         "domain": [
          0.2675,
          0.465
         ],
         "gridcolor": "#E1E5ED",
         "showgrid": false,
         "tickfont": {
          "color": "#4D5663"
         },
         "title": {
          "font": {
           "color": "#4D5663"
          },
          "text": ""
         },
         "zerolinecolor": "#E1E5ED"
        },
        "yaxis13": {
         "anchor": "x13",
         "domain": [
          0,
          0.1975
         ],
         "gridcolor": "#E1E5ED",
         "showgrid": false,
         "tickfont": {
          "color": "#4D5663"
         },
         "title": {
          "font": {
           "color": "#4D5663"
          },
          "text": ""
         },
         "zerolinecolor": "#E1E5ED"
        },
        "yaxis14": {
         "anchor": "x14",
         "domain": [
          0,
          0.1975
         ],
         "gridcolor": "#E1E5ED",
         "showgrid": false,
         "tickfont": {
          "color": "#4D5663"
         },
         "title": {
          "font": {
           "color": "#4D5663"
          },
          "text": ""
         },
         "zerolinecolor": "#E1E5ED"
        },
        "yaxis15": {
         "anchor": "x15",
         "domain": [
          0,
          0.1975
         ],
         "gridcolor": "#E1E5ED",
         "showgrid": false,
         "tickfont": {
          "color": "#4D5663"
         },
         "title": {
          "font": {
           "color": "#4D5663"
          },
          "text": ""
         },
         "zerolinecolor": "#E1E5ED"
        },
        "yaxis16": {
         "anchor": "x16",
         "domain": [
          0,
          0.1975
         ],
         "gridcolor": "#E1E5ED",
         "showgrid": false,
         "tickfont": {
          "color": "#4D5663"
         },
         "title": {
          "font": {
           "color": "#4D5663"
          },
          "text": ""
         },
         "zerolinecolor": "#E1E5ED"
        },
        "yaxis2": {
         "anchor": "x2",
         "domain": [
          0.8025,
          1
         ],
         "gridcolor": "#E1E5ED",
         "showgrid": false,
         "tickfont": {
          "color": "#4D5663"
         },
         "title": {
          "font": {
           "color": "#4D5663"
          },
          "text": ""
         },
         "zerolinecolor": "#E1E5ED"
        },
        "yaxis3": {
         "anchor": "x3",
         "domain": [
          0.8025,
          1
         ],
         "gridcolor": "#E1E5ED",
         "showgrid": false,
         "tickfont": {
          "color": "#4D5663"
         },
         "title": {
          "font": {
           "color": "#4D5663"
          },
          "text": ""
         },
         "zerolinecolor": "#E1E5ED"
        },
        "yaxis4": {
         "anchor": "x4",
         "domain": [
          0.8025,
          1
         ],
         "gridcolor": "#E1E5ED",
         "showgrid": false,
         "tickfont": {
          "color": "#4D5663"
         },
         "title": {
          "font": {
           "color": "#4D5663"
          },
          "text": ""
         },
         "zerolinecolor": "#E1E5ED"
        },
        "yaxis5": {
         "anchor": "x5",
         "domain": [
          0.535,
          0.7325
         ],
         "gridcolor": "#E1E5ED",
         "showgrid": false,
         "tickfont": {
          "color": "#4D5663"
         },
         "title": {
          "font": {
           "color": "#4D5663"
          },
          "text": ""
         },
         "zerolinecolor": "#E1E5ED"
        },
        "yaxis6": {
         "anchor": "x6",
         "domain": [
          0.535,
          0.7325
         ],
         "gridcolor": "#E1E5ED",
         "showgrid": false,
         "tickfont": {
          "color": "#4D5663"
         },
         "title": {
          "font": {
           "color": "#4D5663"
          },
          "text": ""
         },
         "zerolinecolor": "#E1E5ED"
        },
        "yaxis7": {
         "anchor": "x7",
         "domain": [
          0.535,
          0.7325
         ],
         "gridcolor": "#E1E5ED",
         "showgrid": false,
         "tickfont": {
          "color": "#4D5663"
         },
         "title": {
          "font": {
           "color": "#4D5663"
          },
          "text": ""
         },
         "zerolinecolor": "#E1E5ED"
        },
        "yaxis8": {
         "anchor": "x8",
         "domain": [
          0.535,
          0.7325
         ],
         "gridcolor": "#E1E5ED",
         "showgrid": false,
         "tickfont": {
          "color": "#4D5663"
         },
         "title": {
          "font": {
           "color": "#4D5663"
          },
          "text": ""
         },
         "zerolinecolor": "#E1E5ED"
        },
        "yaxis9": {
         "anchor": "x9",
         "domain": [
          0.2675,
          0.465
         ],
         "gridcolor": "#E1E5ED",
         "showgrid": false,
         "tickfont": {
          "color": "#4D5663"
         },
         "title": {
          "font": {
           "color": "#4D5663"
          },
          "text": ""
         },
         "zerolinecolor": "#E1E5ED"
        }
       }
      },
      "text/html": [
       "<div>                            <div id=\"2b699e90-a3d7-4714-a65b-e278bba9f74f\" class=\"plotly-graph-div\" style=\"height:525px; width:100%;\"></div>            <script type=\"text/javascript\">                require([\"plotly\"], function(Plotly) {                    window.PLOTLYENV=window.PLOTLYENV || {};\n",
       "                    window.PLOTLYENV.BASE_URL='https://plot.ly';                                    if (document.getElementById(\"2b699e90-a3d7-4714-a65b-e278bba9f74f\")) {                    Plotly.newPlot(                        \"2b699e90-a3d7-4714-a65b-e278bba9f74f\",                        [{\"histfunc\":\"count\",\"histnorm\":\"\",\"marker\":{\"color\":\"rgba(255, 153, 51, 1.0)\",\"line\":{\"color\":\"#4D5663\",\"width\":1.3}},\"name\":\"A\",\"nbinsx\":10,\"opacity\":0.8,\"orientation\":\"v\",\"x\":[-0.7292327978431696,-0.974830182761352,-0.26209888558511735,0.4625878154503189,0.6221956315443264,-0.6283426059822679,-1.1869257562288007,0.026352457396184876,1.5257379620231581,1.5097889271689648,-0.6791608437928496,-1.0655500653071028,0.5783798900691562,-0.5355223924045895,-0.5736487743916989,0.27782568089634363,-1.121704067911955,1.7455931181530004,0.567903648758014,-1.3223512063319718,-1.0810870370994095,0.8233908497553671,-0.33778797251284703,0.043579450021013946,-1.199789413486293,0.6924241308206706,-0.05501515108109769,-0.42943737492493633,1.8376407752463495,1.5696814508069885,0.7577066619428412,-0.8892641619069086,0.35435919411789346,0.5874653985956466,1.5418431505640875,0.2409054448296417,-0.3144984785843778,-0.21473436338089816,-1.1175123679192964,-0.5814531590899158,0.5245128721506751,-0.31633769485893803,-0.6359988668909158,-0.23726996098449016,-0.3982124198205674,-0.43722295290105845,-0.8939564181904478,1.6442649705379218,-0.03847002183551993,-2.404032839063728,1.378628141649735,-0.8312434491896347,0.2091557152576446,-1.099623054801942,2.3740966992587578,1.6821413637381235,-0.15604278937050337,1.606674383529953,0.5062402310934592,-1.9525630963497957,1.3550364682699907,1.7905006512907407,0.6360203667698248,-0.8618964953795111,0.16380466263449095,1.2803113779287176,-0.08320937923702665,-1.2482532423300359,1.5514630422022548,-1.3742530385494103,-0.782115657330491,1.4139594942160179,-1.196156501437301,0.1556477823532999,1.2192212179884288,-0.1790850020822392,-0.27884292842249364,1.5872912174311693,-2.2252991158069855,-1.0157107731910955,-0.17319966364655262,-0.003305183104299413,0.39134630972054646,-0.6299971666679965,-0.5599556417703775,1.7052530534060306,-1.0286663990820606,-0.8343300341499792,0.26836643957742273,-1.6435992402350532,0.185083912167794,0.13867387300098313,0.20557733968652833,0.8091575611898224,0.34215282304169004,1.7590302670488172,-0.06473440148486866,0.8467053994637058,-0.4096522335741291,-0.7188798737998551],\"xaxis\":\"x\",\"yaxis\":\"y\",\"type\":\"histogram\"},{\"line\":{\"color\":\"rgba(128, 128, 128, 1.0)\",\"dash\":\"solid\",\"shape\":\"linear\",\"width\":1.3},\"marker\":{\"size\":2,\"symbol\":\"circle\"},\"mode\":\"markers\",\"name\":\"A\",\"text\":\"\",\"x\":[0.2028904508929444,-0.5360060801057059,1.9172153542380332,1.1554998283753386,0.12181051885877126,-1.1319753703135211,1.3278769012435154,-1.373981442531079,-2.2633839963334057,0.6551232910308362,-1.504221412415844,-0.8474805378287004,-0.11093134329715523,1.241952295882244,-1.7442570727729392,0.06284888307838114,0.13129293250736535,2.202296949681284,-0.551127386875276,-1.207078337251924,0.5356896936168137,-2.3918065579996495,-0.8523246908502292,0.6248174892839728,-1.8244595775644652,1.165845385152743,-0.30163142477174654,1.660066544040394,-0.5068086946392768,-0.4556258833114967,-0.2983646508906948,0.01993433011999575,-0.7975056575397892,-1.6725777108246267,-0.29531640229284895,0.30971668360777754,0.716409560531819,0.7659397828648833,-0.11123212981795287,0.9117766490536945,0.25043579914409964,-1.344984375671524,-0.8801279362402369,0.5472592174474373,0.08204130503631124,0.17891799719213222,0.9489319327585631,0.5989101309274099,-0.8682489391966348,-2.172925528481716,0.8316005423159178,-0.06097820454389258,2.055498475504573,1.2521412919757304,0.04704227597800867,-0.4861375363540279,0.000582875403311226,-0.7320904438737423,0.686513285955763,-1.3117841313018825,-0.43690513505570056,-0.7945871974195586,-0.5879641229539143,0.24401073683741503,0.36009371304036686,-0.3019641107496942,-2.932775813982967,1.0328388977400622,-0.39009411657080284,-0.23215230892291142,-0.5672375951964085,-0.03015870112032784,0.3935515613535357,-0.34854915789772084,-0.24547773242621834,-0.9065078680653559,-0.9971414020458494,-0.08634145935478864,-0.3476514657989236,0.26556018860507086,-0.783460711466928,-1.075241131554598,-2.8287826318864626,2.136054210189507,0.38609878978660767,-1.6766148708269466,-0.43335314576840184,-0.6229073104172735,-0.5055562520910752,0.4588731405931876,-0.9709314596096776,-1.9218522420442605,-1.1194405577485236,-1.791423871895468,-0.4270051517947074,0.6222129827945807,-0.7878569695431034,-1.3978580491023649,1.6779823657239594,0.07792772247489195],\"xaxis\":\"x2\",\"y\":[-0.7292327978431696,-0.974830182761352,-0.26209888558511735,0.4625878154503189,0.6221956315443264,-0.6283426059822679,-1.1869257562288007,0.026352457396184876,1.5257379620231581,1.5097889271689648,-0.6791608437928496,-1.0655500653071028,0.5783798900691562,-0.5355223924045895,-0.5736487743916989,0.27782568089634363,-1.121704067911955,1.7455931181530004,0.567903648758014,-1.3223512063319718,-1.0810870370994095,0.8233908497553671,-0.33778797251284703,0.043579450021013946,-1.199789413486293,0.6924241308206706,-0.05501515108109769,-0.42943737492493633,1.8376407752463495,1.5696814508069885,0.7577066619428412,-0.8892641619069086,0.35435919411789346,0.5874653985956466,1.5418431505640875,0.2409054448296417,-0.3144984785843778,-0.21473436338089816,-1.1175123679192964,-0.5814531590899158,0.5245128721506751,-0.31633769485893803,-0.6359988668909158,-0.23726996098449016,-0.3982124198205674,-0.43722295290105845,-0.8939564181904478,1.6442649705379218,-0.03847002183551993,-2.404032839063728,1.378628141649735,-0.8312434491896347,0.2091557152576446,-1.099623054801942,2.3740966992587578,1.6821413637381235,-0.15604278937050337,1.606674383529953,0.5062402310934592,-1.9525630963497957,1.3550364682699907,1.7905006512907407,0.6360203667698248,-0.8618964953795111,0.16380466263449095,1.2803113779287176,-0.08320937923702665,-1.2482532423300359,1.5514630422022548,-1.3742530385494103,-0.782115657330491,1.4139594942160179,-1.196156501437301,0.1556477823532999,1.2192212179884288,-0.1790850020822392,-0.27884292842249364,1.5872912174311693,-2.2252991158069855,-1.0157107731910955,-0.17319966364655262,-0.003305183104299413,0.39134630972054646,-0.6299971666679965,-0.5599556417703775,1.7052530534060306,-1.0286663990820606,-0.8343300341499792,0.26836643957742273,-1.6435992402350532,0.185083912167794,0.13867387300098313,0.20557733968652833,0.8091575611898224,0.34215282304169004,1.7590302670488172,-0.06473440148486866,0.8467053994637058,-0.4096522335741291,-0.7188798737998551],\"yaxis\":\"y2\",\"type\":\"scatter\"},{\"line\":{\"color\":\"rgba(128, 128, 128, 1.0)\",\"dash\":\"solid\",\"shape\":\"linear\",\"width\":1.3},\"marker\":{\"size\":2,\"symbol\":\"circle\"},\"mode\":\"markers\",\"name\":\"A\",\"text\":\"\",\"x\":[-1.0254696456815664,0.7775611998203021,-0.20499226929278383,1.6015143467695474,2.097806392179643,-0.4796119091423343,1.082289424478793,-0.288966877710572,0.9213989888372064,0.01462940254773187,0.8592148213502434,0.5088230613436406,-0.040219135029324865,1.28473655462965,0.3423847164018379,0.8579061156088263,1.3606289039525115,0.2910045147197126,-0.5712703432758236,0.22685702819916062,-0.14530467368663916,1.4645560699327624,1.0215181407236713,-1.086646700625405,0.5365380164670625,-1.1042970297733814,-0.6058807027596476,-2.1380588405986485,1.7431683533201399,1.7302484983906652,1.288911148472986,1.078148783006668,-0.24590453578333873,1.1225823894268763,-0.3526066675255926,1.6560803349462097,0.015590437840218005,-1.6932085391822211,0.5437404788529965,0.6994865289367478,2.6186636395723157,1.6601574901932357,-0.07613554282868827,-0.3485755963494323,-1.5972319489482059,0.31782211580436764,-0.5835428084182313,0.08107512890708217,0.26815331067107984,1.4967254859563903,0.04661947159376344,0.5293767660853089,2.5895528605846025,1.7309986203507288,-0.3239633354499249,0.06344544639119536,0.8700511906010587,-0.48635465882446166,-0.546861619477916,1.2750447493866293,-1.0619992763638353,0.44059903665829664,-1.4611096291954173,0.4668790956832927,0.6991237039692891,-0.6229171598590227,0.3930809313037531,-1.6831173471735759,-0.6413720153024304,-0.9023310389871586,-1.337364637743806,0.5054338281563555,-0.23346719611390368,-0.059552125026203245,0.5921779267943594,-0.9829451011712914,-0.5411503992773751,-0.0028521608425189264,0.6806733661617044,-0.545069667006346,1.905930226797241,-0.24881379793339825,0.5344670210106673,0.25240035967963587,-0.18080354422621497,-1.9693964883936066,-1.2129477418029484,0.6366475468500201,1.4222791853401286,-0.9098173503757404,-1.7965623258527832,1.6616760089058293,0.9656171272377032,0.16671059556241694,-1.4770482531315494,0.5024863405437006,-1.1947552125809477,-0.5625317028407455,-0.5713804419749033,-0.9159268650090083],\"xaxis\":\"x3\",\"y\":[-0.7292327978431696,-0.974830182761352,-0.26209888558511735,0.4625878154503189,0.6221956315443264,-0.6283426059822679,-1.1869257562288007,0.026352457396184876,1.5257379620231581,1.5097889271689648,-0.6791608437928496,-1.0655500653071028,0.5783798900691562,-0.5355223924045895,-0.5736487743916989,0.27782568089634363,-1.121704067911955,1.7455931181530004,0.567903648758014,-1.3223512063319718,-1.0810870370994095,0.8233908497553671,-0.33778797251284703,0.043579450021013946,-1.199789413486293,0.6924241308206706,-0.05501515108109769,-0.42943737492493633,1.8376407752463495,1.5696814508069885,0.7577066619428412,-0.8892641619069086,0.35435919411789346,0.5874653985956466,1.5418431505640875,0.2409054448296417,-0.3144984785843778,-0.21473436338089816,-1.1175123679192964,-0.5814531590899158,0.5245128721506751,-0.31633769485893803,-0.6359988668909158,-0.23726996098449016,-0.3982124198205674,-0.43722295290105845,-0.8939564181904478,1.6442649705379218,-0.03847002183551993,-2.404032839063728,1.378628141649735,-0.8312434491896347,0.2091557152576446,-1.099623054801942,2.3740966992587578,1.6821413637381235,-0.15604278937050337,1.606674383529953,0.5062402310934592,-1.9525630963497957,1.3550364682699907,1.7905006512907407,0.6360203667698248,-0.8618964953795111,0.16380466263449095,1.2803113779287176,-0.08320937923702665,-1.2482532423300359,1.5514630422022548,-1.3742530385494103,-0.782115657330491,1.4139594942160179,-1.196156501437301,0.1556477823532999,1.2192212179884288,-0.1790850020822392,-0.27884292842249364,1.5872912174311693,-2.2252991158069855,-1.0157107731910955,-0.17319966364655262,-0.003305183104299413,0.39134630972054646,-0.6299971666679965,-0.5599556417703775,1.7052530534060306,-1.0286663990820606,-0.8343300341499792,0.26836643957742273,-1.6435992402350532,0.185083912167794,0.13867387300098313,0.20557733968652833,0.8091575611898224,0.34215282304169004,1.7590302670488172,-0.06473440148486866,0.8467053994637058,-0.4096522335741291,-0.7188798737998551],\"yaxis\":\"y3\",\"type\":\"scatter\"},{\"line\":{\"color\":\"rgba(128, 128, 128, 1.0)\",\"dash\":\"solid\",\"shape\":\"linear\",\"width\":1.3},\"marker\":{\"size\":2,\"symbol\":\"circle\"},\"mode\":\"markers\",\"name\":\"A\",\"text\":\"\",\"x\":[0.8701451134981023,-0.009464630807165916,1.1121383309134603,0.46297875573362385,-0.6436970180668675,0.4755382595616794,0.22558964868048326,-0.25049335242706516,-0.6900315101856774,-0.7689762645220269,-0.17949598241540698,0.28575432914935034,-0.9789663362726952,-0.1972315041361254,-0.24738689557654772,-0.15874656953369926,-0.2271395980874452,1.862810923538947,-0.3959839148509614,0.6297939909807113,-0.4189742788306943,-0.8351578977289027,1.0686659001388692,-1.5728691119325595,-1.3635106010781473,-1.1408364514819833,-0.8439806118796392,0.5671029854135595,0.5304523587298116,0.10609842342935913,0.6728987622088346,-1.894134951392827,-0.36742528550598275,1.324219395793488,-0.26191645539166897,-1.6693567626397805,-1.4219945824704003,1.1413038338392376,-1.4740520691504395,-0.6141517495442599,0.751642535199614,-0.895572577627479,-0.2273617535118292,0.20162941381999344,0.3826505688526492,0.5958049875378956,-0.05669134538874129,1.0148030537235921,0.3996173755041809,0.08690434639985714,-0.31612170133716977,0.4270831432743658,0.5158923167878706,-0.723365309296625,-0.046398539108323075,-2.366503533614684,1.7528648531263429,-1.9860526847326894,-1.7984247093651877,0.18254546199109117,0.06146836080597479,1.7795084968854165,0.46604601157724385,0.3057646323657242,-1.3894966491503697,1.8188177701780233,-0.2697969369066025,0.9585666934785415,-0.5243422761673631,0.7610617739364335,0.5075207721743724,-0.018617492383678786,-1.4127937858342468,-0.8397363996014167,0.43971330013637633,-1.7461070273974852,0.17066683195978116,0.15695222447033608,-0.6549721686911111,-0.7970805562895228,-0.3500779369444265,-0.35563584940702364,-0.7475789766095714,-0.5235231241193639,0.265766403143593,0.4057607782617236,-0.5346110017944211,1.9574517152516788,-0.6152555557576844,-1.3500515174050454,-0.4612020773142193,-0.08302484591615515,0.8496693590441516,-0.38681138818184313,0.3267484329796052,0.4527531986592999,-0.06339555709900874,0.8129693027331496,-0.4732417609307742,-0.15976325370741937],\"xaxis\":\"x4\",\"y\":[-0.7292327978431696,-0.974830182761352,-0.26209888558511735,0.4625878154503189,0.6221956315443264,-0.6283426059822679,-1.1869257562288007,0.026352457396184876,1.5257379620231581,1.5097889271689648,-0.6791608437928496,-1.0655500653071028,0.5783798900691562,-0.5355223924045895,-0.5736487743916989,0.27782568089634363,-1.121704067911955,1.7455931181530004,0.567903648758014,-1.3223512063319718,-1.0810870370994095,0.8233908497553671,-0.33778797251284703,0.043579450021013946,-1.199789413486293,0.6924241308206706,-0.05501515108109769,-0.42943737492493633,1.8376407752463495,1.5696814508069885,0.7577066619428412,-0.8892641619069086,0.35435919411789346,0.5874653985956466,1.5418431505640875,0.2409054448296417,-0.3144984785843778,-0.21473436338089816,-1.1175123679192964,-0.5814531590899158,0.5245128721506751,-0.31633769485893803,-0.6359988668909158,-0.23726996098449016,-0.3982124198205674,-0.43722295290105845,-0.8939564181904478,1.6442649705379218,-0.03847002183551993,-2.404032839063728,1.378628141649735,-0.8312434491896347,0.2091557152576446,-1.099623054801942,2.3740966992587578,1.6821413637381235,-0.15604278937050337,1.606674383529953,0.5062402310934592,-1.9525630963497957,1.3550364682699907,1.7905006512907407,0.6360203667698248,-0.8618964953795111,0.16380466263449095,1.2803113779287176,-0.08320937923702665,-1.2482532423300359,1.5514630422022548,-1.3742530385494103,-0.782115657330491,1.4139594942160179,-1.196156501437301,0.1556477823532999,1.2192212179884288,-0.1790850020822392,-0.27884292842249364,1.5872912174311693,-2.2252991158069855,-1.0157107731910955,-0.17319966364655262,-0.003305183104299413,0.39134630972054646,-0.6299971666679965,-0.5599556417703775,1.7052530534060306,-1.0286663990820606,-0.8343300341499792,0.26836643957742273,-1.6435992402350532,0.185083912167794,0.13867387300098313,0.20557733968652833,0.8091575611898224,0.34215282304169004,1.7590302670488172,-0.06473440148486866,0.8467053994637058,-0.4096522335741291,-0.7188798737998551],\"yaxis\":\"y4\",\"type\":\"scatter\"},{\"line\":{\"color\":\"rgba(128, 128, 128, 1.0)\",\"dash\":\"solid\",\"shape\":\"linear\",\"width\":1.3},\"marker\":{\"size\":2,\"symbol\":\"circle\"},\"mode\":\"markers\",\"name\":\"B\",\"text\":\"\",\"x\":[-0.7292327978431696,-0.974830182761352,-0.26209888558511735,0.4625878154503189,0.6221956315443264,-0.6283426059822679,-1.1869257562288007,0.026352457396184876,1.5257379620231581,1.5097889271689648,-0.6791608437928496,-1.0655500653071028,0.5783798900691562,-0.5355223924045895,-0.5736487743916989,0.27782568089634363,-1.121704067911955,1.7455931181530004,0.567903648758014,-1.3223512063319718,-1.0810870370994095,0.8233908497553671,-0.33778797251284703,0.043579450021013946,-1.199789413486293,0.6924241308206706,-0.05501515108109769,-0.42943737492493633,1.8376407752463495,1.5696814508069885,0.7577066619428412,-0.8892641619069086,0.35435919411789346,0.5874653985956466,1.5418431505640875,0.2409054448296417,-0.3144984785843778,-0.21473436338089816,-1.1175123679192964,-0.5814531590899158,0.5245128721506751,-0.31633769485893803,-0.6359988668909158,-0.23726996098449016,-0.3982124198205674,-0.43722295290105845,-0.8939564181904478,1.6442649705379218,-0.03847002183551993,-2.404032839063728,1.378628141649735,-0.8312434491896347,0.2091557152576446,-1.099623054801942,2.3740966992587578,1.6821413637381235,-0.15604278937050337,1.606674383529953,0.5062402310934592,-1.9525630963497957,1.3550364682699907,1.7905006512907407,0.6360203667698248,-0.8618964953795111,0.16380466263449095,1.2803113779287176,-0.08320937923702665,-1.2482532423300359,1.5514630422022548,-1.3742530385494103,-0.782115657330491,1.4139594942160179,-1.196156501437301,0.1556477823532999,1.2192212179884288,-0.1790850020822392,-0.27884292842249364,1.5872912174311693,-2.2252991158069855,-1.0157107731910955,-0.17319966364655262,-0.003305183104299413,0.39134630972054646,-0.6299971666679965,-0.5599556417703775,1.7052530534060306,-1.0286663990820606,-0.8343300341499792,0.26836643957742273,-1.6435992402350532,0.185083912167794,0.13867387300098313,0.20557733968652833,0.8091575611898224,0.34215282304169004,1.7590302670488172,-0.06473440148486866,0.8467053994637058,-0.4096522335741291,-0.7188798737998551],\"xaxis\":\"x5\",\"y\":[0.2028904508929444,-0.5360060801057059,1.9172153542380332,1.1554998283753386,0.12181051885877126,-1.1319753703135211,1.3278769012435154,-1.373981442531079,-2.2633839963334057,0.6551232910308362,-1.504221412415844,-0.8474805378287004,-0.11093134329715523,1.241952295882244,-1.7442570727729392,0.06284888307838114,0.13129293250736535,2.202296949681284,-0.551127386875276,-1.207078337251924,0.5356896936168137,-2.3918065579996495,-0.8523246908502292,0.6248174892839728,-1.8244595775644652,1.165845385152743,-0.30163142477174654,1.660066544040394,-0.5068086946392768,-0.4556258833114967,-0.2983646508906948,0.01993433011999575,-0.7975056575397892,-1.6725777108246267,-0.29531640229284895,0.30971668360777754,0.716409560531819,0.7659397828648833,-0.11123212981795287,0.9117766490536945,0.25043579914409964,-1.344984375671524,-0.8801279362402369,0.5472592174474373,0.08204130503631124,0.17891799719213222,0.9489319327585631,0.5989101309274099,-0.8682489391966348,-2.172925528481716,0.8316005423159178,-0.06097820454389258,2.055498475504573,1.2521412919757304,0.04704227597800867,-0.4861375363540279,0.000582875403311226,-0.7320904438737423,0.686513285955763,-1.3117841313018825,-0.43690513505570056,-0.7945871974195586,-0.5879641229539143,0.24401073683741503,0.36009371304036686,-0.3019641107496942,-2.932775813982967,1.0328388977400622,-0.39009411657080284,-0.23215230892291142,-0.5672375951964085,-0.03015870112032784,0.3935515613535357,-0.34854915789772084,-0.24547773242621834,-0.9065078680653559,-0.9971414020458494,-0.08634145935478864,-0.3476514657989236,0.26556018860507086,-0.783460711466928,-1.075241131554598,-2.8287826318864626,2.136054210189507,0.38609878978660767,-1.6766148708269466,-0.43335314576840184,-0.6229073104172735,-0.5055562520910752,0.4588731405931876,-0.9709314596096776,-1.9218522420442605,-1.1194405577485236,-1.791423871895468,-0.4270051517947074,0.6222129827945807,-0.7878569695431034,-1.3978580491023649,1.6779823657239594,0.07792772247489195],\"yaxis\":\"y5\",\"type\":\"scatter\"},{\"histfunc\":\"count\",\"histnorm\":\"\",\"marker\":{\"color\":\"rgba(55, 128, 191, 1.0)\",\"line\":{\"color\":\"#4D5663\",\"width\":1.3}},\"name\":\"B\",\"nbinsx\":10,\"opacity\":0.8,\"orientation\":\"v\",\"x\":[0.2028904508929444,-0.5360060801057059,1.9172153542380332,1.1554998283753386,0.12181051885877126,-1.1319753703135211,1.3278769012435154,-1.373981442531079,-2.2633839963334057,0.6551232910308362,-1.504221412415844,-0.8474805378287004,-0.11093134329715523,1.241952295882244,-1.7442570727729392,0.06284888307838114,0.13129293250736535,2.202296949681284,-0.551127386875276,-1.207078337251924,0.5356896936168137,-2.3918065579996495,-0.8523246908502292,0.6248174892839728,-1.8244595775644652,1.165845385152743,-0.30163142477174654,1.660066544040394,-0.5068086946392768,-0.4556258833114967,-0.2983646508906948,0.01993433011999575,-0.7975056575397892,-1.6725777108246267,-0.29531640229284895,0.30971668360777754,0.716409560531819,0.7659397828648833,-0.11123212981795287,0.9117766490536945,0.25043579914409964,-1.344984375671524,-0.8801279362402369,0.5472592174474373,0.08204130503631124,0.17891799719213222,0.9489319327585631,0.5989101309274099,-0.8682489391966348,-2.172925528481716,0.8316005423159178,-0.06097820454389258,2.055498475504573,1.2521412919757304,0.04704227597800867,-0.4861375363540279,0.000582875403311226,-0.7320904438737423,0.686513285955763,-1.3117841313018825,-0.43690513505570056,-0.7945871974195586,-0.5879641229539143,0.24401073683741503,0.36009371304036686,-0.3019641107496942,-2.932775813982967,1.0328388977400622,-0.39009411657080284,-0.23215230892291142,-0.5672375951964085,-0.03015870112032784,0.3935515613535357,-0.34854915789772084,-0.24547773242621834,-0.9065078680653559,-0.9971414020458494,-0.08634145935478864,-0.3476514657989236,0.26556018860507086,-0.783460711466928,-1.075241131554598,-2.8287826318864626,2.136054210189507,0.38609878978660767,-1.6766148708269466,-0.43335314576840184,-0.6229073104172735,-0.5055562520910752,0.4588731405931876,-0.9709314596096776,-1.9218522420442605,-1.1194405577485236,-1.791423871895468,-0.4270051517947074,0.6222129827945807,-0.7878569695431034,-1.3978580491023649,1.6779823657239594,0.07792772247489195],\"xaxis\":\"x6\",\"yaxis\":\"y6\",\"type\":\"histogram\"},{\"line\":{\"color\":\"rgba(128, 128, 128, 1.0)\",\"dash\":\"solid\",\"shape\":\"linear\",\"width\":1.3},\"marker\":{\"size\":2,\"symbol\":\"circle\"},\"mode\":\"markers\",\"name\":\"B\",\"text\":\"\",\"x\":[-1.0254696456815664,0.7775611998203021,-0.20499226929278383,1.6015143467695474,2.097806392179643,-0.4796119091423343,1.082289424478793,-0.288966877710572,0.9213989888372064,0.01462940254773187,0.8592148213502434,0.5088230613436406,-0.040219135029324865,1.28473655462965,0.3423847164018379,0.8579061156088263,1.3606289039525115,0.2910045147197126,-0.5712703432758236,0.22685702819916062,-0.14530467368663916,1.4645560699327624,1.0215181407236713,-1.086646700625405,0.5365380164670625,-1.1042970297733814,-0.6058807027596476,-2.1380588405986485,1.7431683533201399,1.7302484983906652,1.288911148472986,1.078148783006668,-0.24590453578333873,1.1225823894268763,-0.3526066675255926,1.6560803349462097,0.015590437840218005,-1.6932085391822211,0.5437404788529965,0.6994865289367478,2.6186636395723157,1.6601574901932357,-0.07613554282868827,-0.3485755963494323,-1.5972319489482059,0.31782211580436764,-0.5835428084182313,0.08107512890708217,0.26815331067107984,1.4967254859563903,0.04661947159376344,0.5293767660853089,2.5895528605846025,1.7309986203507288,-0.3239633354499249,0.06344544639119536,0.8700511906010587,-0.48635465882446166,-0.546861619477916,1.2750447493866293,-1.0619992763638353,0.44059903665829664,-1.4611096291954173,0.4668790956832927,0.6991237039692891,-0.6229171598590227,0.3930809313037531,-1.6831173471735759,-0.6413720153024304,-0.9023310389871586,-1.337364637743806,0.5054338281563555,-0.23346719611390368,-0.059552125026203245,0.5921779267943594,-0.9829451011712914,-0.5411503992773751,-0.0028521608425189264,0.6806733661617044,-0.545069667006346,1.905930226797241,-0.24881379793339825,0.5344670210106673,0.25240035967963587,-0.18080354422621497,-1.9693964883936066,-1.2129477418029484,0.6366475468500201,1.4222791853401286,-0.9098173503757404,-1.7965623258527832,1.6616760089058293,0.9656171272377032,0.16671059556241694,-1.4770482531315494,0.5024863405437006,-1.1947552125809477,-0.5625317028407455,-0.5713804419749033,-0.9159268650090083],\"xaxis\":\"x7\",\"y\":[0.2028904508929444,-0.5360060801057059,1.9172153542380332,1.1554998283753386,0.12181051885877126,-1.1319753703135211,1.3278769012435154,-1.373981442531079,-2.2633839963334057,0.6551232910308362,-1.504221412415844,-0.8474805378287004,-0.11093134329715523,1.241952295882244,-1.7442570727729392,0.06284888307838114,0.13129293250736535,2.202296949681284,-0.551127386875276,-1.207078337251924,0.5356896936168137,-2.3918065579996495,-0.8523246908502292,0.6248174892839728,-1.8244595775644652,1.165845385152743,-0.30163142477174654,1.660066544040394,-0.5068086946392768,-0.4556258833114967,-0.2983646508906948,0.01993433011999575,-0.7975056575397892,-1.6725777108246267,-0.29531640229284895,0.30971668360777754,0.716409560531819,0.7659397828648833,-0.11123212981795287,0.9117766490536945,0.25043579914409964,-1.344984375671524,-0.8801279362402369,0.5472592174474373,0.08204130503631124,0.17891799719213222,0.9489319327585631,0.5989101309274099,-0.8682489391966348,-2.172925528481716,0.8316005423159178,-0.06097820454389258,2.055498475504573,1.2521412919757304,0.04704227597800867,-0.4861375363540279,0.000582875403311226,-0.7320904438737423,0.686513285955763,-1.3117841313018825,-0.43690513505570056,-0.7945871974195586,-0.5879641229539143,0.24401073683741503,0.36009371304036686,-0.3019641107496942,-2.932775813982967,1.0328388977400622,-0.39009411657080284,-0.23215230892291142,-0.5672375951964085,-0.03015870112032784,0.3935515613535357,-0.34854915789772084,-0.24547773242621834,-0.9065078680653559,-0.9971414020458494,-0.08634145935478864,-0.3476514657989236,0.26556018860507086,-0.783460711466928,-1.075241131554598,-2.8287826318864626,2.136054210189507,0.38609878978660767,-1.6766148708269466,-0.43335314576840184,-0.6229073104172735,-0.5055562520910752,0.4588731405931876,-0.9709314596096776,-1.9218522420442605,-1.1194405577485236,-1.791423871895468,-0.4270051517947074,0.6222129827945807,-0.7878569695431034,-1.3978580491023649,1.6779823657239594,0.07792772247489195],\"yaxis\":\"y7\",\"type\":\"scatter\"},{\"line\":{\"color\":\"rgba(128, 128, 128, 1.0)\",\"dash\":\"solid\",\"shape\":\"linear\",\"width\":1.3},\"marker\":{\"size\":2,\"symbol\":\"circle\"},\"mode\":\"markers\",\"name\":\"B\",\"text\":\"\",\"x\":[0.8701451134981023,-0.009464630807165916,1.1121383309134603,0.46297875573362385,-0.6436970180668675,0.4755382595616794,0.22558964868048326,-0.25049335242706516,-0.6900315101856774,-0.7689762645220269,-0.17949598241540698,0.28575432914935034,-0.9789663362726952,-0.1972315041361254,-0.24738689557654772,-0.15874656953369926,-0.2271395980874452,1.862810923538947,-0.3959839148509614,0.6297939909807113,-0.4189742788306943,-0.8351578977289027,1.0686659001388692,-1.5728691119325595,-1.3635106010781473,-1.1408364514819833,-0.8439806118796392,0.5671029854135595,0.5304523587298116,0.10609842342935913,0.6728987622088346,-1.894134951392827,-0.36742528550598275,1.324219395793488,-0.26191645539166897,-1.6693567626397805,-1.4219945824704003,1.1413038338392376,-1.4740520691504395,-0.6141517495442599,0.751642535199614,-0.895572577627479,-0.2273617535118292,0.20162941381999344,0.3826505688526492,0.5958049875378956,-0.05669134538874129,1.0148030537235921,0.3996173755041809,0.08690434639985714,-0.31612170133716977,0.4270831432743658,0.5158923167878706,-0.723365309296625,-0.046398539108323075,-2.366503533614684,1.7528648531263429,-1.9860526847326894,-1.7984247093651877,0.18254546199109117,0.06146836080597479,1.7795084968854165,0.46604601157724385,0.3057646323657242,-1.3894966491503697,1.8188177701780233,-0.2697969369066025,0.9585666934785415,-0.5243422761673631,0.7610617739364335,0.5075207721743724,-0.018617492383678786,-1.4127937858342468,-0.8397363996014167,0.43971330013637633,-1.7461070273974852,0.17066683195978116,0.15695222447033608,-0.6549721686911111,-0.7970805562895228,-0.3500779369444265,-0.35563584940702364,-0.7475789766095714,-0.5235231241193639,0.265766403143593,0.4057607782617236,-0.5346110017944211,1.9574517152516788,-0.6152555557576844,-1.3500515174050454,-0.4612020773142193,-0.08302484591615515,0.8496693590441516,-0.38681138818184313,0.3267484329796052,0.4527531986592999,-0.06339555709900874,0.8129693027331496,-0.4732417609307742,-0.15976325370741937],\"xaxis\":\"x8\",\"y\":[0.2028904508929444,-0.5360060801057059,1.9172153542380332,1.1554998283753386,0.12181051885877126,-1.1319753703135211,1.3278769012435154,-1.373981442531079,-2.2633839963334057,0.6551232910308362,-1.504221412415844,-0.8474805378287004,-0.11093134329715523,1.241952295882244,-1.7442570727729392,0.06284888307838114,0.13129293250736535,2.202296949681284,-0.551127386875276,-1.207078337251924,0.5356896936168137,-2.3918065579996495,-0.8523246908502292,0.6248174892839728,-1.8244595775644652,1.165845385152743,-0.30163142477174654,1.660066544040394,-0.5068086946392768,-0.4556258833114967,-0.2983646508906948,0.01993433011999575,-0.7975056575397892,-1.6725777108246267,-0.29531640229284895,0.30971668360777754,0.716409560531819,0.7659397828648833,-0.11123212981795287,0.9117766490536945,0.25043579914409964,-1.344984375671524,-0.8801279362402369,0.5472592174474373,0.08204130503631124,0.17891799719213222,0.9489319327585631,0.5989101309274099,-0.8682489391966348,-2.172925528481716,0.8316005423159178,-0.06097820454389258,2.055498475504573,1.2521412919757304,0.04704227597800867,-0.4861375363540279,0.000582875403311226,-0.7320904438737423,0.686513285955763,-1.3117841313018825,-0.43690513505570056,-0.7945871974195586,-0.5879641229539143,0.24401073683741503,0.36009371304036686,-0.3019641107496942,-2.932775813982967,1.0328388977400622,-0.39009411657080284,-0.23215230892291142,-0.5672375951964085,-0.03015870112032784,0.3935515613535357,-0.34854915789772084,-0.24547773242621834,-0.9065078680653559,-0.9971414020458494,-0.08634145935478864,-0.3476514657989236,0.26556018860507086,-0.783460711466928,-1.075241131554598,-2.8287826318864626,2.136054210189507,0.38609878978660767,-1.6766148708269466,-0.43335314576840184,-0.6229073104172735,-0.5055562520910752,0.4588731405931876,-0.9709314596096776,-1.9218522420442605,-1.1194405577485236,-1.791423871895468,-0.4270051517947074,0.6222129827945807,-0.7878569695431034,-1.3978580491023649,1.6779823657239594,0.07792772247489195],\"yaxis\":\"y8\",\"type\":\"scatter\"},{\"line\":{\"color\":\"rgba(128, 128, 128, 1.0)\",\"dash\":\"solid\",\"shape\":\"linear\",\"width\":1.3},\"marker\":{\"size\":2,\"symbol\":\"circle\"},\"mode\":\"markers\",\"name\":\"C\",\"text\":\"\",\"x\":[-0.7292327978431696,-0.974830182761352,-0.26209888558511735,0.4625878154503189,0.6221956315443264,-0.6283426059822679,-1.1869257562288007,0.026352457396184876,1.5257379620231581,1.5097889271689648,-0.6791608437928496,-1.0655500653071028,0.5783798900691562,-0.5355223924045895,-0.5736487743916989,0.27782568089634363,-1.121704067911955,1.7455931181530004,0.567903648758014,-1.3223512063319718,-1.0810870370994095,0.8233908497553671,-0.33778797251284703,0.043579450021013946,-1.199789413486293,0.6924241308206706,-0.05501515108109769,-0.42943737492493633,1.8376407752463495,1.5696814508069885,0.7577066619428412,-0.8892641619069086,0.35435919411789346,0.5874653985956466,1.5418431505640875,0.2409054448296417,-0.3144984785843778,-0.21473436338089816,-1.1175123679192964,-0.5814531590899158,0.5245128721506751,-0.31633769485893803,-0.6359988668909158,-0.23726996098449016,-0.3982124198205674,-0.43722295290105845,-0.8939564181904478,1.6442649705379218,-0.03847002183551993,-2.404032839063728,1.378628141649735,-0.8312434491896347,0.2091557152576446,-1.099623054801942,2.3740966992587578,1.6821413637381235,-0.15604278937050337,1.606674383529953,0.5062402310934592,-1.9525630963497957,1.3550364682699907,1.7905006512907407,0.6360203667698248,-0.8618964953795111,0.16380466263449095,1.2803113779287176,-0.08320937923702665,-1.2482532423300359,1.5514630422022548,-1.3742530385494103,-0.782115657330491,1.4139594942160179,-1.196156501437301,0.1556477823532999,1.2192212179884288,-0.1790850020822392,-0.27884292842249364,1.5872912174311693,-2.2252991158069855,-1.0157107731910955,-0.17319966364655262,-0.003305183104299413,0.39134630972054646,-0.6299971666679965,-0.5599556417703775,1.7052530534060306,-1.0286663990820606,-0.8343300341499792,0.26836643957742273,-1.6435992402350532,0.185083912167794,0.13867387300098313,0.20557733968652833,0.8091575611898224,0.34215282304169004,1.7590302670488172,-0.06473440148486866,0.8467053994637058,-0.4096522335741291,-0.7188798737998551],\"xaxis\":\"x9\",\"y\":[-1.0254696456815664,0.7775611998203021,-0.20499226929278383,1.6015143467695474,2.097806392179643,-0.4796119091423343,1.082289424478793,-0.288966877710572,0.9213989888372064,0.01462940254773187,0.8592148213502434,0.5088230613436406,-0.040219135029324865,1.28473655462965,0.3423847164018379,0.8579061156088263,1.3606289039525115,0.2910045147197126,-0.5712703432758236,0.22685702819916062,-0.14530467368663916,1.4645560699327624,1.0215181407236713,-1.086646700625405,0.5365380164670625,-1.1042970297733814,-0.6058807027596476,-2.1380588405986485,1.7431683533201399,1.7302484983906652,1.288911148472986,1.078148783006668,-0.24590453578333873,1.1225823894268763,-0.3526066675255926,1.6560803349462097,0.015590437840218005,-1.6932085391822211,0.5437404788529965,0.6994865289367478,2.6186636395723157,1.6601574901932357,-0.07613554282868827,-0.3485755963494323,-1.5972319489482059,0.31782211580436764,-0.5835428084182313,0.08107512890708217,0.26815331067107984,1.4967254859563903,0.04661947159376344,0.5293767660853089,2.5895528605846025,1.7309986203507288,-0.3239633354499249,0.06344544639119536,0.8700511906010587,-0.48635465882446166,-0.546861619477916,1.2750447493866293,-1.0619992763638353,0.44059903665829664,-1.4611096291954173,0.4668790956832927,0.6991237039692891,-0.6229171598590227,0.3930809313037531,-1.6831173471735759,-0.6413720153024304,-0.9023310389871586,-1.337364637743806,0.5054338281563555,-0.23346719611390368,-0.059552125026203245,0.5921779267943594,-0.9829451011712914,-0.5411503992773751,-0.0028521608425189264,0.6806733661617044,-0.545069667006346,1.905930226797241,-0.24881379793339825,0.5344670210106673,0.25240035967963587,-0.18080354422621497,-1.9693964883936066,-1.2129477418029484,0.6366475468500201,1.4222791853401286,-0.9098173503757404,-1.7965623258527832,1.6616760089058293,0.9656171272377032,0.16671059556241694,-1.4770482531315494,0.5024863405437006,-1.1947552125809477,-0.5625317028407455,-0.5713804419749033,-0.9159268650090083],\"yaxis\":\"y9\",\"type\":\"scatter\"},{\"line\":{\"color\":\"rgba(128, 128, 128, 1.0)\",\"dash\":\"solid\",\"shape\":\"linear\",\"width\":1.3},\"marker\":{\"size\":2,\"symbol\":\"circle\"},\"mode\":\"markers\",\"name\":\"C\",\"text\":\"\",\"x\":[0.2028904508929444,-0.5360060801057059,1.9172153542380332,1.1554998283753386,0.12181051885877126,-1.1319753703135211,1.3278769012435154,-1.373981442531079,-2.2633839963334057,0.6551232910308362,-1.504221412415844,-0.8474805378287004,-0.11093134329715523,1.241952295882244,-1.7442570727729392,0.06284888307838114,0.13129293250736535,2.202296949681284,-0.551127386875276,-1.207078337251924,0.5356896936168137,-2.3918065579996495,-0.8523246908502292,0.6248174892839728,-1.8244595775644652,1.165845385152743,-0.30163142477174654,1.660066544040394,-0.5068086946392768,-0.4556258833114967,-0.2983646508906948,0.01993433011999575,-0.7975056575397892,-1.6725777108246267,-0.29531640229284895,0.30971668360777754,0.716409560531819,0.7659397828648833,-0.11123212981795287,0.9117766490536945,0.25043579914409964,-1.344984375671524,-0.8801279362402369,0.5472592174474373,0.08204130503631124,0.17891799719213222,0.9489319327585631,0.5989101309274099,-0.8682489391966348,-2.172925528481716,0.8316005423159178,-0.06097820454389258,2.055498475504573,1.2521412919757304,0.04704227597800867,-0.4861375363540279,0.000582875403311226,-0.7320904438737423,0.686513285955763,-1.3117841313018825,-0.43690513505570056,-0.7945871974195586,-0.5879641229539143,0.24401073683741503,0.36009371304036686,-0.3019641107496942,-2.932775813982967,1.0328388977400622,-0.39009411657080284,-0.23215230892291142,-0.5672375951964085,-0.03015870112032784,0.3935515613535357,-0.34854915789772084,-0.24547773242621834,-0.9065078680653559,-0.9971414020458494,-0.08634145935478864,-0.3476514657989236,0.26556018860507086,-0.783460711466928,-1.075241131554598,-2.8287826318864626,2.136054210189507,0.38609878978660767,-1.6766148708269466,-0.43335314576840184,-0.6229073104172735,-0.5055562520910752,0.4588731405931876,-0.9709314596096776,-1.9218522420442605,-1.1194405577485236,-1.791423871895468,-0.4270051517947074,0.6222129827945807,-0.7878569695431034,-1.3978580491023649,1.6779823657239594,0.07792772247489195],\"xaxis\":\"x10\",\"y\":[-1.0254696456815664,0.7775611998203021,-0.20499226929278383,1.6015143467695474,2.097806392179643,-0.4796119091423343,1.082289424478793,-0.288966877710572,0.9213989888372064,0.01462940254773187,0.8592148213502434,0.5088230613436406,-0.040219135029324865,1.28473655462965,0.3423847164018379,0.8579061156088263,1.3606289039525115,0.2910045147197126,-0.5712703432758236,0.22685702819916062,-0.14530467368663916,1.4645560699327624,1.0215181407236713,-1.086646700625405,0.5365380164670625,-1.1042970297733814,-0.6058807027596476,-2.1380588405986485,1.7431683533201399,1.7302484983906652,1.288911148472986,1.078148783006668,-0.24590453578333873,1.1225823894268763,-0.3526066675255926,1.6560803349462097,0.015590437840218005,-1.6932085391822211,0.5437404788529965,0.6994865289367478,2.6186636395723157,1.6601574901932357,-0.07613554282868827,-0.3485755963494323,-1.5972319489482059,0.31782211580436764,-0.5835428084182313,0.08107512890708217,0.26815331067107984,1.4967254859563903,0.04661947159376344,0.5293767660853089,2.5895528605846025,1.7309986203507288,-0.3239633354499249,0.06344544639119536,0.8700511906010587,-0.48635465882446166,-0.546861619477916,1.2750447493866293,-1.0619992763638353,0.44059903665829664,-1.4611096291954173,0.4668790956832927,0.6991237039692891,-0.6229171598590227,0.3930809313037531,-1.6831173471735759,-0.6413720153024304,-0.9023310389871586,-1.337364637743806,0.5054338281563555,-0.23346719611390368,-0.059552125026203245,0.5921779267943594,-0.9829451011712914,-0.5411503992773751,-0.0028521608425189264,0.6806733661617044,-0.545069667006346,1.905930226797241,-0.24881379793339825,0.5344670210106673,0.25240035967963587,-0.18080354422621497,-1.9693964883936066,-1.2129477418029484,0.6366475468500201,1.4222791853401286,-0.9098173503757404,-1.7965623258527832,1.6616760089058293,0.9656171272377032,0.16671059556241694,-1.4770482531315494,0.5024863405437006,-1.1947552125809477,-0.5625317028407455,-0.5713804419749033,-0.9159268650090083],\"yaxis\":\"y10\",\"type\":\"scatter\"},{\"histfunc\":\"count\",\"histnorm\":\"\",\"marker\":{\"color\":\"rgba(50, 171, 96, 1.0)\",\"line\":{\"color\":\"#4D5663\",\"width\":1.3}},\"name\":\"C\",\"nbinsx\":10,\"opacity\":0.8,\"orientation\":\"v\",\"x\":[-1.0254696456815664,0.7775611998203021,-0.20499226929278383,1.6015143467695474,2.097806392179643,-0.4796119091423343,1.082289424478793,-0.288966877710572,0.9213989888372064,0.01462940254773187,0.8592148213502434,0.5088230613436406,-0.040219135029324865,1.28473655462965,0.3423847164018379,0.8579061156088263,1.3606289039525115,0.2910045147197126,-0.5712703432758236,0.22685702819916062,-0.14530467368663916,1.4645560699327624,1.0215181407236713,-1.086646700625405,0.5365380164670625,-1.1042970297733814,-0.6058807027596476,-2.1380588405986485,1.7431683533201399,1.7302484983906652,1.288911148472986,1.078148783006668,-0.24590453578333873,1.1225823894268763,-0.3526066675255926,1.6560803349462097,0.015590437840218005,-1.6932085391822211,0.5437404788529965,0.6994865289367478,2.6186636395723157,1.6601574901932357,-0.07613554282868827,-0.3485755963494323,-1.5972319489482059,0.31782211580436764,-0.5835428084182313,0.08107512890708217,0.26815331067107984,1.4967254859563903,0.04661947159376344,0.5293767660853089,2.5895528605846025,1.7309986203507288,-0.3239633354499249,0.06344544639119536,0.8700511906010587,-0.48635465882446166,-0.546861619477916,1.2750447493866293,-1.0619992763638353,0.44059903665829664,-1.4611096291954173,0.4668790956832927,0.6991237039692891,-0.6229171598590227,0.3930809313037531,-1.6831173471735759,-0.6413720153024304,-0.9023310389871586,-1.337364637743806,0.5054338281563555,-0.23346719611390368,-0.059552125026203245,0.5921779267943594,-0.9829451011712914,-0.5411503992773751,-0.0028521608425189264,0.6806733661617044,-0.545069667006346,1.905930226797241,-0.24881379793339825,0.5344670210106673,0.25240035967963587,-0.18080354422621497,-1.9693964883936066,-1.2129477418029484,0.6366475468500201,1.4222791853401286,-0.9098173503757404,-1.7965623258527832,1.6616760089058293,0.9656171272377032,0.16671059556241694,-1.4770482531315494,0.5024863405437006,-1.1947552125809477,-0.5625317028407455,-0.5713804419749033,-0.9159268650090083],\"xaxis\":\"x11\",\"yaxis\":\"y11\",\"type\":\"histogram\"},{\"line\":{\"color\":\"rgba(128, 128, 128, 1.0)\",\"dash\":\"solid\",\"shape\":\"linear\",\"width\":1.3},\"marker\":{\"size\":2,\"symbol\":\"circle\"},\"mode\":\"markers\",\"name\":\"C\",\"text\":\"\",\"x\":[0.8701451134981023,-0.009464630807165916,1.1121383309134603,0.46297875573362385,-0.6436970180668675,0.4755382595616794,0.22558964868048326,-0.25049335242706516,-0.6900315101856774,-0.7689762645220269,-0.17949598241540698,0.28575432914935034,-0.9789663362726952,-0.1972315041361254,-0.24738689557654772,-0.15874656953369926,-0.2271395980874452,1.862810923538947,-0.3959839148509614,0.6297939909807113,-0.4189742788306943,-0.8351578977289027,1.0686659001388692,-1.5728691119325595,-1.3635106010781473,-1.1408364514819833,-0.8439806118796392,0.5671029854135595,0.5304523587298116,0.10609842342935913,0.6728987622088346,-1.894134951392827,-0.36742528550598275,1.324219395793488,-0.26191645539166897,-1.6693567626397805,-1.4219945824704003,1.1413038338392376,-1.4740520691504395,-0.6141517495442599,0.751642535199614,-0.895572577627479,-0.2273617535118292,0.20162941381999344,0.3826505688526492,0.5958049875378956,-0.05669134538874129,1.0148030537235921,0.3996173755041809,0.08690434639985714,-0.31612170133716977,0.4270831432743658,0.5158923167878706,-0.723365309296625,-0.046398539108323075,-2.366503533614684,1.7528648531263429,-1.9860526847326894,-1.7984247093651877,0.18254546199109117,0.06146836080597479,1.7795084968854165,0.46604601157724385,0.3057646323657242,-1.3894966491503697,1.8188177701780233,-0.2697969369066025,0.9585666934785415,-0.5243422761673631,0.7610617739364335,0.5075207721743724,-0.018617492383678786,-1.4127937858342468,-0.8397363996014167,0.43971330013637633,-1.7461070273974852,0.17066683195978116,0.15695222447033608,-0.6549721686911111,-0.7970805562895228,-0.3500779369444265,-0.35563584940702364,-0.7475789766095714,-0.5235231241193639,0.265766403143593,0.4057607782617236,-0.5346110017944211,1.9574517152516788,-0.6152555557576844,-1.3500515174050454,-0.4612020773142193,-0.08302484591615515,0.8496693590441516,-0.38681138818184313,0.3267484329796052,0.4527531986592999,-0.06339555709900874,0.8129693027331496,-0.4732417609307742,-0.15976325370741937],\"xaxis\":\"x12\",\"y\":[-1.0254696456815664,0.7775611998203021,-0.20499226929278383,1.6015143467695474,2.097806392179643,-0.4796119091423343,1.082289424478793,-0.288966877710572,0.9213989888372064,0.01462940254773187,0.8592148213502434,0.5088230613436406,-0.040219135029324865,1.28473655462965,0.3423847164018379,0.8579061156088263,1.3606289039525115,0.2910045147197126,-0.5712703432758236,0.22685702819916062,-0.14530467368663916,1.4645560699327624,1.0215181407236713,-1.086646700625405,0.5365380164670625,-1.1042970297733814,-0.6058807027596476,-2.1380588405986485,1.7431683533201399,1.7302484983906652,1.288911148472986,1.078148783006668,-0.24590453578333873,1.1225823894268763,-0.3526066675255926,1.6560803349462097,0.015590437840218005,-1.6932085391822211,0.5437404788529965,0.6994865289367478,2.6186636395723157,1.6601574901932357,-0.07613554282868827,-0.3485755963494323,-1.5972319489482059,0.31782211580436764,-0.5835428084182313,0.08107512890708217,0.26815331067107984,1.4967254859563903,0.04661947159376344,0.5293767660853089,2.5895528605846025,1.7309986203507288,-0.3239633354499249,0.06344544639119536,0.8700511906010587,-0.48635465882446166,-0.546861619477916,1.2750447493866293,-1.0619992763638353,0.44059903665829664,-1.4611096291954173,0.4668790956832927,0.6991237039692891,-0.6229171598590227,0.3930809313037531,-1.6831173471735759,-0.6413720153024304,-0.9023310389871586,-1.337364637743806,0.5054338281563555,-0.23346719611390368,-0.059552125026203245,0.5921779267943594,-0.9829451011712914,-0.5411503992773751,-0.0028521608425189264,0.6806733661617044,-0.545069667006346,1.905930226797241,-0.24881379793339825,0.5344670210106673,0.25240035967963587,-0.18080354422621497,-1.9693964883936066,-1.2129477418029484,0.6366475468500201,1.4222791853401286,-0.9098173503757404,-1.7965623258527832,1.6616760089058293,0.9656171272377032,0.16671059556241694,-1.4770482531315494,0.5024863405437006,-1.1947552125809477,-0.5625317028407455,-0.5713804419749033,-0.9159268650090083],\"yaxis\":\"y12\",\"type\":\"scatter\"},{\"line\":{\"color\":\"rgba(128, 128, 128, 1.0)\",\"dash\":\"solid\",\"shape\":\"linear\",\"width\":1.3},\"marker\":{\"size\":2,\"symbol\":\"circle\"},\"mode\":\"markers\",\"name\":\"D\",\"text\":\"\",\"x\":[-0.7292327978431696,-0.974830182761352,-0.26209888558511735,0.4625878154503189,0.6221956315443264,-0.6283426059822679,-1.1869257562288007,0.026352457396184876,1.5257379620231581,1.5097889271689648,-0.6791608437928496,-1.0655500653071028,0.5783798900691562,-0.5355223924045895,-0.5736487743916989,0.27782568089634363,-1.121704067911955,1.7455931181530004,0.567903648758014,-1.3223512063319718,-1.0810870370994095,0.8233908497553671,-0.33778797251284703,0.043579450021013946,-1.199789413486293,0.6924241308206706,-0.05501515108109769,-0.42943737492493633,1.8376407752463495,1.5696814508069885,0.7577066619428412,-0.8892641619069086,0.35435919411789346,0.5874653985956466,1.5418431505640875,0.2409054448296417,-0.3144984785843778,-0.21473436338089816,-1.1175123679192964,-0.5814531590899158,0.5245128721506751,-0.31633769485893803,-0.6359988668909158,-0.23726996098449016,-0.3982124198205674,-0.43722295290105845,-0.8939564181904478,1.6442649705379218,-0.03847002183551993,-2.404032839063728,1.378628141649735,-0.8312434491896347,0.2091557152576446,-1.099623054801942,2.3740966992587578,1.6821413637381235,-0.15604278937050337,1.606674383529953,0.5062402310934592,-1.9525630963497957,1.3550364682699907,1.7905006512907407,0.6360203667698248,-0.8618964953795111,0.16380466263449095,1.2803113779287176,-0.08320937923702665,-1.2482532423300359,1.5514630422022548,-1.3742530385494103,-0.782115657330491,1.4139594942160179,-1.196156501437301,0.1556477823532999,1.2192212179884288,-0.1790850020822392,-0.27884292842249364,1.5872912174311693,-2.2252991158069855,-1.0157107731910955,-0.17319966364655262,-0.003305183104299413,0.39134630972054646,-0.6299971666679965,-0.5599556417703775,1.7052530534060306,-1.0286663990820606,-0.8343300341499792,0.26836643957742273,-1.6435992402350532,0.185083912167794,0.13867387300098313,0.20557733968652833,0.8091575611898224,0.34215282304169004,1.7590302670488172,-0.06473440148486866,0.8467053994637058,-0.4096522335741291,-0.7188798737998551],\"xaxis\":\"x13\",\"y\":[0.8701451134981023,-0.009464630807165916,1.1121383309134603,0.46297875573362385,-0.6436970180668675,0.4755382595616794,0.22558964868048326,-0.25049335242706516,-0.6900315101856774,-0.7689762645220269,-0.17949598241540698,0.28575432914935034,-0.9789663362726952,-0.1972315041361254,-0.24738689557654772,-0.15874656953369926,-0.2271395980874452,1.862810923538947,-0.3959839148509614,0.6297939909807113,-0.4189742788306943,-0.8351578977289027,1.0686659001388692,-1.5728691119325595,-1.3635106010781473,-1.1408364514819833,-0.8439806118796392,0.5671029854135595,0.5304523587298116,0.10609842342935913,0.6728987622088346,-1.894134951392827,-0.36742528550598275,1.324219395793488,-0.26191645539166897,-1.6693567626397805,-1.4219945824704003,1.1413038338392376,-1.4740520691504395,-0.6141517495442599,0.751642535199614,-0.895572577627479,-0.2273617535118292,0.20162941381999344,0.3826505688526492,0.5958049875378956,-0.05669134538874129,1.0148030537235921,0.3996173755041809,0.08690434639985714,-0.31612170133716977,0.4270831432743658,0.5158923167878706,-0.723365309296625,-0.046398539108323075,-2.366503533614684,1.7528648531263429,-1.9860526847326894,-1.7984247093651877,0.18254546199109117,0.06146836080597479,1.7795084968854165,0.46604601157724385,0.3057646323657242,-1.3894966491503697,1.8188177701780233,-0.2697969369066025,0.9585666934785415,-0.5243422761673631,0.7610617739364335,0.5075207721743724,-0.018617492383678786,-1.4127937858342468,-0.8397363996014167,0.43971330013637633,-1.7461070273974852,0.17066683195978116,0.15695222447033608,-0.6549721686911111,-0.7970805562895228,-0.3500779369444265,-0.35563584940702364,-0.7475789766095714,-0.5235231241193639,0.265766403143593,0.4057607782617236,-0.5346110017944211,1.9574517152516788,-0.6152555557576844,-1.3500515174050454,-0.4612020773142193,-0.08302484591615515,0.8496693590441516,-0.38681138818184313,0.3267484329796052,0.4527531986592999,-0.06339555709900874,0.8129693027331496,-0.4732417609307742,-0.15976325370741937],\"yaxis\":\"y13\",\"type\":\"scatter\"},{\"line\":{\"color\":\"rgba(128, 128, 128, 1.0)\",\"dash\":\"solid\",\"shape\":\"linear\",\"width\":1.3},\"marker\":{\"size\":2,\"symbol\":\"circle\"},\"mode\":\"markers\",\"name\":\"D\",\"text\":\"\",\"x\":[0.2028904508929444,-0.5360060801057059,1.9172153542380332,1.1554998283753386,0.12181051885877126,-1.1319753703135211,1.3278769012435154,-1.373981442531079,-2.2633839963334057,0.6551232910308362,-1.504221412415844,-0.8474805378287004,-0.11093134329715523,1.241952295882244,-1.7442570727729392,0.06284888307838114,0.13129293250736535,2.202296949681284,-0.551127386875276,-1.207078337251924,0.5356896936168137,-2.3918065579996495,-0.8523246908502292,0.6248174892839728,-1.8244595775644652,1.165845385152743,-0.30163142477174654,1.660066544040394,-0.5068086946392768,-0.4556258833114967,-0.2983646508906948,0.01993433011999575,-0.7975056575397892,-1.6725777108246267,-0.29531640229284895,0.30971668360777754,0.716409560531819,0.7659397828648833,-0.11123212981795287,0.9117766490536945,0.25043579914409964,-1.344984375671524,-0.8801279362402369,0.5472592174474373,0.08204130503631124,0.17891799719213222,0.9489319327585631,0.5989101309274099,-0.8682489391966348,-2.172925528481716,0.8316005423159178,-0.06097820454389258,2.055498475504573,1.2521412919757304,0.04704227597800867,-0.4861375363540279,0.000582875403311226,-0.7320904438737423,0.686513285955763,-1.3117841313018825,-0.43690513505570056,-0.7945871974195586,-0.5879641229539143,0.24401073683741503,0.36009371304036686,-0.3019641107496942,-2.932775813982967,1.0328388977400622,-0.39009411657080284,-0.23215230892291142,-0.5672375951964085,-0.03015870112032784,0.3935515613535357,-0.34854915789772084,-0.24547773242621834,-0.9065078680653559,-0.9971414020458494,-0.08634145935478864,-0.3476514657989236,0.26556018860507086,-0.783460711466928,-1.075241131554598,-2.8287826318864626,2.136054210189507,0.38609878978660767,-1.6766148708269466,-0.43335314576840184,-0.6229073104172735,-0.5055562520910752,0.4588731405931876,-0.9709314596096776,-1.9218522420442605,-1.1194405577485236,-1.791423871895468,-0.4270051517947074,0.6222129827945807,-0.7878569695431034,-1.3978580491023649,1.6779823657239594,0.07792772247489195],\"xaxis\":\"x14\",\"y\":[0.8701451134981023,-0.009464630807165916,1.1121383309134603,0.46297875573362385,-0.6436970180668675,0.4755382595616794,0.22558964868048326,-0.25049335242706516,-0.6900315101856774,-0.7689762645220269,-0.17949598241540698,0.28575432914935034,-0.9789663362726952,-0.1972315041361254,-0.24738689557654772,-0.15874656953369926,-0.2271395980874452,1.862810923538947,-0.3959839148509614,0.6297939909807113,-0.4189742788306943,-0.8351578977289027,1.0686659001388692,-1.5728691119325595,-1.3635106010781473,-1.1408364514819833,-0.8439806118796392,0.5671029854135595,0.5304523587298116,0.10609842342935913,0.6728987622088346,-1.894134951392827,-0.36742528550598275,1.324219395793488,-0.26191645539166897,-1.6693567626397805,-1.4219945824704003,1.1413038338392376,-1.4740520691504395,-0.6141517495442599,0.751642535199614,-0.895572577627479,-0.2273617535118292,0.20162941381999344,0.3826505688526492,0.5958049875378956,-0.05669134538874129,1.0148030537235921,0.3996173755041809,0.08690434639985714,-0.31612170133716977,0.4270831432743658,0.5158923167878706,-0.723365309296625,-0.046398539108323075,-2.366503533614684,1.7528648531263429,-1.9860526847326894,-1.7984247093651877,0.18254546199109117,0.06146836080597479,1.7795084968854165,0.46604601157724385,0.3057646323657242,-1.3894966491503697,1.8188177701780233,-0.2697969369066025,0.9585666934785415,-0.5243422761673631,0.7610617739364335,0.5075207721743724,-0.018617492383678786,-1.4127937858342468,-0.8397363996014167,0.43971330013637633,-1.7461070273974852,0.17066683195978116,0.15695222447033608,-0.6549721686911111,-0.7970805562895228,-0.3500779369444265,-0.35563584940702364,-0.7475789766095714,-0.5235231241193639,0.265766403143593,0.4057607782617236,-0.5346110017944211,1.9574517152516788,-0.6152555557576844,-1.3500515174050454,-0.4612020773142193,-0.08302484591615515,0.8496693590441516,-0.38681138818184313,0.3267484329796052,0.4527531986592999,-0.06339555709900874,0.8129693027331496,-0.4732417609307742,-0.15976325370741937],\"yaxis\":\"y14\",\"type\":\"scatter\"},{\"line\":{\"color\":\"rgba(128, 128, 128, 1.0)\",\"dash\":\"solid\",\"shape\":\"linear\",\"width\":1.3},\"marker\":{\"size\":2,\"symbol\":\"circle\"},\"mode\":\"markers\",\"name\":\"D\",\"text\":\"\",\"x\":[-1.0254696456815664,0.7775611998203021,-0.20499226929278383,1.6015143467695474,2.097806392179643,-0.4796119091423343,1.082289424478793,-0.288966877710572,0.9213989888372064,0.01462940254773187,0.8592148213502434,0.5088230613436406,-0.040219135029324865,1.28473655462965,0.3423847164018379,0.8579061156088263,1.3606289039525115,0.2910045147197126,-0.5712703432758236,0.22685702819916062,-0.14530467368663916,1.4645560699327624,1.0215181407236713,-1.086646700625405,0.5365380164670625,-1.1042970297733814,-0.6058807027596476,-2.1380588405986485,1.7431683533201399,1.7302484983906652,1.288911148472986,1.078148783006668,-0.24590453578333873,1.1225823894268763,-0.3526066675255926,1.6560803349462097,0.015590437840218005,-1.6932085391822211,0.5437404788529965,0.6994865289367478,2.6186636395723157,1.6601574901932357,-0.07613554282868827,-0.3485755963494323,-1.5972319489482059,0.31782211580436764,-0.5835428084182313,0.08107512890708217,0.26815331067107984,1.4967254859563903,0.04661947159376344,0.5293767660853089,2.5895528605846025,1.7309986203507288,-0.3239633354499249,0.06344544639119536,0.8700511906010587,-0.48635465882446166,-0.546861619477916,1.2750447493866293,-1.0619992763638353,0.44059903665829664,-1.4611096291954173,0.4668790956832927,0.6991237039692891,-0.6229171598590227,0.3930809313037531,-1.6831173471735759,-0.6413720153024304,-0.9023310389871586,-1.337364637743806,0.5054338281563555,-0.23346719611390368,-0.059552125026203245,0.5921779267943594,-0.9829451011712914,-0.5411503992773751,-0.0028521608425189264,0.6806733661617044,-0.545069667006346,1.905930226797241,-0.24881379793339825,0.5344670210106673,0.25240035967963587,-0.18080354422621497,-1.9693964883936066,-1.2129477418029484,0.6366475468500201,1.4222791853401286,-0.9098173503757404,-1.7965623258527832,1.6616760089058293,0.9656171272377032,0.16671059556241694,-1.4770482531315494,0.5024863405437006,-1.1947552125809477,-0.5625317028407455,-0.5713804419749033,-0.9159268650090083],\"xaxis\":\"x15\",\"y\":[0.8701451134981023,-0.009464630807165916,1.1121383309134603,0.46297875573362385,-0.6436970180668675,0.4755382595616794,0.22558964868048326,-0.25049335242706516,-0.6900315101856774,-0.7689762645220269,-0.17949598241540698,0.28575432914935034,-0.9789663362726952,-0.1972315041361254,-0.24738689557654772,-0.15874656953369926,-0.2271395980874452,1.862810923538947,-0.3959839148509614,0.6297939909807113,-0.4189742788306943,-0.8351578977289027,1.0686659001388692,-1.5728691119325595,-1.3635106010781473,-1.1408364514819833,-0.8439806118796392,0.5671029854135595,0.5304523587298116,0.10609842342935913,0.6728987622088346,-1.894134951392827,-0.36742528550598275,1.324219395793488,-0.26191645539166897,-1.6693567626397805,-1.4219945824704003,1.1413038338392376,-1.4740520691504395,-0.6141517495442599,0.751642535199614,-0.895572577627479,-0.2273617535118292,0.20162941381999344,0.3826505688526492,0.5958049875378956,-0.05669134538874129,1.0148030537235921,0.3996173755041809,0.08690434639985714,-0.31612170133716977,0.4270831432743658,0.5158923167878706,-0.723365309296625,-0.046398539108323075,-2.366503533614684,1.7528648531263429,-1.9860526847326894,-1.7984247093651877,0.18254546199109117,0.06146836080597479,1.7795084968854165,0.46604601157724385,0.3057646323657242,-1.3894966491503697,1.8188177701780233,-0.2697969369066025,0.9585666934785415,-0.5243422761673631,0.7610617739364335,0.5075207721743724,-0.018617492383678786,-1.4127937858342468,-0.8397363996014167,0.43971330013637633,-1.7461070273974852,0.17066683195978116,0.15695222447033608,-0.6549721686911111,-0.7970805562895228,-0.3500779369444265,-0.35563584940702364,-0.7475789766095714,-0.5235231241193639,0.265766403143593,0.4057607782617236,-0.5346110017944211,1.9574517152516788,-0.6152555557576844,-1.3500515174050454,-0.4612020773142193,-0.08302484591615515,0.8496693590441516,-0.38681138818184313,0.3267484329796052,0.4527531986592999,-0.06339555709900874,0.8129693027331496,-0.4732417609307742,-0.15976325370741937],\"yaxis\":\"y15\",\"type\":\"scatter\"},{\"histfunc\":\"count\",\"histnorm\":\"\",\"marker\":{\"color\":\"rgba(128, 0, 128, 1.0)\",\"line\":{\"color\":\"#4D5663\",\"width\":1.3}},\"name\":\"D\",\"nbinsx\":10,\"opacity\":0.8,\"orientation\":\"v\",\"x\":[0.8701451134981023,-0.009464630807165916,1.1121383309134603,0.46297875573362385,-0.6436970180668675,0.4755382595616794,0.22558964868048326,-0.25049335242706516,-0.6900315101856774,-0.7689762645220269,-0.17949598241540698,0.28575432914935034,-0.9789663362726952,-0.1972315041361254,-0.24738689557654772,-0.15874656953369926,-0.2271395980874452,1.862810923538947,-0.3959839148509614,0.6297939909807113,-0.4189742788306943,-0.8351578977289027,1.0686659001388692,-1.5728691119325595,-1.3635106010781473,-1.1408364514819833,-0.8439806118796392,0.5671029854135595,0.5304523587298116,0.10609842342935913,0.6728987622088346,-1.894134951392827,-0.36742528550598275,1.324219395793488,-0.26191645539166897,-1.6693567626397805,-1.4219945824704003,1.1413038338392376,-1.4740520691504395,-0.6141517495442599,0.751642535199614,-0.895572577627479,-0.2273617535118292,0.20162941381999344,0.3826505688526492,0.5958049875378956,-0.05669134538874129,1.0148030537235921,0.3996173755041809,0.08690434639985714,-0.31612170133716977,0.4270831432743658,0.5158923167878706,-0.723365309296625,-0.046398539108323075,-2.366503533614684,1.7528648531263429,-1.9860526847326894,-1.7984247093651877,0.18254546199109117,0.06146836080597479,1.7795084968854165,0.46604601157724385,0.3057646323657242,-1.3894966491503697,1.8188177701780233,-0.2697969369066025,0.9585666934785415,-0.5243422761673631,0.7610617739364335,0.5075207721743724,-0.018617492383678786,-1.4127937858342468,-0.8397363996014167,0.43971330013637633,-1.7461070273974852,0.17066683195978116,0.15695222447033608,-0.6549721686911111,-0.7970805562895228,-0.3500779369444265,-0.35563584940702364,-0.7475789766095714,-0.5235231241193639,0.265766403143593,0.4057607782617236,-0.5346110017944211,1.9574517152516788,-0.6152555557576844,-1.3500515174050454,-0.4612020773142193,-0.08302484591615515,0.8496693590441516,-0.38681138818184313,0.3267484329796052,0.4527531986592999,-0.06339555709900874,0.8129693027331496,-0.4732417609307742,-0.15976325370741937],\"xaxis\":\"x16\",\"yaxis\":\"y16\",\"type\":\"histogram\"}],                        {\"bargap\":0.02,\"legend\":{\"bgcolor\":\"#F5F6F9\",\"font\":{\"color\":\"#4D5663\"}},\"paper_bgcolor\":\"#F5F6F9\",\"plot_bgcolor\":\"#F5F6F9\",\"showlegend\":false,\"template\":{\"data\":{\"barpolar\":[{\"marker\":{\"line\":{\"color\":\"#E5ECF6\",\"width\":0.5},\"pattern\":{\"fillmode\":\"overlay\",\"size\":10,\"solidity\":0.2}},\"type\":\"barpolar\"}],\"bar\":[{\"error_x\":{\"color\":\"#2a3f5f\"},\"error_y\":{\"color\":\"#2a3f5f\"},\"marker\":{\"line\":{\"color\":\"#E5ECF6\",\"width\":0.5},\"pattern\":{\"fillmode\":\"overlay\",\"size\":10,\"solidity\":0.2}},\"type\":\"bar\"}],\"carpet\":[{\"aaxis\":{\"endlinecolor\":\"#2a3f5f\",\"gridcolor\":\"white\",\"linecolor\":\"white\",\"minorgridcolor\":\"white\",\"startlinecolor\":\"#2a3f5f\"},\"baxis\":{\"endlinecolor\":\"#2a3f5f\",\"gridcolor\":\"white\",\"linecolor\":\"white\",\"minorgridcolor\":\"white\",\"startlinecolor\":\"#2a3f5f\"},\"type\":\"carpet\"}],\"choropleth\":[{\"colorbar\":{\"outlinewidth\":0,\"ticks\":\"\"},\"type\":\"choropleth\"}],\"contourcarpet\":[{\"colorbar\":{\"outlinewidth\":0,\"ticks\":\"\"},\"type\":\"contourcarpet\"}],\"contour\":[{\"colorbar\":{\"outlinewidth\":0,\"ticks\":\"\"},\"colorscale\":[[0.0,\"#0d0887\"],[0.1111111111111111,\"#46039f\"],[0.2222222222222222,\"#7201a8\"],[0.3333333333333333,\"#9c179e\"],[0.4444444444444444,\"#bd3786\"],[0.5555555555555556,\"#d8576b\"],[0.6666666666666666,\"#ed7953\"],[0.7777777777777778,\"#fb9f3a\"],[0.8888888888888888,\"#fdca26\"],[1.0,\"#f0f921\"]],\"type\":\"contour\"}],\"heatmapgl\":[{\"colorbar\":{\"outlinewidth\":0,\"ticks\":\"\"},\"colorscale\":[[0.0,\"#0d0887\"],[0.1111111111111111,\"#46039f\"],[0.2222222222222222,\"#7201a8\"],[0.3333333333333333,\"#9c179e\"],[0.4444444444444444,\"#bd3786\"],[0.5555555555555556,\"#d8576b\"],[0.6666666666666666,\"#ed7953\"],[0.7777777777777778,\"#fb9f3a\"],[0.8888888888888888,\"#fdca26\"],[1.0,\"#f0f921\"]],\"type\":\"heatmapgl\"}],\"heatmap\":[{\"colorbar\":{\"outlinewidth\":0,\"ticks\":\"\"},\"colorscale\":[[0.0,\"#0d0887\"],[0.1111111111111111,\"#46039f\"],[0.2222222222222222,\"#7201a8\"],[0.3333333333333333,\"#9c179e\"],[0.4444444444444444,\"#bd3786\"],[0.5555555555555556,\"#d8576b\"],[0.6666666666666666,\"#ed7953\"],[0.7777777777777778,\"#fb9f3a\"],[0.8888888888888888,\"#fdca26\"],[1.0,\"#f0f921\"]],\"type\":\"heatmap\"}],\"histogram2dcontour\":[{\"colorbar\":{\"outlinewidth\":0,\"ticks\":\"\"},\"colorscale\":[[0.0,\"#0d0887\"],[0.1111111111111111,\"#46039f\"],[0.2222222222222222,\"#7201a8\"],[0.3333333333333333,\"#9c179e\"],[0.4444444444444444,\"#bd3786\"],[0.5555555555555556,\"#d8576b\"],[0.6666666666666666,\"#ed7953\"],[0.7777777777777778,\"#fb9f3a\"],[0.8888888888888888,\"#fdca26\"],[1.0,\"#f0f921\"]],\"type\":\"histogram2dcontour\"}],\"histogram2d\":[{\"colorbar\":{\"outlinewidth\":0,\"ticks\":\"\"},\"colorscale\":[[0.0,\"#0d0887\"],[0.1111111111111111,\"#46039f\"],[0.2222222222222222,\"#7201a8\"],[0.3333333333333333,\"#9c179e\"],[0.4444444444444444,\"#bd3786\"],[0.5555555555555556,\"#d8576b\"],[0.6666666666666666,\"#ed7953\"],[0.7777777777777778,\"#fb9f3a\"],[0.8888888888888888,\"#fdca26\"],[1.0,\"#f0f921\"]],\"type\":\"histogram2d\"}],\"histogram\":[{\"marker\":{\"pattern\":{\"fillmode\":\"overlay\",\"size\":10,\"solidity\":0.2}},\"type\":\"histogram\"}],\"mesh3d\":[{\"colorbar\":{\"outlinewidth\":0,\"ticks\":\"\"},\"type\":\"mesh3d\"}],\"parcoords\":[{\"line\":{\"colorbar\":{\"outlinewidth\":0,\"ticks\":\"\"}},\"type\":\"parcoords\"}],\"pie\":[{\"automargin\":true,\"type\":\"pie\"}],\"scatter3d\":[{\"line\":{\"colorbar\":{\"outlinewidth\":0,\"ticks\":\"\"}},\"marker\":{\"colorbar\":{\"outlinewidth\":0,\"ticks\":\"\"}},\"type\":\"scatter3d\"}],\"scattercarpet\":[{\"marker\":{\"colorbar\":{\"outlinewidth\":0,\"ticks\":\"\"}},\"type\":\"scattercarpet\"}],\"scattergeo\":[{\"marker\":{\"colorbar\":{\"outlinewidth\":0,\"ticks\":\"\"}},\"type\":\"scattergeo\"}],\"scattergl\":[{\"marker\":{\"colorbar\":{\"outlinewidth\":0,\"ticks\":\"\"}},\"type\":\"scattergl\"}],\"scattermapbox\":[{\"marker\":{\"colorbar\":{\"outlinewidth\":0,\"ticks\":\"\"}},\"type\":\"scattermapbox\"}],\"scatterpolargl\":[{\"marker\":{\"colorbar\":{\"outlinewidth\":0,\"ticks\":\"\"}},\"type\":\"scatterpolargl\"}],\"scatterpolar\":[{\"marker\":{\"colorbar\":{\"outlinewidth\":0,\"ticks\":\"\"}},\"type\":\"scatterpolar\"}],\"scatter\":[{\"fillpattern\":{\"fillmode\":\"overlay\",\"size\":10,\"solidity\":0.2},\"type\":\"scatter\"}],\"scatterternary\":[{\"marker\":{\"colorbar\":{\"outlinewidth\":0,\"ticks\":\"\"}},\"type\":\"scatterternary\"}],\"surface\":[{\"colorbar\":{\"outlinewidth\":0,\"ticks\":\"\"},\"colorscale\":[[0.0,\"#0d0887\"],[0.1111111111111111,\"#46039f\"],[0.2222222222222222,\"#7201a8\"],[0.3333333333333333,\"#9c179e\"],[0.4444444444444444,\"#bd3786\"],[0.5555555555555556,\"#d8576b\"],[0.6666666666666666,\"#ed7953\"],[0.7777777777777778,\"#fb9f3a\"],[0.8888888888888888,\"#fdca26\"],[1.0,\"#f0f921\"]],\"type\":\"surface\"}],\"table\":[{\"cells\":{\"fill\":{\"color\":\"#EBF0F8\"},\"line\":{\"color\":\"white\"}},\"header\":{\"fill\":{\"color\":\"#C8D4E3\"},\"line\":{\"color\":\"white\"}},\"type\":\"table\"}]},\"layout\":{\"annotationdefaults\":{\"arrowcolor\":\"#2a3f5f\",\"arrowhead\":0,\"arrowwidth\":1},\"autotypenumbers\":\"strict\",\"coloraxis\":{\"colorbar\":{\"outlinewidth\":0,\"ticks\":\"\"}},\"colorscale\":{\"diverging\":[[0,\"#8e0152\"],[0.1,\"#c51b7d\"],[0.2,\"#de77ae\"],[0.3,\"#f1b6da\"],[0.4,\"#fde0ef\"],[0.5,\"#f7f7f7\"],[0.6,\"#e6f5d0\"],[0.7,\"#b8e186\"],[0.8,\"#7fbc41\"],[0.9,\"#4d9221\"],[1,\"#276419\"]],\"sequential\":[[0.0,\"#0d0887\"],[0.1111111111111111,\"#46039f\"],[0.2222222222222222,\"#7201a8\"],[0.3333333333333333,\"#9c179e\"],[0.4444444444444444,\"#bd3786\"],[0.5555555555555556,\"#d8576b\"],[0.6666666666666666,\"#ed7953\"],[0.7777777777777778,\"#fb9f3a\"],[0.8888888888888888,\"#fdca26\"],[1.0,\"#f0f921\"]],\"sequentialminus\":[[0.0,\"#0d0887\"],[0.1111111111111111,\"#46039f\"],[0.2222222222222222,\"#7201a8\"],[0.3333333333333333,\"#9c179e\"],[0.4444444444444444,\"#bd3786\"],[0.5555555555555556,\"#d8576b\"],[0.6666666666666666,\"#ed7953\"],[0.7777777777777778,\"#fb9f3a\"],[0.8888888888888888,\"#fdca26\"],[1.0,\"#f0f921\"]]},\"colorway\":[\"#636efa\",\"#EF553B\",\"#00cc96\",\"#ab63fa\",\"#FFA15A\",\"#19d3f3\",\"#FF6692\",\"#B6E880\",\"#FF97FF\",\"#FECB52\"],\"font\":{\"color\":\"#2a3f5f\"},\"geo\":{\"bgcolor\":\"white\",\"lakecolor\":\"white\",\"landcolor\":\"#E5ECF6\",\"showlakes\":true,\"showland\":true,\"subunitcolor\":\"white\"},\"hoverlabel\":{\"align\":\"left\"},\"hovermode\":\"closest\",\"mapbox\":{\"style\":\"light\"},\"paper_bgcolor\":\"white\",\"plot_bgcolor\":\"#E5ECF6\",\"polar\":{\"angularaxis\":{\"gridcolor\":\"white\",\"linecolor\":\"white\",\"ticks\":\"\"},\"bgcolor\":\"#E5ECF6\",\"radialaxis\":{\"gridcolor\":\"white\",\"linecolor\":\"white\",\"ticks\":\"\"}},\"scene\":{\"xaxis\":{\"backgroundcolor\":\"#E5ECF6\",\"gridcolor\":\"white\",\"gridwidth\":2,\"linecolor\":\"white\",\"showbackground\":true,\"ticks\":\"\",\"zerolinecolor\":\"white\"},\"yaxis\":{\"backgroundcolor\":\"#E5ECF6\",\"gridcolor\":\"white\",\"gridwidth\":2,\"linecolor\":\"white\",\"showbackground\":true,\"ticks\":\"\",\"zerolinecolor\":\"white\"},\"zaxis\":{\"backgroundcolor\":\"#E5ECF6\",\"gridcolor\":\"white\",\"gridwidth\":2,\"linecolor\":\"white\",\"showbackground\":true,\"ticks\":\"\",\"zerolinecolor\":\"white\"}},\"shapedefaults\":{\"line\":{\"color\":\"#2a3f5f\"}},\"ternary\":{\"aaxis\":{\"gridcolor\":\"white\",\"linecolor\":\"white\",\"ticks\":\"\"},\"baxis\":{\"gridcolor\":\"white\",\"linecolor\":\"white\",\"ticks\":\"\"},\"bgcolor\":\"#E5ECF6\",\"caxis\":{\"gridcolor\":\"white\",\"linecolor\":\"white\",\"ticks\":\"\"}},\"title\":{\"x\":0.05},\"xaxis\":{\"automargin\":true,\"gridcolor\":\"white\",\"linecolor\":\"white\",\"ticks\":\"\",\"title\":{\"standoff\":15},\"zerolinecolor\":\"white\",\"zerolinewidth\":2},\"yaxis\":{\"automargin\":true,\"gridcolor\":\"white\",\"linecolor\":\"white\",\"ticks\":\"\",\"title\":{\"standoff\":15},\"zerolinecolor\":\"white\",\"zerolinewidth\":2}}},\"title\":{\"font\":{\"color\":\"#4D5663\"}},\"xaxis\":{\"anchor\":\"y\",\"domain\":[0.0,0.2125],\"gridcolor\":\"#E1E5ED\",\"showgrid\":false,\"tickfont\":{\"color\":\"#4D5663\"},\"title\":{\"font\":{\"color\":\"#4D5663\"},\"text\":\"\"},\"zerolinecolor\":\"#E1E5ED\"},\"yaxis\":{\"anchor\":\"x\",\"domain\":[0.8025,1.0],\"gridcolor\":\"#E1E5ED\",\"showgrid\":false,\"tickfont\":{\"color\":\"#4D5663\"},\"title\":{\"font\":{\"color\":\"#4D5663\"},\"text\":\"\"},\"zerolinecolor\":\"#E1E5ED\"},\"xaxis2\":{\"anchor\":\"y2\",\"domain\":[0.2625,0.475],\"gridcolor\":\"#E1E5ED\",\"showgrid\":false,\"tickfont\":{\"color\":\"#4D5663\"},\"title\":{\"font\":{\"color\":\"#4D5663\"},\"text\":\"\"},\"zerolinecolor\":\"#E1E5ED\"},\"yaxis2\":{\"anchor\":\"x2\",\"domain\":[0.8025,1.0],\"gridcolor\":\"#E1E5ED\",\"showgrid\":false,\"tickfont\":{\"color\":\"#4D5663\"},\"title\":{\"font\":{\"color\":\"#4D5663\"},\"text\":\"\"},\"zerolinecolor\":\"#E1E5ED\"},\"xaxis3\":{\"anchor\":\"y3\",\"domain\":[0.525,0.7375],\"gridcolor\":\"#E1E5ED\",\"showgrid\":false,\"tickfont\":{\"color\":\"#4D5663\"},\"title\":{\"font\":{\"color\":\"#4D5663\"},\"text\":\"\"},\"zerolinecolor\":\"#E1E5ED\"},\"yaxis3\":{\"anchor\":\"x3\",\"domain\":[0.8025,1.0],\"gridcolor\":\"#E1E5ED\",\"showgrid\":false,\"tickfont\":{\"color\":\"#4D5663\"},\"title\":{\"font\":{\"color\":\"#4D5663\"},\"text\":\"\"},\"zerolinecolor\":\"#E1E5ED\"},\"xaxis4\":{\"anchor\":\"y4\",\"domain\":[0.7875,1.0],\"gridcolor\":\"#E1E5ED\",\"showgrid\":false,\"tickfont\":{\"color\":\"#4D5663\"},\"title\":{\"font\":{\"color\":\"#4D5663\"},\"text\":\"\"},\"zerolinecolor\":\"#E1E5ED\"},\"yaxis4\":{\"anchor\":\"x4\",\"domain\":[0.8025,1.0],\"gridcolor\":\"#E1E5ED\",\"showgrid\":false,\"tickfont\":{\"color\":\"#4D5663\"},\"title\":{\"font\":{\"color\":\"#4D5663\"},\"text\":\"\"},\"zerolinecolor\":\"#E1E5ED\"},\"xaxis5\":{\"anchor\":\"y5\",\"domain\":[0.0,0.2125],\"gridcolor\":\"#E1E5ED\",\"showgrid\":false,\"tickfont\":{\"color\":\"#4D5663\"},\"title\":{\"font\":{\"color\":\"#4D5663\"},\"text\":\"\"},\"zerolinecolor\":\"#E1E5ED\"},\"yaxis5\":{\"anchor\":\"x5\",\"domain\":[0.535,0.7325],\"gridcolor\":\"#E1E5ED\",\"showgrid\":false,\"tickfont\":{\"color\":\"#4D5663\"},\"title\":{\"font\":{\"color\":\"#4D5663\"},\"text\":\"\"},\"zerolinecolor\":\"#E1E5ED\"},\"xaxis6\":{\"anchor\":\"y6\",\"domain\":[0.2625,0.475],\"gridcolor\":\"#E1E5ED\",\"showgrid\":false,\"tickfont\":{\"color\":\"#4D5663\"},\"title\":{\"font\":{\"color\":\"#4D5663\"},\"text\":\"\"},\"zerolinecolor\":\"#E1E5ED\"},\"yaxis6\":{\"anchor\":\"x6\",\"domain\":[0.535,0.7325],\"gridcolor\":\"#E1E5ED\",\"showgrid\":false,\"tickfont\":{\"color\":\"#4D5663\"},\"title\":{\"font\":{\"color\":\"#4D5663\"},\"text\":\"\"},\"zerolinecolor\":\"#E1E5ED\"},\"xaxis7\":{\"anchor\":\"y7\",\"domain\":[0.525,0.7375],\"gridcolor\":\"#E1E5ED\",\"showgrid\":false,\"tickfont\":{\"color\":\"#4D5663\"},\"title\":{\"font\":{\"color\":\"#4D5663\"},\"text\":\"\"},\"zerolinecolor\":\"#E1E5ED\"},\"yaxis7\":{\"anchor\":\"x7\",\"domain\":[0.535,0.7325],\"gridcolor\":\"#E1E5ED\",\"showgrid\":false,\"tickfont\":{\"color\":\"#4D5663\"},\"title\":{\"font\":{\"color\":\"#4D5663\"},\"text\":\"\"},\"zerolinecolor\":\"#E1E5ED\"},\"xaxis8\":{\"anchor\":\"y8\",\"domain\":[0.7875,1.0],\"gridcolor\":\"#E1E5ED\",\"showgrid\":false,\"tickfont\":{\"color\":\"#4D5663\"},\"title\":{\"font\":{\"color\":\"#4D5663\"},\"text\":\"\"},\"zerolinecolor\":\"#E1E5ED\"},\"yaxis8\":{\"anchor\":\"x8\",\"domain\":[0.535,0.7325],\"gridcolor\":\"#E1E5ED\",\"showgrid\":false,\"tickfont\":{\"color\":\"#4D5663\"},\"title\":{\"font\":{\"color\":\"#4D5663\"},\"text\":\"\"},\"zerolinecolor\":\"#E1E5ED\"},\"xaxis9\":{\"anchor\":\"y9\",\"domain\":[0.0,0.2125],\"gridcolor\":\"#E1E5ED\",\"showgrid\":false,\"tickfont\":{\"color\":\"#4D5663\"},\"title\":{\"font\":{\"color\":\"#4D5663\"},\"text\":\"\"},\"zerolinecolor\":\"#E1E5ED\"},\"yaxis9\":{\"anchor\":\"x9\",\"domain\":[0.2675,0.465],\"gridcolor\":\"#E1E5ED\",\"showgrid\":false,\"tickfont\":{\"color\":\"#4D5663\"},\"title\":{\"font\":{\"color\":\"#4D5663\"},\"text\":\"\"},\"zerolinecolor\":\"#E1E5ED\"},\"xaxis10\":{\"anchor\":\"y10\",\"domain\":[0.2625,0.475],\"gridcolor\":\"#E1E5ED\",\"showgrid\":false,\"tickfont\":{\"color\":\"#4D5663\"},\"title\":{\"font\":{\"color\":\"#4D5663\"},\"text\":\"\"},\"zerolinecolor\":\"#E1E5ED\"},\"yaxis10\":{\"anchor\":\"x10\",\"domain\":[0.2675,0.465],\"gridcolor\":\"#E1E5ED\",\"showgrid\":false,\"tickfont\":{\"color\":\"#4D5663\"},\"title\":{\"font\":{\"color\":\"#4D5663\"},\"text\":\"\"},\"zerolinecolor\":\"#E1E5ED\"},\"xaxis11\":{\"anchor\":\"y11\",\"domain\":[0.525,0.7375],\"gridcolor\":\"#E1E5ED\",\"showgrid\":false,\"tickfont\":{\"color\":\"#4D5663\"},\"title\":{\"font\":{\"color\":\"#4D5663\"},\"text\":\"\"},\"zerolinecolor\":\"#E1E5ED\"},\"yaxis11\":{\"anchor\":\"x11\",\"domain\":[0.2675,0.465],\"gridcolor\":\"#E1E5ED\",\"showgrid\":false,\"tickfont\":{\"color\":\"#4D5663\"},\"title\":{\"font\":{\"color\":\"#4D5663\"},\"text\":\"\"},\"zerolinecolor\":\"#E1E5ED\"},\"xaxis12\":{\"anchor\":\"y12\",\"domain\":[0.7875,1.0],\"gridcolor\":\"#E1E5ED\",\"showgrid\":false,\"tickfont\":{\"color\":\"#4D5663\"},\"title\":{\"font\":{\"color\":\"#4D5663\"},\"text\":\"\"},\"zerolinecolor\":\"#E1E5ED\"},\"yaxis12\":{\"anchor\":\"x12\",\"domain\":[0.2675,0.465],\"gridcolor\":\"#E1E5ED\",\"showgrid\":false,\"tickfont\":{\"color\":\"#4D5663\"},\"title\":{\"font\":{\"color\":\"#4D5663\"},\"text\":\"\"},\"zerolinecolor\":\"#E1E5ED\"},\"xaxis13\":{\"anchor\":\"y13\",\"domain\":[0.0,0.2125],\"gridcolor\":\"#E1E5ED\",\"showgrid\":false,\"tickfont\":{\"color\":\"#4D5663\"},\"title\":{\"font\":{\"color\":\"#4D5663\"},\"text\":\"\"},\"zerolinecolor\":\"#E1E5ED\"},\"yaxis13\":{\"anchor\":\"x13\",\"domain\":[0.0,0.1975],\"gridcolor\":\"#E1E5ED\",\"showgrid\":false,\"tickfont\":{\"color\":\"#4D5663\"},\"title\":{\"font\":{\"color\":\"#4D5663\"},\"text\":\"\"},\"zerolinecolor\":\"#E1E5ED\"},\"xaxis14\":{\"anchor\":\"y14\",\"domain\":[0.2625,0.475],\"gridcolor\":\"#E1E5ED\",\"showgrid\":false,\"tickfont\":{\"color\":\"#4D5663\"},\"title\":{\"font\":{\"color\":\"#4D5663\"},\"text\":\"\"},\"zerolinecolor\":\"#E1E5ED\"},\"yaxis14\":{\"anchor\":\"x14\",\"domain\":[0.0,0.1975],\"gridcolor\":\"#E1E5ED\",\"showgrid\":false,\"tickfont\":{\"color\":\"#4D5663\"},\"title\":{\"font\":{\"color\":\"#4D5663\"},\"text\":\"\"},\"zerolinecolor\":\"#E1E5ED\"},\"xaxis15\":{\"anchor\":\"y15\",\"domain\":[0.525,0.7375],\"gridcolor\":\"#E1E5ED\",\"showgrid\":false,\"tickfont\":{\"color\":\"#4D5663\"},\"title\":{\"font\":{\"color\":\"#4D5663\"},\"text\":\"\"},\"zerolinecolor\":\"#E1E5ED\"},\"yaxis15\":{\"anchor\":\"x15\",\"domain\":[0.0,0.1975],\"gridcolor\":\"#E1E5ED\",\"showgrid\":false,\"tickfont\":{\"color\":\"#4D5663\"},\"title\":{\"font\":{\"color\":\"#4D5663\"},\"text\":\"\"},\"zerolinecolor\":\"#E1E5ED\"},\"xaxis16\":{\"anchor\":\"y16\",\"domain\":[0.7875,1.0],\"gridcolor\":\"#E1E5ED\",\"showgrid\":false,\"tickfont\":{\"color\":\"#4D5663\"},\"title\":{\"font\":{\"color\":\"#4D5663\"},\"text\":\"\"},\"zerolinecolor\":\"#E1E5ED\"},\"yaxis16\":{\"anchor\":\"x16\",\"domain\":[0.0,0.1975],\"gridcolor\":\"#E1E5ED\",\"showgrid\":false,\"tickfont\":{\"color\":\"#4D5663\"},\"title\":{\"font\":{\"color\":\"#4D5663\"},\"text\":\"\"},\"zerolinecolor\":\"#E1E5ED\"}},                        {\"showLink\": true, \"linkText\": \"Export to plot.ly\", \"plotlyServerURL\": \"https://plot.ly\", \"responsive\": true}                    ).then(function(){\n",
       "                            \n",
       "var gd = document.getElementById('2b699e90-a3d7-4714-a65b-e278bba9f74f');\n",
       "var x = new MutationObserver(function (mutations, observer) {{\n",
       "        var display = window.getComputedStyle(gd).display;\n",
       "        if (!display || display === 'none') {{\n",
       "            console.log([gd, 'removed!']);\n",
       "            Plotly.purge(gd);\n",
       "            observer.disconnect();\n",
       "        }}\n",
       "}});\n",
       "\n",
       "// Listen for the removal of the full notebook cells\n",
       "var notebookContainer = gd.closest('#notebook-container');\n",
       "if (notebookContainer) {{\n",
       "    x.observe(notebookContainer, {childList: true});\n",
       "}}\n",
       "\n",
       "// Listen for the clearing of the current output cell\n",
       "var outputEl = gd.closest('.output');\n",
       "if (outputEl) {{\n",
       "    x.observe(outputEl, {childList: true});\n",
       "}}\n",
       "\n",
       "                        })                };                });            </script>        </div>"
      ]
     },
     "metadata": {},
     "output_type": "display_data"
    }
   ],
   "source": [
    "df.scatter_matrix()"
   ]
  },
  {
   "cell_type": "markdown",
   "metadata": {
    "collapsed": true
   },
   "source": [
    "# Great Job!"
   ]
  }
 ],
 "metadata": {
  "kernelspec": {
   "display_name": "Python 3 (ipykernel)",
   "language": "python",
   "name": "python3"
  },
  "language_info": {
   "codemirror_mode": {
    "name": "ipython",
    "version": 3
   },
   "file_extension": ".py",
   "mimetype": "text/x-python",
   "name": "python",
   "nbconvert_exporter": "python",
   "pygments_lexer": "ipython3",
   "version": "3.9.13"
  }
 },
 "nbformat": 4,
 "nbformat_minor": 1
}
